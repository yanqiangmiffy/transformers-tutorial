{
  "nbformat": 4,
  "nbformat_minor": 0,
  "metadata": {
    "accelerator": "GPU",
    "colab": {
      "name": "Multimodal_product_classification",
      "provenance": [],
      "collapsed_sections": [
        "7CkZuaF5xaml",
        "EmEyo7JQH5s9",
        "WTn8znG5c7hl",
        "lEci4Jk2Q0gO",
        "jeby5XaDwczP",
        "fSOBGnIkYN4G",
        "cihLCOOvdVxv",
        "U1NfIqGzGtm9"
      ]
    },
    "kernelspec": {
      "display_name": "Python 3",
      "name": "python3"
    }
  },
  "cells": [
    {
      "cell_type": "markdown",
      "metadata": {
        "id": "cljll1lmweaa"
      },
      "source": [
        "# Connect Colab to Drive\n",
        "\n",
        "--> Click on install Drive on the left side in Files"
      ]
    },
    {
      "cell_type": "markdown",
      "metadata": {
        "id": "7CkZuaF5xaml"
      },
      "source": [
        "# Imports"
      ]
    },
    {
      "cell_type": "code",
      "metadata": {
        "id": "xeQvf9U5Nf5e"
      },
      "source": [
        "!pip install transformers\n",
        "!pip install wandb -qqq\n",
        "!pip install sentencepiece\n",
        "import wandb\n",
        "wandb.login()"
      ],
      "execution_count": null,
      "outputs": []
    },
    {
      "cell_type": "code",
      "metadata": {
        "id": "qaThrpuVkLD7"
      },
      "source": [
        "import numpy as np\n",
        "import pandas as pd\n",
        "import sklearn\n",
        "import matplotlib.pyplot as plt\n",
        "import seaborn as sns\n",
        "import warnings\n",
        "import itertools\n",
        "import os\n",
        "import random\n",
        "import torch\n",
        "import torchvision\n",
        "import torch.nn as nn\n",
        "import torch.optim as optim\n",
        "import argparse\n",
        "import torchvision.transforms as transforms\n",
        "import sentencepiece\n",
        "import glob\n",
        "from PIL import Image\n",
        "from collections import Counter\n",
        "from wordcloud import WordCloud, STOPWORDS\n",
        "from sklearn.model_selection import train_test_split, ParameterGrid\n",
        "from sklearn.metrics import f1_score\n",
        "from sklearn.feature_extraction.text import TfidfVectorizer\n",
        "from sklearn.svm import LinearSVC\n",
        "from sklearn.linear_model import LogisticRegression\n",
        "from sklearn.pipeline import make_pipeline\n",
        "from sklearn.preprocessing import StandardScaler\n",
        "from tqdm import tqdm\n",
        "from transformers import AutoTokenizer, AutoModel, AutoModelForSequenceClassification, AdamW, get_linear_schedule_with_warmup, get_constant_schedule\n",
        "from torch.utils.data import Dataset, DataLoader\n",
        "from torch.cuda.amp import autocast, GradScaler\n",
        "from torchvision import datasets\n",
        "warnings.filterwarnings(\"ignore\")\n",
        "os.environ[\"TOKENIZERS_PARALLELISM\"] = \"false\""
      ],
      "execution_count": null,
      "outputs": []
    },
    {
      "cell_type": "markdown",
      "metadata": {
        "id": "EmEyo7JQH5s9"
      },
      "source": [
        "# Data"
      ]
    },
    {
      "cell_type": "code",
      "metadata": {
        "id": "_X8Eq-MzH5Ba"
      },
      "source": [
        "path_to_data = 'drive/MyDrive/BazarAfrique/data/Rakuten_Challenge'"
      ],
      "execution_count": null,
      "outputs": []
    },
    {
      "cell_type": "code",
      "metadata": {
        "id": "6pY4ASQLW7da"
      },
      "source": [
        "# # Copy the zip image folder to the local machine and unzip it\n",
        "\n",
        "# %%time\n",
        "# zip_path = path_to_data + '/images.zip'\n",
        "# !cp \"{zip_path}\" .\n",
        "# !unzip -q images.zip\n",
        "# !rm images.zip"
      ],
      "execution_count": null,
      "outputs": []
    },
    {
      "cell_type": "code",
      "metadata": {
        "id": "diW_bpXDIkiw"
      },
      "source": [
        "# Training data\n",
        "df_features = pd.read_csv(path_to_data + '/X_train_update.csv', sep=',')\n",
        "df_labels = pd.read_csv(path_to_data + '/Y_train_CVw08PX.csv', sep=',')\n",
        "# Test data\n",
        "df_challenge = pd.read_csv(path_to_data + '/X_test_update.csv', sep=',')"
      ],
      "execution_count": null,
      "outputs": []
    },
    {
      "cell_type": "code",
      "metadata": {
        "id": "8HaK7TbtfJ4-"
      },
      "source": [
        "# Training data\n",
        "data = pd.concat([df_features, df_labels['prdtypecode']], axis=1)  # add the class label to the dataframe containing the features\n",
        "data.drop(columns=['Unnamed: 0'], inplace=True)\n",
        "data.columns = ['title', 'description', 'productid', 'imageid', 'label']  # new column names"
      ],
      "execution_count": null,
      "outputs": []
    },
    {
      "cell_type": "code",
      "metadata": {
        "id": "4m80_47IWqxu"
      },
      "source": [
        "# %%time\n",
        "# train_img_data_path = 'images/image_train'\n",
        "# data['imagepath'] = [glob.glob(os.path.join(train_img_data_path, f'image_{img_id}*.jpg'))[0] for img_id in data['imageid']]\n",
        "# data['imagepath'].to_csv('image_paths.csv', index=False)\n",
        "\n",
        "data['imagepath'] = pd.read_csv(path_to_data + '/image_paths.csv')"
      ],
      "execution_count": null,
      "outputs": []
    },
    {
      "cell_type": "code",
      "metadata": {
        "colab": {
          "base_uri": "https://localhost:8080/"
        },
        "id": "OjgOoISrJH9_",
        "outputId": "82d55a1a-cd24-4270-af14-46803b5ab2f6"
      },
      "source": [
        "data"
      ],
      "execution_count": null,
      "outputs": [
        {
          "output_type": "execute_result",
          "data": {
            "text/html": [
              "<div>\n",
              "<style scoped>\n",
              "    .dataframe tbody tr th:only-of-type {\n",
              "        vertical-align: middle;\n",
              "    }\n",
              "\n",
              "    .dataframe tbody tr th {\n",
              "        vertical-align: top;\n",
              "    }\n",
              "\n",
              "    .dataframe thead th {\n",
              "        text-align: right;\n",
              "    }\n",
              "</style>\n",
              "<table border=\"1\" class=\"dataframe\">\n",
              "  <thead>\n",
              "    <tr style=\"text-align: right;\">\n",
              "      <th></th>\n",
              "      <th>title</th>\n",
              "      <th>description</th>\n",
              "      <th>productid</th>\n",
              "      <th>imageid</th>\n",
              "      <th>label</th>\n",
              "      <th>imagepath</th>\n",
              "    </tr>\n",
              "  </thead>\n",
              "  <tbody>\n",
              "    <tr>\n",
              "      <th>0</th>\n",
              "      <td>Olivia: Personalisiertes Notizbuch / 150 Seite...</td>\n",
              "      <td>NaN</td>\n",
              "      <td>3804725264</td>\n",
              "      <td>1263597046</td>\n",
              "      <td>10</td>\n",
              "      <td>images/image_train/image_1263597046_product_38...</td>\n",
              "    </tr>\n",
              "    <tr>\n",
              "      <th>1</th>\n",
              "      <td>Journal Des Arts (Le) N° 133 Du 28/09/2001 - L...</td>\n",
              "      <td>NaN</td>\n",
              "      <td>436067568</td>\n",
              "      <td>1008141237</td>\n",
              "      <td>2280</td>\n",
              "      <td>images/image_train/image_1008141237_product_43...</td>\n",
              "    </tr>\n",
              "    <tr>\n",
              "      <th>2</th>\n",
              "      <td>Grand Stylet Ergonomique Bleu Gamepad Nintendo...</td>\n",
              "      <td>PILOT STYLE Touch Pen de marque Speedlink est ...</td>\n",
              "      <td>201115110</td>\n",
              "      <td>938777978</td>\n",
              "      <td>50</td>\n",
              "      <td>images/image_train/image_938777978_product_201...</td>\n",
              "    </tr>\n",
              "    <tr>\n",
              "      <th>3</th>\n",
              "      <td>Peluche Donald - Europe - Disneyland 2000 (Mar...</td>\n",
              "      <td>NaN</td>\n",
              "      <td>50418756</td>\n",
              "      <td>457047496</td>\n",
              "      <td>1280</td>\n",
              "      <td>images/image_train/image_457047496_product_504...</td>\n",
              "    </tr>\n",
              "    <tr>\n",
              "      <th>4</th>\n",
              "      <td>La Guerre Des Tuques</td>\n",
              "      <td>Luc a des id&amp;eacute;es de grandeur. Il veut or...</td>\n",
              "      <td>278535884</td>\n",
              "      <td>1077757786</td>\n",
              "      <td>2705</td>\n",
              "      <td>images/image_train/image_1077757786_product_27...</td>\n",
              "    </tr>\n",
              "    <tr>\n",
              "      <th>...</th>\n",
              "      <td>...</td>\n",
              "      <td>...</td>\n",
              "      <td>...</td>\n",
              "      <td>...</td>\n",
              "      <td>...</td>\n",
              "      <td>...</td>\n",
              "    </tr>\n",
              "    <tr>\n",
              "      <th>84911</th>\n",
              "      <td>The Sims [ Import Anglais ]</td>\n",
              "      <td>NaN</td>\n",
              "      <td>206719094</td>\n",
              "      <td>941495734</td>\n",
              "      <td>40</td>\n",
              "      <td>images/image_train/image_941495734_product_206...</td>\n",
              "    </tr>\n",
              "    <tr>\n",
              "      <th>84912</th>\n",
              "      <td>Kit piscine acier NEVADA déco pierre Ø 3.50m x...</td>\n",
              "      <td>&lt;b&gt;Description complète :&lt;/b&gt;&lt;br /&gt;Kit piscine...</td>\n",
              "      <td>3065095706</td>\n",
              "      <td>1188462883</td>\n",
              "      <td>2583</td>\n",
              "      <td>images/image_train/image_1188462883_product_30...</td>\n",
              "    </tr>\n",
              "    <tr>\n",
              "      <th>84913</th>\n",
              "      <td>Journal Officiel De La Republique Francaise N°...</td>\n",
              "      <td>NaN</td>\n",
              "      <td>440707564</td>\n",
              "      <td>1009325617</td>\n",
              "      <td>2280</td>\n",
              "      <td>images/image_train/image_1009325617_product_44...</td>\n",
              "    </tr>\n",
              "    <tr>\n",
              "      <th>84914</th>\n",
              "      <td>Table Basse Bois De Récupération Massif Base B...</td>\n",
              "      <td>&lt;p&gt;Cette table basse a un design unique et con...</td>\n",
              "      <td>3942400296</td>\n",
              "      <td>1267353403</td>\n",
              "      <td>1560</td>\n",
              "      <td>images/image_train/image_1267353403_product_39...</td>\n",
              "    </tr>\n",
              "    <tr>\n",
              "      <th>84915</th>\n",
              "      <td>Gomme De Collection 2 Gommes Pinguin Glace Ver...</td>\n",
              "      <td>NaN</td>\n",
              "      <td>57203227</td>\n",
              "      <td>684671297</td>\n",
              "      <td>2522</td>\n",
              "      <td>images/image_train/image_684671297_product_572...</td>\n",
              "    </tr>\n",
              "  </tbody>\n",
              "</table>\n",
              "<p>84916 rows × 6 columns</p>\n",
              "</div>"
            ],
            "text/plain": [
              "                                                   title  ...                                          imagepath\n",
              "0      Olivia: Personalisiertes Notizbuch / 150 Seite...  ...  images/image_train/image_1263597046_product_38...\n",
              "1      Journal Des Arts (Le) N° 133 Du 28/09/2001 - L...  ...  images/image_train/image_1008141237_product_43...\n",
              "2      Grand Stylet Ergonomique Bleu Gamepad Nintendo...  ...  images/image_train/image_938777978_product_201...\n",
              "3      Peluche Donald - Europe - Disneyland 2000 (Mar...  ...  images/image_train/image_457047496_product_504...\n",
              "4                                   La Guerre Des Tuques  ...  images/image_train/image_1077757786_product_27...\n",
              "...                                                  ...  ...                                                ...\n",
              "84911                        The Sims [ Import Anglais ]  ...  images/image_train/image_941495734_product_206...\n",
              "84912  Kit piscine acier NEVADA déco pierre Ø 3.50m x...  ...  images/image_train/image_1188462883_product_30...\n",
              "84913  Journal Officiel De La Republique Francaise N°...  ...  images/image_train/image_1009325617_product_44...\n",
              "84914  Table Basse Bois De Récupération Massif Base B...  ...  images/image_train/image_1267353403_product_39...\n",
              "84915  Gomme De Collection 2 Gommes Pinguin Glace Ver...  ...  images/image_train/image_684671297_product_572...\n",
              "\n",
              "[84916 rows x 6 columns]"
            ]
          },
          "metadata": {
            "tags": []
          },
          "execution_count": 8
        }
      ]
    },
    {
      "cell_type": "code",
      "metadata": {
        "id": "ZJmVcKcMe5Ih"
      },
      "source": [
        "# To run only one time then you can just load this image paths with the last line in this cell\n",
        "# %%time\n",
        "# challenge_img_data_path = 'images/image_test'\n",
        "# df_challenge['imagepath'] = [glob.glob(os.path.join(challenge_img_data_path, f'image_{img_id}*.jpg'))[0] for img_id in df_challenge['imageid']]\n",
        "# df_challenge['imagepath'].to_csv(path_to_data + '/challenge_image_paths.csv', index=False)  # saving image paths\n",
        "\n",
        "df_challenge['imagepath'] = pd.read_csv(path_to_data + '/challenge_image_paths.csv')"
      ],
      "execution_count": null,
      "outputs": []
    },
    {
      "cell_type": "markdown",
      "metadata": {
        "id": "WTn8znG5c7hl"
      },
      "source": [
        "# Pre-processing"
      ]
    },
    {
      "cell_type": "code",
      "metadata": {
        "id": "w1CfCyu6dbVV"
      },
      "source": [
        "def clean_text(text: str) -> str:\n",
        "    \"\"\"Clean a text by applying various pre-processing steps\n",
        "\n",
        "    Parameters\n",
        "    ----------\n",
        "    text\n",
        "        The text to process\n",
        "\n",
        "    Returns\n",
        "    -------\n",
        "    str\n",
        "        The cleaned text\n",
        "\n",
        "    \"\"\"\n",
        "    text = text.replace(\"¿¿\", \"é\")\n",
        "    text = text.replace(\"+¿\", \"ë\")\n",
        "    text = text.replace(\"¿\", \"œ\")\n",
        "    text = text.replace(\"ã¢\", \"â\")\n",
        "    text = text.replace(\"+¿\", \"'\")\n",
        "    text = text.replace(\"<p align=&quot;justify&quot;>\", \"\")\n",
        "    text = text.replace(\"&quot;\", '\"')\n",
        "    text = text.replace(\"&#34;\", '\"')\n",
        "    text = text.replace(\"&#43;\", \"\")\n",
        "    text = text.replace(\"¿Uf,\", \"\")\n",
        "    text = text.replace(\"<br>\", \"\")\n",
        "    text = text.replace(\"<br />\", \"\")\n",
        "    text = text.replace('<span class=\"vga_style2\">', \"\")\n",
        "    text = text.replace(\"<b>\", \"\")\n",
        "    text = text.replace(\"</b>\", \"\")\n",
        "    text = text.replace(\"</strong>\", \"\")\n",
        "    text = text.replace(\"<strong>\", \"\")\n",
        "    text = text.replace(\"</li>\", \"\")\n",
        "    text = text.replace(\"<li>\", \"\")\n",
        "    text = text.replace(\"</LI>\", \"\")\n",
        "    text = text.replace(\"<LI>\", \"\")\n",
        "    text = text.replace(\"<ul>\", \"\")\n",
        "    text = text.replace(\"</ul>\", \"\")\n",
        "    text = text.replace(\"<u>\", \"\")\n",
        "    text = text.replace(\"</u>\", \"\")\n",
        "    text = text.replace(\"&amp;\", \"\")\n",
        "    text = text.replace(\"nbsp;\", \"\")\n",
        "    text = text.replace(\"<div> \", \"\")\n",
        "    text = text.replace(\"</div>\", \"\")\n",
        "    text = text.replace(\"<em>\", \"\")\n",
        "    text = text.replace(\"</p>\", \"\")\n",
        "    text = text.replace(\"<p>\", \"\")\n",
        "    text = text.lower()  \n",
        "    text = text.strip()  # remove the whitespaces from the left and the right\n",
        "    return text"
      ],
      "execution_count": null,
      "outputs": []
    },
    {
      "cell_type": "code",
      "metadata": {
        "id": "fl9ehl6bLd-r"
      },
      "source": [
        "# Clean the titles \n",
        "data['title'] = data['title'].apply(lambda title: clean_text(title))  # Training and validation data\n",
        "df_challenge['designation'] = df_challenge['designation'].apply(lambda title: clean_text(title))  # Challenge data\n",
        "\n",
        "# Clean the descriptions\n",
        "data['description'].fillna('', inplace=True)  # Replace NaN with empty string\n",
        "data['description'] = data['description'].apply(lambda description: clean_text(description))\n",
        "\n",
        "# Save data\n",
        "!mkdir data\n",
        "data.to_csv('data/full_data.csv', sep=',', index=False)"
      ],
      "execution_count": null,
      "outputs": []
    },
    {
      "cell_type": "markdown",
      "metadata": {
        "id": "lEci4Jk2Q0gO"
      },
      "source": [
        "# Exploratory data analysis\n"
      ]
    },
    {
      "cell_type": "markdown",
      "metadata": {
        "id": "IEgyS_2etOKQ"
      },
      "source": [
        "## Label distribution"
      ]
    },
    {
      "cell_type": "code",
      "metadata": {
        "colab": {
          "base_uri": "https://localhost:8080/"
        },
        "id": "xchDVYoaQ5wT",
        "outputId": "ec1d4ce5-2185-4644-9861-46bcf593e96f"
      },
      "source": [
        "# Distribution of labels \n",
        "all_labels = list(data.label.values)\n",
        "labels, labels_counts = zip(*Counter(all_labels).most_common())\n",
        "plt.figure(figsize=(25,5))\n",
        "ax = sns.barplot(list(labels), list(labels_counts))\n",
        "plt.title(\"Labels distribution\", fontsize=20)\n",
        "plt.xlabel(\"Label\", fontsize=16)\n",
        "ax.set_xticklabels(labels, rotation=90, fontsize=14)\n",
        "plt.ylabel(\"Number of products\", fontsize=16)\n",
        "plt.show()"
      ],
      "execution_count": null,
      "outputs": [
        {
          "output_type": "display_data",
          "data": {
            "image/png": "[encoded data removed]",
            "text/plain": [
              "<Figure size 1800x360 with 1 Axes>"
            ]
          },
          "metadata": {
            "tags": [],
            "needs_background": "light"
          }
        }
      ]
    },
    {
      "cell_type": "code",
      "metadata": {
        "colab": {
          "base_uri": "https://localhost:8080/"
        },
        "id": "aKQtcCMcTY-N",
        "outputId": "b67c9803-fe57-46a5-d624-622e2928bc08"
      },
      "source": [
        "nb_labels = len(np.unique(data.label.values))\n",
        "print(f'Nb of unique labels: {nb_labels}')"
      ],
      "execution_count": null,
      "outputs": [
        {
          "output_type": "stream",
          "text": [
            "Nb of unique labels: 27\n"
          ],
          "name": "stdout"
        }
      ]
    },
    {
      "cell_type": "markdown",
      "metadata": {
        "id": "6xTxkDAEtTxd"
      },
      "source": [
        "## Missing values"
      ]
    },
    {
      "cell_type": "code",
      "metadata": {
        "id": "vjjVS8j4tLLU"
      },
      "source": [
        "# print(f'Nb of examples: {len(data)}')\n",
        "# print()\n",
        "# print('Nb of missing values in each column:')\n",
        "# print()\n",
        "# print(data.isnull().sum()) "
      ],
      "execution_count": null,
      "outputs": []
    },
    {
      "cell_type": "markdown",
      "metadata": {
        "id": "d12aMxdOQ4Po"
      },
      "source": [
        "## Length statistics"
      ]
    },
    {
      "cell_type": "code",
      "metadata": {
        "colab": {
          "base_uri": "https://localhost:8080/"
        },
        "id": "l1yBEcj9RBzQ",
        "outputId": "c9102d38-a06f-4345-b13f-1a5dfe007b69"
      },
      "source": [
        "# Titles\n",
        "titles = data.title.values\n",
        "lengths = np.array([len(title) for title in titles])\n",
        "print('Title statistics:')\n",
        "print(f'min length: {lengths.min()}')\n",
        "print(f'mean length: {lengths.mean()}')\n",
        "print(f'max length: {lengths.max()}')\n",
        "# Visualisation of the histogram\n",
        "plt.figure(figsize=(25,5))\n",
        "ax = sns.displot(lengths)\n",
        "plt.title(f\"Character number distribution of the titles in the full dataset\", fontsize=20)\n",
        "plt.xlabel(\"Number of characters\", fontsize=16)\n",
        "plt.ylabel(\"Count\", fontsize=16)\n",
        "plt.show()\n",
        "max = [110, 115, 130, 150, 200]\n",
        "for m in max:\n",
        "    percentage = sum(lengths <= m) / len(lengths) * 100\n",
        "    print(f\"percentage of exples with less than {m} characters in the title: {round(percentage,2)} %\")\n",
        "\n",
        "# Descriptions\n",
        "descriptions = data.description.values\n",
        "lengths = np.array([len(desc) for desc in descriptions])\n",
        "print('Description statistics:')\n",
        "print(f'min length: {lengths.min()}')\n",
        "print(f'mean length: {lengths.mean()}')\n",
        "print(f'max length: {lengths.max()}')\n",
        "# Visualisation of the histogram\n",
        "plt.figure(figsize=(25,5))\n",
        "ax = sns.displot(lengths)\n",
        "plt.title(f\"Character number distribution of the descriptions in the full dataset\", fontsize=20)\n",
        "plt.xlabel(\"Number of characters\", fontsize=16)\n",
        "plt.ylabel(\"Count\", fontsize=16)\n",
        "plt.show()\n",
        "max = [110, 115, 130, 150, 200]\n",
        "for m in max:\n",
        "    percentage = sum(lengths <= m) / len(lengths) * 100\n",
        "    print(f\"percentage of exples with less than {m} characters in the description: {round(percentage,2)} %\")"
      ],
      "execution_count": null,
      "outputs": [
        {
          "output_type": "stream",
          "text": [
            "Title statistics:\n",
            "min length: 11\n",
            "mean length: 70.10663479202977\n",
            "max length: 250\n"
          ],
          "name": "stdout"
        },
        {
          "output_type": "display_data",
          "data": {
            "text/plain": [
              "<Figure size 1800x360 with 0 Axes>"
            ]
          },
          "metadata": {
            "tags": []
          }
        },
        {
          "output_type": "display_data",
          "data": {
            "image/png": "[encoded data removed]",
            "text/plain": [
              "<Figure size 360x360 with 1 Axes>"
            ]
          },
          "metadata": {
            "tags": [],
            "needs_background": "light"
          }
        },
        {
          "output_type": "stream",
          "text": [
            "percentage of exples with less than 110 characters in the title: 89.83 %\n",
            "percentage of exples with less than 115 characters in the title: 91.66 %\n",
            "percentage of exples with less than 130 characters in the title: 95.12 %\n",
            "percentage of exples with less than 150 characters in the title: 97.12 %\n",
            "percentage of exples with less than 200 characters in the title: 98.93 %\n",
            "Description statistics:\n",
            "min length: 0\n",
            "mean length: 499.32784163173017\n",
            "max length: 12441\n"
          ],
          "name": "stdout"
        },
        {
          "output_type": "display_data",
          "data": {
            "text/plain": [
              "<Figure size 1800x360 with 0 Axes>"
            ]
          },
          "metadata": {
            "tags": []
          }
        },
        {
          "output_type": "display_data",
          "data": {
            "image/png": "[encoded data removed]",
            "text/plain": [
              "<Figure size 360x360 with 1 Axes>"
            ]
          },
          "metadata": {
            "tags": [],
            "needs_background": "light"
          }
        },
        {
          "output_type": "stream",
          "text": [
            "percentage of exples with less than 110 characters in the description: 42.62 %\n",
            "percentage of exples with less than 115 characters in the description: 42.93 %\n",
            "percentage of exples with less than 130 characters in the description: 43.92 %\n",
            "percentage of exples with less than 150 characters in the description: 45.34 %\n",
            "percentage of exples with less than 200 characters in the description: 48.42 %\n"
          ],
          "name": "stdout"
        }
      ]
    },
    {
      "cell_type": "code",
      "metadata": {
        "colab": {
          "base_uri": "https://localhost:8080/"
        },
        "id": "oRwp8EIvW4Ya",
        "outputId": "952f828e-00e8-4619-d9bd-e32d0adaf4fb"
      },
      "source": [
        "# Descriptions\n",
        "descriptions = data.description.values\n",
        "lengths = np.array([len(desc) for desc in descriptions])\n",
        "print('Description statistics:')\n",
        "print(f'min length: {lengths.min()}')\n",
        "print(f'mean length: {lengths.mean()}')\n",
        "print(f'max length: {lengths.max()}')\n",
        "# Visualisation of the histogram\n",
        "plt.figure(figsize=(25,5))\n",
        "ax = sns.displot(lengths)\n",
        "plt.title(f\"Character number distribution of the descriptions in the full dataset\", fontsize=20)\n",
        "plt.xlabel(\"Number of characters\", fontsize=16)\n",
        "plt.ylabel(\"Count\", fontsize=16)\n",
        "plt.show()"
      ],
      "execution_count": null,
      "outputs": [
        {
          "output_type": "stream",
          "text": [
            "Description statistics:\n",
            "min length: 0\n",
            "mean length: 499.32784163173017\n",
            "max length: 12441\n"
          ],
          "name": "stdout"
        },
        {
          "output_type": "display_data",
          "data": {
            "text/plain": [
              "<Figure size 1800x360 with 0 Axes>"
            ]
          },
          "metadata": {
            "tags": []
          }
        },
        {
          "output_type": "display_data",
          "data": {
            "image/png": "[encoded data removed]",
            "text/plain": [
              "<Figure size 360x360 with 1 Axes>"
            ]
          },
          "metadata": {
            "tags": [],
            "needs_background": "light"
          }
        }
      ]
    },
    {
      "cell_type": "code",
      "metadata": {
        "colab": {
          "base_uri": "https://localhost:8080/"
        },
        "id": "2hbgdT5oW7t1",
        "outputId": "caf60645-7cce-4edf-c079-9ac3fa0bd48b"
      },
      "source": [
        "max = [2, 230, 600]\n",
        "for m in max:\n",
        "    percentage = sum(lengths <= m) / len(lengths) * 100\n",
        "    print(f\"percentage of exples with less than {m} characters in the description: {round(percentage,2)} %\")"
      ],
      "execution_count": null,
      "outputs": [
        {
          "output_type": "stream",
          "text": [
            "percentage of exples with less than 2 characters in the description: 35.23 %\n",
            "percentage of exples with less than 230 characters in the description: 50.71 %\n",
            "percentage of exples with less than 600 characters in the description: 67.52 %\n"
          ],
          "name": "stdout"
        }
      ]
    },
    {
      "cell_type": "markdown",
      "metadata": {
        "id": "jeby5XaDwczP"
      },
      "source": [
        "# Data Split"
      ]
    },
    {
      "cell_type": "code",
      "metadata": {
        "id": "Skmi-YsTTicA"
      },
      "source": [
        "def set_seed(seed):\n",
        "    \"\"\" Set all seeds to make results reproducible \"\"\"\n",
        "    torch.manual_seed(seed)\n",
        "    torch.cuda.manual_seed_all(seed)\n",
        "    torch.backends.cudnn.deterministic = True\n",
        "    torch.backends.cudnn.benchmark = False\n",
        "    np.random.seed(seed)\n",
        "    random.seed(seed)\n",
        "    os.environ['PYTHONHASHSEED'] = str(seed)\n",
        "\n",
        "seed = 123\n",
        "set_seed(seed)"
      ],
      "execution_count": null,
      "outputs": []
    },
    {
      "cell_type": "code",
      "metadata": {
        "colab": {
          "base_uri": "https://localhost:8080/"
        },
        "id": "nUXwonKeFAVy",
        "outputId": "da09a8eb-b065-48e5-d78f-3077743755ae"
      },
      "source": [
        "# Split train/validation: 90%/10% with the same distribution of labels in each split\n",
        "test_size = 0.1\n",
        "X_train, X_val, y_train, y_val = train_test_split(data, data.label, test_size=test_size, random_state=seed, stratify=data.label)\n",
        "print(f'length of X_train: {len(X_train)}')\n",
        "print(f'length of X_val: {len(X_val)}')\n",
        "\n",
        "# !mkdir data\n",
        "X_train.to_csv('data/train.csv', sep=',', index=False)\n",
        "X_val.to_csv('data/val.csv', sep=',', index=False)\n",
        "df_challenge.to_csv('data/challenge.csv', sep=',', index=False)"
      ],
      "execution_count": null,
      "outputs": [
        {
          "output_type": "stream",
          "text": [
            "length of X_train: 76424\n",
            "length of X_val: 8492\n"
          ],
          "name": "stdout"
        }
      ]
    },
    {
      "cell_type": "markdown",
      "metadata": {
        "id": "fSOBGnIkYN4G"
      },
      "source": [
        "# Metrics"
      ]
    },
    {
      "cell_type": "code",
      "metadata": {
        "id": "HM3bxhBMYNi4"
      },
      "source": [
        "def compute_score(y_true, y_pred, print_score=False):\n",
        "    \"\"\"Print and compute the weighted-F1 score\n",
        "\n",
        "    Parameters\n",
        "    ----------\n",
        "    y_true : 1d array-like\n",
        "        Ground truth (correct) target values.\n",
        "    y_pred : 1d array-like\n",
        "        Estimated targets as returned by a classifier.\n",
        "        \n",
        "    Returns\n",
        "    -------\n",
        "    score : float\n",
        "        The weighted-F1 score\n",
        "    \"\"\"\n",
        "    score = f1_score(y_true, y_pred, average=\"weighted\")\n",
        "    if print_score:\n",
        "        print(f'weighted-F1 score: {score}')\n",
        "    return score"
      ],
      "execution_count": null,
      "outputs": []
    },
    {
      "cell_type": "markdown",
      "metadata": {
        "id": "4DFYoCsUbp39"
      },
      "source": [
        "# Models"
      ]
    },
    {
      "cell_type": "markdown",
      "metadata": {
        "id": "cihLCOOvdVxv"
      },
      "source": [
        "## Simple models with tf-idf features"
      ]
    },
    {
      "cell_type": "code",
      "metadata": {
        "id": "QyBGzjnMdgrt"
      },
      "source": [
        "# Features\n",
        "vectorizer = TfidfVectorizer()\n",
        "\n",
        "X_train_tfidf = vectorizer.fit_transform(X_train)\n",
        "X_val_tfidf = vectorizer.transform(X_val)\n",
        "\n",
        "print(f'Shape of X_train_tfidf: {X_train_tfidf.shape}')\n",
        "print(f'Shape of X_val_tfidf: {X_val_tfidf.shape}')"
      ],
      "execution_count": null,
      "outputs": []
    },
    {
      "cell_type": "markdown",
      "metadata": {
        "id": "XuAZfubp-P64"
      },
      "source": [
        "### Linear SVC"
      ]
    },
    {
      "cell_type": "code",
      "metadata": {
        "id": "fTlBKC6bjcvt"
      },
      "source": [
        "# best_score = 0.0\n",
        "# param_grid = {'C':[0.001, 0.01, 0.1, 1, 10, 100, 1000]}\n",
        "# clf_svc = LinearSVC(multi_class='ovr', random_state=seed, max_iter=1000, class_weight=None) \n",
        "# for param in ParameterGrid(param_grid):\n",
        "#     clf_svc.set_params(**param)\n",
        "#     clf_svc.fit(X_train_tfidf, y_train)  # Training\n",
        "#     y_pred_on_val = clf_svc.predict(X_val_tfidf) # Prediction on the validation set\n",
        "#     print(f\"C: {param['C']}\")\n",
        "#     val_score = compute_score(y_true=y_val, y_pred=y_pred_on_val)\n",
        "#     if val_score > best_score:\n",
        "#         best_score = val_scorea\n",
        "#         best_grid = param\n",
        "\n",
        "# print(f'Best score: {best_score}')\n",
        "# print(f'Best parameters: {best_grid}')"
      ],
      "execution_count": null,
      "outputs": []
    },
    {
      "cell_type": "markdown",
      "metadata": {
        "id": "lyQjKTtA-W72"
      },
      "source": [
        "### Logistic regression"
      ]
    },
    {
      "cell_type": "code",
      "metadata": {
        "id": "ZA8jG0DZjMI_"
      },
      "source": [
        "# best_score = 0.0\n",
        "# # param_grid = {'C':[0.001, 0.01, 0.1, 1, 10, 100, 1000], 'solver':['newton-cg', 'sag', 'saga', 'lbfgs']}\n",
        "# param_grid = {'C':[0.001, 0.01, 0.1, 1, 10, 100, 1000], 'solver':['lbfgs']}\n",
        "# clf_lr = LogisticRegression(multi_class='multinomial', random_state=seed, max_iter=1000, class_weight=None)\n",
        "# for param in ParameterGrid(param_grid):\n",
        "#     clf_lr.set_params(**param)\n",
        "#     clf_lr.fit(X_train_tfidf, y_train)  # Training\n",
        "#     y_pred_on_val = clf_lr.predict(X_val_tfidf) # Prediction on the validation set\n",
        "#     print(f\"param: {param}\")\n",
        "#     val_score = compute_score(y_true=y_val, y_pred=y_pred_on_val)\n",
        "#     if val_score > best_score:\n",
        "#         best_score = val_score\n",
        "#         best_grid = param\n",
        "\n",
        "# print(f'Best score: {best_score}')\n",
        "# print(f'Best parameters: {best_grid}')"
      ],
      "execution_count": null,
      "outputs": []
    },
    {
      "cell_type": "markdown",
      "metadata": {
        "id": "_BobZXoHF1cV"
      },
      "source": [
        "## Transformers"
      ]
    },
    {
      "cell_type": "markdown",
      "metadata": {
        "id": "U1NfIqGzGtm9"
      },
      "source": [
        "### Classes and functions"
      ]
    },
    {
      "cell_type": "code",
      "metadata": {
        "id": "3FmKv00lWaAD"
      },
      "source": [
        "# img_dataset = datasets.ImageFolder(root='images/', \n",
        "#                                          transform=transforms.Compose(\n",
        "#                                         [   transforms.Resize(256),\n",
        "#                                             transforms.CenterCrop(224),\n",
        "#                                             transforms.ToTensor(),\n",
        "#                                         ]))\n",
        "# img_loader = DataLoader(dataset=img_dataset, batch_size=64)\n",
        "\n",
        "# def get_mean_std(loader):\n",
        "# # credits: https://github.com/aladdinpersson/Machine-Learning-Collection\n",
        "#     channels_sum, channels_squared_sum, num_batches = 0, 0, 0\n",
        "#     for data, _ in tqdm(loader):\n",
        "#         channels_sum += torch.mean(data, dim=[0,2,3])\n",
        "#         channels_squared_sum += torch.mean(data**2, dim=[0,2,3])\n",
        "#         num_batches += 1\n",
        "#     mean = channels_sum/num_batches\n",
        "#     std = (channels_squared_sum/num_batches - mean**2)**0.5\n",
        "\n",
        "#     return mean, std\n",
        "\n",
        "# mean, std = get_mean_std(img_loader)\n",
        "# print(mean)  # tensor([0.7475, 0.7273, 0.7112])\n",
        "# print(std)  # tensor([0.3100, 0.3154, 0.3299])"
      ],
      "execution_count": null,
      "outputs": []
    },
    {
      "cell_type": "code",
      "metadata": {
        "id": "ccpt0qsyGtJI"
      },
      "source": [
        "# Dataset\n",
        "\n",
        "true_to_fake_labels = {10: 0, 40: 1, 50: 2, 60: 3, 1140: 4, 1160: 5, 1180:6, 1280: 7, 1281: 8,\n",
        "                       1300: 9, 1301: 10, 1302: 11, 1320: 12, 1560: 13, 1920: 14, 1940: 15 , 2060: 16, 2220: 17, 2280: 18, \n",
        "                       2403: 19, 2462: 20, 2522: 21, 2582: 22, 2583: 23, 2585: 24, 2705: 25, 2905: 26}\n",
        "fake_to_true_labels = {v: k for k, v in true_to_fake_labels.items()}\n",
        "\n",
        "class TextDataset(Dataset):\n",
        "\n",
        "    def __init__(self, filename, maxlen, with_labels=True, delimiter=',', transformer_model='camembert-base',\n",
        "                 feature_col_name='title', label_col_name='label'):\n",
        "\n",
        "        #Store the contents of the file in a pandas dataframe\n",
        "        self.df = pd.read_csv(filename, delimiter=delimiter, keep_default_na=False)\n",
        "\n",
        "        #Initialize the tokenizer\n",
        "        self.tokenizer = AutoTokenizer.from_pretrained(transformer_model, use_fast=False)\n",
        "        # Maximum length of the input tokenized sequence pair : if larger than \"maxlen\", the input is truncated\n",
        "        # and else if smaller, the input is padded\n",
        "        self.maxlen = maxlen\n",
        "        self.with_labels = with_labels\n",
        "        self.feature_col_name = feature_col_name\n",
        "        self.label_col_name = label_col_name\n",
        "\n",
        "    def __len__(self):\n",
        "        return len(self.df)\n",
        "\n",
        "    def __getitem__(self, index):\n",
        "        # Selecting the sequence at the specified index in the data frame\n",
        "        seq = str(self.df.loc[index, self.feature_col_name])\n",
        "\n",
        "        # Tokenize the sequence-pair to get token ids\n",
        "        encoded_pair = self.tokenizer(seq,\n",
        "                                      padding='max_length',  # Pad to max_length\n",
        "                                      truncation=True,  # Truncate to max_length\n",
        "                                      max_length=self.maxlen,\n",
        "                                      return_tensors='pt')  # Return torch.Tensor objects\n",
        "        # tensor of token ids\n",
        "        token_ids = encoded_pair['input_ids'].squeeze(0)\n",
        "\n",
        "        if self.with_labels:  # True if the dataset has labels\n",
        "            label = self.df.loc[index, self.label_col_name]\n",
        "            label = true_to_fake_labels[label]\n",
        "            return token_ids, label\n",
        "        else:\n",
        "            return token_ids\n",
        "\n",
        "\n",
        "\n",
        "class VisionDataset(Dataset):\n",
        "    def __init__(self, filename, delimiter=',', img_id_col_name='imageid', img_path_col_name='imagepath',\n",
        "                 with_labels=True, label_col_name='label'):\n",
        "        #Store the contents of the file in a pandas dataframe\n",
        "        self.df = pd.read_csv(filename, delimiter=delimiter, keep_default_na=False)\n",
        "        self.img_path_col_name = img_path_col_name\n",
        "        self.img_id_col_name = img_id_col_name\n",
        "        self.with_labels = with_labels\n",
        "        self.label_col_name = label_col_name\n",
        "        self.transforms = transforms.Compose(\n",
        "        [   transforms.Resize(256),\n",
        "            transforms.CenterCrop(224),\n",
        "            transforms.ToTensor(),\n",
        "            transforms.Normalize( \n",
        "                mean=[0.7475, 0.7273, 0.7112],\n",
        "                std=[0.3100, 0.3154, 0.3299],\n",
        "            ),\n",
        "        ])\n",
        "\n",
        "    def __len__(self):\n",
        "        return len(self.df)\n",
        "\n",
        "    def __getitem__(self, index):\n",
        "        img_id = self.df.loc[index, self.img_id_col_name]\n",
        "        image = None\n",
        "        image = Image.open(\n",
        "            self.df.loc[index, self.img_path_col_name]\n",
        "        ).convert(\"RGB\")\n",
        "        image = self.transforms(image)\n",
        "\n",
        "        if self.with_labels:  # True if the dataset has labels\n",
        "            label = self.df.loc[index, self.label_col_name]\n",
        "            label = true_to_fake_labels[label]\n",
        "            return image, label\n",
        "        else:\n",
        "            return image\n",
        "\n",
        "\n",
        "\n",
        "class MultimodalDataset(Dataset):\n",
        "    def __init__(self, filename, maxlen, delimiter=',', transformer_model='camembert-base', \n",
        "                 feature_col_name='title', img_id_col_name='imageid', img_path_col_name='imagepath',\n",
        "                 with_labels=True, label_col_name='label'):\n",
        "        #Store the contents of the file in a pandas dataframe\n",
        "        self.df = pd.read_csv(filename, delimiter=delimiter, keep_default_na=False)\n",
        "        self.img_path_col_name = img_path_col_name\n",
        "        self.img_id_col_name = img_id_col_name\n",
        "        self.with_labels = with_labels\n",
        "        self.label_col_name = label_col_name\n",
        "        self.transforms = transforms.Compose(\n",
        "        [   transforms.Resize(256),\n",
        "            transforms.CenterCrop(224),\n",
        "            transforms.ToTensor(),\n",
        "            transforms.Normalize( \n",
        "                mean=[0.7475, 0.7273, 0.7112],\n",
        "                std=[0.3100, 0.3154, 0.3299],\n",
        "            ),\n",
        "        ])\n",
        "        #Initialize the tokenizer\n",
        "        self.tokenizer = AutoTokenizer.from_pretrained(transformer_model, use_fast=False)\n",
        "        # Maximum length of the input tokenized sequence pair : if larger than \"maxlen\", the input is truncated\n",
        "        # and else if smaller, the input is padded\n",
        "        self.maxlen = maxlen\n",
        "        self.feature_col_name = feature_col_name\n",
        "\n",
        "\n",
        "    def __len__(self):\n",
        "        return len(self.df)\n",
        "\n",
        "    def __getitem__(self, index):\n",
        "        img_id = self.df.loc[index, self.img_id_col_name]\n",
        "        image = None\n",
        "        image = Image.open(\n",
        "            self.df.loc[index, self.img_path_col_name]\n",
        "        ).convert(\"RGB\")\n",
        "        image = self.transforms(image)\n",
        "        # Selecting the sequence at the specified index in the data frame\n",
        "        seq = str(self.df.loc[index, self.feature_col_name])\n",
        "        # Tokenize the sequence-pair to get token ids\n",
        "        encoded_pair = self.tokenizer(seq,\n",
        "                                      padding='max_length',  # Pad to max_length\n",
        "                                      truncation=True,  # Truncate to max_length\n",
        "                                      max_length=self.maxlen,\n",
        "                                      return_tensors='pt')  # Return torch.Tensor objects\n",
        "        # tensor of token ids\n",
        "        token_ids = encoded_pair['input_ids'].squeeze(0)\n",
        "\n",
        "        if self.with_labels:  # True if the dataset has labels\n",
        "            label = self.df.loc[index, self.label_col_name]\n",
        "            label = true_to_fake_labels[label]\n",
        "            return token_ids, image, label\n",
        "        else:\n",
        "            return token_ids, image"
      ],
      "execution_count": null,
      "outputs": []
    },
    {
      "cell_type": "code",
      "metadata": {
        "id": "-nkumKtrIM5B"
      },
      "source": [
        "# Models\n",
        "\n",
        "# Text model\n",
        "class SequenceClassifier(nn.Module):\n",
        "    def __init__(self, args):\n",
        "        super(SequenceClassifier, self).__init__()\n",
        "        self.args = args\n",
        "        # Instantiating transformer model object\n",
        "        self.model = AutoModelForSequenceClassification.from_pretrained(args.transformer_model, num_labels=args.n_classes)\n",
        "        \n",
        "    @autocast()  # run in mixed precision\n",
        "    def forward(self, input_ids):\n",
        "        outputs = self.model(input_ids, return_dict=True)\n",
        "        logits = outputs.logits\n",
        "        return logits\n",
        "\n",
        "\n",
        "class TransformerEncoder(nn.Module):\n",
        "    def __init__(self, args):\n",
        "        super(TransformerEncoder, self).__init__()\n",
        "        self.args = args\n",
        "        self.model = AutoModel.from_pretrained(args.transformer_model)\n",
        "\n",
        "    @autocast() # run in mixed precision\n",
        "    def forward(self, input_ids):\n",
        "        # Last layer hidden-state of the first token of the sequence (classification token) \n",
        "        # further processed by a Linear layer and a Tanh activation function\n",
        "        outputs = self.model(input_ids, return_dict=True)  \n",
        "        return outputs.pooler_output\n",
        "\n",
        "\n",
        "\n",
        "# Vision model\n",
        "\n",
        "# Adapted from https://github.com/facebookresearch/mmbt/blob/04a2edb9f85802cd5442acc6702829b0a20e7748/mmbt/models/image.py#L15\n",
        "class ImageEncoder(nn.Module):\n",
        "    def __init__(self, args):\n",
        "        super(ImageEncoder, self).__init__()\n",
        "        self.args = args\n",
        "        if self.args.resnet == '152':\n",
        "            model = torchvision.models.resnet152(pretrained=True)\n",
        "        elif self.args.resnet == '50':\n",
        "            model = torchvision.models.resnet50(pretrained=True)\n",
        "        modules = list(model.children())[:-2]\n",
        "        self.model = nn.Sequential(*modules)\n",
        "\n",
        "        pool_func = (\n",
        "            nn.AdaptiveAvgPool2d\n",
        "            if args.img_embed_pool_type == \"avg\"\n",
        "            else nn.AdaptiveMaxPool2d\n",
        "        )\n",
        "\n",
        "        if args.num_image_embeds in [1, 2, 3, 5, 7]:\n",
        "            self.pool = pool_func((args.num_image_embeds, 1))\n",
        "        elif args.num_image_embeds == 4:\n",
        "            self.pool = pool_func((2, 2))\n",
        "        elif args.num_image_embeds == 6:\n",
        "            self.pool = pool_func((3, 2))\n",
        "        elif args.num_image_embeds == 8:\n",
        "            self.pool = pool_func((4, 2))\n",
        "        elif args.num_image_embeds == 9:\n",
        "            self.pool = pool_func((3, 3))\n",
        "\n",
        "    def forward(self, x):\n",
        "        # Bx3x224x224 -> Bx2048x7x7 -> Bx2048xN -> BxNx2048\n",
        "        out = self.pool(self.model(x))\n",
        "        out = torch.flatten(out, start_dim=2)\n",
        "        out = out.transpose(1, 2).contiguous()\n",
        "        return out  # BxNx2048\n",
        "\n",
        "\n",
        "class ImageClf(nn.Module):\n",
        "    def __init__(self, args):\n",
        "        super(ImageClf, self).__init__()\n",
        "        self.args = args\n",
        "        self.img_encoder = ImageEncoder(args)\n",
        "        self.clf = nn.Linear(args.img_hidden_sz * args.num_image_embeds, args.n_classes)\n",
        "\n",
        "    def forward(self, x):\n",
        "        x = self.img_encoder(x)\n",
        "        x = torch.flatten(x, start_dim=1)\n",
        "        out = self.clf(x)\n",
        "        return out\n",
        "\n",
        "# Adapted from https://github.com/facebookresearch/mmbt/blob/04a2edb9f85802cd5442acc6702829b0a20e7748/mmbt/models/concat_bert.py#L17\n",
        "class MultimodalConcatClf(nn.Module):\n",
        "    def __init__(self, args):\n",
        "        super(MultimodalConcatClf, self).__init__()\n",
        "        self.args = args\n",
        "        self.txtenc = TransformerEncoder(args)\n",
        "        self.imgenc = ImageEncoder(args)\n",
        "\n",
        "        last_size = args.hidden_sz + (args.img_hidden_sz * args.num_image_embeds)\n",
        "        self.clf = nn.ModuleList()\n",
        "        for hidden in args.hidden:\n",
        "            self.clf.append(nn.Linear(last_size, hidden))\n",
        "            self.clf.append(nn.BatchNorm1d(hidden))\n",
        "            self.clf.append(nn.ReLU())\n",
        "            self.clf.append(nn.Dropout(0.1))\n",
        "            last_size = hidden\n",
        "        self.clf.append(nn.Linear(last_size, args.n_classes))\n",
        "        \n",
        "        if args.freeze_img:\n",
        "            for param in self.imgenc.parameters():\n",
        "                param.requires_grad = False\n",
        "\n",
        "\n",
        "    def forward(self, txt, img):\n",
        "        txt = self.txtenc(txt)\n",
        "        img = self.imgenc(img)\n",
        "        img = torch.flatten(img, start_dim=1)\n",
        "        out = torch.cat([txt, img], -1)\n",
        "        for layer in self.clf:\n",
        "            out = layer(out)\n",
        "        return out"
      ],
      "execution_count": null,
      "outputs": []
    },
    {
      "cell_type": "code",
      "metadata": {
        "id": "btSazTpajMGm"
      },
      "source": [
        "# Prediction and evaluation\n",
        "\n",
        "def evaluate_loss(model, device, criterion, dataloader):\n",
        "    model.eval()\n",
        "\n",
        "    mean_loss = 0\n",
        "    count = 0\n",
        "\n",
        "    with torch.no_grad():\n",
        "        for it, (token_ids, labels) in enumerate(tqdm(dataloader)):\n",
        "            token_ids, labels = token_ids.to(device), labels.to(device)\n",
        "            logits = model(token_ids)\n",
        "            mean_loss += criterion(logits.squeeze(-1), labels.long()).item()\n",
        "            count += 1\n",
        "\n",
        "    return mean_loss / count\n",
        "\n",
        "def evaluate_loss_and_score(model, device, criterion, dataloader):\n",
        "    model.eval()\n",
        "\n",
        "    mean_loss = 0\n",
        "    count = 0\n",
        "    pred_labels_all = []\n",
        "\n",
        "    with torch.no_grad():\n",
        "        for it, (token_ids, labels) in enumerate(tqdm(dataloader)):\n",
        "            token_ids, labels = token_ids.to(device), labels.to(device)\n",
        "            logits = model(token_ids)\n",
        "            pred_labels = get_labels_from_logits(logits)\n",
        "            pred_labels_all += pred_labels\n",
        "            mean_loss += criterion(logits.squeeze(-1), labels.long()).item()\n",
        "            count += 1\n",
        "\n",
        "    score = compute_score(y_true=dataloader.dataset.df.label, y_pred=pred_labels_all)\n",
        "    return mean_loss / count, score\n",
        "\n",
        "def evaluate_loss_and_score_for_multimodal(model, device, criterion, dataloader):\n",
        "    model.eval()\n",
        "\n",
        "    mean_loss = 0\n",
        "    count = 0\n",
        "    pred_labels_all = []\n",
        "\n",
        "    with torch.no_grad():\n",
        "        for it, (token_ids, image, labels) in enumerate(tqdm(dataloader)):\n",
        "            token_ids, image, labels = token_ids.to(device), image.to(device), labels.to(device)\n",
        "            logits = model(token_ids, image)\n",
        "            pred_labels = get_labels_from_logits(logits)\n",
        "            pred_labels_all += pred_labels\n",
        "            mean_loss += criterion(logits.squeeze(-1), labels.long()).item()\n",
        "            count += 1\n",
        "\n",
        "    score = compute_score(y_true=dataloader.dataset.df.label, y_pred=pred_labels_all)\n",
        "    return mean_loss / count, score\n",
        "\n",
        "\n",
        "def get_labels_from_logits(logits):\n",
        "    \"\"\"\n",
        "    Converts a tensor of logits into an array of labels by taking the argmax of the logits\n",
        "    \"\"\"\n",
        "    probs = torch.nn.functional.softmax(logits.detach(), dim=1)\n",
        "    max_probs, labels = torch.max(probs, dim=1)\n",
        "    labels = labels.cpu().numpy()\n",
        "    labels = [fake_to_true_labels[label] for label in labels]\n",
        "\n",
        "    return labels\n",
        "\n",
        "def predict_labels(model, device, dataloader, with_labels=True, result_file='predicted_labels.txt'):\n",
        "    # Predicts the labels on a dataset with or without labels and prints the result in a file\n",
        "\n",
        "    model.eval()\n",
        "    w = open(result_file, 'w')\n",
        "    labels_all = []\n",
        "\n",
        "    with torch.no_grad():\n",
        "        if with_labels:\n",
        "            for token_ids, _ in tqdm(dataloader):\n",
        "                token_ids = token_ids.to(device)\n",
        "                logits = model(token_ids) \n",
        "                labels = get_labels_from_logits(logits)\n",
        "                labels_all += labels\n",
        "        else:\n",
        "            for token_ids in tqdm(dataloader):\n",
        "                token_ids = token_ids.to(device)\n",
        "                logits = model(token_ids)\n",
        "                labels = get_labels_from_logits(logits)\n",
        "                labels_all += labels\n",
        "\n",
        "    w.writelines(str(label)+'\\n' for label in labels_all)\n",
        "    w.close()\n",
        "\n",
        "def predict_labels_for_multimodal(model, device, dataloader, with_labels=True, result_file='predicted_labels.txt'):\n",
        "    # Predicts the labels on a dataset with or without labels and prints the result in a file\n",
        "\n",
        "    model.eval()\n",
        "    w = open(result_file, 'w')\n",
        "    labels_all = []\n",
        "\n",
        "    with torch.no_grad():\n",
        "        if with_labels:\n",
        "            for token_ids, image, _ in tqdm(dataloader):\n",
        "                token_ids, image = token_ids.to(device), image.to(device)\n",
        "                logits = model(token_ids, image) \n",
        "                labels = get_labels_from_logits(logits)\n",
        "                labels_all += labels\n",
        "        else:\n",
        "            for token_ids, image in tqdm(dataloader):\n",
        "                token_ids, image = token_ids.to(device), image.to(device)\n",
        "                logits = model(token_ids, image)\n",
        "                labels = get_labels_from_logits(logits)\n",
        "                labels_all += labels\n",
        "\n",
        "    w.writelines(str(label)+'\\n' for label in labels_all)\n",
        "    w.close()"
      ],
      "execution_count": null,
      "outputs": []
    },
    {
      "cell_type": "code",
      "metadata": {
        "id": "cLWM2oI6VW3v"
      },
      "source": [
        "# Training\n",
        "\n",
        "def train_deep_model(model, device, criterion, opti, lr_scheduler, train_loader, val_loader, args):\n",
        "\n",
        "    best_loss = np.Inf\n",
        "    best_score = np.NINF\n",
        "    nb_iterations = len(train_loader)\n",
        "    print_every = nb_iterations // 10  \n",
        "\n",
        "    scaler = GradScaler()\n",
        "\n",
        "    for ep in range(args.epochs):\n",
        "        model.train()\n",
        "        running_loss = 0.0\n",
        "        # for it, (token_ids, labels) in enumerate(tqdm(train_loader)):  \n",
        "        for it, (token_ids, image, labels) in enumerate(tqdm(train_loader)):  # multimodal model\n",
        "            # Converting to cuda tensors\n",
        "            # token_ids, labels = token_ids.to(device), labels.to(device)  \n",
        "            token_ids, image, labels = token_ids.to(device), image.to(device), labels.to(device)  # multimodal model\n",
        "            # Enables autocasting for the forward pass (model + loss)\n",
        "            with autocast():\n",
        "                # Obtaining the logits from the model\n",
        "                # logits = model(token_ids)\n",
        "                logits = model(token_ids, image)  # multimodal model\n",
        "                # Computing loss\n",
        "                loss = criterion(logits.squeeze(-1), labels.long())\n",
        "                loss = loss / args.iters_to_accumulate  # Normalize the loss because it is averaged\n",
        "\n",
        "            # Backpropagating the gradients\n",
        "            # Scales loss.  Calls backward() on scaled loss to create scaled gradients.\n",
        "            scaler.scale(loss).backward()\n",
        "\n",
        "            if (it + 1) % args.iters_to_accumulate == 0:\n",
        "                # Optimization step\n",
        "                # scaler.step() first unscales the gradients of the optimizer's assigned params.\n",
        "                # If these gradients do not contain infs or NaNs, opti.step() is then called,\n",
        "                # otherwise, opti.step() is skipped.\n",
        "                scaler.step(opti)\n",
        "                # Updates the scale for next iteration.\n",
        "                scaler.update()\n",
        "                # Adjust the learning rate based on the number of iterations.\n",
        "                lr_scheduler.step()\n",
        "                # Clear gradients\n",
        "                opti.zero_grad()\n",
        "\n",
        "            running_loss += loss.item()\n",
        "\n",
        "            if (it + 1) % print_every == 0:  # Print training loss information\n",
        "                print(\"Iteration {}/{} of epoch {} complete. Loss : {} \"\n",
        "                      .format(it+1, nb_iterations, ep+1, running_loss / print_every))\n",
        "                args.run.log({\"train loss\": running_loss / print_every})\n",
        "                running_loss = 0.0\n",
        "\n",
        "        # val_loss, val_score = evaluate_loss_and_score(model, device, criterion, val_loader)\n",
        "        val_loss, val_score = evaluate_loss_and_score_for_multimodal(model, device, criterion, val_loader)  # multimodal model\n",
        "        print(f\"Epoch {ep+1} complete! Validation Loss : {val_loss} Validation weighted-F1 score: {val_score}\")\n",
        "        args.run.log({\"validation loss\": val_loss})\n",
        "        args.run.log({\"validation weighted-F1 score\": val_score})\n",
        "\n",
        "        if args.hp_objective == 'loss':\n",
        "            if val_loss < best_loss:\n",
        "                print(\"Best validation loss improved from {} to {}, saving model...\".format(best_loss, val_loss))\n",
        "                best_loss = val_loss\n",
        "                try:\n",
        "                    state_dict = model.module.state_dict()  # model trained using DataParallel()\n",
        "                except AttributeError:\n",
        "                    state_dict = model.state_dict()  # model trained without using DataParallel()\n",
        "                torch.save(state_dict,\n",
        "                           'models_transformers/{}_lr_{}_val_loss_{}_ep_{}.pt'.format(args.name_model, args.lr,\n",
        "                                                                                      round(best_loss, 5), ep + 1))\n",
        "        elif args.hp_objective == 'score':\n",
        "            if val_score > best_score:\n",
        "                print(\"Best validation weighted-F1 score improved from {} to {}, saving model...\".format(best_score, val_score))\n",
        "                best_score = val_score\n",
        "                try:\n",
        "                    state_dict = model.module.state_dict()  # model trained using DataParallel()\n",
        "                except AttributeError:\n",
        "                    state_dict = model.state_dict()  # model trained without using DataParallel()\n",
        "                torch.save(state_dict,\n",
        "                        'models_transformers/{}_lr_{}_val_score_{}_ep_{}.pt'.format(args.name_model, args.lr,\n",
        "                                                                                    round(best_score, 5), ep + 1))\n",
        "    del loss\n",
        "    torch.cuda.empty_cache()"
      ],
      "execution_count": null,
      "outputs": []
    },
    {
      "cell_type": "markdown",
      "metadata": {
        "id": "vTZEfOYAURXf"
      },
      "source": [
        "### Training and validation"
      ]
    },
    {
      "cell_type": "code",
      "metadata": {
        "id": "7td9uNlQWNJd"
      },
      "source": [
        "parser = argparse.ArgumentParser()\n",
        "args = parser.parse_args(args=[])\n",
        "args.transformer_model = 'camembert-base'  # 'camembert/camembert-large'\n",
        "args.name_model = 'camembert-large' if args.transformer_model == 'camembert/camembert-large' else args.transformer_model\n",
        "args.n_classes = 27\n",
        "args.maxlen = 60\n",
        "args.bs = 80  # 230 with text only, 128 with resnet152 only, 80 with multimodal & resnet152, \n",
        "args.iters_to_accumulate = 1\n",
        "args.lr = 1e-5  # 5e-5\n",
        "args.constant_lr = True\n",
        "args.epochs = 6\n",
        "########################### Vision model parameters ############################\n",
        "args.resnet = '50'  # '50' -> resnet50, '152' -> resnet152\n",
        "args.img_embed_pool_type = 'avg ' # choices = [\"max\", \"avg\"]\n",
        "args.num_image_embeds = 1\n",
        "args.img_hidden_sz = 2048\n",
        "args.hidden_sz = 768  \n",
        "args.hidden = []  # hidden layers' size after the concatenated vector (txt + img)\n",
        "args.img_path_col_name = 'imagepath'\n",
        "args.img_id_col_name = 'imageid'\n",
        "args.freeze_img = True\n",
        "################################################################################\n",
        "args.hp_objective = 'score' # Objective to maximize ('score') or minimize ('loss') for hyperparameter tuning \n",
        "args.num_warmup_steps = 0\n",
        "args.path_to_train_data = 'data/train.csv'\n",
        "args.path_to_val_data = 'data/val.csv'\n",
        "args.feature_col_name = 'title'\n",
        "args.label_col_name = 'label'\n",
        "args.delimiter = ','\n",
        "\n",
        "args.run = wandb.init(project=\"Rakuten\",\n",
        "           config={\n",
        "               \"transformer_model\": args.transformer_model,\n",
        "               \"batch_size\": args.bs,\n",
        "               \"learning_rate\": args.lr,\n",
        "               \"maxlen\": args.maxlen,\n",
        "               \"epochs\": args.epochs,\n",
        "           })\n",
        "\n",
        "!mkdir models_transformers"
      ],
      "execution_count": null,
      "outputs": []
    },
    {
      "cell_type": "code",
      "metadata": {
        "id": "5EFRqILf7i8y",
        "colab": {
          "base_uri": "https://localhost:8080/",
          "height": 17
        },
        "outputId": "f115d6ef-8f86-47d9-8133-0abb09409212"
      },
      "source": [
        "# To make sure the session doesn’t get disconnected\n",
        "%%javascript\n",
        "function ClickConnect(){\n",
        "console.log(\"Working\");\n",
        "document.querySelector(\"colab-toolbar-button#connect\").click()\n",
        "}setInterval(ClickConnect,60000)"
      ],
      "execution_count": null,
      "outputs": [
        {
          "output_type": "display_data",
          "data": {
            "application/javascript": [
              "function ClickConnect(){\n",
              "console.log(\"Working\");\n",
              "document.querySelector(\"colab-toolbar-button#connect\").click()\n",
              "}setInterval(ClickConnect,60000)"
            ],
            "text/plain": [
              "<IPython.core.display.Javascript object>"
            ]
          },
          "metadata": {
            "tags": []
          }
        }
      ]
    },
    {
      "cell_type": "code",
      "metadata": {
        "id": "pMvQKAOqOWkt"
      },
      "source": [
        "%%wandb\n",
        "# Creating instances of training and validation set\n",
        "\n",
        "# Transformer model\n",
        "\n",
        "# print(\"Reading training data...\")\n",
        "# train_set = CustomDataset(filename=args.path_to_train_data, maxlen=args.maxlen, \n",
        "#                             transformer_model=args.transformer_model, feature_col_name=args.feature_col_name,\n",
        "#                             label_col_name=args.label_col_name, delimiter=args.delimiter)\n",
        "# print(\"Reading validation data...\")\n",
        "# val_set = CustomDataset(filename=args.path_to_val_data, maxlen=args.maxlen,\n",
        "#                         transformer_model=args.transformer_model, feature_col_name=args.feature_col_name,\n",
        "#                             label_col_name=args.label_col_name, delimiter=args.delimiter)\n",
        "\n",
        "\n",
        "# Vision model\n",
        "\n",
        "# print(\"Reading training data...\")\n",
        "# train_set = VisionDataset(filename=args.path_to_train_data, img_path_col_name=args.img_path_col_name,\n",
        "#                           img_id_col_name = args.img_id_col_name, label_col_name=args.label_col_name, \n",
        "#                           delimiter=args.delimiter)\n",
        "# print(\"Reading validation data...\")\n",
        "# val_set = VisionDataset(filename=args.path_to_val_data, img_path_col_name=args.img_path_col_name,\n",
        "#                           img_id_col_name = args.img_id_col_name, label_col_name=args.label_col_name, \n",
        "#                           delimiter=args.delimiter)\n",
        "\n",
        "\n",
        "# Multimodal model\n",
        "\n",
        "print(\"Reading training data...\")\n",
        "train_set = MultimodalDataset(filename=args.path_to_train_data, maxlen=args.maxlen, delimiter=args.delimiter, \n",
        "                              transformer_model=args.transformer_model, feature_col_name=args.feature_col_name, \n",
        "                              img_id_col_name=args.img_id_col_name, img_path_col_name=args.img_path_col_name,\n",
        "                              label_col_name=args.label_col_name)\n",
        "\n",
        "print(\"Reading validation data...\")\n",
        "val_set = MultimodalDataset(filename=args.path_to_val_data, maxlen=args.maxlen, delimiter=args.delimiter, \n",
        "                              transformer_model=args.transformer_model, feature_col_name=args.feature_col_name, \n",
        "                              img_id_col_name=args.img_id_col_name, img_path_col_name=args.img_path_col_name,\n",
        "                              label_col_name=args.label_col_name)\n",
        "\n",
        "\n",
        "# Creating instances of training and validation dataloaders\n",
        "train_loader = DataLoader(train_set, batch_size=args.bs, num_workers=30, shuffle=True)  \n",
        "val_loader = DataLoader(val_set, batch_size=args.bs, num_workers=30)\n",
        "\n",
        "device = torch.device(\"cuda:0\" if torch.cuda.is_available() else \"cpu\")\n",
        "\n",
        "# Model\n",
        "# model = SequenceClassifier(args)  # Text model only (CamemBERT)\n",
        "# model = ImageClf(args)  # Vision model only (ResNet-152)\n",
        "model = MultimodalConcatClf(args)  # Multi-modal (Text + Vision)\n",
        "\n",
        "\n",
        "\n",
        "if torch.cuda.device_count() > 1:  # if multiple GPUs\n",
        "    print(\"Let's use\", torch.cuda.device_count(), \"GPUs!\")\n",
        "    model = nn.DataParallel(model)\n",
        "\n",
        "model.to(device)\n",
        "\n",
        "criterion = nn.CrossEntropyLoss()\n",
        "# opti = optim.Adam(model.parameters(), lr=args.lr)\n",
        "opti = AdamW(model.parameters(), lr=args.lr, weight_decay=1e-2)\n",
        "num_training_steps = args.epochs * len(train_loader)  # The total number of training steps\n",
        "t_total = (len(\n",
        "    train_loader) // args.iters_to_accumulate) * args.epochs  # Necessary to take into account Gradient accumulation\n",
        "if args.constant_lr:\n",
        "    lr_scheduler = get_constant_schedule(optimizer=opti)\n",
        "else:\n",
        "    lr_scheduler = get_linear_schedule_with_warmup(optimizer=opti, num_warmup_steps=args.num_warmup_steps,\n",
        "                                                num_training_steps=t_total)\n",
        "\n",
        "train_deep_model(model, device, criterion, opti, lr_scheduler, train_loader, val_loader, args)"
      ],
      "execution_count": null,
      "outputs": []
    },
    {
      "cell_type": "code",
      "metadata": {
        "id": "OdZde1cYctq5"
      },
      "source": [
        "# Save best model to Drive\n",
        "\n",
        "# !cp '/content/models_transformers/camembert-large_lr_2e-05_val_score_0.85691_ep_3.pt' '/content/drive/MyDrive/BazarAfrique/saved_models'"
      ],
      "execution_count": null,
      "outputs": []
    },
    {
      "cell_type": "markdown",
      "metadata": {
        "id": "TclWe0IEE_rb"
      },
      "source": [
        "### Prediction and evaluation on the test set "
      ]
    },
    {
      "cell_type": "code",
      "metadata": {
        "id": "R-MX9XQJgap_"
      },
      "source": [
        "path_to_saved_model = '/content/models_transformers/camembert-base_lr_5e-05_val_score_0.86828_ep_6.pt'"
      ],
      "execution_count": null,
      "outputs": []
    },
    {
      "cell_type": "code",
      "metadata": {
        "id": "yEsPUkrGFDeC"
      },
      "source": [
        "path_to_test_data = '/content/data/challenge.csv'  # Challenge data\n",
        "feature_col_name = 'designation'\n",
        "path_to_result_file = 'predicted_labels_for_challenge.txt'\n",
        "\n",
        "    \n",
        "# Creating instance of test set\n",
        "print(\"Reading test data...\")\n",
        "# Text model\n",
        "# test_set = CustomDataset(filename=path_to_test_data, maxlen=args.maxlen, with_labels=False, \n",
        "#                         transformer_model=args.transformer_model, feature_col_name=feature_col_name,\n",
        "#                         delimiter=args.delimiter)\n",
        "\n",
        "# Vision model\n",
        "# test_set = VisionDataset(filename=path_to_test_data, img_data_path=args.img_data_path, with_labels=False,\n",
        "#                           img_id_col_name=args.img_id_col_name, delimiter=args.delimiter)\n",
        "\n",
        "# Multimodal model\n",
        "test_set = MultimodalDataset(filename=path_to_test_data, maxlen=args.maxlen, delimiter=args.delimiter, \n",
        "                              transformer_model=args.transformer_model, feature_col_name=feature_col_name, \n",
        "                              img_id_col_name=args.img_id_col_name, img_path_col_name=args.img_path_col_name,\n",
        "                              with_labels=False)\n",
        "\n",
        "\n",
        "# Creating instance of test dataloader\n",
        "test_loader = DataLoader(test_set, batch_size=args.bs, num_workers=30)\n",
        "\n",
        "device = torch.device(\"cuda:0\" if torch.cuda.is_available() else \"cpu\")\n",
        "\n",
        "# model = SequenceClassifier(args)  # Text model only (CamemBERT)\n",
        "\n",
        "# model = ImageClf(args)  # Vision model only (ResNet-152)\n",
        "\n",
        "model = MultimodalConcatClf(args)  # Multi-modal (Text + Vision)\n",
        "\n",
        "\n",
        "if torch.cuda.device_count() > 1:  # if multiple GPUs\n",
        "    print(\"Let's use\", torch.cuda.device_count(), \"GPUs!\")\n",
        "    model = nn.DataParallel(model)\n",
        "print()\n",
        "print(\"Loading the weights of the model...\")\n",
        "model.load_state_dict(torch.load(path_to_saved_model))\n",
        "model.to(device)\n",
        "\n",
        "# predict_labels(model=model, device=device, dataloader=test_loader, \n",
        "#                with_labels=False, result_file=path_to_result_file)\n",
        "predict_labels_for_multimodal(model=model, device=device, dataloader=test_loader, \n",
        "               with_labels=False, result_file=path_to_result_file)\n",
        "\n",
        "predicted_labels = pd.read_csv(path_to_result_file, header=None)[0]"
      ],
      "execution_count": null,
      "outputs": []
    },
    {
      "cell_type": "code",
      "metadata": {
        "colab": {
          "base_uri": "https://localhost:8080/",
          "height": 416
        },
        "id": "gJCXUHgVPqea",
        "outputId": "36bbd7d8-ab6c-415f-ab82-1b1ccbe7c59e"
      },
      "source": [
        "# Challenge submission\n",
        "final_results = pd.concat([df_challenge['Unnamed: 0'], predicted_labels], axis=1)\n",
        "final_results.columns = ['', 'prdtypecode']\n",
        "final_results.to_csv('Y_test.csv', sep=',', index=False)\n",
        "final_results"
      ],
      "execution_count": null,
      "outputs": [
        {
          "output_type": "execute_result",
          "data": {
            "text/html": [
              "<div>\n",
              "<style scoped>\n",
              "    .dataframe tbody tr th:only-of-type {\n",
              "        vertical-align: middle;\n",
              "    }\n",
              "\n",
              "    .dataframe tbody tr th {\n",
              "        vertical-align: top;\n",
              "    }\n",
              "\n",
              "    .dataframe thead th {\n",
              "        text-align: right;\n",
              "    }\n",
              "</style>\n",
              "<table border=\"1\" class=\"dataframe\">\n",
              "  <thead>\n",
              "    <tr style=\"text-align: right;\">\n",
              "      <th></th>\n",
              "      <th></th>\n",
              "      <th>prdtypecode</th>\n",
              "    </tr>\n",
              "  </thead>\n",
              "  <tbody>\n",
              "    <tr>\n",
              "      <th>0</th>\n",
              "      <td>84916</td>\n",
              "      <td>1280</td>\n",
              "    </tr>\n",
              "    <tr>\n",
              "      <th>1</th>\n",
              "      <td>84917</td>\n",
              "      <td>1160</td>\n",
              "    </tr>\n",
              "    <tr>\n",
              "      <th>2</th>\n",
              "      <td>84918</td>\n",
              "      <td>2583</td>\n",
              "    </tr>\n",
              "    <tr>\n",
              "      <th>3</th>\n",
              "      <td>84919</td>\n",
              "      <td>2583</td>\n",
              "    </tr>\n",
              "    <tr>\n",
              "      <th>4</th>\n",
              "      <td>84920</td>\n",
              "      <td>2522</td>\n",
              "    </tr>\n",
              "    <tr>\n",
              "      <th>...</th>\n",
              "      <td>...</td>\n",
              "      <td>...</td>\n",
              "    </tr>\n",
              "    <tr>\n",
              "      <th>13807</th>\n",
              "      <td>98723</td>\n",
              "      <td>1560</td>\n",
              "    </tr>\n",
              "    <tr>\n",
              "      <th>13808</th>\n",
              "      <td>98724</td>\n",
              "      <td>2705</td>\n",
              "    </tr>\n",
              "    <tr>\n",
              "      <th>13809</th>\n",
              "      <td>98725</td>\n",
              "      <td>2583</td>\n",
              "    </tr>\n",
              "    <tr>\n",
              "      <th>13810</th>\n",
              "      <td>98726</td>\n",
              "      <td>2582</td>\n",
              "    </tr>\n",
              "    <tr>\n",
              "      <th>13811</th>\n",
              "      <td>98727</td>\n",
              "      <td>2060</td>\n",
              "    </tr>\n",
              "  </tbody>\n",
              "</table>\n",
              "<p>13812 rows × 2 columns</p>\n",
              "</div>"
            ],
            "text/plain": [
              "              prdtypecode\n",
              "0      84916         1280\n",
              "1      84917         1160\n",
              "2      84918         2583\n",
              "3      84919         2583\n",
              "4      84920         2522\n",
              "...      ...          ...\n",
              "13807  98723         1560\n",
              "13808  98724         2705\n",
              "13809  98725         2583\n",
              "13810  98726         2582\n",
              "13811  98727         2060\n",
              "\n",
              "[13812 rows x 2 columns]"
            ]
          },
          "metadata": {
            "tags": []
          },
          "execution_count": 27
        }
      ]
    }
  ]
}