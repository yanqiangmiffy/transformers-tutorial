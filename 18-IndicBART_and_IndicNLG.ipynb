{
  "cells": [
    {
      "cell_type": "markdown",
      "source": [
        "# IndicBART and IndicNLG notebook\n",
        "\n",
        "By Raj Dabre (NICT, Japan)"
      ],
      "metadata": {
        "id": "pDGx4V6mL87F"
      }
    },
    {
      "cell_type": "markdown",
      "metadata": {
        "id": "P507JuiUEeKd"
      },
      "source": [
        "## 安装和导入包"
      ]
    },
    {
      "cell_type": "code",
      "execution_count": 1,
      "metadata": {
        "colab": {
          "base_uri": "https://localhost:8080/"
        },
        "id": "xxIFJ8-mjE9z",
        "outputId": "1991f3e0-140e-4b10-b247-4882ff6a915b"
      },
      "outputs": [
        {
          "output_type": "stream",
          "name": "stdout",
          "text": [
            "Looking in indexes: https://pypi.org/simple, https://us-python.pkg.dev/colab-wheels/public/simple/\n",
            "Collecting transformers\n",
            "  Downloading transformers-4.23.1-py3-none-any.whl (5.3 MB)\n",
            "\u001b[K     |████████████████████████████████| 5.3 MB 31.1 MB/s \n",
            "\u001b[?25hRequirement already satisfied: pyyaml>=5.1 in /usr/local/lib/python3.7/dist-packages (from transformers) (6.0)\n",
            "Collecting huggingface-hub<1.0,>=0.10.0\n",
            "  Downloading huggingface_hub-0.10.1-py3-none-any.whl (163 kB)\n",
            "\u001b[K     |████████████████████████████████| 163 kB 67.2 MB/s \n",
            "\u001b[?25hRequirement already satisfied: requests in /usr/local/lib/python3.7/dist-packages (from transformers) (2.23.0)\n",
            "Requirement already satisfied: packaging>=20.0 in /usr/local/lib/python3.7/dist-packages (from transformers) (21.3)\n",
            "Requirement already satisfied: regex!=2019.12.17 in /usr/local/lib/python3.7/dist-packages (from transformers) (2022.6.2)\n",
            "Requirement already satisfied: filelock in /usr/local/lib/python3.7/dist-packages (from transformers) (3.8.0)\n",
            "Requirement already satisfied: tqdm>=4.27 in /usr/local/lib/python3.7/dist-packages (from transformers) (4.64.1)\n",
            "Requirement already satisfied: numpy>=1.17 in /usr/local/lib/python3.7/dist-packages (from transformers) (1.21.6)\n",
            "Collecting tokenizers!=0.11.3,<0.14,>=0.11.1\n",
            "  Downloading tokenizers-0.13.1-cp37-cp37m-manylinux_2_17_x86_64.manylinux2014_x86_64.whl (7.6 MB)\n",
            "\u001b[K     |████████████████████████████████| 7.6 MB 55.9 MB/s \n",
            "\u001b[?25hRequirement already satisfied: importlib-metadata in /usr/local/lib/python3.7/dist-packages (from transformers) (4.13.0)\n",
            "Requirement already satisfied: typing-extensions>=3.7.4.3 in /usr/local/lib/python3.7/dist-packages (from huggingface-hub<1.0,>=0.10.0->transformers) (4.1.1)\n",
            "Requirement already satisfied: pyparsing!=3.0.5,>=2.0.2 in /usr/local/lib/python3.7/dist-packages (from packaging>=20.0->transformers) (3.0.9)\n",
            "Requirement already satisfied: zipp>=0.5 in /usr/local/lib/python3.7/dist-packages (from importlib-metadata->transformers) (3.9.0)\n",
            "Requirement already satisfied: chardet<4,>=3.0.2 in /usr/local/lib/python3.7/dist-packages (from requests->transformers) (3.0.4)\n",
            "Requirement already satisfied: idna<3,>=2.5 in /usr/local/lib/python3.7/dist-packages (from requests->transformers) (2.10)\n",
            "Requirement already satisfied: urllib3!=1.25.0,!=1.25.1,<1.26,>=1.21.1 in /usr/local/lib/python3.7/dist-packages (from requests->transformers) (1.24.3)\n",
            "Requirement already satisfied: certifi>=2017.4.17 in /usr/local/lib/python3.7/dist-packages (from requests->transformers) (2022.9.24)\n",
            "Installing collected packages: tokenizers, huggingface-hub, transformers\n",
            "Successfully installed huggingface-hub-0.10.1 tokenizers-0.13.1 transformers-4.23.1\n",
            "Looking in indexes: https://pypi.org/simple, https://us-python.pkg.dev/colab-wheels/public/simple/\n",
            "Collecting sentencepiece==0.1.95\n",
            "  Downloading sentencepiece-0.1.95-cp37-cp37m-manylinux2014_x86_64.whl (1.2 MB)\n",
            "\u001b[K     |████████████████████████████████| 1.2 MB 32.5 MB/s \n",
            "\u001b[?25hInstalling collected packages: sentencepiece\n",
            "Successfully installed sentencepiece-0.1.95\n",
            "Looking in indexes: https://pypi.org/simple, https://us-python.pkg.dev/colab-wheels/public/simple/\n",
            "Requirement already satisfied: numpy in /usr/local/lib/python3.7/dist-packages (1.21.6)\n"
          ]
        }
      ],
      "source": [
        "!pip install transformers\n",
        "!pip install sentencepiece==0.1.95\n",
        "!pip install numpy"
      ]
    },
    {
      "cell_type": "markdown",
      "metadata": {
        "id": "cKx0Oll0Ui03"
      },
      "source": [
        "## 安装IndicNLP \n",
        "\n",
        "数据转换脚本"
      ]
    },
    {
      "cell_type": "code",
      "execution_count": 2,
      "metadata": {
        "colab": {
          "base_uri": "https://localhost:8080/"
        },
        "id": "00ZB6XXJUrbG",
        "outputId": "1a4cbc0f-ac00-4767-9a27-de9bd257348c"
      },
      "outputs": [
        {
          "output_type": "stream",
          "name": "stdout",
          "text": [
            "Cloning into 'indic_nlp_resources'...\n",
            "remote: Enumerating objects: 139, done.\u001b[K\n",
            "remote: Counting objects: 100% (13/13), done.\u001b[K\n",
            "remote: Compressing objects: 100% (13/13), done.\u001b[K\n",
            "remote: Total 139 (delta 2), reused 2 (delta 0), pack-reused 126\u001b[K\n",
            "Receiving objects: 100% (139/139), 149.77 MiB | 15.56 MiB/s, done.\n",
            "Resolving deltas: 100% (53/53), done.\n",
            "Looking in indexes: https://pypi.org/simple, https://us-python.pkg.dev/colab-wheels/public/simple/\n",
            "Collecting indic-nlp-library\n",
            "  Downloading indic_nlp_library-0.81-py3-none-any.whl (40 kB)\n",
            "\u001b[K     |████████████████████████████████| 40 kB 6.3 MB/s \n",
            "\u001b[?25hRequirement already satisfied: numpy in /usr/local/lib/python3.7/dist-packages (from indic-nlp-library) (1.21.6)\n",
            "Requirement already satisfied: pandas in /usr/local/lib/python3.7/dist-packages (from indic-nlp-library) (1.3.5)\n",
            "Collecting sphinx-rtd-theme\n",
            "  Downloading sphinx_rtd_theme-1.0.0-py2.py3-none-any.whl (2.8 MB)\n",
            "\u001b[K     |████████████████████████████████| 2.8 MB 47.2 MB/s \n",
            "\u001b[?25hCollecting sphinx-argparse\n",
            "  Downloading sphinx_argparse-0.3.2-py3-none-any.whl (12 kB)\n",
            "Collecting morfessor\n",
            "  Downloading Morfessor-2.0.6-py3-none-any.whl (35 kB)\n",
            "Requirement already satisfied: python-dateutil>=2.7.3 in /usr/local/lib/python3.7/dist-packages (from pandas->indic-nlp-library) (2.8.2)\n",
            "Requirement already satisfied: pytz>=2017.3 in /usr/local/lib/python3.7/dist-packages (from pandas->indic-nlp-library) (2022.4)\n",
            "Requirement already satisfied: six>=1.5 in /usr/local/lib/python3.7/dist-packages (from python-dateutil>=2.7.3->pandas->indic-nlp-library) (1.15.0)\n",
            "Requirement already satisfied: sphinx>=1.2.0 in /usr/local/lib/python3.7/dist-packages (from sphinx-argparse->indic-nlp-library) (1.8.6)\n",
            "Requirement already satisfied: snowballstemmer>=1.1 in /usr/local/lib/python3.7/dist-packages (from sphinx>=1.2.0->sphinx-argparse->indic-nlp-library) (2.2.0)\n",
            "Requirement already satisfied: setuptools in /usr/local/lib/python3.7/dist-packages (from sphinx>=1.2.0->sphinx-argparse->indic-nlp-library) (57.4.0)\n",
            "Requirement already satisfied: imagesize in /usr/local/lib/python3.7/dist-packages (from sphinx>=1.2.0->sphinx-argparse->indic-nlp-library) (1.4.1)\n",
            "Requirement already satisfied: sphinxcontrib-websupport in /usr/local/lib/python3.7/dist-packages (from sphinx>=1.2.0->sphinx-argparse->indic-nlp-library) (1.2.4)\n",
            "Requirement already satisfied: requests>=2.0.0 in /usr/local/lib/python3.7/dist-packages (from sphinx>=1.2.0->sphinx-argparse->indic-nlp-library) (2.23.0)\n",
            "Requirement already satisfied: alabaster<0.8,>=0.7 in /usr/local/lib/python3.7/dist-packages (from sphinx>=1.2.0->sphinx-argparse->indic-nlp-library) (0.7.12)\n",
            "Requirement already satisfied: packaging in /usr/local/lib/python3.7/dist-packages (from sphinx>=1.2.0->sphinx-argparse->indic-nlp-library) (21.3)\n",
            "Requirement already satisfied: babel!=2.0,>=1.3 in /usr/local/lib/python3.7/dist-packages (from sphinx>=1.2.0->sphinx-argparse->indic-nlp-library) (2.10.3)\n",
            "Requirement already satisfied: docutils<0.18,>=0.11 in /usr/local/lib/python3.7/dist-packages (from sphinx>=1.2.0->sphinx-argparse->indic-nlp-library) (0.17.1)\n",
            "Requirement already satisfied: Jinja2>=2.3 in /usr/local/lib/python3.7/dist-packages (from sphinx>=1.2.0->sphinx-argparse->indic-nlp-library) (2.11.3)\n",
            "Requirement already satisfied: Pygments>=2.0 in /usr/local/lib/python3.7/dist-packages (from sphinx>=1.2.0->sphinx-argparse->indic-nlp-library) (2.6.1)\n",
            "Requirement already satisfied: MarkupSafe>=0.23 in /usr/local/lib/python3.7/dist-packages (from Jinja2>=2.3->sphinx>=1.2.0->sphinx-argparse->indic-nlp-library) (2.0.1)\n",
            "Requirement already satisfied: certifi>=2017.4.17 in /usr/local/lib/python3.7/dist-packages (from requests>=2.0.0->sphinx>=1.2.0->sphinx-argparse->indic-nlp-library) (2022.9.24)\n",
            "Requirement already satisfied: urllib3!=1.25.0,!=1.25.1,<1.26,>=1.21.1 in /usr/local/lib/python3.7/dist-packages (from requests>=2.0.0->sphinx>=1.2.0->sphinx-argparse->indic-nlp-library) (1.24.3)\n",
            "Requirement already satisfied: idna<3,>=2.5 in /usr/local/lib/python3.7/dist-packages (from requests>=2.0.0->sphinx>=1.2.0->sphinx-argparse->indic-nlp-library) (2.10)\n",
            "Requirement already satisfied: chardet<4,>=3.0.2 in /usr/local/lib/python3.7/dist-packages (from requests>=2.0.0->sphinx>=1.2.0->sphinx-argparse->indic-nlp-library) (3.0.4)\n",
            "Requirement already satisfied: pyparsing!=3.0.5,>=2.0.2 in /usr/local/lib/python3.7/dist-packages (from packaging->sphinx>=1.2.0->sphinx-argparse->indic-nlp-library) (3.0.9)\n",
            "Requirement already satisfied: sphinxcontrib-serializinghtml in /usr/local/lib/python3.7/dist-packages (from sphinxcontrib-websupport->sphinx>=1.2.0->sphinx-argparse->indic-nlp-library) (1.1.5)\n",
            "Installing collected packages: sphinx-rtd-theme, sphinx-argparse, morfessor, indic-nlp-library\n",
            "Successfully installed indic-nlp-library-0.81 morfessor-2.0.6 sphinx-argparse-0.3.2 sphinx-rtd-theme-1.0.0\n"
          ]
        }
      ],
      "source": [
        "!git clone https://github.com/anoopkunchukuttan/indic_nlp_resources.git\n",
        "!pip install indic-nlp-library\n",
        "\n",
        "from indicnlp import common\n",
        "common.set_resources_path(\"/content/indic_nlp_resources\")\n",
        "\n",
        "from indicnlp import loader\n",
        "loader.load()\n",
        "from indicnlp.transliterate.unicode_transliterate import UnicodeIndicTransliterator"
      ]
    },
    {
      "cell_type": "markdown",
      "metadata": {
        "id": "ErwujUxpEsCk"
      },
      "source": [
        "## 加载tokenizer和model\n",
        "\n",
        "---\n",
        "\n"
      ]
    },
    {
      "cell_type": "code",
      "execution_count": 3,
      "metadata": {
        "id": "maYj-juF89p7",
        "colab": {
          "base_uri": "https://localhost:8080/",
          "height": 209,
          "referenced_widgets": [
            "1571d2b66858483b98588c99773bb34f",
            "ec57d3ffc0a6472ca83407b81f5eded9",
            "92564a79149b4d8fa9a3806f16d38dcb",
            "7a8d35c0056c418a8ab0ec3d30fbf010",
            "963d8aabf9f04472be7848326e1891d0",
            "4f9f724d480b412190bfbfff33b2b44d",
            "a577fe4c03b5425a94eb88c60b7fcbb9",
            "18387a28f6404ee8aab6565719f184d0",
            "e4cf1d6480754fb7bf068e0fd9e399a6",
            "7ce722da25184c06acf76d67944e0dce",
            "504fd014e0de45299c09acd2431d5c6d",
            "e59c63ce78b44dd59cd3bb9a3d96bedf",
            "d5ebf04bf777479ebd9e60ed8730be29",
            "6ae2f75fa5024ba9982538e2177afe02",
            "724b512f4d364052beaaf124bd40ae0a",
            "d27f7fa8d1d047fca8d77ae4f9e58f5e",
            "6869a4d6963e40aa8f28511a95e6ece6",
            "ba7404fde198455781fc54d79ef0dac5",
            "5e1a91a8c3a2415eb5d5355a9010b97c",
            "fa391f3efd9d462788dbf5f72203e931",
            "b7cca2c8c69f4f8dbb1a074219738719",
            "1004e5a1722b4efda82614c9adea5bc1",
            "1eb1edc0e08c4d7e9c72b138f22f5b4d",
            "23d50b8c43f14f08b83f9340c221630e",
            "12736b66c6eb41b9b0dc52c507778232",
            "cafb38ebf0ee48b7bac78c66de8cd729",
            "c9b894f4d08e473a8209fcfa794fde3b",
            "747de349c6514a1885a75dffdf0ce3fc",
            "4f45625ee0ad4ebbb5cf46a833a5406e",
            "5a1c8f4a985243788c8ea9d9bbae6b28",
            "8b35da3b9248469eae8d75d2f4df0680",
            "8f188b92d3e9423db46109930e5efde1",
            "17f1085c03424f6b915d82bde449829f",
            "bb1f7a77b6a74dd0a99e8a3936ef5418",
            "6a7cf029ae0f4e87b4cf114fea491882",
            "0891ae3c5e374a08a713f5b865c43837",
            "df6f429c8f0f494f8c792419d0948857",
            "e20f7455c7c74bdfa71d1be49116c05f",
            "1b43c417137542a9918158639513b649",
            "f9e3bd530ff34413b4b5441882ff6e7d",
            "5b2ceaced74f4a5285cd5e0d8bfbdc2a",
            "5246c737d9574b9b8cb68180a469cb82",
            "113fb4ad35404657bb7d6285514d9486",
            "501edbeca0e044b79847160c58a92cd8",
            "be9e62011fcc4c978f181478f367b912",
            "2befa485f37d4202a1687836d91b252c",
            "69832d3c67cd4fd3ba5c760e0f17569b",
            "f59193d826f14cceb55061e4470a0a93",
            "fdb739b3f4f841cd8c11912cb28e89e1",
            "ffc50d9f9810404496988bfe360eb336",
            "71415c27b341461ba243bcaffd3e6689",
            "7d72fec1fc13442eb79ba827745b4272",
            "b62da65c554f4c75b9c0b71639cf22be",
            "4e9a8e58c66c44ee9827c72d98101f2e",
            "406b985783124b0b8abd2bb15d25a482",
            "3f91482e334f481bb2b8b5bb42a74aa6",
            "93334291cd084a6bbd8379dcb5638a39",
            "a401eff00ff54afeb85b26a2fb897e37",
            "b712d2385044490687dc4e6fdb6adff1",
            "2036f5b94b204a08ac6a08bd864cff65",
            "b1308d8949d540f99daee543e9a18afb",
            "70cef8a0508340ddab5795b9e7961d6a",
            "1c4db3accd9b41f9a6de33b8a264afbe",
            "f20755f5a0d14997b877599b9888b73a",
            "ea27109a0f2049f39a661126943d0bac",
            "bb491e5e83aa46ecbac50d5d220c7887"
          ]
        },
        "outputId": "43706be5-264a-4d44-80c7-d9aa49c02593"
      },
      "outputs": [
        {
          "output_type": "display_data",
          "data": {
            "text/plain": [
              "Downloading:   0%|          | 0.00/1.90M [00:00<?, ?B/s]"
            ],
            "application/vnd.jupyter.widget-view+json": {
              "version_major": 2,
              "version_minor": 0,
              "model_id": "1571d2b66858483b98588c99773bb34f"
            }
          },
          "metadata": {}
        },
        {
          "output_type": "display_data",
          "data": {
            "text/plain": [
              "Downloading:   0%|          | 0.00/221 [00:00<?, ?B/s]"
            ],
            "application/vnd.jupyter.widget-view+json": {
              "version_major": 2,
              "version_minor": 0,
              "model_id": "e59c63ce78b44dd59cd3bb9a3d96bedf"
            }
          },
          "metadata": {}
        },
        {
          "output_type": "display_data",
          "data": {
            "text/plain": [
              "Downloading:   0%|          | 0.00/398 [00:00<?, ?B/s]"
            ],
            "application/vnd.jupyter.widget-view+json": {
              "version_major": 2,
              "version_minor": 0,
              "model_id": "1eb1edc0e08c4d7e9c72b138f22f5b4d"
            }
          },
          "metadata": {}
        },
        {
          "output_type": "display_data",
          "data": {
            "text/plain": [
              "Downloading:   0%|          | 0.00/498 [00:00<?, ?B/s]"
            ],
            "application/vnd.jupyter.widget-view+json": {
              "version_major": 2,
              "version_minor": 0,
              "model_id": "bb1f7a77b6a74dd0a99e8a3936ef5418"
            }
          },
          "metadata": {}
        },
        {
          "output_type": "display_data",
          "data": {
            "text/plain": [
              "Downloading:   0%|          | 0.00/832 [00:00<?, ?B/s]"
            ],
            "application/vnd.jupyter.widget-view+json": {
              "version_major": 2,
              "version_minor": 0,
              "model_id": "be9e62011fcc4c978f181478f367b912"
            }
          },
          "metadata": {}
        },
        {
          "output_type": "display_data",
          "data": {
            "text/plain": [
              "Downloading:   0%|          | 0.00/976M [00:00<?, ?B/s]"
            ],
            "application/vnd.jupyter.widget-view+json": {
              "version_major": 2,
              "version_minor": 0,
              "model_id": "3f91482e334f481bb2b8b5bb42a74aa6"
            }
          },
          "metadata": {}
        }
      ],
      "source": [
        "# Import all the necessary classes and initialize the tokenizer and model.\n",
        "from transformers import AlbertTokenizer, MBartForConditionalGeneration\n",
        "\n",
        "tokenizer = AlbertTokenizer.from_pretrained(\"ai4bharat/IndicBART\", do_lower_case=False, use_fast=False, keep_accents=True)\n",
        "\n",
        "model = MBartForConditionalGeneration.from_pretrained(\"ai4bharat/IndicBART\")"
      ]
    },
    {
      "cell_type": "markdown",
      "metadata": {
        "id": "ci_ykO_HEyt1"
      },
      "source": [
        "## tokenizer初始化"
      ]
    },
    {
      "cell_type": "code",
      "source": [
        "tokenizer"
      ],
      "metadata": {
        "id": "fHPGH6cdPzxr",
        "outputId": "2ac078a8-770b-4c4e-dafb-6c6675c732ac",
        "colab": {
          "base_uri": "https://localhost:8080/"
        }
      },
      "execution_count": 4,
      "outputs": [
        {
          "output_type": "execute_result",
          "data": {
            "text/plain": [
              "PreTrainedTokenizer(name_or_path='ai4bharat/IndicBART', vocab_size=64000, model_max_len=1000000000000000019884624838656, is_fast=False, padding_side='right', truncation_side='right', special_tokens={'bos_token': '[CLS]', 'eos_token': '[SEP]', 'unk_token': '<unk>', 'sep_token': '[SEP]', 'pad_token': '<pad>', 'cls_token': '[CLS]', 'mask_token': AddedToken(\"[MASK]\", rstrip=False, lstrip=True, single_word=False, normalized=True), 'additional_special_tokens': ['<s>', '</s>', '<2as>', '<2bn>', '<2en>', '<2gu>', '<2hi>', '<2kn>', '<2ml>', '<2mr>', '<2or>', '<2pa>', '<2ta>', '<2te>']})"
            ]
          },
          "metadata": {},
          "execution_count": 4
        }
      ]
    },
    {
      "cell_type": "code",
      "execution_count": 5,
      "metadata": {
        "id": "MjeHDSJ99IE1"
      },
      "outputs": [],
      "source": [
        "bos_id = tokenizer._convert_token_to_id_with_added_voc(\"<s>\")\n",
        "eos_id = tokenizer._convert_token_to_id_with_added_voc(\"</s>\")\n",
        "pad_id = tokenizer._convert_token_to_id_with_added_voc(\"<pad>\")\n",
        "# To get lang_id use any of ['<2as>', '<2bn>', '<2en>', '<2gu>', '<2hi>', '<2kn>', '<2ml>', '<2mr>', '<2or>', '<2pa>', '<2ta>', '<2te>']"
      ]
    },
    {
      "cell_type": "markdown",
      "metadata": {
        "id": "jkD30Xs1E5GK"
      },
      "source": [
        "## tokenizer 如何工作？\n",
        "tokenizer负责将单词分割成更小的单元。\n",
        "这是必需的，因此我们不需要大量的词汇表。\n",
        "大词汇意味着大模型。\n",
        "大模型意味着它很难使用。\n",
        "tokenizer也称为子词分割。"
      ]
    },
    {
      "cell_type": "code",
      "execution_count": 6,
      "metadata": {
        "colab": {
          "base_uri": "https://localhost:8080/"
        },
        "id": "LuUxyeLW9524",
        "outputId": "5645d28d-c212-4446-bd33-8d46b5f94301"
      },
      "outputs": [
        {
          "output_type": "stream",
          "name": "stdout",
          "text": [
            "Original input sentence: I am a boy\n",
            "Segmented input sentence: ['▁I', '▁am', '▁a', '▁boy']\n",
            "Input sentence as tensor:  tensor([[  466,  1981,    80, 25573]])\n",
            "Original output sentence: मैं एक लड़का हूँ\n",
            "Segmented output sentence: ['▁मैं', '▁एक', '▁लड़का', '▁हूँ']\n",
            "Output sentence as tensor: tensor([[  942,    43, 32720,  8384]])\n"
          ]
        }
      ],
      "source": [
        "# First tokenize the input and outputs. \n",
        "# The format below is how IndicBART was trained so the input should be \"Sentence </s> <2xx>\" where xx is the language code. \n",
        "# Similarly, the output should be \"<2yy> Sentence </s>\". \n",
        "\n",
        "input_sentence = \"I am a boy\"\n",
        "output_sentence = \"मैं एक लड़का हूँ\"\n",
        "\n",
        "# The input and output sentence is what the model needs for learning.\n",
        "# Current example is translation but consider the following examples:\n",
        "# Summarization: \n",
        "# Input is \"There was a child. She liked food. She decided to learn to make food. She became a world class chef. She won an award.\" \n",
        "# Output is \"A child learned cooking and won an award.\"\n",
        "# Paraphrasing: \n",
        "# Input is \"I love to eat food.\"\n",
        "# Output is \"I am a foodie\"\n",
        "\n",
        "inp = tokenizer(input_sentence, add_special_tokens=False, return_tensors=\"pt\", padding=True).input_ids\n",
        "\n",
        "out = tokenizer(output_sentence, add_special_tokens=False, return_tensors=\"pt\", padding=True).input_ids\n",
        "\n",
        "print(\"Original input sentence:\", input_sentence)\n",
        "print(\"Segmented input sentence:\", tokenizer.convert_ids_to_tokens(inp[0]))\n",
        "print(\"Input sentence as tensor: \", inp)\n",
        "print(\"Original output sentence:\", output_sentence)\n",
        "print(\"Segmented output sentence:\", tokenizer.convert_ids_to_tokens(out[0]))\n",
        "print(\"Output sentence as tensor:\", out)"
      ]
    },
    {
      "cell_type": "markdown",
      "metadata": {
        "id": "9-26ZWCTVHD4"
      },
      "source": [
        "## 它如何处理非梵文和非罗马语言？"
      ]
    },
    {
      "cell_type": "code",
      "execution_count": 7,
      "metadata": {
        "colab": {
          "base_uri": "https://localhost:8080/"
        },
        "id": "VUdBaBnGVM4y",
        "outputId": "bbfd3c3f-01d4-423c-c602-2d3bff1fa25d"
      },
      "outputs": [
        {
          "output_type": "stream",
          "name": "stdout",
          "text": [
            "Original input sentence: நான் ஒரு பையன்\n",
            "Segmented input sentence: ['▁', 'ந', 'ா', 'ன', '்', '▁', 'ஒ', 'ர', 'ு', '▁', 'ப', 'ை', 'ய', 'ன', '்']\n",
            "Input sentence as tensor:  tensor([[   41, 60827, 59856, 60093, 59479,    41, 62010, 59792, 59655,    41,\n",
            "         59785, 60095, 59980, 60093, 59479]])\n"
          ]
        }
      ],
      "source": [
        "input_sentence = \"நான் ஒரு பையன்\"\n",
        "inp = tokenizer(input_sentence, add_special_tokens=False, return_tensors=\"pt\", padding=True).input_ids\n",
        "print(\"Original input sentence:\", input_sentence)\n",
        "print(\"Segmented input sentence:\", tokenizer.convert_ids_to_tokens(inp[0]))\n",
        "print(\"Input sentence as tensor: \", inp)\n"
      ]
    },
    {
      "cell_type": "markdown",
      "metadata": {
        "id": "DjlMSTSrV9o3"
      },
      "source": [
        "## 那看起来不对。 为什么？\n",
        "\n",
        "IndicBART 是单脚本模型。 因此，让我们使用 IndicNLP 库转换为梵文。"
      ]
    },
    {
      "cell_type": "code",
      "execution_count": 8,
      "metadata": {
        "colab": {
          "base_uri": "https://localhost:8080/"
        },
        "id": "mtpxrM6tWIDS",
        "outputId": "600e4b14-0e1b-43a6-cdc8-53a2547e098e"
      },
      "outputs": [
        {
          "output_type": "stream",
          "name": "stdout",
          "text": [
            "Original input sentence: नाऩ् ऒरु पैयऩ्\n",
            "Segmented input sentence: ['▁नाऩ्', '▁ऒरु', '▁प', 'ैयऩ्']\n",
            "Input sentence as tensor:  tensor([[ 1170,   140,    26, 39188]])\n"
          ]
        }
      ],
      "source": [
        "input_sentence = UnicodeIndicTransliterator.transliterate(\"நான் ஒரு பையன்\",\"ta\",\"hi\")\n",
        "inp = tokenizer(input_sentence, add_special_tokens=False, return_tensors=\"pt\", padding=True).input_ids\n",
        "print(\"Original input sentence:\", input_sentence)\n",
        "print(\"Segmented input sentence:\", tokenizer.convert_ids_to_tokens(inp[0]))\n",
        "print(\"Input sentence as tensor: \", inp)"
      ]
    },
    {
      "cell_type": "markdown",
      "metadata": {
        "id": "kBq8EQthWSQa"
      },
      "source": [
        "## 好多了！ 现在我们将使用印地语示例！\n",
        "但是，如果您打算使用非梵文和非罗马文字语言，那么不要忘记音译。 另外，完成后，不要忘记重新音译为原始语言。"
      ]
    },
    {
      "cell_type": "markdown",
      "metadata": {
        "id": "gsYzz62UFRcc"
      },
      "source": [
        "## 让我们看看 IndicBART 模型能做什么。"
      ]
    },
    {
      "cell_type": "code",
      "execution_count": 9,
      "metadata": {
        "colab": {
          "base_uri": "https://localhost:8080/"
        },
        "id": "j9IAYmwm-0Pl",
        "outputId": "98127578-0d6b-4de4-d3a7-c3777cce15ec"
      },
      "outputs": [
        {
          "output_type": "stream",
          "name": "stdout",
          "text": [
            "Model output as tensor: tensor([[64006,   466,  1981,    80, 25573, 64001]], device='cuda:0')\n",
            "Model output as segmented sentence: ['<2hi>', '▁I', '▁am', '▁a', '▁boy', '</s>']\n",
            "Models actual output: I am a boy\n"
          ]
        }
      ],
      "source": [
        "input_sentence = \"I am a boy </s> <2en>\" ## The last 2 tokens are needed by IndicBART to explicitly mark the end of the sentence and indicate the language.\n",
        "inp = tokenizer(input_sentence, add_special_tokens=False, return_tensors=\"pt\", padding=True).input_ids\n",
        "\n",
        "# If you have a gpu then move the model to a gpu. For now we do!\n",
        "\n",
        "model.to(0)\n",
        "\n",
        "# Move the tensors to gpu too else you get a boo boo\n",
        "\n",
        "inp=inp.to(0)\n",
        "out=out.to(0)\n",
        "\n",
        "# For generation we should set the model in evaluation mode. No dropouts.\n",
        "\n",
        "model.eval() # Set dropouts to zero\n",
        "\n",
        "# Pass the input and get the output\n",
        "\n",
        "model_output=model.generate(inp, \n",
        "                            use_cache=True, \n",
        "                            num_beams=4, \n",
        "                            max_length=20, \n",
        "                            min_length=1, \n",
        "                            early_stopping=True, \n",
        "                            pad_token_id=pad_id, \n",
        "                            bos_token_id=bos_id, \n",
        "                            eos_token_id=eos_id, \n",
        "                            decoder_start_token_id=tokenizer._convert_token_to_id_with_added_voc(\"<2hi>\"))\n",
        "\n",
        "# Play with num_beams, max_length, min_length. \n",
        "# num_beams increases the search complexity and generates multiple alternatives during generation.\n",
        "# Note decoder_start_token_id=tokenizer._convert_token_to_id_with_added_voc(\"<2en>\")\n",
        "# Change <2hi> to <2xx> where xx is the desired target language.\n",
        "\n",
        "# Output is a tensor and we need to convert it back into a sentence.\n",
        "\n",
        "print(\"Model output as tensor:\", model_output)\n",
        "\n",
        "# What is this in tokens?\n",
        "\n",
        "print(\"Model output as segmented sentence:\", tokenizer.convert_ids_to_tokens(model_output[0]))\n",
        "\n",
        "# Decode using the tokenizer to get output strings.\n",
        "\n",
        "decoded_output=tokenizer.decode(model_output[0], skip_special_tokens=True, clean_up_tokenization_spaces=False)\n",
        "\n",
        "print(\"Models actual output:\", decoded_output) \n"
      ]
    },
    {
      "cell_type": "markdown",
      "metadata": {
        "id": "6pyZ_yDKFXBW"
      },
      "source": [
        "## 那很尴尬。 让我们尝试使用印地语作为输入。"
      ]
    },
    {
      "cell_type": "code",
      "execution_count": null,
      "metadata": {
        "colab": {
          "base_uri": "https://localhost:8080/"
        },
        "id": "b89gQiaMELWG",
        "outputId": "4899f6fb-8a63-4d36-c7c1-1be013300885"
      },
      "outputs": [
        {
          "output_type": "stream",
          "name": "stdout",
          "text": [
            "Model output as tensor: tensor([[64006,   942,    43, 32720,  8384, 64001]], device='cuda:0')\n",
            "Model output as segmented sentence: ['<2hi>', '▁मैं', '▁एक', '▁लड़का', '▁हूँ', '</s>']\n",
            "Models actual output: मैं एक लड़का हूँ\n"
          ]
        }
      ],
      "source": [
        "# Tokenize \n",
        "hin_inp = tokenizer(\"मैं एक लड़का हूँ </s> <2hi>\", add_special_tokens=False, return_tensors=\"pt\", padding=True).input_ids.to(0)\n",
        "\n",
        "# Generate\n",
        "\n",
        "model_output=model.generate(hin_inp, \n",
        "                            use_cache=True, \n",
        "                            num_beams=4, \n",
        "                            max_length=20, \n",
        "                            min_length=1, \n",
        "                            early_stopping=True, \n",
        "                            pad_token_id=pad_id, \n",
        "                            bos_token_id=bos_id, \n",
        "                            eos_token_id=eos_id, \n",
        "                            decoder_start_token_id=tokenizer._convert_token_to_id_with_added_voc(\"<2hi>\"))\n",
        "# Output is a tensor and we need to convert it back into a sentence.\n",
        "\n",
        "print(\"Model output as tensor:\", model_output)\n",
        "\n",
        "# What is this in tokens?\n",
        "\n",
        "print(\"Model output as segmented sentence:\", tokenizer.convert_ids_to_tokens(model_output[0]))\n",
        "\n",
        "# Decode using the tokenizer to get output strings.\n",
        "\n",
        "decoded_output=tokenizer.decode(model_output[0], skip_special_tokens=True, clean_up_tokenization_spaces=False)\n",
        "\n",
        "print(\"Models actual output:\", decoded_output) \n"
      ]
    },
    {
      "cell_type": "markdown",
      "metadata": {
        "id": "RrQuiDZOHmqu"
      },
      "source": [
        "## 等一下！\n",
        "IndicBART 没有对任何任务进行微调。 它现在不能翻译或总结或任何东西。\n",
        "\n",
        "但它可以做一些简单的事情。 让我们看看它是什么。"
      ]
    },
    {
      "cell_type": "code",
      "execution_count": 10,
      "metadata": {
        "colab": {
          "base_uri": "https://localhost:8080/"
        },
        "id": "v8NK7DLAGnBE",
        "outputId": "e66cd024-6537-441d-d4ef-6bab078f4b44"
      },
      "outputs": [
        {
          "output_type": "stream",
          "name": "stdout",
          "text": [
            "Original input sentence: मैं एक [MASK] हूँ </s> <2hi>\n",
            "Segmented input sentence: ['▁मैं', '▁एक', '[MASK]', '▁हूँ', '</s>', '<2hi>']\n",
            "Input sentence as tensor:  tensor([[  942,    43,     4,  8384, 64001, 64006]], device='cuda:0')\n",
            "Model output as tensor: tensor([[64006,   942,    43,  6540,  8384, 64001]], device='cuda:0')\n",
            "Model output as segmented sentence: ['<2hi>', '▁मैं', '▁एक', '▁कलाकार', '▁हूँ', '</s>']\n",
            "Models actual output: मैं एक कलाकार हूँ\n"
          ]
        }
      ],
      "source": [
        "# Tokenize \n",
        "hindi_input_sentence = \"मैं एक [MASK] हूँ </s> <2hi>\"\n",
        "hin_inp = tokenizer(hindi_input_sentence, add_special_tokens=False, return_tensors=\"pt\", padding=True).input_ids.to(0)\n",
        "\n",
        "# What does this look like?\n",
        "\n",
        "print(\"Original input sentence:\", hindi_input_sentence)\n",
        "print(\"Segmented input sentence:\", tokenizer.convert_ids_to_tokens(hin_inp[0]))\n",
        "print(\"Input sentence as tensor: \", hin_inp)\n",
        "\n",
        "# Generate\n",
        "\n",
        "model_output=model.generate(hin_inp, use_cache=True, num_beams=4, max_length=20, min_length=1, early_stopping=True, pad_token_id=pad_id, bos_token_id=bos_id, eos_token_id=eos_id, decoder_start_token_id=tokenizer._convert_token_to_id_with_added_voc(\"<2hi>\"))\n",
        "# Output is a tensor and we need to convert it back into a sentence.\n",
        "\n",
        "print(\"Model output as tensor:\", model_output)\n",
        "\n",
        "# What is this in tokens?\n",
        "\n",
        "print(\"Model output as segmented sentence:\", tokenizer.convert_ids_to_tokens(model_output[0]))\n",
        "\n",
        "# Decode using the tokenizer to get output strings.\n",
        "\n",
        "decoded_output=tokenizer.decode(model_output[0], skip_special_tokens=True, clean_up_tokenization_spaces=False)\n",
        "\n",
        "print(\"Models actual output:\", decoded_output) \n"
      ]
    },
    {
      "cell_type": "markdown",
      "metadata": {
        "id": "62Hu4N1hIdVu"
      },
      "source": [
        "## 它可以预测丢失的（MASKED）单词！\n",
        "它还能做什么？ 它可以为 MASK 提供多个替代品吗？\n"
      ]
    },
    {
      "cell_type": "code",
      "execution_count": 11,
      "metadata": {
        "colab": {
          "base_uri": "https://localhost:8080/"
        },
        "id": "H9ZdZ-9XGnVF",
        "outputId": "0737be4f-ac06-4ab5-d671-afdb74f3bf90"
      },
      "outputs": [
        {
          "output_type": "stream",
          "name": "stdout",
          "text": [
            "Output  0\n",
            "Model output as tensor: tensor([64006,   942,    43,  6540,  8384, 64001], device='cuda:0')\n",
            "Model output as segmented sentence: ['<2hi>', '▁मैं', '▁एक', '▁कलाकार', '▁हूँ', '</s>']\n",
            "Models actual output: मैं एक कलाकार हूँ\n",
            "Output  1\n",
            "Model output as tensor: tensor([64006,   942,    43,  4316,  8384, 64001], device='cuda:0')\n",
            "Model output as segmented sentence: ['<2hi>', '▁मैं', '▁एक', '▁पत्रकार', '▁हूँ', '</s>']\n",
            "Models actual output: मैं एक पत्रकार हूँ\n",
            "Output  2\n",
            "Model output as tensor: tensor([64006,   942,    43,   530,  8384, 64001], device='cuda:0')\n",
            "Model output as segmented sentence: ['<2hi>', '▁मैं', '▁एक', '▁महिला', '▁हूँ', '</s>']\n",
            "Models actual output: मैं एक महिला हूँ\n",
            "Output  3\n",
            "Model output as tensor: tensor([64006,   942,    43, 18460,  8384, 64001], device='cuda:0')\n",
            "Model output as segmented sentence: ['<2hi>', '▁मैं', '▁एक', '▁इंसान', '▁हूँ', '</s>']\n",
            "Models actual output: मैं एक इंसान हूँ\n"
          ]
        }
      ],
      "source": [
        "# Lets use num_return_sequences=4 to get all 4 options that the model generated.\n",
        "\n",
        "model_output=model.generate(hin_inp, use_cache=True, num_beams=4, max_length=20, min_length=1, num_return_sequences=4, early_stopping=True, pad_token_id=pad_id, bos_token_id=bos_id, eos_token_id=eos_id, decoder_start_token_id=tokenizer._convert_token_to_id_with_added_voc(\"<2hi>\"))\n",
        "\n",
        "for i, mod_out in enumerate(model_output):\n",
        "  print(\"Output \", i)\n",
        "  print(\"Model output as tensor:\", mod_out)\n",
        "\n",
        "  print(\"Model output as segmented sentence:\", tokenizer.convert_ids_to_tokens(mod_out))\n",
        "\n",
        "  decoded_output=tokenizer.decode(mod_out, skip_special_tokens=True, clean_up_tokenization_spaces=False)\n",
        "\n",
        "  print(\"Models actual output:\", decoded_output) \n"
      ]
    },
    {
      "cell_type": "markdown",
      "metadata": {
        "id": "KZDQBO_5JcoB"
      },
      "source": [
        "## Yes it can!\n",
        "\n",
        "What about for English?"
      ]
    },
    {
      "cell_type": "code",
      "execution_count": null,
      "metadata": {
        "colab": {
          "base_uri": "https://localhost:8080/"
        },
        "id": "Re7Gokr3HETs",
        "outputId": "1162584b-3389-4950-c389-11f25d4a2e4f"
      },
      "outputs": [
        {
          "output_type": "stream",
          "name": "stdout",
          "text": [
            "Output  0\n",
            "Model output as tensor: tensor([64004,   466,  1981,    80,  9684,     6, 64001,     0,     0],\n",
            "       device='cuda:0')\n",
            "Model output as segmented sentence: ['<2en>', '▁I', '▁am', '▁a', '▁woman', '.', '</s>', '<pad>', '<pad>']\n",
            "Models actual output: I am a woman.\n",
            "Output  1\n",
            "Model output as tensor: tensor([64004,   466,  1981,    80, 17225,     6, 64001,     0,     0],\n",
            "       device='cuda:0')\n",
            "Model output as segmented sentence: ['<2en>', '▁I', '▁am', '▁a', '▁student', '.', '</s>', '<pad>', '<pad>']\n",
            "Models actual output: I am a student.\n",
            "Output  2\n",
            "Model output as tensor: tensor([64004,   466,  1981,    80, 36817,     6, 64001,     0,     0],\n",
            "       device='cuda:0')\n",
            "Model output as segmented sentence: ['<2en>', '▁I', '▁am', '▁a', '▁doctor', '.', '</s>', '<pad>', '<pad>']\n",
            "Models actual output: I am a doctor.\n",
            "Output  3\n",
            "Model output as tensor: tensor([64004,   466,  1981,    80,    41, 26150, 12172,  6584, 64001],\n",
            "       device='cuda:0')\n",
            "Model output as segmented sentence: ['<2en>', '▁I', '▁am', '▁a', '▁', 'poli', 'tic', 'ian', '</s>']\n",
            "Models actual output: I am a politician\n"
          ]
        }
      ],
      "source": [
        "input_sentence = \"I am a [MASK] </s> <2en>\"\n",
        "inp = tokenizer(input_sentence, add_special_tokens=False, return_tensors=\"pt\", padding=True).input_ids.to(0)\n",
        "\n",
        "model_output=model.generate(inp, use_cache=True, num_beams=4, max_length=20, min_length=1, num_return_sequences=4, \n",
        "                            early_stopping=True, pad_token_id=pad_id, bos_token_id=bos_id, eos_token_id=eos_id, \n",
        "                            decoder_start_token_id=tokenizer._convert_token_to_id_with_added_voc(\"<2en>\"))\n",
        "\n",
        "for i, mod_out in enumerate(model_output):\n",
        "  print(\"Output \", i)\n",
        "  print(\"Model output as tensor:\", mod_out)\n",
        "\n",
        "  print(\"Model output as segmented sentence:\", tokenizer.convert_ids_to_tokens(mod_out))\n",
        "\n",
        "  decoded_output=tokenizer.decode(mod_out, skip_special_tokens=True, clean_up_tokenization_spaces=False)\n",
        "\n",
        "  print(\"Models actual output:\", decoded_output) \n"
      ]
    },
    {
      "cell_type": "markdown",
      "metadata": {
        "id": "Pvou-ytAJ257"
      },
      "source": [
        "## So what is IndicBART?\n",
        "\n",
        "It is a pre-trained model.\n",
        "It was trained with \"corrupted\" sentences as input and actual sentences as output.\n",
        "Corruption --> Replace tokens or phrases with [MASK]"
      ]
    },
    {
      "cell_type": "markdown",
      "metadata": {
        "id": "r2dfhDHUKKtN"
      },
      "source": [
        "## How do I make IndicBART do translation?\n",
        "\n",
        "You fine-tune it on parallel data.\n",
        "Parallel data looks like:\n",
        "\n",
        "I am a boy ||| मैं एक लड़का हूँ\n",
        "\n",
        "I love food ||| मुझे खाना पसंद हैं \n",
        "\n",
        "If you want summarization then your data has to look like:\n",
        "\n",
        "There was a child. She liked food. She decided to learn to make food. She became a world class chef. She won an award. |||  A child learned cooking and won an award.\n",
        "\n"
      ]
    },
    {
      "cell_type": "markdown",
      "metadata": {
        "id": "cy0RjTbyLdsK"
      },
      "source": [
        "## Lets train a model to do translation.\n",
        "\n",
        "First lets get some parallel corpora and print the top 10 lines."
      ]
    },
    {
      "cell_type": "code",
      "execution_count": null,
      "metadata": {
        "colab": {
          "base_uri": "https://localhost:8080/"
        },
        "id": "G4ez9D_gHFqD",
        "outputId": "fe46851e-62ed-4ea0-f775-d95298b23f1e"
      },
      "outputs": [
        {
          "output_type": "stream",
          "name": "stdout",
          "text": [
            "--2022-07-28 09:45:02--  https://object.pouta.csc.fi/OPUS-TED2020/v1/moses/en-hi.txt.zip\n",
            "Resolving object.pouta.csc.fi (object.pouta.csc.fi)... 86.50.254.18, 86.50.254.19\n",
            "Connecting to object.pouta.csc.fi (object.pouta.csc.fi)|86.50.254.18|:443... connected.\n",
            "HTTP request sent, awaiting response... 200 OK\n",
            "Length: 3784055 (3.6M) [application/zip]\n",
            "Saving to: ‘en-hi.txt.zip’\n",
            "\n",
            "en-hi.txt.zip       100%[===================>]   3.61M  3.39MB/s    in 1.1s    \n",
            "\n",
            "2022-07-28 09:45:04 (3.39 MB/s) - ‘en-hi.txt.zip’ saved [3784055/3784055]\n",
            "\n",
            "Archive:  en-hi.txt.zip\n",
            "  inflating: README                  \n",
            "  inflating: LICENSE                 \n",
            "  inflating: TED2020.en-hi.en        \n",
            "  inflating: TED2020.en-hi.hi        \n",
            "  inflating: TED2020.en-hi.xml       \n",
            "en-hi.txt.zip\t     LICENSE  sample_data\tTED2020.en-hi.hi\n",
            "indic_nlp_resources  README   TED2020.en-hi.en\tTED2020.en-hi.xml\n",
            "Thank you so much, Chris. \n",
            "And it's truly a great honor to have the opportunity to come to this stage twice; I'm extremely grateful. \n",
            "I have been blown away by this conference, and I want to thank all of you for the many nice comments about what I had to say the other night. \n",
            "And I say that sincerely, partly because (Mock sob) I need that. \n",
            "(Laughter) Put yourselves in my position. \n",
            "(Laughter) I flew on Air Force Two for eight years. \n",
            "(Laughter) Now I have to take off my shoes or boots to get on an airplane! \n",
            "(Laughter) (Applause) I'll tell you one quick story to illustrate what that's been like for me. \n",
            "(Laughter) It's a true story -- every bit of this is true. \n",
            "Soon after Tipper and I left the -- (Mock sob) White House -- (Laughter) we were driving from our home in Nashville to a little farm we have 50 miles east of Nashville. \n",
            "बहुत बहुत धन्यवाद,क्रिस. \n",
            "और यह सच में एक बड़ा सम्मान है कि मुझे इस मंच पर दोबारा आने का मौका मिला. मैं बहुत आभारी हूँ \n",
            "मैं इस सम्मलेन से बहुत आश्चर्यचकित हो गया हूँ, और मैं आप सबको धन्यवाद कहना चाहता हूँ उन सभी अच्छी टिप्पणियों के लिए, जो आपने मेरी पिछली रात के भाषण पर करीं. \n",
            "और मैं बहुत इमानदारी से कहता हूँ, आंशिक रूप से इसलिए क्यूंकि -- (झूठे आंसू) -- मुझे इनकी ज़रुरत है (हँसना) . \n",
            "आप अपने आप को मेरी स्थिति में रखें ! \n",
            "मैं आठ साल तक उप-राष्ट्रपति था \n",
            "अब हवाई जहाज़ पर चढ़ने के लिए, मुझे अपने जूते उतारने पड़ते हैं. \n",
            "(हंसना) (तालियां) मुझे कैसा मह्सूस हो रह है, इस्के लिये मै आपको एक छोटी कहानी सुनाता हूँ. \n",
            "यह एक सच्ची कहानी है. इसका हर एक शब्द सच है \n",
            "टिप्पर और मेरे छोड़ने के ठीक बाद --(झूठे आंसू)-- व्हाइट हाउस --(हँसना )-- हम अपने नैशविल के घर से अपने एक छोटे से फार्म की तरफ गाडी में जा रहे थे नैषविल से पचास मील पूरब में \n",
            "Number of lines in the corpus:\n",
            "   47633 TED2020.en-hi.en\n",
            "   47633 TED2020.en-hi.hi\n",
            "   95266 total\n"
          ]
        }
      ],
      "source": [
        "!rm -rf en-hi.txt.zip TED* README LICENSE\n",
        "!wget https://object.pouta.csc.fi/OPUS-TED2020/v1/moses/en-hi.txt.zip\n",
        "!unzip en-hi.txt.zip\n",
        "!ls\n",
        "!head TED2020.en-hi.en\n",
        "!head TED2020.en-hi.hi\n",
        "!echo Number of lines in the corpus:\n",
        "!wc -l TED2020.en-hi.??"
      ]
    },
    {
      "cell_type": "markdown",
      "metadata": {
        "id": "uSraMSHDM6kr"
      },
      "source": [
        "## Now we have a nice sized parallel corpus to train our translation model.\n",
        "\n",
        "Lets create a few important functions and then go for it."
      ]
    },
    {
      "cell_type": "code",
      "execution_count": null,
      "metadata": {
        "id": "uWwuLXfaM5GU"
      },
      "outputs": [],
      "source": [
        "## Batching\n",
        "import sys\n",
        "import random\n",
        "import numpy as np\n",
        "import torch\n",
        "\n",
        "def yield_corpus_indefinitely_bi(corpus, language):\n",
        "    \"\"\"This shuffles the corpus at the beginning of each epoch and returns sentences indefinitely.\"\"\"\n",
        "    epoch_counter = 0\n",
        "    num_lines = len(corpus)\n",
        "    num_sentences_before_sort = 20000\n",
        "    num_sorted_segments = (num_lines // num_sentences_before_sort) + 1\n",
        "    while True:\n",
        "        print(\"Shuffling corpus:\", language)\n",
        "        random.shuffle(corpus)\n",
        "        for src_line, tgt_line in corpus:\n",
        "            yield src_line, tgt_line\n",
        "        epoch_counter += 1\n",
        "        print(\"Finished epoch\", epoch_counter, \"for language:\", language)\n",
        "    return None, None ## We should never reach this point.\n",
        "\n",
        "\n",
        "def generate_batches_bilingual(tok, num_batches, is_summarization=False, batch_size=16, src_lang=\"en\", tgt_lang=\"hi\", src_file_prefix=\"TED2020.en-hi\", tgt_file_prefix=\"TED2020.en-hi\"):\n",
        "    \"\"\"Generates the source, target and source attention masks for the training set. \n",
        "    The source and target sentences are ignored if empty and are truncated if longer than a \n",
        "    threshold. The batch size in this context is the maximum number of tokens in the batch post padding.\"\"\"\n",
        "    batch_count = 0\n",
        "    mask_tok = \"[MASK]\"\n",
        "\n",
        "    language_list = [src_lang+\"-\"+tgt_lang]\n",
        "    print(\"Training for:\", language_list)\n",
        "    src_file_content = open(src_file_prefix+\".\"+src_lang).readlines()\n",
        "    tgt_file_content = open(tgt_file_prefix+\".\"+tgt_lang).readlines()\n",
        "    file_content = list(zip(src_file_content, tgt_file_content))\n",
        "    file_iterator = yield_corpus_indefinitely_bi(file_content, src_lang+\"-\"+tgt_lang)\n",
        "    slang = \"<2\"+src_lang+\">\"\n",
        "    tlang = \"<2\"+tgt_lang+\">\"\n",
        "            \n",
        "    while batch_count != num_batches:\n",
        "        curr_batch_count = 0\n",
        "        encoder_input_batch = []\n",
        "        decoder_input_batch = []\n",
        "        decoder_label_batch = []\n",
        "        batch_count += 1\n",
        "        max_src_sent_len = 0\n",
        "        max_tgt_sent_len = 0\n",
        "        sents_in_batch = 0\n",
        "        while True:\n",
        "            src_sent, tgt_sent = next(file_iterator)\n",
        "            src_sent = src_sent.strip()\n",
        "            tgt_sent = tgt_sent.strip()\n",
        "            ## Uncomment the following block for non-Devanagari non-Romanic languages.\n",
        "            # if slang != \"<2en>\" and slang != \"<2hi>\": # Transliterate to Devanagari\n",
        "            #     src_sent = UnicodeIndicTransliterator.transliterate(src_sent, slang[2:4], \"hi\")\n",
        "            # if tlang != \"<2en>\" and tlang != \"<2hi>\": # Transliterate to Devanagari\n",
        "            #     tgt_sent = UnicodeIndicTransliterator.transliterate(tgt_sent, tlang[2:4], \"hi\")\n",
        "            src_sent_split = src_sent.split(\" \")\n",
        "            tgt_sent_split = tgt_sent.split(\" \")\n",
        "            tgt_sent_len = len(tgt_sent_split)\n",
        "            src_sent_len = len(src_sent_split)\n",
        "            \n",
        "            if src_sent_len < 1 or tgt_sent_len < 1:\n",
        "                continue\n",
        "            else:   # Initial truncation\n",
        "                if src_sent_len >= 100:\n",
        "                    src_sent_split = src_sent_split[:100]\n",
        "                    src_sent = \" \".join(src_sent_split)\n",
        "                    src_sent_len = 100\n",
        "                if tgt_sent_len >= 100:\n",
        "                    tgt_sent_split = tgt_sent_split[:100]\n",
        "                    tgt_sent = \" \".join(tgt_sent_split)\n",
        "                    tgt_sent_len = 100\n",
        "            \n",
        "            if (slang == tlang and not is_summarization): ## Copying task should DEFINITELY use source masking unless we are doing summarization. We wont bother using this condition for cross distillation. In fact a single condition based on a flag should be sufficient but I am too lazy to make a change. Come fight me if you disagree.\n",
        "                mask_percent = random.uniform(0.3, 0.4)\n",
        "                mask_count = 0\n",
        "                max_mask_count = int(mask_percent*src_sent_len)\n",
        "                spans_to_mask = list(np.random.poisson(3.5, 1000))\n",
        "                curr_sent_len = src_sent_len\n",
        "                while mask_count < max_mask_count:\n",
        "                    try:\n",
        "                        span_to_mask = spans_to_mask[0]\n",
        "                        del spans_to_mask[0]\n",
        "                        if span_to_mask > (max_mask_count-mask_count): ## Cant mask more than the allowable number of tokens.\n",
        "                            continue\n",
        "                        idx_to_mask = random.randint(0, (curr_sent_len-1)-(span_to_mask-1))\n",
        "                        if mask_tok not in src_sent_split[idx_to_mask:idx_to_mask+span_to_mask]:\n",
        "                            actually_masked_length = len(src_sent_split[idx_to_mask:idx_to_mask+span_to_mask]) ## If at the end of the sentence then we have likely masked fewer tokens.\n",
        "                            src_sent_split[idx_to_mask:idx_to_mask+span_to_mask] = [mask_tok]\n",
        "                            mask_count += actually_masked_length # We assume that with a low probability there are mask insertions when span lengths are 0 which may cause more mask tokens than planned. I have decided not to count these insersions towards the maximum maskable limit. This means that the total number of mask tokens will be a bit higher than what it should be. \n",
        "                            curr_sent_len -= (actually_masked_length-1)\n",
        "                    except:\n",
        "                        break ## If we cannot get a properly masked sentence despite all our efforts then we just give up and continue with what we have so far.\n",
        "                src_sent = \" \".join(src_sent_split)\n",
        "\n",
        "            \n",
        "            iids = tok(src_sent + \" </s> \" + slang, add_special_tokens=False, return_tensors=\"pt\").input_ids\n",
        "            curr_src_sent_len = len(iids[0])\n",
        "            if curr_src_sent_len > 256:\n",
        "                src_sent = tok.decode(iids[0][0:256-2], skip_special_tokens=True, clean_up_tokenization_spaces=False)\n",
        "                curr_src_sent_len = 256\n",
        "            \n",
        "            iids = tok(tlang + \" \" + tgt_sent, add_special_tokens=False, return_tensors=\"pt\").input_ids\n",
        "            curr_tgt_sent_len = len(iids[0])\n",
        "            if curr_tgt_sent_len > 256:\n",
        "                tgt_sent = tok.decode(iids[0][1:256], skip_special_tokens=True, clean_up_tokenization_spaces=False)\n",
        "                curr_tgt_sent_len = 256\n",
        "            \n",
        "            \n",
        "            encoder_input_batch.append(src_sent + \" </s> \" + slang)\n",
        "            decoder_input_batch.append(tlang + \" \" + tgt_sent)\n",
        "            decoder_label_batch.append(tgt_sent + \" </s>\")\n",
        "            sents_in_batch += 1\n",
        "            if sents_in_batch == batch_size:\n",
        "                    break\n",
        "                \n",
        "        input_ids = tok(encoder_input_batch, add_special_tokens=False, return_tensors=\"pt\", padding=True).input_ids\n",
        "        input_masks = (input_ids != tok.pad_token_id).int()\n",
        "        decoder_input_ids = tok(decoder_input_batch, add_special_tokens=False, return_tensors=\"pt\", padding=True).input_ids\n",
        "        labels = tok(decoder_label_batch, add_special_tokens=False, return_tensors=\"pt\", padding=True).input_ids\n",
        "        yield input_ids, input_masks, decoder_input_ids, labels\n",
        "\n",
        "## Loss\n",
        "\n",
        "def label_smoothed_nll_loss(lprobs, target, epsilon, ignore_index=None):\n",
        "    \"\"\"From fairseq. This returns the label smoothed cross entropy loss.\"\"\"\n",
        "    if target.dim() == lprobs.dim() - 1:\n",
        "        target = target.unsqueeze(-1)\n",
        "    nll_loss = -lprobs.gather(dim=-1, index=target)\n",
        "    smooth_loss = -lprobs.sum(dim=-1, keepdim=True)\n",
        "    if ignore_index is not None:\n",
        "        pad_mask = target.eq(ignore_index)\n",
        "        nll_loss.masked_fill_(pad_mask, 0.0)\n",
        "        smooth_loss.masked_fill_(pad_mask, 0.0)\n",
        "        denominator = (1.0 - 1.0*pad_mask)\n",
        "        denominator = denominator.sum()\n",
        "    else:\n",
        "        nll_loss = nll_loss.squeeze(-1)\n",
        "        smooth_loss = smooth_loss.squeeze(-1)\n",
        "        denominator = 1.0\n",
        "    \n",
        "    if ignore_index is not None:\n",
        "        nll_loss = nll_loss.sum()\n",
        "        smooth_loss = smooth_loss.sum()\n",
        "    else:\n",
        "        nll_loss = nll_loss.mean()\n",
        "        smooth_loss = smooth_loss.mean()\n",
        "        \n",
        "    eps_i = epsilon / lprobs.size(-1)\n",
        "    loss = (1.0 - epsilon) * nll_loss + eps_i * smooth_loss\n",
        "    loss = loss/denominator\n",
        "    return loss"
      ]
    },
    {
      "cell_type": "markdown",
      "metadata": {
        "id": "6anqCdKDUlkc"
      },
      "source": [
        "## Lets set the optimizers and learning rate schedulers"
      ]
    },
    {
      "cell_type": "code",
      "execution_count": null,
      "metadata": {
        "colab": {
          "base_uri": "https://localhost:8080/"
        },
        "id": "rDcr4Qx7UlDy",
        "outputId": "e8295959-8cf6-4023-d29f-8dbe553fc73a"
      },
      "outputs": [
        {
          "output_type": "stream",
          "name": "stdout",
          "text": [
            "Optimizing ['model.shared.weight', 'model.encoder.embed_positions.weight', 'model.encoder.layers.0.self_attn.k_proj.weight', 'model.encoder.layers.0.self_attn.k_proj.bias', 'model.encoder.layers.0.self_attn.v_proj.weight', 'model.encoder.layers.0.self_attn.v_proj.bias', 'model.encoder.layers.0.self_attn.q_proj.weight', 'model.encoder.layers.0.self_attn.q_proj.bias', 'model.encoder.layers.0.self_attn.out_proj.weight', 'model.encoder.layers.0.self_attn.out_proj.bias', 'model.encoder.layers.0.self_attn_layer_norm.weight', 'model.encoder.layers.0.self_attn_layer_norm.bias', 'model.encoder.layers.0.fc1.weight', 'model.encoder.layers.0.fc1.bias', 'model.encoder.layers.0.fc2.weight', 'model.encoder.layers.0.fc2.bias', 'model.encoder.layers.0.final_layer_norm.weight', 'model.encoder.layers.0.final_layer_norm.bias', 'model.encoder.layers.1.self_attn.k_proj.weight', 'model.encoder.layers.1.self_attn.k_proj.bias', 'model.encoder.layers.1.self_attn.v_proj.weight', 'model.encoder.layers.1.self_attn.v_proj.bias', 'model.encoder.layers.1.self_attn.q_proj.weight', 'model.encoder.layers.1.self_attn.q_proj.bias', 'model.encoder.layers.1.self_attn.out_proj.weight', 'model.encoder.layers.1.self_attn.out_proj.bias', 'model.encoder.layers.1.self_attn_layer_norm.weight', 'model.encoder.layers.1.self_attn_layer_norm.bias', 'model.encoder.layers.1.fc1.weight', 'model.encoder.layers.1.fc1.bias', 'model.encoder.layers.1.fc2.weight', 'model.encoder.layers.1.fc2.bias', 'model.encoder.layers.1.final_layer_norm.weight', 'model.encoder.layers.1.final_layer_norm.bias', 'model.encoder.layers.2.self_attn.k_proj.weight', 'model.encoder.layers.2.self_attn.k_proj.bias', 'model.encoder.layers.2.self_attn.v_proj.weight', 'model.encoder.layers.2.self_attn.v_proj.bias', 'model.encoder.layers.2.self_attn.q_proj.weight', 'model.encoder.layers.2.self_attn.q_proj.bias', 'model.encoder.layers.2.self_attn.out_proj.weight', 'model.encoder.layers.2.self_attn.out_proj.bias', 'model.encoder.layers.2.self_attn_layer_norm.weight', 'model.encoder.layers.2.self_attn_layer_norm.bias', 'model.encoder.layers.2.fc1.weight', 'model.encoder.layers.2.fc1.bias', 'model.encoder.layers.2.fc2.weight', 'model.encoder.layers.2.fc2.bias', 'model.encoder.layers.2.final_layer_norm.weight', 'model.encoder.layers.2.final_layer_norm.bias', 'model.encoder.layers.3.self_attn.k_proj.weight', 'model.encoder.layers.3.self_attn.k_proj.bias', 'model.encoder.layers.3.self_attn.v_proj.weight', 'model.encoder.layers.3.self_attn.v_proj.bias', 'model.encoder.layers.3.self_attn.q_proj.weight', 'model.encoder.layers.3.self_attn.q_proj.bias', 'model.encoder.layers.3.self_attn.out_proj.weight', 'model.encoder.layers.3.self_attn.out_proj.bias', 'model.encoder.layers.3.self_attn_layer_norm.weight', 'model.encoder.layers.3.self_attn_layer_norm.bias', 'model.encoder.layers.3.fc1.weight', 'model.encoder.layers.3.fc1.bias', 'model.encoder.layers.3.fc2.weight', 'model.encoder.layers.3.fc2.bias', 'model.encoder.layers.3.final_layer_norm.weight', 'model.encoder.layers.3.final_layer_norm.bias', 'model.encoder.layers.4.self_attn.k_proj.weight', 'model.encoder.layers.4.self_attn.k_proj.bias', 'model.encoder.layers.4.self_attn.v_proj.weight', 'model.encoder.layers.4.self_attn.v_proj.bias', 'model.encoder.layers.4.self_attn.q_proj.weight', 'model.encoder.layers.4.self_attn.q_proj.bias', 'model.encoder.layers.4.self_attn.out_proj.weight', 'model.encoder.layers.4.self_attn.out_proj.bias', 'model.encoder.layers.4.self_attn_layer_norm.weight', 'model.encoder.layers.4.self_attn_layer_norm.bias', 'model.encoder.layers.4.fc1.weight', 'model.encoder.layers.4.fc1.bias', 'model.encoder.layers.4.fc2.weight', 'model.encoder.layers.4.fc2.bias', 'model.encoder.layers.4.final_layer_norm.weight', 'model.encoder.layers.4.final_layer_norm.bias', 'model.encoder.layers.5.self_attn.k_proj.weight', 'model.encoder.layers.5.self_attn.k_proj.bias', 'model.encoder.layers.5.self_attn.v_proj.weight', 'model.encoder.layers.5.self_attn.v_proj.bias', 'model.encoder.layers.5.self_attn.q_proj.weight', 'model.encoder.layers.5.self_attn.q_proj.bias', 'model.encoder.layers.5.self_attn.out_proj.weight', 'model.encoder.layers.5.self_attn.out_proj.bias', 'model.encoder.layers.5.self_attn_layer_norm.weight', 'model.encoder.layers.5.self_attn_layer_norm.bias', 'model.encoder.layers.5.fc1.weight', 'model.encoder.layers.5.fc1.bias', 'model.encoder.layers.5.fc2.weight', 'model.encoder.layers.5.fc2.bias', 'model.encoder.layers.5.final_layer_norm.weight', 'model.encoder.layers.5.final_layer_norm.bias', 'model.encoder.layernorm_embedding.weight', 'model.encoder.layernorm_embedding.bias', 'model.encoder.layer_norm.weight', 'model.encoder.layer_norm.bias', 'model.decoder.embed_positions.weight', 'model.decoder.layers.0.self_attn.k_proj.weight', 'model.decoder.layers.0.self_attn.k_proj.bias', 'model.decoder.layers.0.self_attn.v_proj.weight', 'model.decoder.layers.0.self_attn.v_proj.bias', 'model.decoder.layers.0.self_attn.q_proj.weight', 'model.decoder.layers.0.self_attn.q_proj.bias', 'model.decoder.layers.0.self_attn.out_proj.weight', 'model.decoder.layers.0.self_attn.out_proj.bias', 'model.decoder.layers.0.self_attn_layer_norm.weight', 'model.decoder.layers.0.self_attn_layer_norm.bias', 'model.decoder.layers.0.encoder_attn.k_proj.weight', 'model.decoder.layers.0.encoder_attn.k_proj.bias', 'model.decoder.layers.0.encoder_attn.v_proj.weight', 'model.decoder.layers.0.encoder_attn.v_proj.bias', 'model.decoder.layers.0.encoder_attn.q_proj.weight', 'model.decoder.layers.0.encoder_attn.q_proj.bias', 'model.decoder.layers.0.encoder_attn.out_proj.weight', 'model.decoder.layers.0.encoder_attn.out_proj.bias', 'model.decoder.layers.0.encoder_attn_layer_norm.weight', 'model.decoder.layers.0.encoder_attn_layer_norm.bias', 'model.decoder.layers.0.fc1.weight', 'model.decoder.layers.0.fc1.bias', 'model.decoder.layers.0.fc2.weight', 'model.decoder.layers.0.fc2.bias', 'model.decoder.layers.0.final_layer_norm.weight', 'model.decoder.layers.0.final_layer_norm.bias', 'model.decoder.layers.1.self_attn.k_proj.weight', 'model.decoder.layers.1.self_attn.k_proj.bias', 'model.decoder.layers.1.self_attn.v_proj.weight', 'model.decoder.layers.1.self_attn.v_proj.bias', 'model.decoder.layers.1.self_attn.q_proj.weight', 'model.decoder.layers.1.self_attn.q_proj.bias', 'model.decoder.layers.1.self_attn.out_proj.weight', 'model.decoder.layers.1.self_attn.out_proj.bias', 'model.decoder.layers.1.self_attn_layer_norm.weight', 'model.decoder.layers.1.self_attn_layer_norm.bias', 'model.decoder.layers.1.encoder_attn.k_proj.weight', 'model.decoder.layers.1.encoder_attn.k_proj.bias', 'model.decoder.layers.1.encoder_attn.v_proj.weight', 'model.decoder.layers.1.encoder_attn.v_proj.bias', 'model.decoder.layers.1.encoder_attn.q_proj.weight', 'model.decoder.layers.1.encoder_attn.q_proj.bias', 'model.decoder.layers.1.encoder_attn.out_proj.weight', 'model.decoder.layers.1.encoder_attn.out_proj.bias', 'model.decoder.layers.1.encoder_attn_layer_norm.weight', 'model.decoder.layers.1.encoder_attn_layer_norm.bias', 'model.decoder.layers.1.fc1.weight', 'model.decoder.layers.1.fc1.bias', 'model.decoder.layers.1.fc2.weight', 'model.decoder.layers.1.fc2.bias', 'model.decoder.layers.1.final_layer_norm.weight', 'model.decoder.layers.1.final_layer_norm.bias', 'model.decoder.layers.2.self_attn.k_proj.weight', 'model.decoder.layers.2.self_attn.k_proj.bias', 'model.decoder.layers.2.self_attn.v_proj.weight', 'model.decoder.layers.2.self_attn.v_proj.bias', 'model.decoder.layers.2.self_attn.q_proj.weight', 'model.decoder.layers.2.self_attn.q_proj.bias', 'model.decoder.layers.2.self_attn.out_proj.weight', 'model.decoder.layers.2.self_attn.out_proj.bias', 'model.decoder.layers.2.self_attn_layer_norm.weight', 'model.decoder.layers.2.self_attn_layer_norm.bias', 'model.decoder.layers.2.encoder_attn.k_proj.weight', 'model.decoder.layers.2.encoder_attn.k_proj.bias', 'model.decoder.layers.2.encoder_attn.v_proj.weight', 'model.decoder.layers.2.encoder_attn.v_proj.bias', 'model.decoder.layers.2.encoder_attn.q_proj.weight', 'model.decoder.layers.2.encoder_attn.q_proj.bias', 'model.decoder.layers.2.encoder_attn.out_proj.weight', 'model.decoder.layers.2.encoder_attn.out_proj.bias', 'model.decoder.layers.2.encoder_attn_layer_norm.weight', 'model.decoder.layers.2.encoder_attn_layer_norm.bias', 'model.decoder.layers.2.fc1.weight', 'model.decoder.layers.2.fc1.bias', 'model.decoder.layers.2.fc2.weight', 'model.decoder.layers.2.fc2.bias', 'model.decoder.layers.2.final_layer_norm.weight', 'model.decoder.layers.2.final_layer_norm.bias', 'model.decoder.layers.3.self_attn.k_proj.weight', 'model.decoder.layers.3.self_attn.k_proj.bias', 'model.decoder.layers.3.self_attn.v_proj.weight', 'model.decoder.layers.3.self_attn.v_proj.bias', 'model.decoder.layers.3.self_attn.q_proj.weight', 'model.decoder.layers.3.self_attn.q_proj.bias', 'model.decoder.layers.3.self_attn.out_proj.weight', 'model.decoder.layers.3.self_attn.out_proj.bias', 'model.decoder.layers.3.self_attn_layer_norm.weight', 'model.decoder.layers.3.self_attn_layer_norm.bias', 'model.decoder.layers.3.encoder_attn.k_proj.weight', 'model.decoder.layers.3.encoder_attn.k_proj.bias', 'model.decoder.layers.3.encoder_attn.v_proj.weight', 'model.decoder.layers.3.encoder_attn.v_proj.bias', 'model.decoder.layers.3.encoder_attn.q_proj.weight', 'model.decoder.layers.3.encoder_attn.q_proj.bias', 'model.decoder.layers.3.encoder_attn.out_proj.weight', 'model.decoder.layers.3.encoder_attn.out_proj.bias', 'model.decoder.layers.3.encoder_attn_layer_norm.weight', 'model.decoder.layers.3.encoder_attn_layer_norm.bias', 'model.decoder.layers.3.fc1.weight', 'model.decoder.layers.3.fc1.bias', 'model.decoder.layers.3.fc2.weight', 'model.decoder.layers.3.fc2.bias', 'model.decoder.layers.3.final_layer_norm.weight', 'model.decoder.layers.3.final_layer_norm.bias', 'model.decoder.layers.4.self_attn.k_proj.weight', 'model.decoder.layers.4.self_attn.k_proj.bias', 'model.decoder.layers.4.self_attn.v_proj.weight', 'model.decoder.layers.4.self_attn.v_proj.bias', 'model.decoder.layers.4.self_attn.q_proj.weight', 'model.decoder.layers.4.self_attn.q_proj.bias', 'model.decoder.layers.4.self_attn.out_proj.weight', 'model.decoder.layers.4.self_attn.out_proj.bias', 'model.decoder.layers.4.self_attn_layer_norm.weight', 'model.decoder.layers.4.self_attn_layer_norm.bias', 'model.decoder.layers.4.encoder_attn.k_proj.weight', 'model.decoder.layers.4.encoder_attn.k_proj.bias', 'model.decoder.layers.4.encoder_attn.v_proj.weight', 'model.decoder.layers.4.encoder_attn.v_proj.bias', 'model.decoder.layers.4.encoder_attn.q_proj.weight', 'model.decoder.layers.4.encoder_attn.q_proj.bias', 'model.decoder.layers.4.encoder_attn.out_proj.weight', 'model.decoder.layers.4.encoder_attn.out_proj.bias', 'model.decoder.layers.4.encoder_attn_layer_norm.weight', 'model.decoder.layers.4.encoder_attn_layer_norm.bias', 'model.decoder.layers.4.fc1.weight', 'model.decoder.layers.4.fc1.bias', 'model.decoder.layers.4.fc2.weight', 'model.decoder.layers.4.fc2.bias', 'model.decoder.layers.4.final_layer_norm.weight', 'model.decoder.layers.4.final_layer_norm.bias', 'model.decoder.layers.5.self_attn.k_proj.weight', 'model.decoder.layers.5.self_attn.k_proj.bias', 'model.decoder.layers.5.self_attn.v_proj.weight', 'model.decoder.layers.5.self_attn.v_proj.bias', 'model.decoder.layers.5.self_attn.q_proj.weight', 'model.decoder.layers.5.self_attn.q_proj.bias', 'model.decoder.layers.5.self_attn.out_proj.weight', 'model.decoder.layers.5.self_attn.out_proj.bias', 'model.decoder.layers.5.self_attn_layer_norm.weight', 'model.decoder.layers.5.self_attn_layer_norm.bias', 'model.decoder.layers.5.encoder_attn.k_proj.weight', 'model.decoder.layers.5.encoder_attn.k_proj.bias', 'model.decoder.layers.5.encoder_attn.v_proj.weight', 'model.decoder.layers.5.encoder_attn.v_proj.bias', 'model.decoder.layers.5.encoder_attn.q_proj.weight', 'model.decoder.layers.5.encoder_attn.q_proj.bias', 'model.decoder.layers.5.encoder_attn.out_proj.weight', 'model.decoder.layers.5.encoder_attn.out_proj.bias', 'model.decoder.layers.5.encoder_attn_layer_norm.weight', 'model.decoder.layers.5.encoder_attn_layer_norm.bias', 'model.decoder.layers.5.fc1.weight', 'model.decoder.layers.5.fc1.bias', 'model.decoder.layers.5.fc2.weight', 'model.decoder.layers.5.fc2.bias', 'model.decoder.layers.5.final_layer_norm.weight', 'model.decoder.layers.5.final_layer_norm.bias', 'model.decoder.layernorm_embedding.weight', 'model.decoder.layernorm_embedding.bias', 'model.decoder.layer_norm.weight', 'model.decoder.layer_norm.bias']\n",
            "Number of model parameters: 244017152\n",
            "Total number of params to be optimized are:  244017152\n",
            "Percentage of parameters to be optimized:  100.0\n"
          ]
        },
        {
          "output_type": "stream",
          "name": "stderr",
          "text": [
            "/usr/local/lib/python3.7/dist-packages/transformers/optimization.py:310: FutureWarning: This implementation of AdamW is deprecated and will be removed in a future version. Use the PyTorch implementation torch.optim.AdamW instead, or set `no_deprecation_warning=True` to disable this warning\n",
            "  FutureWarning,\n"
          ]
        }
      ],
      "source": [
        "from transformers import get_linear_schedule_with_warmup\n",
        "from transformers import AdamW\n",
        "\n",
        "no_decay = [\"bias\", \"LayerNorm.weight\"]\n",
        "optimizer_grouped_parameters = [\n",
        "        {\n",
        "            \"params\": [p for n, p in model.named_parameters() if not any(nd in n for nd in no_decay) and p.requires_grad],\n",
        "            \"weight_decay\": 0.00001,\n",
        "        },\n",
        "        {\n",
        "            \"params\": [p for n, p in model.named_parameters() if any(nd in n for nd in no_decay) and p.requires_grad],\n",
        "            \"weight_decay\": 0.0,\n",
        "        },\n",
        "    ] ## We suppose that weight decay will be used except for biases and layer norm weights.\n",
        "\n",
        "print(\"Optimizing\", [n for n, p in model.named_parameters() if p.requires_grad])\n",
        "num_params_to_optimize = sum(p.numel() for p in model.parameters() if p.requires_grad)\n",
        "num_model_params = sum(p.numel() for p in model.parameters())\n",
        "print(\"Number of model parameters:\", num_model_params)\n",
        "print(\"Total number of params to be optimized are: \", num_params_to_optimize)\n",
        "\n",
        "print(\"Percentage of parameters to be optimized: \", 100*num_params_to_optimize/num_model_params)\n",
        "    \n",
        "optimizer = AdamW(optimizer_grouped_parameters, lr=0.001, eps=1e-8) ## Our glorious optimizer.\n",
        "\n",
        "scheduler = get_linear_schedule_with_warmup(optimizer, 4000, 200) ## A warmup and decay scheduler. We use the linear scheduler for now. TODO: Enable other schedulers with a flag."
      ]
    },
    {
      "cell_type": "markdown",
      "metadata": {
        "id": "j3VzWzcFe_IH"
      },
      "source": [
        "## Time to train for 500 iterations.\n",
        "\n",
        "500 iterations is 500*16=8000 sentences.\n",
        "This should take roughly 5 minutes.\n",
        "By the end of it we can get basic translations.\n",
        "In the meanwhile look into the code if you want to understand whats going on."
      ]
    },
    {
      "cell_type": "code",
      "execution_count": null,
      "metadata": {
        "colab": {
          "base_uri": "https://localhost:8080/",
          "height": 996
        },
        "id": "vV4ORDiAL6r_",
        "outputId": "90657745-7e23-4263-8aec-71aeb743e3c3"
      },
      "outputs": [
        {
          "output_type": "stream",
          "name": "stdout",
          "text": [
            "Training for: ['en-hi']\n",
            "Shuffling corpus: en-hi\n",
            "\n",
            "Lets see how well the model is doing after  0 iterations of training\n",
            "Example 1:\n",
            "Original input sentence: I am a boy </s> <2en>\n",
            "Translation is: I am a boy\n",
            "\n",
            "Example 2:\n",
            "Original input sentence: I love food </s> <2en>\n",
            "Translation is: I love food\n",
            "\n",
            "Example 3:\n",
            "Original input sentence: Lets take a break </s> <2en>\n",
            "Translation is: Lets take a break\n",
            "\n",
            "Loss for batch  1 is 7.87\n",
            "\n",
            "\n",
            "Lets see how well the model is doing after  100 iterations of training\n",
            "Example 1:\n",
            "Original input sentence: I am a boy </s> <2en>\n",
            "Translation is: I am a boy\n",
            "\n",
            "Example 2:\n",
            "Original input sentence: I love food </s> <2en>\n",
            "Translation is: I love food\n",
            "\n",
            "Example 3:\n",
            "Original input sentence: Lets take a break </s> <2en>\n",
            "Translation is: Lets take a break\n",
            "\n",
            "Loss for batch  101 is 5.23\n",
            "\n"
          ]
        },
        {
          "output_type": "error",
          "ename": "KeyboardInterrupt",
          "evalue": "ignored",
          "traceback": [
            "\u001b[0;31m---------------------------------------------------------------------------\u001b[0m",
            "\u001b[0;31mKeyboardInterrupt\u001b[0m                         Traceback (most recent call last)",
            "\u001b[0;32m<ipython-input-28-3a14465dd86b>\u001b[0m in \u001b[0;36m<module>\u001b[0;34m()\u001b[0m\n\u001b[1;32m     53\u001b[0m   \u001b[0mloss\u001b[0m\u001b[0;34m.\u001b[0m\u001b[0mbackward\u001b[0m\u001b[0;34m(\u001b[0m\u001b[0;34m)\u001b[0m\u001b[0;34m\u001b[0m\u001b[0;34m\u001b[0m\u001b[0m\n\u001b[1;32m     54\u001b[0m   \u001b[0mtorch\u001b[0m\u001b[0;34m.\u001b[0m\u001b[0mnn\u001b[0m\u001b[0;34m.\u001b[0m\u001b[0mutils\u001b[0m\u001b[0;34m.\u001b[0m\u001b[0mclip_grad_norm_\u001b[0m\u001b[0;34m(\u001b[0m\u001b[0mmodel\u001b[0m\u001b[0;34m.\u001b[0m\u001b[0mparameters\u001b[0m\u001b[0;34m(\u001b[0m\u001b[0;34m)\u001b[0m\u001b[0;34m,\u001b[0m \u001b[0;36m1.0\u001b[0m\u001b[0;34m)\u001b[0m\u001b[0;34m\u001b[0m\u001b[0;34m\u001b[0m\u001b[0m\n\u001b[0;32m---> 55\u001b[0;31m   \u001b[0moptimizer\u001b[0m\u001b[0;34m.\u001b[0m\u001b[0mstep\u001b[0m\u001b[0;34m(\u001b[0m\u001b[0;34m)\u001b[0m\u001b[0;34m\u001b[0m\u001b[0;34m\u001b[0m\u001b[0m\n\u001b[0m\u001b[1;32m     56\u001b[0m   \u001b[0mscheduler\u001b[0m\u001b[0;34m.\u001b[0m\u001b[0mstep\u001b[0m\u001b[0;34m(\u001b[0m\u001b[0;34m)\u001b[0m\u001b[0;34m\u001b[0m\u001b[0;34m\u001b[0m\u001b[0m\n\u001b[1;32m     57\u001b[0m   \u001b[0;32mif\u001b[0m \u001b[0mi\u001b[0m \u001b[0;34m%\u001b[0m \u001b[0;36m100\u001b[0m \u001b[0;34m==\u001b[0m \u001b[0;36m0\u001b[0m\u001b[0;34m:\u001b[0m\u001b[0;34m\u001b[0m\u001b[0;34m\u001b[0m\u001b[0m\n",
            "\u001b[0;32m/usr/local/lib/python3.7/dist-packages/torch/optim/lr_scheduler.py\u001b[0m in \u001b[0;36mwrapper\u001b[0;34m(*args, **kwargs)\u001b[0m\n\u001b[1;32m     63\u001b[0m                 \u001b[0minstance\u001b[0m\u001b[0;34m.\u001b[0m\u001b[0m_step_count\u001b[0m \u001b[0;34m+=\u001b[0m \u001b[0;36m1\u001b[0m\u001b[0;34m\u001b[0m\u001b[0;34m\u001b[0m\u001b[0m\n\u001b[1;32m     64\u001b[0m                 \u001b[0mwrapped\u001b[0m \u001b[0;34m=\u001b[0m \u001b[0mfunc\u001b[0m\u001b[0;34m.\u001b[0m\u001b[0m__get__\u001b[0m\u001b[0;34m(\u001b[0m\u001b[0minstance\u001b[0m\u001b[0;34m,\u001b[0m \u001b[0mcls\u001b[0m\u001b[0;34m)\u001b[0m\u001b[0;34m\u001b[0m\u001b[0;34m\u001b[0m\u001b[0m\n\u001b[0;32m---> 65\u001b[0;31m                 \u001b[0;32mreturn\u001b[0m \u001b[0mwrapped\u001b[0m\u001b[0;34m(\u001b[0m\u001b[0;34m*\u001b[0m\u001b[0margs\u001b[0m\u001b[0;34m,\u001b[0m \u001b[0;34m**\u001b[0m\u001b[0mkwargs\u001b[0m\u001b[0;34m)\u001b[0m\u001b[0;34m\u001b[0m\u001b[0;34m\u001b[0m\u001b[0m\n\u001b[0m\u001b[1;32m     66\u001b[0m \u001b[0;34m\u001b[0m\u001b[0m\n\u001b[1;32m     67\u001b[0m             \u001b[0;31m# Note that the returned function here is no longer a bound method,\u001b[0m\u001b[0;34m\u001b[0m\u001b[0;34m\u001b[0m\u001b[0;34m\u001b[0m\u001b[0m\n",
            "\u001b[0;32m/usr/local/lib/python3.7/dist-packages/torch/optim/optimizer.py\u001b[0m in \u001b[0;36mwrapper\u001b[0;34m(*args, **kwargs)\u001b[0m\n\u001b[1;32m    107\u001b[0m                 \u001b[0mprofile_name\u001b[0m \u001b[0;34m=\u001b[0m \u001b[0;34m\"Optimizer.step#{}.step\"\u001b[0m\u001b[0;34m.\u001b[0m\u001b[0mformat\u001b[0m\u001b[0;34m(\u001b[0m\u001b[0mobj\u001b[0m\u001b[0;34m.\u001b[0m\u001b[0m__class__\u001b[0m\u001b[0;34m.\u001b[0m\u001b[0m__name__\u001b[0m\u001b[0;34m)\u001b[0m\u001b[0;34m\u001b[0m\u001b[0;34m\u001b[0m\u001b[0m\n\u001b[1;32m    108\u001b[0m                 \u001b[0;32mwith\u001b[0m \u001b[0mtorch\u001b[0m\u001b[0;34m.\u001b[0m\u001b[0mautograd\u001b[0m\u001b[0;34m.\u001b[0m\u001b[0mprofiler\u001b[0m\u001b[0;34m.\u001b[0m\u001b[0mrecord_function\u001b[0m\u001b[0;34m(\u001b[0m\u001b[0mprofile_name\u001b[0m\u001b[0;34m)\u001b[0m\u001b[0;34m:\u001b[0m\u001b[0;34m\u001b[0m\u001b[0;34m\u001b[0m\u001b[0m\n\u001b[0;32m--> 109\u001b[0;31m                     \u001b[0;32mreturn\u001b[0m \u001b[0mfunc\u001b[0m\u001b[0;34m(\u001b[0m\u001b[0;34m*\u001b[0m\u001b[0margs\u001b[0m\u001b[0;34m,\u001b[0m \u001b[0;34m**\u001b[0m\u001b[0mkwargs\u001b[0m\u001b[0;34m)\u001b[0m\u001b[0;34m\u001b[0m\u001b[0;34m\u001b[0m\u001b[0m\n\u001b[0m\u001b[1;32m    110\u001b[0m             \u001b[0;32mreturn\u001b[0m \u001b[0mwrapper\u001b[0m\u001b[0;34m\u001b[0m\u001b[0;34m\u001b[0m\u001b[0m\n\u001b[1;32m    111\u001b[0m \u001b[0;34m\u001b[0m\u001b[0m\n",
            "\u001b[0;32m/usr/local/lib/python3.7/dist-packages/transformers/optimization.py\u001b[0m in \u001b[0;36mstep\u001b[0;34m(self, closure)\u001b[0m\n\u001b[1;32m    359\u001b[0m                 \u001b[0;31m# In-place operations to update the averages at the same time\u001b[0m\u001b[0;34m\u001b[0m\u001b[0;34m\u001b[0m\u001b[0;34m\u001b[0m\u001b[0m\n\u001b[1;32m    360\u001b[0m                 \u001b[0mexp_avg\u001b[0m\u001b[0;34m.\u001b[0m\u001b[0mmul_\u001b[0m\u001b[0;34m(\u001b[0m\u001b[0mbeta1\u001b[0m\u001b[0;34m)\u001b[0m\u001b[0;34m.\u001b[0m\u001b[0madd_\u001b[0m\u001b[0;34m(\u001b[0m\u001b[0mgrad\u001b[0m\u001b[0;34m,\u001b[0m \u001b[0malpha\u001b[0m\u001b[0;34m=\u001b[0m\u001b[0;34m(\u001b[0m\u001b[0;36m1.0\u001b[0m \u001b[0;34m-\u001b[0m \u001b[0mbeta1\u001b[0m\u001b[0;34m)\u001b[0m\u001b[0;34m)\u001b[0m\u001b[0;34m\u001b[0m\u001b[0;34m\u001b[0m\u001b[0m\n\u001b[0;32m--> 361\u001b[0;31m                 \u001b[0mexp_avg_sq\u001b[0m\u001b[0;34m.\u001b[0m\u001b[0mmul_\u001b[0m\u001b[0;34m(\u001b[0m\u001b[0mbeta2\u001b[0m\u001b[0;34m)\u001b[0m\u001b[0;34m.\u001b[0m\u001b[0maddcmul_\u001b[0m\u001b[0;34m(\u001b[0m\u001b[0mgrad\u001b[0m\u001b[0;34m,\u001b[0m \u001b[0mgrad\u001b[0m\u001b[0;34m,\u001b[0m \u001b[0mvalue\u001b[0m\u001b[0;34m=\u001b[0m\u001b[0;36m1.0\u001b[0m \u001b[0;34m-\u001b[0m \u001b[0mbeta2\u001b[0m\u001b[0;34m)\u001b[0m\u001b[0;34m\u001b[0m\u001b[0;34m\u001b[0m\u001b[0m\n\u001b[0m\u001b[1;32m    362\u001b[0m                 \u001b[0mdenom\u001b[0m \u001b[0;34m=\u001b[0m \u001b[0mexp_avg_sq\u001b[0m\u001b[0;34m.\u001b[0m\u001b[0msqrt\u001b[0m\u001b[0;34m(\u001b[0m\u001b[0;34m)\u001b[0m\u001b[0;34m.\u001b[0m\u001b[0madd_\u001b[0m\u001b[0;34m(\u001b[0m\u001b[0mgroup\u001b[0m\u001b[0;34m[\u001b[0m\u001b[0;34m\"eps\"\u001b[0m\u001b[0;34m]\u001b[0m\u001b[0;34m)\u001b[0m\u001b[0;34m\u001b[0m\u001b[0;34m\u001b[0m\u001b[0m\n\u001b[1;32m    363\u001b[0m \u001b[0;34m\u001b[0m\u001b[0m\n",
            "\u001b[0;31mKeyboardInterrupt\u001b[0m: "
          ]
        }
      ],
      "source": [
        "## Lets set the model to training mode\n",
        "model.train()\n",
        "ctr=0\n",
        "for i, (input_ids, input_masks, decoder_input_ids, labels) in enumerate(generate_batches_bilingual(tokenizer, 500, is_summarization=False, batch_size=16, src_lang=\"en\", tgt_lang=\"hi\", src_file_prefix=\"TED2020.en-hi\", tgt_file_prefix=\"TED2020.en-hi\")):\n",
        "  ctr=i\n",
        "  if i%100 == 0:\n",
        "    print()\n",
        "    model.eval() # Set dropouts to zero\n",
        "    print(\"Lets see how well the model is doing after \", i, \"iterations of training\")\n",
        "    input_sentence = \"I am a boy </s> <2en>\" ## Ignore the </s> and <2en> for now.\n",
        "    inp = tokenizer(input_sentence, add_special_tokens=False, return_tensors=\"pt\", padding=True).input_ids\n",
        "    inp=inp.to(0)\n",
        "    model_output=model.generate(inp, use_cache=True, num_beams=4, max_length=40, min_length=1, early_stopping=True, pad_token_id=pad_id, bos_token_id=bos_id, eos_token_id=eos_id, decoder_start_token_id=tokenizer._convert_token_to_id_with_added_voc(\"<2hi>\"))\n",
        "    decoded_output=tokenizer.decode(model_output[0], skip_special_tokens=True, clean_up_tokenization_spaces=False)\n",
        "    print(\"Example 1:\")\n",
        "    print(\"Original input sentence:\", input_sentence)\n",
        "    print(\"Translation is:\", decoded_output)\n",
        "    print()\n",
        "    input_sentence = \"I love food </s> <2en>\" ## Ignore the </s> and <2en> for now.\n",
        "    inp = tokenizer(input_sentence, add_special_tokens=False, return_tensors=\"pt\", padding=True).input_ids\n",
        "    inp=inp.to(0)\n",
        "    model_output=model.generate(inp, use_cache=True, num_beams=4, max_length=40, min_length=1, early_stopping=True, pad_token_id=pad_id, bos_token_id=bos_id, eos_token_id=eos_id, decoder_start_token_id=tokenizer._convert_token_to_id_with_added_voc(\"<2hi>\"))\n",
        "    decoded_output=tokenizer.decode(model_output[0], skip_special_tokens=True, clean_up_tokenization_spaces=False)\n",
        "    print(\"Example 2:\")\n",
        "    print(\"Original input sentence:\", input_sentence)\n",
        "    print(\"Translation is:\", decoded_output)\n",
        "    print()\n",
        "    input_sentence = \"Lets take a break </s> <2en>\" ## Ignore the </s> and <2en> for now.\n",
        "    inp = tokenizer(input_sentence, add_special_tokens=False, return_tensors=\"pt\", padding=True).input_ids\n",
        "    inp=inp.to(0)\n",
        "    model_output=model.generate(inp, use_cache=True, num_beams=4, max_length=40, min_length=1, early_stopping=True, pad_token_id=pad_id, bos_token_id=bos_id, eos_token_id=eos_id, decoder_start_token_id=tokenizer._convert_token_to_id_with_added_voc(\"<2hi>\"))\n",
        "    decoded_output=tokenizer.decode(model_output[0], skip_special_tokens=True, clean_up_tokenization_spaces=False)\n",
        "    print(\"Example 3:\")\n",
        "    print(\"Original input sentence:\", input_sentence)\n",
        "    print(\"Translation is:\", decoded_output)\n",
        "    print()\n",
        "    model.train() # back to training mode\n",
        "\n",
        "  input_ids = input_ids.to(0)\n",
        "  input_masks = input_masks.to(0)\n",
        "  decoder_input_ids = decoder_input_ids.to(0)\n",
        "  labels = labels.to(0)\n",
        "  mod_compute = model(input_ids=input_ids, attention_mask=input_masks, decoder_input_ids=decoder_input_ids) ## Run the model and get logits.\n",
        "  logits = mod_compute.logits\n",
        "  lprobs = torch.nn.functional.log_softmax(logits, dim=-1) ## Softmax tempering of logits if needed.\n",
        "  loss = label_smoothed_nll_loss(\n",
        "      lprobs, labels, 0.1, ignore_index=0\n",
        "  ) ## Label smoothed cross entropy loss.\n",
        "  del input_ids ## Delete to avoid retention.\n",
        "  del input_masks ## Delete to avoid retention.\n",
        "  del decoder_input_ids ## Delete to avoid retention.\n",
        "  del labels ## Delete to avoid retention.\n",
        "  loss.backward()\n",
        "  torch.nn.utils.clip_grad_norm_(model.parameters(), 1.0)\n",
        "  optimizer.step()\n",
        "  scheduler.step()\n",
        "  if i % 100 == 0:\n",
        "    print(\"Loss for batch \", i+1, \"is\", round(loss.detach().cpu().numpy().item(), 2))\n",
        "    print()"
      ]
    },
    {
      "cell_type": "markdown",
      "metadata": {
        "id": "FpTgd2h6Zwgx"
      },
      "source": [
        "## Done! Lets translate some sentences!"
      ]
    },
    {
      "cell_type": "code",
      "execution_count": null,
      "metadata": {
        "colab": {
          "base_uri": "https://localhost:8080/"
        },
        "id": "cgUbKiyXZ1po",
        "outputId": "948f4094-d5ef-469d-c1d1-b982a5542be8"
      },
      "outputs": [
        {
          "output_type": "stream",
          "name": "stdout",
          "text": [
            "Example 1:\n",
            "Original input sentence: I am a dog </s> <2en>\n",
            "Translation is: I am a dog\n",
            "\n",
            "Example 2:\n",
            "Original input sentence: I am human </s> <2en>\n",
            "Translation is: I am human\n",
            "\n",
            "Example 3:\n",
            "Original input sentence: Let us sleep </s> <2en>\n",
            "Translation is: Let us sleep\n",
            "\n"
          ]
        }
      ],
      "source": [
        "model.eval() # Set dropouts to zero\n",
        "model.to(0)\n",
        "input_sentence = \"I am a dog </s> <2en>\" ## Ignore the </s> and <2en> for now.\n",
        "inp = tokenizer(input_sentence, add_special_tokens=False, return_tensors=\"pt\", padding=True).input_ids\n",
        "inp=inp.to(0)\n",
        "model_output=model.generate(inp, use_cache=True, num_beams=4, max_length=40, min_length=1, early_stopping=True, pad_token_id=pad_id, bos_token_id=bos_id, eos_token_id=eos_id, decoder_start_token_id=tokenizer._convert_token_to_id_with_added_voc(\"<2hi>\"))\n",
        "decoded_output=tokenizer.decode(model_output[0], skip_special_tokens=True, clean_up_tokenization_spaces=False)\n",
        "print(\"Example 1:\")\n",
        "print(\"Original input sentence:\", input_sentence)\n",
        "print(\"Translation is:\", decoded_output)\n",
        "print()\n",
        "input_sentence = \"I am human </s> <2en>\" ## Ignore the </s> and <2en> for now.\n",
        "inp = tokenizer(input_sentence, add_special_tokens=False, return_tensors=\"pt\", padding=True).input_ids\n",
        "inp=inp.to(0)\n",
        "model_output=model.generate(inp, use_cache=True, num_beams=4, max_length=40, min_length=1, early_stopping=True, pad_token_id=pad_id, bos_token_id=bos_id, eos_token_id=eos_id, decoder_start_token_id=tokenizer._convert_token_to_id_with_added_voc(\"<2hi>\"))\n",
        "decoded_output=tokenizer.decode(model_output[0], skip_special_tokens=True, clean_up_tokenization_spaces=False)\n",
        "print(\"Example 2:\")\n",
        "print(\"Original input sentence:\", input_sentence)\n",
        "print(\"Translation is:\", decoded_output)\n",
        "print()\n",
        "input_sentence = \"Let us sleep </s> <2en>\" ## Ignore the </s> and <2en> for now.\n",
        "inp = tokenizer(input_sentence, add_special_tokens=False, return_tensors=\"pt\", padding=True).input_ids\n",
        "inp=inp.to(0)\n",
        "model_output=model.generate(inp, use_cache=True, num_beams=4, max_length=40, min_length=1, early_stopping=True, pad_token_id=pad_id, bos_token_id=bos_id, eos_token_id=eos_id, decoder_start_token_id=tokenizer._convert_token_to_id_with_added_voc(\"<2hi>\"))\n",
        "decoded_output=tokenizer.decode(model_output[0], skip_special_tokens=True, clean_up_tokenization_spaces=False)\n",
        "print(\"Example 3:\")\n",
        "print(\"Original input sentence:\", input_sentence)\n",
        "print(\"Translation is:\", decoded_output)\n",
        "print()"
      ]
    },
    {
      "cell_type": "markdown",
      "metadata": {
        "id": "ZlD8QBeWZZCt"
      },
      "source": [
        "# Optional: Begin"
      ]
    },
    {
      "cell_type": "markdown",
      "metadata": {
        "id": "tE9k4L4OfXaz"
      },
      "source": [
        "## Lets save a model, optimizer and scheduler.\n",
        "\n",
        "The model.pt file is what you can distribute to the people."
      ]
    },
    {
      "cell_type": "code",
      "execution_count": null,
      "metadata": {
        "id": "GvS6tplzL9_P"
      },
      "outputs": [],
      "source": [
        "checkpoint_dict = {'model': model.state_dict(), 'optimizer': optimizer.state_dict(), 'scheduler': scheduler.state_dict(), 'ctr': ctr}\n",
        "torch.save(checkpoint_dict, \"model.pt\")\n",
        "del checkpoint_dict"
      ]
    },
    {
      "cell_type": "markdown",
      "metadata": {
        "id": "6CgaJ60ggBLu"
      },
      "source": [
        "## Distributing a HuggingFace compatible checkpoint"
      ]
    },
    {
      "cell_type": "code",
      "execution_count": null,
      "metadata": {
        "colab": {
          "base_uri": "https://localhost:8080/"
        },
        "id": "Gvs7Kgtff6EG",
        "outputId": "9479cc60-962e-4e01-af39-3ebc19aff7bd"
      },
      "outputs": [
        {
          "output_type": "stream",
          "name": "stdout",
          "text": [
            "added_tokens.json  pytorch_model.bin\t    spiece.model\n",
            "config.json\t   special_tokens_map.json  tokenizer_config.json\n"
          ]
        }
      ],
      "source": [
        "!mkdir IndicBARTFT\n",
        "model.config.save_pretrained(\"IndicBARTFT\")\n",
        "tokenizer.save_pretrained(\"IndicBARTFT\") ## Save the tokenizer for future use.\n",
        "torch.save(model.state_dict(), \"IndicBARTFT/pytorch_model.bin\")\n",
        "!ls IndicBARTFT"
      ]
    },
    {
      "cell_type": "markdown",
      "metadata": {
        "id": "bXcVSybXhJxw"
      },
      "source": [
        "## Now lets load our model and see if it works"
      ]
    },
    {
      "cell_type": "code",
      "execution_count": null,
      "metadata": {
        "id": "Ws5Wiw25gcOz"
      },
      "outputs": [],
      "source": [
        "tokenizer = AlbertTokenizer.from_pretrained(\"./IndicBARTFT\", do_lower_case=False, use_fast=False, keep_accents=True)\n",
        "\n",
        "model = MBartForConditionalGeneration.from_pretrained(\"./IndicBARTFT\")\n",
        "bos_id = tokenizer._convert_token_to_id_with_added_voc(\"<s>\")\n",
        "eos_id = tokenizer._convert_token_to_id_with_added_voc(\"</s>\")\n",
        "pad_id = tokenizer._convert_token_to_id_with_added_voc(\"<pad>\")"
      ]
    },
    {
      "cell_type": "markdown",
      "metadata": {
        "id": "QOT5xhDEhchE"
      },
      "source": [
        "## Lets see if the loaded model works!"
      ]
    },
    {
      "cell_type": "code",
      "execution_count": null,
      "metadata": {
        "colab": {
          "base_uri": "https://localhost:8080/"
        },
        "id": "BeFpZQ5Pg2vh",
        "outputId": "554a200d-c6c7-4f36-acc1-6c1b850902b0"
      },
      "outputs": [
        {
          "output_type": "stream",
          "name": "stdout",
          "text": [
            "Example 1:\n",
            "Original input sentence: I am a dog </s> <2en>\n",
            "Translation is: I am a dog\n",
            "\n",
            "Example 2:\n",
            "Original input sentence: I am human </s> <2en>\n",
            "Translation is: I am human\n",
            "\n",
            "Example 3:\n",
            "Original input sentence: Let us sleep </s> <2en>\n",
            "Translation is: Let us sleep\n",
            "\n"
          ]
        }
      ],
      "source": [
        "model.eval() # Set dropouts to zero\n",
        "model.to(0)\n",
        "input_sentence = \"I am a dog </s> <2en>\" ## Ignore the </s> and <2en> for now.\n",
        "inp = tokenizer(input_sentence, add_special_tokens=False, return_tensors=\"pt\", padding=True).input_ids\n",
        "inp=inp.to(0)\n",
        "model_output=model.generate(inp, use_cache=True, num_beams=4, max_length=40, min_length=1, early_stopping=True, pad_token_id=pad_id, bos_token_id=bos_id, eos_token_id=eos_id, decoder_start_token_id=tokenizer._convert_token_to_id_with_added_voc(\"<2hi>\"))\n",
        "decoded_output=tokenizer.decode(model_output[0], skip_special_tokens=True, clean_up_tokenization_spaces=False)\n",
        "print(\"Example 1:\")\n",
        "print(\"Original input sentence:\", input_sentence)\n",
        "print(\"Translation is:\", decoded_output)\n",
        "print()\n",
        "input_sentence = \"I am human </s> <2en>\" ## Ignore the </s> and <2en> for now.\n",
        "inp = tokenizer(input_sentence, add_special_tokens=False, return_tensors=\"pt\", padding=True).input_ids\n",
        "inp=inp.to(0)\n",
        "model_output=model.generate(inp, use_cache=True, num_beams=4, max_length=40, min_length=1, early_stopping=True, pad_token_id=pad_id, bos_token_id=bos_id, eos_token_id=eos_id, decoder_start_token_id=tokenizer._convert_token_to_id_with_added_voc(\"<2hi>\"))\n",
        "decoded_output=tokenizer.decode(model_output[0], skip_special_tokens=True, clean_up_tokenization_spaces=False)\n",
        "print(\"Example 2:\")\n",
        "print(\"Original input sentence:\", input_sentence)\n",
        "print(\"Translation is:\", decoded_output)\n",
        "print()\n",
        "input_sentence = \"Let us sleep </s> <2en>\" ## Ignore the </s> and <2en> for now.\n",
        "inp = tokenizer(input_sentence, add_special_tokens=False, return_tensors=\"pt\", padding=True).input_ids\n",
        "inp=inp.to(0)\n",
        "model_output=model.generate(inp, use_cache=True, num_beams=4, max_length=40, min_length=1, early_stopping=True, pad_token_id=pad_id, bos_token_id=bos_id, eos_token_id=eos_id, decoder_start_token_id=tokenizer._convert_token_to_id_with_added_voc(\"<2hi>\"))\n",
        "decoded_output=tokenizer.decode(model_output[0], skip_special_tokens=True, clean_up_tokenization_spaces=False)\n",
        "print(\"Example 3:\")\n",
        "print(\"Original input sentence:\", input_sentence)\n",
        "print(\"Translation is:\", decoded_output)\n",
        "print()"
      ]
    },
    {
      "cell_type": "markdown",
      "metadata": {
        "id": "o7uEb-6Eh4Fl"
      },
      "source": [
        "## Victory! But what does it mean?\n",
        "\n",
        "You can distribute this folder IndicBARTFT to others or upload it to HuggingFace!"
      ]
    },
    {
      "cell_type": "markdown",
      "metadata": {
        "id": "CM1_LYToZflt"
      },
      "source": [
        "# Optional: End"
      ]
    },
    {
      "cell_type": "markdown",
      "metadata": {
        "id": "BhdZ3eX2iIKx"
      },
      "source": [
        "## Lets try some model that we already trained for summarization"
      ]
    },
    {
      "cell_type": "code",
      "execution_count": null,
      "metadata": {
        "id": "rj6s4IG7g46T"
      },
      "outputs": [],
      "source": [
        "tokenizer = AlbertTokenizer.from_pretrained(\"ai4bharat/IndicBART-XLSum\", do_lower_case=False, use_fast=False, keep_accents=True)\n",
        "\n",
        "model = MBartForConditionalGeneration.from_pretrained(\"ai4bharat/IndicBART-XLSum\")\n",
        "\n",
        "# Some initial mapping\n",
        "bos_id = tokenizer._convert_token_to_id_with_added_voc(\"<s>\")\n",
        "eos_id = tokenizer._convert_token_to_id_with_added_voc(\"</s>\")\n",
        "pad_id = tokenizer._convert_token_to_id_with_added_voc(\"<pad>\")\n",
        "# To get lang_id use any of ['<2bn>', '<2gu>', '<2hi>', '<2mr>', '<2pa>', '<2ta>', '<2te>']"
      ]
    },
    {
      "cell_type": "code",
      "execution_count": null,
      "metadata": {
        "colab": {
          "base_uri": "https://localhost:8080/"
        },
        "id": "wPtthRARja1W",
        "outputId": "029fbf46-df97-48f8-98b9-b13d4a5a5213"
      },
      "outputs": [
        {
          "output_type": "stream",
          "name": "stdout",
          "text": [
            "Original document: टेसा जॉवल का कहना है कि मृतकों और लापता लोगों के परिजनों की मदद के लिए एक केंद्र स्थापित किया जा रहा है. उन्होंने इस हादसे के तीन के बाद भी मृतकों की सूची जारी करने में हो रही देरी के बारे में स्पष्टीकरण देते हुए कहा है शवों की ठीक पहचान होना ज़रूरी है. पुलिस के अनुसार धमाकों में मारे गए लोगों की संख्या अब 49 हो गई है और अब भी 20 से ज़्यादा लोग लापता हैं. पुलिस के अनुसार लंदन पर हमले योजनाबद्ध तरीके से हुए और भूमिगत रेलगाड़ियों में विस्फोट तो 50 सैकेंड के भीतर हुए. पहचान की प्रक्रिया किंग्स क्रॉस स्टेशन के पास सुरंग में धमाके से क्षतिग्रस्त रेल कोचों में अब भी पड़े शवों के बारे में स्थिति साफ नहीं है और पुलिस ने आगाह किया है कि हताहतों की संख्या बढ़ सकती है. पुलिस, न्यायिक अधिकारियों, चिकित्सकों और अन्य विशेषज्ञों का एक आयोग बनाया गया है जिसकी देख-रेख में शवों की पहचान की प्रक्रिया पूरी होगी. महत्वपूर्ण है कि गुरुवार को लंदन में मृतकों के सम्मान में सार्वजनिक समारोह होगा जिसमें उन्हें श्रद्धाँजलि दी जाएगी और दो मिनट का मौन रखा जाएगा. पुलिस का कहना है कि वह इस्लामी चरमपंथी संगठन अबू हफ़्स अल-मासरी ब्रिगेड्स का इन धमाकों के बारे में किए गए दावे को गंभीरता से ले रही है. 'धमाके पचास सेकेंड में हुए' पुलिस के अनुसार लंदन पर हुए हमले योजनाबद्ध तरीके से किए गए थे. पुलिस के अनुसार भूमिगत रेलों में तीन बम अलग-अलग जगहों लगभग अचानक फटे थे. इसलिए पुलिस को संदेह है कि धमाकों में टाइमिंग उपकरणों का उपयोग किया गया होगा. यह भी तथ्य सामने आया है कि धमाकों में आधुनिक किस्म के विस्फोटकों का उपयोग किया गया था. पहले माना जा रहा था कि हमलों में देसी विस्फोटकों का इस्तेमाल किया गया होगा. पुलिस मुख्यालय स्कॉटलैंड यार्ड में सहायक उपायुक्त ब्रायन पैडिक ने बताया कि भूमिगत रेलों में तीन धमाके 50 सेकेंड के अंतराल के भीतर हुए थे. धमाके गुरुवार सुबह आठ बजकर पचास मिनट पर हुए थे. लंदन अंडरग्राउंड से मिली विस्तृत तकनीकी सूचनाओं से यह तथ्य सामने आया है. इससे पहले बम धमाकों में अच्छे खासे अंतराल की बात की जा रही थी.\n",
            "Summary predicted by model: लंदन धमाकों में मारे गए लोगों की सूची जारी\n"
          ]
        }
      ],
      "source": [
        "sentence = \"टेसा जॉवल का कहना है कि मृतकों और लापता लोगों के परिजनों की मदद के लिए एक केंद्र स्थापित किया जा रहा है. उन्होंने इस हादसे के तीन के बाद भी मृतकों की सूची जारी करने में हो रही देरी के बारे में स्पष्टीकरण देते हुए कहा है शवों की ठीक पहचान होना ज़रूरी है. पुलिस के अनुसार धमाकों में मारे गए लोगों की संख्या अब 49 हो गई है और अब भी 20 से ज़्यादा लोग लापता हैं. पुलिस के अनुसार लंदन पर हमले योजनाबद्ध तरीके से हुए और भूमिगत रेलगाड़ियों में विस्फोट तो 50 सैकेंड के भीतर हुए. पहचान की प्रक्रिया किंग्स क्रॉस स्टेशन के पास सुरंग में धमाके से क्षतिग्रस्त रेल कोचों में अब भी पड़े शवों के बारे में स्थिति साफ नहीं है और पुलिस ने आगाह किया है कि हताहतों की संख्या बढ़ सकती है. पुलिस, न्यायिक अधिकारियों, चिकित्सकों और अन्य विशेषज्ञों का एक आयोग बनाया गया है जिसकी देख-रेख में शवों की पहचान की प्रक्रिया पूरी होगी. महत्वपूर्ण है कि गुरुवार को लंदन में मृतकों के सम्मान में सार्वजनिक समारोह होगा जिसमें उन्हें श्रद्धाँजलि दी जाएगी और दो मिनट का मौन रखा जाएगा. पुलिस का कहना है कि वह इस्लामी चरमपंथी संगठन अबू हफ़्स अल-मासरी ब्रिगेड्स का इन धमाकों के बारे में किए गए दावे को गंभीरता से ले रही है. 'धमाके पचास सेकेंड में हुए' पुलिस के अनुसार लंदन पर हुए हमले योजनाबद्ध तरीके से किए गए थे. पुलिस के अनुसार भूमिगत रेलों में तीन बम अलग-अलग जगहों लगभग अचानक फटे थे. इसलिए पुलिस को संदेह है कि धमाकों में टाइमिंग उपकरणों का उपयोग किया गया होगा. यह भी तथ्य सामने आया है कि धमाकों में आधुनिक किस्म के विस्फोटकों का उपयोग किया गया था. पहले माना जा रहा था कि हमलों में देसी विस्फोटकों का इस्तेमाल किया गया होगा. पुलिस मुख्यालय स्कॉटलैंड यार्ड में सहायक उपायुक्त ब्रायन पैडिक ने बताया कि भूमिगत रेलों में तीन धमाके 50 सेकेंड के अंतराल के भीतर हुए थे. धमाके गुरुवार सुबह आठ बजकर पचास मिनट पर हुए थे. लंदन अंडरग्राउंड से मिली विस्तृत तकनीकी सूचनाओं से यह तथ्य सामने आया है. इससे पहले बम धमाकों में अच्छे खासे अंतराल की बात की जा रही थी.\"\n",
        "inp = tokenizer(sentence + \" </s> <2hi>\", add_special_tokens=False, return_tensors=\"pt\", padding=True).input_ids\n",
        "\n",
        "# If the sentence is not in Devanagari or Roman script then use: sentence = UnicodeIndicTransliterator.transliterate(sentence, language, \"hi\")\n",
        "\n",
        "model.eval() # Set dropouts to zero\n",
        "\n",
        "model.to(0)\n",
        "inp=inp.to(0)\n",
        "\n",
        "model_output=model.generate(inp, use_cache=True, num_beams=4, max_length=60, min_length=5, length_penalty=1.0, early_stopping=True, pad_token_id=pad_id, bos_token_id=bos_id, eos_token_id=eos_id, decoder_start_token_id=tokenizer._convert_token_to_id_with_added_voc(\"<2hi>\"))\n",
        "\n",
        "\n",
        "# Decode to get output strings\n",
        "\n",
        "decoded_output=tokenizer.decode(model_output[0], skip_special_tokens=True, clean_up_tokenization_spaces=False)\n",
        "\n",
        "# If the original sentence is not in Devanagari or Roman script then use: decoded_output = UnicodeIndicTransliterator.transliterate(decoded_output, \"hi\", language)\n",
        "\n",
        "print(\"Original document:\", sentence)\n",
        "print(\"Summary predicted by model:\", decoded_output)"
      ]
    },
    {
      "cell_type": "markdown",
      "metadata": {
        "id": "hVPch5MTjAJs"
      },
      "source": [
        "## Whats next? Try any of the models here: https://huggingface.co/ai4bharat"
      ]
    },
    {
      "cell_type": "markdown",
      "metadata": {
        "id": "gL5wL9zRZkw9"
      },
      "source": [
        "# Optional: Begin"
      ]
    },
    {
      "cell_type": "markdown",
      "metadata": {
        "id": "QqHXgOn4Rq4X"
      },
      "source": [
        "## You: No! I want to learn! Don't just give me models! How do I fine-tune IndicBART for summarization?\n",
        "\n",
        "## Me: There is a way!\n",
        "First we get some data."
      ]
    },
    {
      "cell_type": "code",
      "execution_count": null,
      "metadata": {
        "colab": {
          "base_uri": "https://localhost:8080/"
        },
        "id": "CGqnvwIiR0Li",
        "outputId": "8cbaf956-f1ac-4b40-9586-7c28535bd561"
      },
      "outputs": [
        {
          "output_type": "stream",
          "name": "stdout",
          "text": [
            "Looking in indexes: https://pypi.org/simple, https://us-python.pkg.dev/colab-wheels/public/simple/\n",
            "Requirement already satisfied: gdown in /usr/local/lib/python3.7/dist-packages (4.4.0)\n",
            "Requirement already satisfied: requests[socks] in /usr/local/lib/python3.7/dist-packages (from gdown) (2.23.0)\n",
            "Requirement already satisfied: six in /usr/local/lib/python3.7/dist-packages (from gdown) (1.15.0)\n",
            "Requirement already satisfied: tqdm in /usr/local/lib/python3.7/dist-packages (from gdown) (4.64.0)\n",
            "Requirement already satisfied: filelock in /usr/local/lib/python3.7/dist-packages (from gdown) (3.7.1)\n",
            "Requirement already satisfied: beautifulsoup4 in /usr/local/lib/python3.7/dist-packages (from gdown) (4.6.3)\n",
            "Requirement already satisfied: chardet<4,>=3.0.2 in /usr/local/lib/python3.7/dist-packages (from requests[socks]->gdown) (3.0.4)\n",
            "Requirement already satisfied: certifi>=2017.4.17 in /usr/local/lib/python3.7/dist-packages (from requests[socks]->gdown) (2022.6.15)\n",
            "Requirement already satisfied: urllib3!=1.25.0,!=1.25.1,<1.26,>=1.21.1 in /usr/local/lib/python3.7/dist-packages (from requests[socks]->gdown) (1.24.3)\n",
            "Requirement already satisfied: idna<3,>=2.5 in /usr/local/lib/python3.7/dist-packages (from requests[socks]->gdown) (2.10)\n",
            "Requirement already satisfied: PySocks!=1.5.7,>=1.5.6 in /usr/local/lib/python3.7/dist-packages (from requests[socks]->gdown) (1.7.1)\n",
            "Downloading...\n",
            "From: https://drive.google.com/uc?id=19rU7KpBBkzRDOxbYX9rmOcHZxe4GBYDU\n",
            "To: /content/train.zip\n",
            "100% 110M/110M [00:01<00:00, 66.6MB/s]\n",
            "Archive:  train.zip\n",
            "  inflating: train.summary.hi        \n",
            "  inflating: train.text.hi           \n",
            "70778 train.summary.hi\n",
            "70778 train.text.hi\n",
            "Documents:\n",
            "नेपाल में इस दौरे की भरपूर तैयारियां चल रही हैं. इसकी ख़ास वजह भी है क्योंकि 23 साल बाद कोई चीनी राष्ट्रपति नेपाल पहुंच रहा है. नेपाल के प्रधानमंत्री केपी शर्मा ओली के विदेश मामलों के सलाहकार डॉ. राजन भट्टाराई ने इस दौरे को ऐतिहासिक बताया है. उन्होंने बताया कि चीन के राष्ट्रपति के साथ उनका एक प्रतिनिधि दल भी होगा. दोनों देशों के बीच कई समझौते होने की बात भी कही जा रही है. चीन के राष्ट्रपति और नेपाल के प्रधानमंत्री के बीच आधिकारिक बैठक भी तय हुई है. समाप्त नेपाल जाने से पहले चीन के राष्ट्रपति भारत में प्रधानमंत्री नरेंद्र मोदी के साथ अनौपचारिक मुलाक़ात करेंगे. इससे पहले शी जिनपिंग पाकिस्तान के प्रधानमंत्री इमरान ख़ान के साथ भी बैठक कर चुके हैं. चीन का प्रभाव दक्षिण एशिया में लगातार बढ़ रहा है. वो चाहे नेपाल, श्रीलंका, पाकिस्तान या बांग्लादेश हो. हर जगह चीन की मौजूदगी बढ़ी है. ये सभी देश चीन की वन बेल्ट वन रोड परियोजना में शामिल हो गए हैं. दूसरी तरफ़ भारत इस परियोजना के पक्ष में नहीं है. नेपाल की राष्ट्रपति विद्या देवी भंडारी और चीन के राष्ट्रपति शी जिनपिंग नेपाल की तरफ़ बढ़ता चीन इस हिंदू बहुल राष्ट्र में चीन का दिलचस्पी लेना काफ़ी अहम है. नेपाल अपनी कई ज़रूरतों के लिए भारत पर निर्भर है लेकिन वो लगातार भारत से निर्भरता को कम करने की कोशिश कर रहा है. चीन ने साल 2017 में नेपाल के साथ अपनी बेल्ट एंड रोड परियोजना के लिए द्विपक्षीय सहयोग पर समझौता किया था. इस दौरान चीन ने नेपाल में क्रॉस-बॉर्डर इकोनॉमिक ज़ोन बनाने, रेलवे को विस्तार देने, हाइवे, एयरपोर्ट आदि के निर्माण कार्यों में मदद पहुंचाने पर भी सहमति जताई. नेपाल के कई स्कूलों में चीनी भाषा मंदारिन को पढ़ना भी अनिवार्य कर दिया गया है. नेपाल में इस भाषा को पढ़ाने वाले शिक्षकों के वेतन का खर्चा भी चीन की सरकार ने उठाने के लिए तैयार है. नेपाल के प्रधानमंत्री के पी शर्मा ओली के साथ शी जिनपिंग नेपाल में चीन की अमरीका से टक्कर दरअसल, नेपाल के क़रीब जाने की कोशिश अकेला चीन ही नहीं बल्की अमरीका भी लगातार कर रहा है. एक तरफ़ जहां चीन अपनी बेल्ड एंड रोड परियोजना चला रहा है तो वहीं अमरीका इंडो-पैसिफ़िक नीति पर काम कर रहा है. नेपाल में केपी शर्मा ओली के नेतृत्व में कम्युनिस्ट पार्टी की सरकार बनने के बाद से ही अमरीका और चीन नेपाल के क़रीब जाने की कोशिशें कर रहे हैं. इसी साल जून में अमरीकी रक्षा विभाग ने इंडो-पैसिफ़िक स्ट्रैटिजी रिपोर्ट (आईपीएआर) प्रकाशित की थी. इस रिपोर्ट में नेपाल के बारे में लिखा गया था, ''अमरीका नेपाल के साथ अपने रक्षा सहयोगों को बढ़ाना चाहता है. हमारा ध्यान आपदा प्रबंधन, शांति अभियान, ज़मीनी रक्षा ताक़त को बढ़ाने और आतंकवाद से मुक़ाबला करने पर है.'' हालांकि इसके जवाब में नेपाल सरकार के मंत्रियों और अधिकारियों ने कहा था कि नेपाल कोई भी ऐसा सैन्य गठबंधन नहीं करेगा जिसका निशाना चीन पर होगा. दरअसल, चीन के प्रति नेपाल के इस रुख़ की भी ख़ास वजह है. चीन नेपाल में अपनी राजनीतिक, सैन्य और आर्थिक छाप छोड़ रहा है. चीन ने ही नेपाल से अमरीका की इंडो-पैसिफ़िक नीति में शामिल ना होने की अपील की है. नेपाल भी यह मानता है कि अमरीका की इंडो-पैसिफ़िक नीति असल में सैन्य नीति है और वो ख़ुद इसमें नहीं उलझेगा. चीन और नेपाल के बीच चर्चा चीन के राष्ट्रपति शी जिनपिंग के नेपाल दौरे की तैयारियों को लेकर चीन के विदेश मंत्री वांग यी सितंबर में नेपाल गए थे. वांग यी ने इस दौरान नेपाल के प्रधानमंत्री, मंत्रियों और विपक्षी दलों के वरिष्ठ नेताओं के साथ मुलाक़ात की थी. इन मुलाक़ातों में अमरीका की नीतियों पर भी चर्चा की गई थी. नेपाल के प्रधानमंत्री ओली के साथ बैठक के बाद चीन के रक्षा मंत्रालय की तरफ़ से जो बयान जारी किया गया था उसमें कहा था, ''नेपाल की तरफ़ से उन प्रयासों को रोका जाएगा जो चीन को उसके नज़दीक आने में रुकावटें पैदा करेंगे.'' चीन के विदेश मंत्री ने जब नेपाल कम्युनिस्ट पार्टी के वरिष्ठ नेता और पूर्व प्रधानमंत्री पुष्प कमल दहल से मुलाक़ात की तो उसमें भी इन्हीं बातों को दोहराया. इस मुलाकात के बाद जारी बयान में कहा गया, ''चीन के विकास से नेपाल में भी कई अवसर पैदा होंगे.'' इन बयानों के बाद कांठमांडू में स्थित अमरीकी दूतावास की ओर से नेपाल विदेश मंत्रालय से स्पष्टीकरण भी मांगा गया था. इसके जवाब में नेपाल ने यही कहा था कि वो किसी देश के साथ सैन्य गठजोड़ ना करने की अपनी नीति पर कायम हैं. नेपाल के विदेश सचिव शंकर दास बैरागी और चीन के विदेश मंत्री वैंग यी के बीच मुलाकात जिनपिंग का पहला नेपाल दौरा इस साल चीन के कई उच्चस्तर के अधिकारी और राजनेता नेपाल के दौरे पर आ चुके हैं. ये तमाम दौरे शी जिनपिंग की नेपाल यात्रा की राह तैयार कर रहे थे. दरअसल, 23 साल बाद कोई चीनी राष्ट्रपति नेपाल के दौरे पर पहुंच रहा है. साल 1996 में जियांग ज़ेमिन ने नेपाल का दौरा किया था. शी जिनपिंग दक्षिण एशिया के अन्य देश जैसे भारत, पाकिस्तान, बांग्लादेश, मालदीव और श्रीलंका के दौरे पर जा चुके हैं लेकिन अभी तक वो नेपाल नहीं गए थे. माना जा रहा है कि इस दौरान बेल्ट एंड रोड परियोजना पर भी नेपाल और चीन के बीच बातचीत होगी. नेपाल को बीआरआई में शामिल हुए दो साल हो चुके हैं लेकिन अभी तक उसने इस परियोजना के तहत कोई ख़ास प्रोजेक्ट शुरू नहीं किया है. यही वजह है कि नेपाल पर अब बीआरआई का कोई प्रोजेक्ट शुरू करने का दबाव भी होगा. शी जिनपिंग के नेपाल पहुंचने से पहले ही कम्युनिस्ट पार्टी ऑफ़ चाइना (सीपीसी) ने नेपाल की सत्ताधारी पार्टी नेपाल कम्युनिस्ट पार्टी (एनसीपी) के साथ काम करना शुरू कर दिया है. इन दोनों दलों में विचारधारा के मामले में भी समानता है. सीपीसी के 40 सदस्यों का एक दल 23 सितंबर को काठमांडू पहुंच गया था जहां उन्होंने एनसीपी के साथ मिलकर एक संयुक्त सत्र में भाग लिया. चीन की नज़दीकी, भारत को चुनौती? नेपाल और चीन की दोस्ती को भारत के लिए बड़ी चुनौती समझा जा रहा है. एक तरफ़ जहां चीन और अमरीका लगातार नेपाल में सक्रिय हैं वहीं भारत अभी तक इस संबंध में शांत रहा है. नेपाल की मौजूदा सरकार भी भारत की तर्ज पर चीन को तरजीह देती हुई दिखाई देती है. नेपाल ने इसी साल पुणे में आयोजित बिम्सटेक देशों के सैन्य अभ्यास में शामिल होने से इनकार कर दिया था, लेकिन इसके बाद नेपाल ने चीन की सेना के साथ 12 दिनों का सैन्य अभ्यास करने पर सहमति जताई थी. इतिहास पर नज़र दौड़ाएं तो वहां भी ऐसे उदाहरण मिल जाते हैं जब चीन ने भारत को चुनौती देने के लिए नेपाल का रास्ता अपनाया है. आधुनिक चीन के निर्माता कहे जाने वाले डांग श्यापेंग ने फ़रवरी 1978 में म्यांमार (उस समय का बर्मा) और नेपाल का दौरा किया था. डांग उस समय भले ही चीन के प्रमुख नहीं थे लेकिन वो उस वक़्त चीन के सर्वोच्च अधिकारी थे. उस समय उनका नेपाल दौरा भारत को चुनौती के तौर पर देखा गया था. उनके दौरे से ठीक एक महीने पहले भारत के तत्तकालीन प्रधानमंत्री मोरारजी देसाई ने नेपाल का दौरा किया था. भारतीय प्रधानमंत्री नरेंद्र मोदी और नेपाल के प्रधानमंत्री के पी शर्मा ओली नेपाल उस वक़्त भारत और चीन दोनों के साथ अपने रिश्ते मज़बूत करने की कोशिशें कर रहा था. नेपाल एक लैंडलॉक्ड देश है और वो भारत से अपनी निर्भरता कम करना चाहता है. 2015 में भारत की तरफ़ से अघोषित नाकाबंदी की गई थी और इस वजह से नेपाल में ज़रूरी सामानों की भारी किल्लत हो गई थी. तब से दोनों देशों के बीच संबंधों में वो भरोसा नहीं लौट पाया है. इसी बीच चीन और नेपाल के रिश्तों में एक और प्रगति सामने आई है. नेपाल सरकार ने कहा है कि चीन उसे अपने पोर्ट को इस्तेमाल करने की इजाज़त दी है. नेपाल के वाणिज्य मंत्रालय ने कहा था कि उसे चीन ने थिंयान्जिन, शेंज़ेन. लिआनीयुगैंग और श्यांजियांग पोर्ट के इस्तेमाल की अनुमति दे दी है. चीन का भारत के हर पड़ोसी देश में अपनी पैठ मज़बूत करता जा रहा है. नेपाल के नए संविधान पर भारत के असंतोष पर नेपाल की ओली सरकार कहती रही है कि यह उसका आंतरिक मामला है. भारत और नेपाल के बीच 1950 में हुए पीस एंड फ्रेंडशिप संधि को लेकर ओली सख़्त रहे हैं. उनका कहना है कि संधि नेपाल के हक़ में नहीं है. इस संधि के ख़िलाफ़ ओली नेपाल के चुनावी अभियानों में भी बोल चुके हैं. ओली चाहते हैं कि भारत के साथ यह संधि ख़त्म हो. दोनों देशों के बीच सीमा विवाद भी एक बड़ा मुद्दा है. सुस्ता और कलपानी इलाक़े को लेकर दोनों देशों के बीच विवाद है. चार साल पहले दोनों देशों के बीच सुस्ता और कलपानी को लेकर विदेश सचिव के स्तर की बातचीत को लेकर सहमति बनी थी, लेकिन अभी तक एक भी बैठक नहीं हुई है. ओली जब भारत आते हैं तो उन पर दबाव होता है कि इन दोनों मुद्दों पर बातचीत करें, लेकिन द्विपक्षीय वार्ताओं में इनका ज़िक्र नहीं होता है. नंवबर 2016 में मोदी सरकार ने अचानक से जब 500 और एक हज़ार के नोटों को चलन से बाहर कर दिया तो नेपाल भी इससे प्रभावित हुआ. नेपाल में भी भारतीय नोट लेन-देन के आम चलन में हैं और जब ये नोट रद्द किए गए तो वहां के लोग और अर्थव्यस्था पर बुरा असर पड़ा. नेपाल ने भारत से पुराने नोटों को बदलने का आग्रह किया और दोनों देशों के बीच बातचीत भी शुरू हुई, लेकिन अब भी मामला सुलझा नहीं है. इस मामले में कोई आधिकारिक तस्वीर नहीं होने की वजह से भी मामल अटका हुआ है. 6 अप्रैल को ओली ने नई दिल्ली में एक प्रेस कॉ़न्फ़्रेंस को संबोधित करते हुए कहा था, ''भारतीय निवेशक दुनिया भर के देशों में निवेश कर रहे हैं, लेकिन अपने पास के ही नेपाल में नहीं करते हैं. आख़िर ऐसा क्यों है? हम भौगोलिक रूप से पास में हैं, आना-जाना बिल्कुल आसान है, सांस्कृतिक समानता है और ऐसा सब कुछ है जो दोनों देशों को भाता है फिर भी निवेश क्यों नहीं होता?'' भारत समर्थक थे ओली? ओली के बारे में कहा जाता है कि वो विदेशी संबंधों में अपने दो बड़े पड़ोसी भारत और चीन के बीच संतुलन बनाकर रखना चाहते हैं. ओली के बारे में कहा जाता है कि वो कभी भारत समर्थक कहे जाते थे. नेपाल की राजनीति में उनका रुख़ भारत के पक्ष में कभी हुआ करता था. 1996 में भारत और नेपाल के बीच हुए ऐतिहासिक महाकाली संधि में ओली की बड़ी भूमिका मानी जाती है. ओली 1990 के दशक में नेपाल में कैबिनेट मंत्री हुआ करते थे. वो 2007 तक नेपाल के विदेश मंत्री भी रहे थे. इस दौरान ओली के भारत से काफ़ी अच्छे ताल्लुकात थे. नेपाल पर भारत का प्रभाव दशकों से रहा है. दोनों देशों के बीच खुली सीमा है, बेशुमार व्यापार है, एक धर्म है और रीति रिवाज़ भी एक जैसे हैं. दोनों देशों के बीच बिगड़ते संबंधों को लेकर जब बात होती है तो चीन का ज़िक्र ज़रूरी रूप से होता है. चीन ने हाल के वर्षों में नेपाल में भारी निवेश किया है. नेपाल में चीन कई प्रोजेक्टों पर काम कर रहा है और इसमें बुनियादी ढांचों सी जुड़ी परियोजनाएं सबसे ज़्यादा हैं. चीन नेपाल में एयरपोर्ट, रोड, हॉस्पिटल, कॉलेज, मॉल्स बना रहा है तो एक रेलवे लाइन पर भी काम कर रहा है. भारत का विकल्प बना चीन? कॉर्नेगी इंडिया के एनलिस्ट कॉन्स्टैन्टिनो ज़ेवियर ने वॉशिंगटन पोस्ट से कहा है, ''नेपाल और चीन की क़रीबी एक बड़ा परिवर्तन है. यह नेपाल के इतिहास में पहली बार है कि चीन नेपाल को भारत का विकल्प मुहैया करा रहा है.'' ये भी पढ़ेंः (बीबीसी हिन्दी के एंड्रॉएड ऐप के लिए आप यहां क्लिक कर सकते हैं. आप हमें फ़ेसबुक, ट्विटर, इंस्टाग्राम और यूट्यूब पर फ़ॉलो भी कर सकते हैं.)\n",
            "ये महिलाओं में गर्भ निरोध के लिए किया जाने वाले ऑपरेशन है जोकि गर्भ निरोध के मकसद के लिए बेहद आम है. राजी केवट ने साल 2014 में ये ऑपरेशन कराया था. उनकी नसबंदी भारत के सरकारी नसबंदी शिविर में हुआ था. इसके बाद राजी ने अपनी बहन शिव कुमारी केवट को भी नसबंदी कराने की सलाह दी. शिव कुमारी और 82 दूसरी महिलाएं नवंबर 2014 को बिलासपुर के ख़ाली पड़े सरकारी अस्पताल की इमारत के सामने इस ऑपरेशन के लिए जमा हुईं. महिलाओं की सर्जरी करने वाले डॉक्टर ने एक ही छुरे से सभी महिलाओं का ऑपरेशन कर दिया. नसबंदी की वजह से हुई मौत आरोप ये है कि इस दौरान डॉक्टर ने हर सर्जरी के बाद दस्ताने बदलने की बेहद ज़रूरी शर्त की भी अनदेखी की. सर्जरी के बाद महिलाओं को क़तार में अस्पताल के फ़र्श पर आराम के लिए लिटा दिया गया. ऑपरेशन वाली रात ही शिव कुमारी के पेट में भयानक दर्द होने लगा. उन्हें उल्टियां भी होने लगीं. कुछ दिनों बाद ही शिव कुमारी की मौत हो गई. सरकार ने आधिकारिक तौर पर जो बयान दिया उसमें शिव कुमारी की मौत की वजह नक़ली दवाएं बताई गईं. लेकिन पोस्ट-मॉर्टम रिपोर्ट में आया कि शिव कुमारी की मौत सेप्टोसीमिया की वजह से हुई. ये सर्जरी के दौरान हुए इन्फ़ेक्शन से होता है. शिव कुमारी के साथ उस कैंप में नसबंदी कराने वाली 13 महिलाओं की मौत हो गई थी. बहन को ऑपरेशन में गंवाने के बावजूद राजी का कहना है कि कोई पूछे तो वो अभी भी महिलाओं को गर्भ निरोध के लिए ये सर्जरी कराने की सलाह देंगी. राजी के हिसाब से इसकी वजह बहुत साफ़ है, 'अगर आप ये सर्जरी नहीं कराएंगी, तो आप का परिवार बहुत बड़ा हो जाएगा.' दुनिया की तमाम महिलाओं की तरह राजी का भी यही मानना है कि गर्भ निरोध के लिए महिलाओं का ये ऑपरेशन सबसे सटीक और भरोसेमंद तरीक़ा है. आज की तारीख़ में गर्भ निरोध के लिए महिलाओं की नसबंदी सबसे प्रमुख विकल्प है. हालांकि पश्चिमी यूरोप, कनाडा या ऑस्ट्रेलिया में गर्भ निरोधक दवाओं का चलन ज़्यादा है. लेकिन एशिया और लैटिन अमरीका में महिलाओं की नसबंदी ही गर्भ निरोध का सबसे लोकप्रिय तरीक़ा है. 2015 के संयुक्त राष्ट्र के सर्वे के मुताबिक़, दुनिया भर की 19 फ़ीसदी शादी-शुदा या किसी के साथ सेक्स संबंध में रह रही महिलाएं गर्भ निरोध के लिए ये तरीक़ा इस्तेमाल करती हैं. वहीं आईयूडी यानी इंट्रा यूटेराइन डिवाइस का इस्तेमाल केवल 14 प्रतिशत महिलाएं करती हैं. गर्भ निरोध की गोलियां खाने वाली महिलाओं की तादाद तो महज़ 9 फ़ीसदी है. गर्भ निरोध के लिए महिलाओं की सर्जरी भारत में सबसे ज़्यादा लोकप्रिय है. दुनिया भर के मुक़ाबले यहां गर्भ निरोध इस्तेमाल करने वाली कुल महिलाओं में से 39 प्रतिशत ऑपरेशन कराती हैं. नसबंदी का काला इतिहास सरकारी गर्भ निरोध के कार्यक्रम दुनिया में सबसे पहले अमरीका में शुरू हुए थे. 1907 में अमरीका के इंडियाना सूबे ने क़ानून बनाकर गर्भ निरोध के लिए नसबंदी को ज़रूरी बना दिया था. ये परिवार नियोजन का दुनिया में पहला क़ानून था. जल्दी ही कई और अमरीकी राज्यों ने ऐसे ही क़ानून बनाए. हिटलर के ज़माने में नाज़ी हुकूमत ने इन अमरीकी क़ानूनों से प्रेरित होकर यहूदियों की नसबंदी की. 1970 के दशक में अमरीका के ज़्यादातर राज्यों में ये क़ानून ख़त्म कर दिए गए. इसी दौरान अमरीका में फ़ेमिनिज़्म, यौन क्रांति और गर्भ निरोध की गोलियों का चलन ख़ूब बढ़ रहा था. कमोबेश इसी दौर में आज़ाद हो रहे उपनिवेशों जैसे भारत, फिलीपींस और बांग्लादेश जैसे देशों ने गर्भ निरोध के लिए नसबंदी के अभियान शुरू किए. इन अभियानों को अंतरराष्ट्रीय स्तर पर भी काफ़ी समर्थन मिला. पेरू और चीन को तो नसबंदी अभियानों के लिए विदेशी मदद भी मिली. लेकिन, आज की तारीख़ में सबसे ज़्यादा नसबंदी के ऑपरेशन भारत में होते हैं. ये संख्या और आबादी के प्रतिशत, दोनों लिहाज़ से अव्वल है. इसकी एक वजह ये भी हो सकती है कि भारत वो पहला देश है, जहां दुनिया में पहली बार परिवार नियोजन के विभाग बनाए गए. इन विभागों का ज़ोर नसबंदी पर था. भारत सरकार ने 1970 के दशक में बड़े पैमाने पर नसबंदी अभियान शुरू किया था. अंतरराष्ट्रीय संगठनों और दूसरे देशों ने इसके लिए भारत की मदद की. विश्व बैंक, अमरीकी सरकार और फोर्ड फाउंडेशन ने भारत के गर्भ निरोध के अभियानों को मदद दी. 1997 में अमरीका के जनसंख्या दफ़्तर के निदेशक आरटी रेवेनहोल्ट ने सेंट लुई डिस्पैच को एक इंटरव्यू में कहा कि सरकार का लक्ष्य 10 करोड़ महिलाओं में से एक चौथाई की नसबंदी करने का है. रेवेनहोल्ट का तर्क था कि अगर अमरीकी मेडिकल तरक़्क़ी से दुनिया की आबादी बढ़ी, तो ये अमरीका का फ़र्ज़ बनता है कि वो बढ़ती आबादी को क़ाबू में रखे. आज अमरीकी सरकार की संस्था यूएसएड, दुनिया भर के परिवार नियोजन अभियानों को मदद देता है. 2014 में यूएसएड की एक रिपोर्ट में दुनिया भर में नसबंदी बढ़ाने को कहा गया था. 1970 के दशक में ज़बरन नसबंदी के अभियान के दौरान निचले तबक़े के क़रीब 60 लाख लोगों की जबरदस्ती नसबंदी कर दी गई. अभियान के दौरान 2 हज़ार से ज़्यादा लोग मारे गए. इसके बाद से भारत में फैमिली प्लानिंग को लेकर सरकारी नज़रिए में बदलाव आना शुरू हुआ. भारत में सरकारें अक्सर नसबंदी के 'टारगेट' तय करती थीं. ये चलन बंद हो गया. इसके बजाय गर्भ निरोध के लिए गोलियों और दूसरे तरीक़ों के चलन को बढ़ाने पर ज़ोर दिया गया. पिछले दो साल में भारत सरकार ने 'मिशन परिवार विकास' को लागू किया है. इसमें गर्भ निरोध को हारमोन के ज़रिए रोकने की तीन प्रक्रियाओं का विकल्प दिया जाता है. इनमें से एक विकल्प प्रोजेस्टिन वाली गर्भ निरोधक गोलियां भी हैं. वैसे गर्भ निरोध के लिए नसबंदी केवल भारत में ही लोकप्रिय हो, ऐसा भी नहीं. संयुक्त राष्ट्र संघ के आंकड़े बताते हैं कि शादी-शुदा या यौन संबंध बनाने वाली कुल महिलाओं में से पहले जहां 20.5 फ़ीसद ये तरीक़ा अपनाती थीं. वहीं अब ये तादाद घटकर 19 प्रतिशत रह गई है. भारत में इसके उलट हुआ है. नसबंदी से गर्भधारण को रोकने वाली महिलाओं की तादाद 34 प्रतिशत से बढ़कर 39 फ़ीसद हो गई है. 2016 तक तो सरकार बाक़ायदा कैंप लगाकर नसबंदी अभियान चलाती थी. हालांकि अब ये कैंप लगने बंद हो गए हैं. नसबंदी से गर्भ निरोध की प्रक्रिया को पलटा नहीं जा सकता. जबकि दूसरे विकल्पों में महिलाएं जब चाहें, तब उसे रोक सकती हैं. जैसे गोलियां खाना. हालांकि, नसबंदी को सर्जरी से फिर से पलटा जा सकता है. लेकिन वो पेचीदा और मुश्किल ऑपरेशन है और ख़र्चीला भी. अक्सर ये नाकाम भी रहता है. ये भी पढ़ें - गर्भ निरोध का स्थायी तरीक़ा दुनिया भर में जो महिलाएं ये तय कर लेती हैं कि उन्हें और बच्चे नहीं चाहिए, उनके लिए गर्भ निरोध के लिए ऑपरेशन कराना सब से आसान और भरोसेमंद विकल्प है. अमरीका में तो कई महिलाएं बच्चा होने के तुरंत बाद ये सर्जरी करा लेती हैं. वहीं कई महिलाएं कॉन्डम या दवाएं खाने के बाद सर्जरी से गर्भ निरोध करती हैं. नसबंदी कराने के बाद महिलाओं को दोबारा गर्भ धारण की फिक्र नहीं होती. इसके साइड इफेक्ट भी नहीं हैं. लेकिन जैसा कि छत्तीसगढ़ की शिव कुमारी और दूसरी महिलाओं के साथ हुआ, कई बार ऐसे ऑपरेशन असुरक्षित माहौल में होते हैं. गनियारी के जन स्वास्थ्य सहयोग अस्पताल के निदेशक योगेश जैन कहते हैं कि जो हादसा नसबंदी कैंप के दौरान शिव कुमारी के साथ हुआ, वो होना तय था. उनके मुताबिक़ ग़रीब महिलाओं के पास अक्सर विकल्प नहीं होते. अक्सर ऐसे कैंपों में महिलाओं को एक इंसान नहीं, बल्कि महज़ गिनती के तौर पर जोड़ा जाता है. उनकी जान की कोई क़ीमत नहीं होती. पापुलेशन फाउंडेशन ऑफ़ इंडिया ने छत्तीसगढ़ की घटना की पड़ताल में पाया कि नसबंदी शिविरों में आने के लिए महिलाओं को प्रोत्साहित करने के लिए सरकार ने ऑपरेशन में ख़र्च होने वाली रक़म से बीस गुना ज़्यादा पैसे ख़र्च किए. वहीं, ऑपरेशन कराने वाली हर महिला को 600 से 1400 रुपए के बीच दिए गए. 2014 में हुई घटना के बाद केंद्र सरकार जागी और ऐसे शिविरों के हालात सुधारने की कोशिश की गई. पापुलेशन फाउंडेशन ऑफ़ इंडिया की सोनल शर्मा कहती हैं कि भारत सरकार ने उनके सुझाव को मानकर नसबंदी के लिए शिविर लगाने बंद कर दिए हैं. इसके बजाय अब महिलाओं को अगर नसबंदी करानी होती है, तो उन्हें हफ़्ते के तयशुदा दिनों में सरकारी अस्पताल जाना होता है. इससे नसबंदी अभियानों की बेहतर निगरानी हो पा रही है. लेकिन मांग के अनुपात में नसबंदी की सुविधाओं में काफ़ी कमी देखी गई है. छत्तीसगढ़ में ही मुंगेली ज़िला अस्पताल में एक सर्जन नसबंदी के लिए हफ़्ते में दो बार आता है. हफ़्ते भर में 20 महिलाओं की ही सर्जरी हो पाती है. जबकि ऐसी सर्जरी की मांग काफ़ी ज़्यादा है. अब अगर हादसे के बावजूद छत्तीसगढ़ की महिलाएं गर्भ निरोध के लिए नसबंदी को ही तरज़ीह देती हैं, तो मतलब साफ़ है. महिलाओं की नज़र में ये परिवार नियोजन का सबसे अच्छा तरीक़ा है. हालांकि इसकी प्रक्रिया अब भी विवादों के घेरे में ही है. जवाब जो अभी भी नहीं मिले भले ही नसबंदी के ऑपरेशन साफ़-सुथरे माहौल में किए जाएं, फिर भी ये सर्जरी जोखिम से भरपूर है. ये महिला की निजता पर हमला भी है. तमाम विवादों के बावजूद मर्दों के मुक़ाबले महिलाओं की नसबंदी कई देशों में ज़्यादा लोकप्रिय है. विवाद इस बात को लेकर भी है कि नसबंदी के बाद महिला के गर्भ धारण के विकल्प हमेशा के लिए ख़त्म हो जाते हैं. इससे नैतिकता के भी सवाल उठते हैं. सरकारों ने इस विकल्प का दुरुपयोग भी किया है. पेरू में 1990 के दशक में गरीब महिलाओं की बड़े पैमाने पर नसबंदी उन्हें बिना बताए कर दी गई थी. इस विकल्प को लेकर एक मुश्किल ये भी है कि महिलाओं पर गर्भ निरोध के लिए नसबंदी का दबाव बनाने से उनके सामने मौजूद दूसरे विकल्पों को ख़त्म कर दिया जाता है. जबकि वो गोलियां खाने या आईयूडी लगाने जैसे अस्थायी विकल्प अपनाने की भी हक़दार हैं. अगर उनके पास ये विकल्प नहीं होते, तो, वो या तो गर्भ निरोध के लिए नसबंदी कराएं या फिर जल्दी-जल्दी बच्चे पैदा होने का डर रहता है. भारत में गर्भ निरोधक गोलियों और आईयूडी की उपलब्धता भी कम है. अगर महिलाएं आईयूडी इस्तेमाल करना भी चाहें, तो इसे सही तरीक़े से लगाने के विशेषज्ञों की भी कमी है. जानकारी के अभाव में महिलाओं को गर्भ निरोध के तमाम विकल्प नहीं मिल पाते हैं. मधु गोयल दिल्ली के पॉश इलाक़े ग्रेटर कैलाश स्थित फोर्टिस ला फेम अस्पताल में गाइनेकोलॉजिस्ट हैं. उनके पास रईस तबक़े की महिलाएं आती हैं. समाज के इस वर्ग की महिलाओं के बीच भी गर्भ निरोध के लिए नसबंदी ही ज़्यादा लोकप्रिय है. हालांकि नसबंदी कराने वाली ज़्यादातर ऐसी महिलाएं उम्रदराज़ होती हैं. युवा महिलाएं भी गर्भ निरोध के दूसरे विकल्पों को लेकर आशंकित होती हैं. इंटरनेट पर गर्भ निरोधक गोलियों के बारे में पढ़कर जानकारी लेने आई महिलाएं भी मधु गोयल को आशंकित दिखीं. बहुत सी महिलाओं को ये ग़लतफ़हमी है कि गर्भ निरोधक गोलियां उन्हें स्थायी तौर पर बांझ बना सकती हैं. मधु गोयल कहती हैं कि अच्छी बात ये है कि महिलाएं अब ख़ुद से जागरूक हो रही हैं. गर्भ निरोधक अपना रही हैं. भारत में तलाक़ के मामले भी बढ़ रहे हैं. इसी वजह से भारत में कई महिलाएं नसबंदी को पलटना भी चाहती हैं, ताकि दूसरे पति के साथ नए सिरे से परिवार शुरू कर सकें. महिला और बाल कल्याण मंत्रालय ने 2016 में नेशनल पॉलिसी फॉर वुमेन को शुरू किया था. इसमें गर्भ निरोध के लिए महिलाओं के बजाय अब पुरुषों पर ज़्यादा ज़ोर देने की बात कही गई है. हालांकि अभी इस नीति पर पूरी तरह से अमल नहीं शुरू हो सका है. जिस तरह से अंतरराष्ट्रीय लोकप्रियता के साथ भारत में महिलाओं की नसबंदी लोकप्रिय है, उस सोच में बदलाव आने में काफ़ी वक़्त लगेगा. (मूल लेख अंग्रेज़ी में पढ़ने के लिए यहां क्लिककरें, जो बीबीसी फ़्यूचर पर उपलब्ध है.) (बीबीसी हिन्दी के एंड्रॉएड ऐप के लिए आप यहां क्लिक कर सकते हैं. आप हमें फ़ेसबुक, ट्विटर, इंस्टाग्राम और यूट्यूब पर फ़ॉलो भी कर सकते हैं.)\n",
            "समाप्त ये कौन, किससे, कब और क्‍यों कह रहा है? यह बात साढ़े चौदह सौ साल पहले की है. इस्‍लाम के पैगम्‍बर हज़रत मोहम्‍मद ने कही थी. ये फ़रमान मर्दों को है. मामला मस्‍ज‍िद में आने-जाने का है. ज़ाहिर है, इसमें बात महिलाओं के मुताल्‍लि‍क हो रही है. जामा मस्जिद क्या यह महज़ मज़हबी मसला है? जब बात इतनी साफ़ है तो इस पर किसी तरह का मसला आज नहीं होना चाहिए था. मगर गाहे- बगाहे मस्जिदों में मुसलमान महिलाओं के आने-जाने और नमाज़ पढ़ने का मसला आ ही जाता है. यह मसला ऐसी तस्वीर बनाता है, जिससे लगता है कि इस्लाम की मूल भावना ही महिलाओं के मस्जिद में आने-जाने के ख़िलाफ़ है. कुछ महीने पहले सुप्रीम कोर्ट में महिलाओं के मस्जिद में जाने से जुड़ी एक याचिका भी दायर हुई है. मसला तो है. मगर मसला वह सामाजिक निज़ाम है, जो किसी भी धर्म की महिलाओं के कहीं भी मनमर्ज़ी और आज़ाद तरीक़े से आने-जाने पर पाबंदी लगाता है. उनके आने-जाने को अपने काबू में रखना चाहता है. तय करता है कि वे कहाँ, कब, कैसे, कितनी देर के लिए जायेंगी. इसीलिए हमारे इस पिदरशाही समाज में आम जगहों पर महिलाओं की मौजूदगी, उनकी तादाद के हिसाब से और मर्दों के बनिस्बत काफ़ी कम है. यही बात मस्जिदों पर भी लागू होती है. हाँ, यहाँ महिलाओं को क़ाबू करने के लिए कई बार मज़हब का सहारा ले लिया जाता है. जैसे तर्क महिलाओं के अकेले, कभी भी, कहीं भी आने-जाने के ख़िलाफ़ दिए जाते हैं, उसी तरह के तर्क महिलाओं के मस्जिद में न जाने के लिए भी दिए जाते हैं. मसला महज़ मस्जिदों में आने-जाने का नहीं है. इसलिए महज़ मस्जिदों में आने-जाने से यह मसला ख़त्म भी नहीं होगा. यह मुसलमान महिला का मज़हबी हक़ है तो क्या इसका मतलब है कि महिलाओं को इंतज़ार करना चाहिए? कतई नहीं. जिस तरह वे बाकी जगहों पर अपनी जगह बना रही हैं, यहाँ भी उन्हें जगह बनानी होगी. उन्हें जगह देनी होगी. यह उनका मज़हबी हक़ है. यह हक़ उतना ही उनका है, जितना मर्दाना मुसलमानों का है. इस्लाम ने अपने मानने वालों के लिए पाँच चीज़ें मज़हबी तौर पर फ़र्ज़ की हैं: शहादत (यानी ख़ुदा के एक होन पर यक़ीन), नमाज़, रोज़ा, ज़कात और हज. इनमें मर्द-स्त्री का कोई भेद नहीं है. मर्द या स्त्री के बिना पर कोई रियायत नहीं है. तो सवाल है कि अगर मर्द अपना मज़हबी फ़र्ज़ अदा करने के लिए मस्जिद में नमाज़ पढ़ने जा सकते हैं तो महिलाएँ क्यों नहीं? तो हजरत मोहम्मद के दौर में क्या होता था हम उस दौर में चलते हैं, जिसे हज़रत मोहम्मद का दौर कहा जाता है. इस दौर के बारे में हमें उनके साथियों और उनकी पत्नियों ख़ासकर हज़रत आयेशा के ज़रिए क़ाफ़ी जानकारियाँ (हदीस) मिलती हैं. ये सभी, जो जानकारी हमें देते हैं, उससे पता चलता है कि उस दौर में महिलाएँ मस्जिद में जाती थीं. हज़रत मोहम्मद की इमामत में नमाज़ पढ़ती थीं. उनके ख़याल से रोशन होती थीं. हज़रत आयेशा से पता चलता है कि महिलाएँ, फ़ज्र की नमाज़ में उनके साथ जमात में नमाज़ पढ़ती थीं. हज़रत उम्म सलमा बताती हैं कि हज़रत मोहम्मद मस्जिद में थोड़ी देर रुके रहते थे ताकि महिलाएँ मस्जिद से इतमिनान से बाहर निकल जाएँ. वे महिलाओं को मस्जिद में आने का बढ़ावा देते थे. उनका ख़ास ख़याल रखते थे. उनकी परेशानियों के बारे में बेहद संवेदनशील थे. एक ज़िक्र मिलता है. इसके मुताबिक हजरत मुहम्मद ने फ़रमाया कि मैं नमाज़ शुरू करता हूँ और इसको लम्बी पढ़ना चाहता हूँ लेकिन किसी बच्चे के रोने की आवाज़ सुनता हूँ तो नमाज़ मुख़्तसर कर देता हूँ. ऐसा उन्होंने क्यों किया? हज़रत मोहम्मद आगे कहते हैं, इसलिए कि मुझे मालूम है कि बच्चे के रोने की वजह से उसकी माँ को तकलीफ़ और बेचैनी होगी. यह तो साफ़ है कि महिलाएँ मस्जिद में नमाज पढ़ती ही थीं. हाँ, आज की ही तरह उस वक़्त भी संतान का लालन-पालन माँ ही किया करती थीं. हजरत मोहम्मद को न सिर्फ़ इस बात का अहसास था बल्कि उन्होंने इसे शिद्दत से महसूस किया. ये मुसलमान महिलाएँ बच्चे की वजह से परेशान भी न हों और उनकी इबादत भी पूरी हो, उन्होंने इसके ज़रिए यह राह भी दिखाई. क्या आज के वक़्त में महिलाओं के प्रति यह संवेदनशीलता दिखाई देती है? यही नहीं, ऐसे कई उदाहरण मिलते हैं, जहाँ वे महिलाओं को जुमा, ईद उल फित्र (ईद) और इदुज्जोहा (बकरीद) की नमाज़ों में शामिल होने का हुक्म देते हैं. किसी को आने में परेशानी है तो उसका हल निकालते हैं. जैसे- जब उन्होंने महिलाओं को ईद की नमाज़ में आने के लिए कहा तो कर्इ ने बताया कि उनके पास ओढ़ने के लिए चादर नहीं है. तो उन्होंने यह नहीं कहा कि वे न आयें. उन्होंने कहा की ऐसी महिलाओं को उनकी बहनें अपनी चादर ओढ़ा लें. यही नहीं, वे इसलिए भी महिलाओं को आने का बढ़ावा देते थे क्योंकि इन नमाज़ों के साथ ख़ुतबा होता था. इसमें तालीम और तर्बियत की बातें होती थीं. वे इस बात का ख़ास ख़याल रखते थे कि महिलाओं तक ये बात पहुँचे. इल्म सिर्फ मर्दों को न मिले बल्कि यहाँ मिलने वाले इल्म में महिलाएँ भी हिस्सेदार/ भागीदार हों. ऐसे भी उदाहरण हैं कि वे महिलाओं को अलग से भी ख़िताब किया करते थे. यह सब मस्जिद में हुआ करता था. यही नहीं, महिलाएँ भी नमाज़ पढ़ाती थीं. हाँ, नमाज पढ़ने और पढ़ाने की उनकी जगह अलग होती थी. तीन सबसे अहम मस्जिदें और स्त्रियाँ मज़हबी एतबार से मुसलमानों के लिए मक्का की मस्जिद अलहराम, मदीना की मस्जिदे नबवी, यरुशलम की मस्जिद अक़सा सबसे ज़्यादा अहमियत रखती हैं. इनमें इस्लाम के शुरुआती दौर में भी महिलाएँ नमाज़ पढ़ने के वास्ते जाती थीं. आज भी हज के दौरान महिला और पुरुष मुसलमान साथ-साथ मज़हबी हक़ अदा करते हैं. साथ-साथ नमाज पढ़ते हैं. इनमें उन देशों की भी महिलाएँ होती हैं, जो अपने देश की मस्जिदों में कभी नहीं गयीं या जिन्हें जाने नहीं दिया गया या जिन्हें बताया ही नहीं गया कि महिलाओं को मस्जिद जाना चाहिए या जिन्हें बताया तो गया लेकिन उसमें एक लाइन जोड़ दी गयी कि महिलाओं के लिए बेहतर है कि घर में ही नमाज़ पढ़ें. मस्जिद यानी इबादत, तालीम व तर्बियत की जगह शुरुआती दौर से ही मस्जिद का विचार, महज़ नमाज़ के लिए नहीं रहा है. मस्जिद की रचना कई मक़सद के लिए है. जैसे- नमाज़, इबादत, इल्म, सलाह-मशविरा, तबादला-ए-ख़याल, समाजी गुफ़्तुगू - उस दौर में ये सब यहाँ होते थे. अपने विचार से ही मस्जिद खुली जगह है. इसलिए देखा जाये तो मस्जिद में बड़े हॉल/ दालान के सिवाय क्या होता है? यह खुली जगह ही अपने आप में महत्वपूर्ण है. यानी सब एक साथ किसी तरह के समूह में इकट्ठे हो सकते हैं. यहाँ कोई ऐसी धार्मिक व्यवस्था नहीं है, जो समाजी/आर्थिक गैरबराबरियों को जगह देती हो या मजबूत करती हो. इसलिए तो शायद इक़बाल ने कहा था, एक ही सफ़ में खड़े हो गये महमूद ओ अयाज़, न कोई बंदा रहा, न कोई बंदा नवाज़. क्या इक़बाल की यह लाइन सिर्फ मर्द मुसलमानों पर लागू होगी? क्या यह महिलाओं को बराबरी के सफ़ से बाहर मानती है? मौलाना उमर अहमद उस्मानी अपनी किताब फ़िक्हुल क़ुरान में लिखते हैं, \"मसाजिद और इज्तमाई इबादतगाहें इब्तदाए अहदे इस्लामी में सिर्फ़ इबादत ही की जगह नहीं थीं बल्कि वह दर्सगाहें (तालीम की जगहें) और तर्बियतगाहें भी थीं. आनहज़रत सल्लेअल्लाह अलैहे वसल्लम ने औरतों की शिरकत को महज़ इबादत ही के लिए नहीं बल्कि औरतों की तालीम व तरबीयत के लिए भी इनकी शिरकत को ज़रूरी क़रार दिया था.\" यानी इस्लामी के शुरुआती दौर और हज़रत मोहम्मद के दौर में ऐसा कुछ नहीं मिलता है, जो महिलाओं को मस्जिद में जाने, इबादत करने, इकट्ठे जमात में नमाज पढ़ने के ख़िलाफ़ हो. जुमे की नमाज़ के दौरान ख़ुतबा होता है तो क्यों न उस दौर से कुछ सीखा जाये? उस दौर के मूल्यों उसूलों के बिना पर कुछ आगे किया जाए? क्यों न महिलाओं को मस्जिदों तक जाने की राह हमवार की जाए? इसलिए कि इस्‍लाम की बुनियादी किताब 'क़ुरान' में जब महिलाओं और पुरुषों को मज़हबी अक़ीदे के लिए ख़िताब किया तो उसने कोई फ़र्क नहीं किया. इसका सबसे बड़ा उदारहण सूरा अल-अहज़ाब की यह आयत है- मुसलमान मर्द और मुसलमान महिलाएँ और ईमान लाने वाले मर्द और ईमान लाने वाली महिलाएँ फ़रमाबरदारी करने वाले मर्द और फ़रमाबरदारी करने वाली महिलाएँ सच बोलने वाले मर्द और सच बोलने वाली महिलाएँ सब्र करने वाले मर्द और सब्र करने वाली महिलाएँ विनम्रता दिखाने वाले मर्द और विनम्रता दिखाने वाली महिलाएँ ... और अल्लाह को ख़ूब याद करने वाले मर्द और याद करने वाली महिलाएँ इन सबके लिए अल्लाह ने बड़ी माफ़ी और बड़ा बदला तैयार कर रखा है. अब अगर कोई मुसलमान लड़की या महिला यह सवाल करे कि स्त्री और पुरुष के लिए हमारे अल्लाह का हुक्म एक जैसा है तो फिर हमारे साथ भेदभाव का सुलूक क्यों? क्या उसका यह सवाल बेमानी होगा? (नोटः इस्‍लामी हवाले के लिए इन किताबों की मदद ली गयी है- सीरते आयशा: सैयद सुलेमान नदवी/ फिक़हुल क़ुरान: मौलाना उमर अहमद उस्‍मानी/ औरत और इस्‍लाम: मौलाना सैयद जलालुद्दीन उमरी) (बीबीसी हिन्दी के एंड्रॉएड ऐप के लिए आप यहां क्लिक कर सकते हैं. आप हमें फ़ेसबुक, ट्विटर, इंस्टाग्राम और यूट्यूब पर फ़ॉलो भी कर सकते हैं.)\n",
            "लेकिन जिस तरह गोरखपुर की सीट बीजेपी ने गंवाई उसने झटके में तीन सवाल को तो जन्म दे ही दिया है. पहला, चुनाव जातीय मैथेमेटिक्स पर चलेगा. दूसरा, विकास का नारा ग़रीबी हटाओ सरीखा एक जुमला है. तीसरा, परिवर्तन की बिसात बिछी हुई है, सिर्फ़ एक दमदार राजनेता की तलाश है जो राहुल गांधी नहीं हैं. नायडू के सियासी स्ट्रोक से कैसी निपटगी बीजेपी? नरेश अग्रवाल के बहाने क्या है बीजेपी का एजेंडा? हिन्दू महासभा बनाम संघ परिवार यानी चाहे अनचाहे 2014 के जनादेश को चुनौती देने के लिए 2019 तैयार हो रहा है. चूंकि गोरखपुर लोकसभा सीट दशकों से जातीय समीकरण को ख़ारिज करते हुए हिन्दू महासभा के पहचान के साथ जुड़ी रही और राजनीतिक तौर पर हिन्दू महासभा ने संघ परिवार को कहीं चुनौती दी तो वह गोरखपुर की ही सीट है. जहां महंत दिग्विजयनाथ से लेकर अवैद्यनाथ तक के दौर में न जनसंघ टिकी न बीजेपी. और योदी आदित्यनाथ की राजनीतिक ट्रेनिंग भी आरएसएस की शाखा में नहीं बल्कि गोरखधाम में पैर जमाए हिन्दू महासभा की उस सोच के तहत हुई जहां सावरकर का हिन्दुत्व बार-बार हेडगेवार के हिन्दुत्व से टकराता रहा है. पर संघ ने ही पहली बार सियासी पहल कर यूपी के मुख्यमंत्री के तौर पर हिन्दू महासभा के योगी आदित्यनाथ को नरेन्द्र मोदी-अमित शाह की पंसद मनोज सिन्हा के आगे खड़ा कर दिया. क्या रहे गोरखपुर और फूलपुर में बीजेपी के हार के कारण बीजेपी को त्रिपुरा जिताने वाली 'अलगाववादी' आईपीएफ़टी इसका अंदेशा नागपुर-दिल्ली को न था यानी योगी आदित्यनाथ सिर्फ मुख्यमंत्री भर नहीं बल्कि नागपुर के लिए गोरखपुर हिन्दुत्व की वह प्रयोगशाला भी है जिसके आसरे संघ के भीतर सावरकरवाद को अलग खड़े होने से रोकने से लेकर हिन्दुत्व के एजेंडे तले सत्ता को अनुकूल बनाना है. यानी वाजपेयी की तर्ज़ पर मोदी विकासवाद के नारे तले अगर संघ के एजेंडे को पूरा नहीं कर सकते हैं तो फिर योगी फॉर्मूला पर संघ चलेगा ये संकेत 2017 में दे दिए गए. पर योगी आदित्यनाथ की जो राजनीतिक काबिलियत संघ ने लगातार गोरखपुर लोकसभा सीट पर जीत में देखी उसकी ज़मीन मुख्यमंत्री बनाने के बरस भर के भीतर टूट जाएगी इसका अंदेशा न तो नागपुर को था न ही दिल्ली को. और यहीं से अगला सवाल खड़ा होता है कि अब संघ परिवार अपने स्वयंसेवक नरेन्द्र मोदी की सियासी क्षमता पर भरोसा करें और योगी सरीखे प्रयोग को ख़ारिज कर दें या फिर योगी-मोदी के संयुक्त सियासी मंत्र के बेअसर होने की बात मानकर अपने पुराने एजेंडे पर लौटें. लहर किसी की नहीं पर यहां संघ परिवार की हथेली उसी तरह खाली है जैसे मोदी के सामने किसी नेता को खड़ाकर 2019 के मैदान में कूदने के लिए विपक्ष के पास कोई नायाब चेहरा नहीं है. ज़ाहिर है ये हालात चाहे-अनचाहे 2019 की बिसात उसी मैथेमैटिक्स पर जा टिकते हैं जहां लहर किसी की नहीं है. जहां सोशल इंजीनियरिंग के नाम पर जातियों का उभार और हिन्दुत्व के नाम पर धर्मिक भावनाओं का टकराव वोटबैंक में तब्दील हो जाए. ये हालात भी मोदी सरकार से तीन कार्य तो कराएंगे ही. पहला, राम मंदिर निर्माण के लिए नवंबर तक रास्ता साफ कर दें. दूसरा, जनधन के नाम खुले बैंक खातों तक सरकारी मदद सीधे पहुंचाने में सक्षम हो जाएं. तीसरा, मायावती-अखिलेश की फाइलों को सीबीआई के ज़रिए खुलवा दें. और करप्शन के ख़िलाफ़ राजनीतिक लड़ाई का मुंह 2019 के लिए मोड़ दें. बाबरी मस्जिद विध्वंस के बाद ये हालात बिना मोदी लहर या विकास-रोज़गार के मोदी को सत्ता में ले आएंगे. मौजूदा वक्त में ये भी बड़ा सवाल है. क्योंकि राम मंदिर निर्माण का रास्ता भी ज़्यादा से ज़्यादा 1992 में बाबरी मस्जिद विध्वंस के बाद 1996 में हुए पहले लोकसभा चुनाव से ज़्यादा असर कैसे करेगा. ये भी सवाल है. 1996 में बीजेपी को राम मंदिर लहर के बावजूद 161 सीटें मिली थीं. हालांकि उसे सबसे ज़्यादा 29.65 फ़ीसदी वोट मिले थे. 99 सीटों पर बीजेपी दूसरे नंबर पर रही थी. यानी हिन्दुत्व या राम मंदिर की लहर भी बीजेपी को 200 पार कैसे कराएगी. ये सवाल जब 1996 में जवाब के तौर पर नहीं आया तो 2019 में कौन-सा जनादेश बीजेपी को दो सौ पार करायेगा ये सवाल है. फिर 1996 में तो हर वोटर अयोध्याकांड से वाकिफ था. पर 2019 में तो 27 फ़ीसदी वोटर का जन्म ही 1992 के बाद हुआ है. युवा वोटर्स के सवाल और कुल 38 फ़ीसदी युवा वोटर्स के सामने तो रोज़गार शिक्षा के सवाल हैं. विकास को लेकर उनकी अपनी परिभाषा सूचना तकनीकी के दौर में दुनिया से जा जुड़ी हैं. ऐसे में हिन्दुत्व या राम मंदिर का असर युवा वोटर पर होगा कितना ये भी सवाल है. यूं लहर तो राजीव गांधी की हत्या के बाद कांग्रेस की भी चली थी. पर 1991 के चुनाव में कांग्रेस भी 272 के जादुई आंकड़े को छू नहीं पाई थी. 45.69 फ़ीसदी वोट के साथ कांग्रेस को 244 सीट पर जीत मिली थी और बीजेपी को 22.47 फ़ीसदी के साथ 120 सीट पर जीत मिली. यानी 1991 में कांग्रेस की लहर 1996 में अयोध्या कांड की लहर तले इस तरह मटियामेट हुई कि उसका वोट 45.69 फ़ीसदी से घटकर 25.78 हो गया और बीजेपी का वोट 22.47 से बढ़कर 29.65 फ़ीसदी हो गया. यादव, जाटव और मुसलमान गठजोड़ यानी बीजेपी सिर्फ राम मंदिर के घोड़े पर सवार होकर 2019 में सत्ता में लौट आए यह असंभव सा है. क्योंकि 2014 में जिस उम्मीद-आस को जगाकर बीजेपी सत्ता में आई वह 2019 में कांग्रेस या कहें पूरे विपक्ष को ही हर पुराने भार से मुक्त किए हुए हैं. यानी 2014 में मोदी के जादुई रंग ने बीजेपी को 2009 के मुकाबले 12.19 फ़ीसदी ज़्यादा वोट दिलाते हुए 31 फ़ीसदी वोट दिला दिए. और कांग्रेस के वोट 2009 के मुकाबले 9.25 फ़ीसदी घटकर 28.55 फ़ीसदी से 18.80 फ़ीसदी ही रह गए. यानी 1991 के बाद से सिर्फ भारतीय बाजार ही पूंजी में नहीं सिमटे बल्कि राजनीतिक बिसात भी पारंपरिक राजनीतिक मिजाज़ में सिमटकर रह गई और उसे 2014 में मोदी ने गुजरात मॉडल के ज़रिए जिस ज़ोर से धक्का दिया. क्या संघ का मोदी प्रेम ख़त्म हो रहा है? संयोग से उसी गुजरात मॉडल की सांसें भी 2017 के विधानसभा चुनाव में फूलने लगी. तो फिर 2019 के लिए किस पार्टी के पास क्या कुछ देने के लिए है. खासकर तब जब 1991 से 2014 तक लगातार जिस गोरखपुर से योगी आदित्यनाथ जीतते रहे उसी गोरखपुर में नंगी आंखों से दिखाई देने वाले यादव, जाटव और मुसलमान गठजोड़ ने बीजेपी की हर हाल में जीत की कश्ती में ही छेद कर दिया. इसी दौर में संघ परिवार के भीतर हिन्दुत्व से इतर आर्थिक सवालों को लेकर उठापटक मची रही. किसान संघ से लेकर मज़दूर संघ और स्वदेशी जागरण मंच से लेकर विहिप तक मोदी से टकराते नज़र आए. संघ को अपने इशारे पर नचाते नरेन्द्र मोदी मज़दूर संघ, किसान संघ और स्वदेशी जागरण के पदाधिकारियों को तो बदलवा गए पर तोगड़िया की छुट्टी करा नहीं पाए और भैयाजी जोशी की जगह दत्तात्रेय होसबोले की सहकार्यवाहक के पद पर नियुक्ति भी ना करा पाए. संघ परिवार की हिन्दू प्रयोगशाला और भैयाजी जोशी भी चौथी बार सरकार्यवाहक बनने के बाद राम मंदिर के साथ-साथ किसानों की बदहाली का ज़िक्र करने से भी नहीं चूके. यानी चाहे-अनचाहे संघ परिवार का मोदी प्रेम उसी तरह ख़त्म हो रहा है जैसे कभी वाजपेयी प्रेम ख़त्म हुआ था. उस वक्त वाजपेयी चाहते थे कि राजनीति समझने वाले मदनदास देवी सरकार्यवाह बनें. पर तब के सरसंघचालक सुदर्शन ने मोहन भागवत को सरकार्यवाह नियुक्त किया. यानी गोरखपुर के जनादेश तले 2019 की बिसात सिर्फ विपक्ष की रणनीति पर ही नहीं टिकी है बल्कि बीजेपी-संघ परिवार की हिन्दू प्रयोगशाला पर भी टिकी है. और अरसे बाद क्षत्रपों की महत्ता बहुत साफ़ बता रही है कि 2019 का चुनाव किसी वादे-उम्मीद-आस या चुनावी तिलिस्म पर नहीं होगा बल्कि शुद्ध सत्ता पाने की जोड़तोड़ पर होगा जिसमें जीते कोई पर वोटर हारेगा ये तय है. (बीबीसी हिन्दी के एंड्रॉएड ऐप के लिए आप यहां क्लिक कर सकते हैं. आप हमें फ़ेसबुक और ट्विटर पर फ़ॉलो भी कर सकते हैं.)\n",
            "अनुच्छेद 370 के ख़ात्मे के साथ-साथ केंद्र सरकार ने जम्मू-कश्मीर राज्य पुर्नगठन बिल का भी प्रस्ताव रखा, जिसे संसद के दोनों सदनों ने पास कर दिया. यानी जम्मू-कश्मीर अब दो केंद्र शासित प्रदेश में विभाजित हो गया है. एक जम्मू-कश्मीर और दूसरा लद्दाख. नरेंद्र मोदी सरकार ने अपने दूसरे कार्यकाल के पहले संसदीय सत्र के दौरान जिस तरह तेज़ी से एनआईए, आरटीआई, यूएपीए, मोटर वाहन और श्रम क़ानून जैसे बिल पास कराए उसे चुनावी घोषणा पत्र के वादों को पूरा करने से जोड़ कर देखा जा रहा है. वहीं घोषणा पत्र में शामिल राम मंदिर जैसे बड़े मुद्दे पर भी जल्द ही समाधान निकलने की उम्मीद जताई जा रही है. इस पर वर्तमान स्थिति है कि यह मध्यस्थता के ज़रिए नहीं बल्कि अदालती सुनवाई के ज़रिए हल होगा और सुप्रीम कोर्ट में इसकी रोज़ाना सुनवाई शुरू हो चुकी है. अनुच्छेद 370 पर आए फ़ैसले के बाद अब बीजेपी का अगला कदम क्या होगा? दरअसल भारत में समान नागरिकता के क़ानून के लिए बहस लगातार चलती रही है. इसकी वकालत करने वाले लोगों का कहना है कि देश में सभी नागरिकों के लिए एक जैसा नागरिक क़ानून होना चाहिए, फिर चाहे वो किसी भी धर्म से क्यों न हों. ऐसी सुगबुगाहटें हैं कि सरकार का अगला क़दम समान नागरिक संहिता यानी कॉमन सिविल कोड या फिर यूनिफ़ॉर्म सिविल कोड को लागू करने की कोशिश हो सकती है. हाल में एक भारतीय टेलिवीज़न चैनल तो दिए इंटरव्यू में बीजेपी के महासचिव राम माधव ने कहा था, \"तीन तलाक बिल लाने के साथ हम उस दिशा में आगे बढ़ रहे हैं. मोदी सरकार समान नागरिक संहिता लाने के लिए प्रतिबद्ध है.\" उनका कहना था कि सरकार समान नागरिक संहिता के वादे तीन-चार साल में पूरे करने की कोशिश करेगी. संसद के इसी सत्र में मांग भी उठी 17वीं लोकसभा के इसी सत्र में बीजेपी सांसद निशिकांत दुबे देश में समान नागरिक संहिता यानी यूनिफ़ॉर्म सिविल कोड लागू करने की मांग उठा चुके हैं. निशिकांत दुबे ने लोकसभा में प्रश्नकाल के दौरान कहा कि संविधान के दिशानिर्देशक सिद्धांतों के तहत देश में समान नागरिक संहिता (यूनिफ़ॉर्म सिविल कोड) होनी चाहिए. निशिकांत दुबे ने कहा, \"समय आ गया है कि समान नागरिक संहिता के लिए विधेयक सदन में लाया जाए. जिससे सब नागरिक भारतीय कहलाएं, न कि हिंदू, मुस्लिम या ईसाई.\" फिलहाल देश में मुसलमानों, ईसाइयों और पारसी समुदाय का अपना पर्सनल लॉ है जबकि हिंदू सिविल लॉ के तहत हिंदू, सिख, जैन और बौद्ध आते हैं. मुस्लिम पर्सनल लॉ में महिलाओं को पैतृक और पति की संपत्ति में वैसा अधिकार नहीं है जैसा हिंदू सिविल लॉ के तहत महिलाओं को मिला है. समान नागरिक संहिता के लागू हो जाने पर शादी, तलाक़ और ज़मीन-जायदाद के बंटवारे को लेकर एक समान क़ानून लागू होगा और यही सबसे बड़ा पेंच है. यूनिफ़ॉर्म सिविल कोड का अर्थ एक निष्पक्ष क़ानून है, जिसका किसी धर्म से कोई ताल्लुक नहीं है. यानी यूनिफ़ॉर्म सिविल कोड लागू होने से हर मज़हब के लिए एक जैसा क़ानून आ जाएगा. क्या है यूनिफ़ॉर्म सिविल कोड? भारतीय संविधान के तहत क़ानून को मोटे तौर पर दो भागों में बांटा जा सकता है. दीवानी (सिविल) और फ़ौजदारी (क्रिमिनल). शादी, संपत्ति, उत्तराधिकार जैसे परिवार से संबंधित व्यक्ति से जुड़े मामलों के लिए क़ानून को सिविल क़ानून कहते हैं. हालांकि संविधान में समान नागरिक संहिता को लागू करना अनुच्‍छेद 44 के तहत राज्‍य (केंद्र और राज्य दोनों) की ज़िम्‍मेदारी बताया गया है. लेकिन इसे लेकर बड़ी बहस चलती रही है यही वजह है कि इस पर कोई बड़ा कदम आज तक नहीं उठाया गया है. सुप्रीम कोर्ट के वकील विराग गुप्ता कहते हैं, \"भारत में क़ानून व्यवस्था सामान्यतः राज्यों के अधिकार क्षेत्र में आती है. वहीं कई मामले समवर्ती सूची में आते हैं जो राज्य और केंद्र दोनों के अधिकार में है. अगर केंद्र का कोई क़ानून बनता है, यहां तक कि क्रिमिनल लॉ भी, तो उसे राज्यों द्वारा अपने स्तर पर बदलाव किया जा सकता है या केंद्र के मॉडल क़ानून की तर्ज पर राज्य भी अपना क़ानून ला सकते हैं.\" \"भारत में विवाह को लेकर दक्षिण भारत हो या पूर्वोत्तर राज्य या आदिवासी इलाकों में अलग अलग परंपराएं हैं. उत्ताराधिकार की परंपराएं भी भिन्न हैं.\" विराग कहते हैं, \"यूनिफ़ॉर्म सिविल कोड की बात करें तो उसमें दो पहलू आते हैं. पहला सभी धर्मों के बीच एक जैसा क़ानून. दूसरा उन धर्मों के सभी समुदायों के बीच भी एक जैसा क़ानून.\" वो कहते हैं, \"यह जटिल प्रक्रिया है जिसके लिए संविधान के डायरेक्टिव प्रिंसिपल (नीति निर्देशक तत्व) में ज़िक्र किया गया है कि आने वाले वक़्त में हम समान नागरिक संहिता की दिशा में प्रयास करेंगे. लेकिन उस दिशा में आज तक कोई बहुत बड़ा कदम नहीं उठाया गया है.\" अल्पसंख्यकों को इससे डर क्यों? समान नागरिक संहिता राज्य (केंद्र और राज्य दोनों) की ज़िम्मेदारी है. राज्य के नीति निर्देशक तत्व में यह बताया गया है कि केंद्र और राज्य दोनों के क्या कर्तव्य हैं. इसमें यह ज़िम्मेदारी दी गई है कि देश में भारतीयता का एक भाव बने उसके लिए समान नागरिक संहिता यानी यूनिफ़ॉर्म सिविल कोड की दिशा में प्रयास करेंगे. लेकिन इसमें मुश्किल बहुस्तरीय सामाजिक संरचना है जिसे लेकर बहुत अंर्तविरोध हैं. विराग कहते हैं, \"यूनिफ़ॉर्म सिविल कोड को हिंदू और मुसलमानों से ही जोड़ा जाता है. जबकि मुसलमानों के शादी और उत्तराधिकार के अलग तरह के प्रावधान हैं. वहीं हिंदू के भीतर भी कई समुदाय हैं जिसमें कई तरह के अंर्तद्वंद्व हैं. मुसलमानों या ईसाइयों की आपत्ति की बात होती है लेकिन भारत में कई तरह के समुदाय, कई तरह के वर्ग, परंपराएं हैं. लिहाजा एक तरह के सिविल लॉ को लागू करने पर किसी भी समुदाय के रस्मो-रिवाज़ में अगर एक भी गड़बड़ी होगी तो उसको आपत्ति होगी.\" वे कहते हैं, \"मुसलमान और ईसाई भले ही भारत में अल्पसंख्यक हैं लेकिन अंतरराष्ट्रीय स्तर पर उनके पास ठोस परंपराएं हैं. लिहाज़ा यूनिफ़ॉर्म सिविल कोड के लागू होने पर उन्हें डर है कि उनकी विशिष्टता ख़तरे में पड़ सकती है.\" मुस्लिम पर्सनल लॉ बोर्ड के सचिव ज़फ़रयाब जिलानी मुस्लिम पर्सनल लॉ बोर्ड का क्या है कहना? मुस्लिम पर्सनल लॉ बोर्ड के सचिव ज़फ़रयाब जिलानी के मुताबिक शरीयत क़ानून \"अल्लाह का दिया है न कि मनुष्य का\". वो कहते हैं, \"हम साफ़ कहते हैं कि हमारा शरीयत क़ानून है जो क़ुरान और हदीस पर आधारित है. लिहाजा कोई संसद इसका संशोधन नहीं कर सकती, न हम उसे मानेंगे. यह हम काफी पहले से कहते आ रहे हैं और आज भी इस पर कायम हैं.\" जिलानी कहते हैं, \"मुस्लिम पर्सनल लॉ में कोई तब्दीली मुसलमान नहीं कर सकता है. उसको अख़्तियारी नहीं है. यह सिविल लॉ नहीं हो सकता है. न तो इसमें कोई मुसलमान दखल कर सकता है और न ही किसी दूसरे को दखल करने दे सकता है.\" तीन तलाक़ को ख़त्म करने पर जिलानी कहते हैं, \"तीन तलाक़ पर क़ानून पास हो गया है लेकिन हमारे रोज़मर्रा की ज़िंदगी पर इसका कोई असर नहीं पड़ेगा क्योंकि इस तरह से तलाक़ देने वालों की संख्या बहुत कम है. संसद में हमारी कोशिशों के बावजूद यह पास हो गया. अब इस पर हम क़ानून का दरवाज़ा खटखटाने के लिए मीटिंग कर रहे हैं.\" जिलानी के अनुसार पैतृक संपत्ति में महिला का अधिकार मुस्लिम पर्सनल लॉ (शरीयत) के अनुसार दिया जाता है. वो कहते हैं, \"शरीयत क़ानून में हमारा भविष्य सुरक्षित है और यदि कोई और क़ानून होगा तो हमें दिक्कतें पेश आएंगी. हमारी औरतें भी यूनिफॉर्म सिविल लॉ के ख़िलाफ़ हैं.\" जिलानी का दावा है कि मुसलमान महलाएं यूनिफॉर्म सिविल लॉ के ख़िलाफ़ सड़कों पर उतर चुकी हैं और इसके ख़िलाफ़ चार करोड़ औरतों ने एक ज्ञापन पर दस्तखत भी किए हैं. यूनीफॉर्म सिविल लॉ चुनौतीपूर्ण सुप्रीम कोर्ट के वकील विराग गुप्ता कहते हैं, \"जनसंघ के समय से 370, राम मंदिर और यूनिफ़ॉर्म सिविल कोड बीजेपी के तीन महत्वपूर्ण मुद्दे रहे हैं. जिस तरीके से बीजेपी ने 370, 35ए और कश्मीर के बारे में फ़ैसला लिया, वह बाकी दो अन्य मुद्दों में नहीं दिखा है.\" विराग कहते हैं, \"370 के मामले में यह कहा जा सकता है कि वह अस्थायी व्यवस्था थी जिसे 70 सालों से संविधान में अतिरिक्त जोड़ा गया था.\" वो कहते हैं, \"यूनिफ़ॉर्म सिविल कोड के मुद्दे को पहले कार्यकाल के दौरान विधि आयोग यानी लॉ कमीशन के पास रेफर कर दिया गया. जिसने बहुत ही कच्चे तरीके से एक प्रश्नावली जारी की, उसमें वो रिसर्च या गंभीरता नहीं थी जिससे इस मुद्दे पर बात आगे बढ़ती. इसलिए तीन तलाक़ पर जो एक ख़ास समुदाय का छोटा सा पहलू था, उस पर क़ानून बना. हालांकि इसे माना जाता है कि यह यूनिफ़ॉर्म सिविल लॉ की दिशा में मील का पत्थर है लेकिन विधि आयोग की रिपोर्ट या सरकार के पास ऐसी कोई ढंग की रिसर्च नहीं है जिसे लेकर यूनिफ़ॉर्म सिविल कोड की दिशा में एक ठोस पहल की जा सके.\" विराग कहते हैं, \"बच्चा गोद लेना, लड़का और लड़की का अधिकार, भाई और बहन का अधिकार, शादी के पहले और शादी के बाद अधिकार. इन पर अलग-अलग धर्म, अलग-अलग क्षेत्रों और अलग-अलग समुदायों में अलग-अलग रिवाज़ हैं और उन्हें एक क़ानून में ढालना चुनौतीपूर्ण है.\" अखिल भारतीय ईसाई परिषद के महासचिव जॉन दयाल ईसाई और यूनिफ़ॉर्म सिविल कोड अखिल भारतीय ईसाई परिषद के महासचिव जॉन दयाल ने बीबीसी से कहा कि \"हिन्दुओं में भी यूनिफ़ॉर्म सिविल कोड नहीं है. दक्षिण भारत में हिन्दू समाज के एक तबके में मामा और भांजी के बीच शादी की प्रथा है. अगर कोई हरियाणा में ऐसा करे तो दोनों की हत्या हो जाएगी. सैकड़ों जातियां हैं जिनके शादी के तरीके और नियम अलग अलग हैं.\" वो कहते हैं, \"उसी तरह ईसाइयों में भी कॉमन सिविल कोड है मगर कई ईसाई अपनी जाति में ही शादी करना चाहते हैं. अब हमारे बीच रोमन कैथलिक भी हैं और प्रोटेस्टेंट भी.\" जॉन दयाल कहते हैं, \"मैं रोमन कैथलिक हूँ और हमारे यहां तलाक़ की कोई गुंजाइश नहीं है. शादी हमारे यहां जन्म जन्मान्तर का बंधन है. वहीं प्रोटेस्टेंट्स में तलाक़ होता है. यह जो भारतीय जनता पार्टी रह रहकर यूनिफ़ॉर्म सिविल कोड की बात उछालती है वो सिर्फ़ राजनीतिक लाभ लेने के लिए ऐसा करती है.\" वो कहते हैं, \"इस मुद्दे पर राजनीतिक दल भी अछूते नहीं हैं. यूनिफ़ॉर्म कोड पर कोई गंभीर नहीं है. हमें कोई प्रारूप दिखाओ तो सही. कुछ भी नहीं है.\" जानकारों का यही कहना है कि यूनिफ़ॉर्म सिविल कोड के मसले पर देश में बहुत बड़े पैमाने पर क़ानूनों में बदलाव करना पड़ेगा जो मुश्किल और चुनौतीपूर्ण है. यह एक लंबी चलने वाली प्रक्रिया है जिसे एक झटके में किया जाना संभव नहीं लगता. ये भी पढ़ें: (बीबीसी हिन्दी के एंड्रॉएड ऐप के लिए आप यहां क्लिक कर सकते हैं. आप हमें फ़ेसबुक, ट्विटर, इंस्टाग्राम और यूट्यूबपर फ़ॉलो भी कर सकते हैं.)\n",
            "अमरीकी सेना के एक प्रवक्ता ने कहा कि सैनिक बग़दाद के उत्तरी शहर तरमीया में पैदल गश्त लगा रहे थे कि तभी उन पर बमों से हमला किया गया. मौक़े पर मौजूद लोगों का कहना है कि बमों को संभवतः सड़क के किनारे पेड़ों में छुपाया गया था. बम धमाकों से सैनिकों की लाशें हवा में उछल गईं और तभी उन पर गोलियाँ भी चलाईं गईं. इराक़ी अधिकारियों ने कहा है कि एक अन्य घटना में उन्होंने चरमपंथी नेता अबू मुसाब अल ज़रक़ावी के एक सहायक को पकड़ लिया है. इराक़ी अधिकारियों ने कहा है कि पकड़े गए व्यक्ति का नाम अबू क़ूतयबाह बताया गया है और वह अन्य चरमपंथी नेताओं के साथ रसद का इंतज़ाम करने और संबंध क़ायम रखने के लिए ज़िम्मेदार रहा है.\n",
            "मुंबई के पूर्व पुलिस कमिश्नर परमबीर सिंह का पत्र सामने आने के बाद महाराष्ट्र में विरोध प्रदर्शन, बयानबाज़ी, इस्तीफ़े की मांग, बैठक और प्रेस कॉन्फ्रेंस के साथ दिनभर महाराष्ट्र में सरगर्मियाँ तेज़ रहीं. अब तो परमबीर सिंह अपने आरोपों के साथ सुप्रीम कोर्ट पहुँच चुके हैं. पढ़िए विस्तार से- परमबीर सिंह ने सुप्रीम कोर्ट में दायर की याचिका, अनिल देशमुख की सीबीआई जांच कराई जाए 20 मार्च को परमबीर सिंह का मुख्यमंत्री उद्धव ठाकरे को लिखा एक पत्र सामने आया था. पत्र में उन्होंने आरोप लगाया था कि गृह मंत्री अनिल देशमुख ने शीर्ष पुलिस अधिकारियों को हर महीने 100 करोड़ रुपये की वसूली का टार्गेट दिया था. समाप्त ये आरोप लगने की देर थी कि विपक्ष में बैठी बीजेपी ने अनिल देशमुख से तुरंत इस्तीफ़ा मांगना शुरू कर दिया. लेकिन आरोपों से घिरे गृह मंत्री अनिल देशमुख के बचाव में खड़े हो गए राष्ट्रवादी कांग्रेस पार्टी (एनसीपी) के प्रमुख शरद पवार. देशमुख शरद पवार के क़रीबी माने जाते हैं. वहीं, इसी बीच मुकेश अंबानी के घर के पास विस्फोटक रखने और मनसुख हिरेन की मौत के मामले में भी एक नया मोड़ आया. इस मामले में दो लोगों को गिरफ़्तार किया गया है. मुकेश अंबानी के घर के बाहर जिस स्कॉर्पियो गाड़ी में विस्फोटक मिले थे, उसके मालिक मनसुख हिरेन की कुछ दिनों बाद मौत हो गई थी. मनसुख हिरेन का शव पाँच मार्च को ठाणे में मिला था. मुंबई एटीएस ने इस मामले को सुलझाने का दावा किया है. इस मामले में दो लोगों को गिरफ़्तार किया गया है. कौन हैं दो लोग गिरफ़्तार किए गए लोगों में एक शख़्स निलंबित पुलिस कर्मचारी विनायक शिंदे हैं और दूसरा एक बड़ा बुकी नरेश है. इन दोनों को ही कोर्ट ने 30 मार्च तक एटीएस की हिरासत में भेज दिया है. विनायक शिंदे को लखनभईया एनकाउंटर मामले में उम्रक़ैद की सज़ा हो चुकी है. बताया जा रहा है कि 2020 में परोल पर रिहा होने के बाद वो सचिन वाझे के संपर्क में थे. मुंबई पुलिस के अधिकारी सचिन वाझे अंबानी मामले में कैसे फंसे? खास बात ये भी है कि इस मामले को एनआईए को देने के आदेश मिलने के कुछ घंटों बाद ही एटीएस को इसे सुलझाने में सफलता मिल गई. एटीएस में आईपीएस अधिकारी शिवदीप लांडे की निगरानी में इस मामले की जांच चल रही थी. उन्होंने एक फ़ेसबुक पोस्ट के ज़रिए मामला सुलझने की जानकारी दी. शिवदीप लांडे ने लिखा, “अति संवेदनशील मनसुख हिरेन मर्डर केस की गुत्थी सुलझी. मैं अपने पूरे एटीएस पुलिस फ़ोर्स के सभी साथियों को दिल से सैल्यूट करता हूँ, जिन्होंने पिछले कई दिनों से रात-दिन एक करके इस केस में न्यायपूर्ण तरीक़े से परिणाम निकाला. ये केस मेरे पुलिस करियर के अब तक के सबसे जटिल केस में से एक रहा.” कौन हैं शिवदीप लांडे इस ख़बर के साथ ही शिवदीप लांडे भी चर्चा में आ गए. शिवदीप लांडे बिहार की राजधानी पटना में अपनी तैनाती के दौरान काफ़ी चर्चा में रहे हैं. उन्हें “पटना के रॉबिनहुड” के नाम से भी जाना जाता है. अब वो महाराष्ट्र में तैनात हैं. शिवदीप लांडे शिवसेना नेता विजय शिवतरे के दामाद हैं. उनकी पत्नी का नाम ममता शिवतरे है. विजय शिवतरे महाराष्ट्र में जल संसाधन राज्यमंत्री रह चुके हैं. वह शिवसेना के प्रवक्ता भी बनाए गए थे. लेकिन, 2019 के विधानसभा चुनाव में उन्हें कांग्रेस नेता संजय जगताप से हार का सामना करना पड़ा था. सचिन वाझे फ़िलहाल राष्ट्रीय जाँच एजेंसी (एनआईए) की हिरासत में हैं. एनआईए मुकेश अंबानी मामले की जाँच कर रही है. इस मामले में सचिन वाझे की भूमिका की भी जाँच हो रही है. एनआईए के मुताबिक़ वाझे इस मामले में शामिल थे. रविवार को क्या-क्या हुआ रविवार सुबह से ही मुंबई में अनिल देशमुख के ख़िलाफ़ जगह-जगह विरोध प्रदर्शन होने लगे थे. बीजेपी कार्यकर्ताओं ने नागपुर और मुंबई में विरोध प्रदर्शन करते हुए गृह मंत्री अनिल देशमुख का इस्तीफ़ा मांगा और मामले की जाँच कराने की मांग की. परमबीर सिंह: सुशांत सिंह राजपूत से लेकर मुकेश अंबानी-सचिन वाझे मामले तक 5 विवाद सचिन वाझे की गिरफ़्तारी: कांग्रेस-एनसीपी की चुप्पी का क्या मतलब है? वित्त राज्यमंत्री अनुराग ठाकुर ने कहा, “एक सीनियर पुलिस अफ़सर और पूर्व पुलिस कमिश्‍नर ने राज्‍य के सीएम को पत्र लिखकर गृह मंत्री पर बड़े सवाल उठाए हैं, आरोप लगाए हैं. इसकी गंभीरता से जाँच होनी चाहिए. अगर मुंबई पुलिस की यह हालत है तो आप महाराष्‍ट्र की कल्‍पना कर सकते हैं.” बीजेपी सांसद किरीट सोमैया ने कहा, “सचिन वाझे की वसूली गैंग महाराष्‍ट्र के गृहमंत्री के लिए हर महीने 100 करोड़ की वसूली करती थी. उद्धव सरकार को 15 महीने हो गए इसलिए सरकार को 1500 करोड़ के भ्रष्‍टाचार का हिसाब देना होगा.” मनसे प्रमुख राज ठाकरे ने भी इस्तीफ़े की मांग करते हुए कहा, “अनिल देशमुख को तुरंत इस्‍तीफ़ा देना चाहिए. मुख्‍य मुद्दा एक उद्योगपति के घर के पास विस्‍फोटक मिलने का है. मैं केंद्र सरकार से हस्‍तक्षेप करने की अपील करता हूँ. राज्‍य सरकार इस मामले की जाँच नहीं कर सकती.” एक तरफ अनिल देशमुख पर इस्तीफ़ा देने का दबाव बढ़ रहा है, वहीं, महाविकास अघाड़ी पर भी संकट के बादल मँडरा रहे थे. शरद पवार की प्रेस कॉन्फ्रेंस एनसीपी प्रमुख शरद पवार और अनिल देशमुख इसके बाद शरद पवार ने एक प्रेस कॉन्फ़्रेंस की और अनिल देशमुख का बचाव किया. शरद पवार ने कहा, “अनिल देशमुख पर लगे आरोप गंभीर हैं, लेकिन उनके इस्तीफ़े पर विचार मुख्यमंत्री करेंगे.” साथ ही कहा कि इससे सरकार की छवि पर कोई असर नहीं पड़ेगा. मुकेश अंबानी केस में मुंबई पुलिस ऑफिसर सचिन वाझे विवादित कैसे बने परमबीर सिंह मुंबई पुलिस कमिश्नर के पद से हटाए गए उन्होंने परमबीर सिंह पर निशाना साधते हुए कहा, “सचिन वाझे की बहाली का फ़ैसला मुंबई के पूर्व कमिश्नर ने लिया था, ना कि मुख्यमंत्री ने. मैं ये कह सकता हूँ कि इसका सरकार पर कोई असर नहीं होगा. गृह मंत्री के ख़िलाफ़ लगे आरोपों पर जाँच कराने का महाराष्ट्र के मुख्यमंत्री के पास पूरा अधिकार है.” शरद पवार ने जाँच कराने के लिए पूर्व आईपीएस अधिकारी जूलियो रिबेरो का नाम भी सुझाया. उन्होंने कहा, “मैं परमबीर सिंह के दावों की जाँच करने के लिए पूर्व आईपीएस अधिकारी जूलियो रिबेरो की मदद लेने का मुख्यमंत्री उद्धव ठाकरे को सुझाव दूँगा.” हालाँकि, शरद पवार के सुझाव के बाद जूलियो रिबेरो ने इस मामले में जाँच करने से इनकार कर दिया. जूलियो रिबेरो मुंबई के पुलिस कमिश्‍नर रह चुके हैं. उनकी एक ईमानदार अफसर की छवि रही है. वो सीआरपीएफ़ के महानिदेशक भी रह चुके हैं. जूलियो रिबेरो ने न्यूज़ चैनल एनडीटीवी से बात करते हुए कहा, “ये बहुत ही मुश्किल स्थिति है और मैं नहीं जानता कि ये कहाँ तक जाएगा. बेहतर है कि राजनेता इसे ख़ुद सुलझा लें.” जूलियो रिबेरो ने ये भी कहा, “मैं जाँच के लिए उपलब्ध नहीं हूं. किसी ने भी मुझसे संपर्क नहीं किया है, किसी भी मामले में अगर वो मुझसे संपर्क करते हैं, तो भी मैं उपलब्ध नहीं हूँ.” इस्तीफ़े से इनकार वहीं, इसके बाद दिल्ली में शरद पवार के घर पर बैठक हुई. जिसमें संजय राउत और एनसीपी नेता जयंत पाटिल, अजित पवार, प्रफुल्ल पटेल और सुप्रिया सुले भी शामिल हुईं. इसमें कांग्रेस नेता और मध्य प्रदेश के पूर्व मुख्यमंत्री कमलनाथ भी मौजूद थे. बैठक से बाहर आकर एनसीपी के प्रदेश अध्यक्ष जयंत पाटिल ने मीडिया से बातचीत करते हुए कहा कि अनिल देशमुख के इस्तीफ़े का सवाल ही नहीं है. उनके इस्तीफ़े की ज़रूरत नहीं है. मामले की जाँच महाराष्ट्र एटीएस और एनआईए कर रही है. जयंत पाटिल ने कहा कि मुंबई के पूर्व पुलिस कमिश्नर परमबीर सिंह ने किसी को ख़ुश करने के लिए चिट्ठी लिखी है. सचिन वाझे को शिवसेना से जोड़ना ग़लत होगा. वहीं, विपक्ष में बैठी बीजेपी भी सरकार का लगातार निशाना साध रही है. शरद पवार की प्रेस कॉन्फ़्रेंस के बाद महाराष्ट्र के मुख्यमंत्री देवेंद्र फडणवीस ने कहा, “गृह विभाग के कारोबार पर सवाल उठाने वाले परमबीर सिंह पहले व्यक्ति नहीं हैं. इससे पहले महाराष्ट्र के डीजी सुबोध जायसवाल ने गृह विभाग में होने वाली रिश्वतखोरी, तबादले के बारे में महाराष्ट्र के मुख्यमंत्री को एक रिपोर्ट सौंपी थी. लेकिन सीएम ने इस पर कार्रवाई नहीं की.” देवेंद्र फडणवीस ने कहा, “शरद पवार साहब महाराष्ट्र सरकार को बचाने की ज़िम्मेदारी अपने कंधे पर लिए हुए हैं, क्योंकि उन्होंने ही इस सरकार को बनाया है. इसलिए वो मानते हैं कि वो अपने प्रोडक्ट को सुरक्षित रखें.” उन्होंने कहा कि शरद पवार ने ये तो कहा कि सचिन वाझे को परमबीर सिंह ने बहाल किया था, लेकिन ये फ़ैसला बिना आशीर्वाद के संभव नहीं था. वहीं, शिवसेना नेता संजय राउत ने देशमुख के इस्तीफ़े को लेकर जवाब दिया. उन्होंने कहा, “अगर एनसीपी प्रमुख ने फ़ैसला किया है कि आरोपों की जाँच होनी चाहिए, तो उसमें ग़लत क्या है? कोई भी कोई आरोप लगा सकता है. अगर लोग मंत्रियों को इस्तीफ़े इसी तरह लेते रहे, तो सरकार चलाना मुश्किल हो जाएगा.” महाराष्ट्र की सियासत में एक चिट्ठी से आया भूचाल परमबीर सिंह के दस्तख़त शरद पवार ने प्रेस कॉन्फ़्रेंस के दौरान परमबीर सिंह पर ही सवाल खड़े कर दिए थे. शरद पवार ने कहा कि परमबीर सिंह ने देशमुख पर आरोप तो लगाए, लेकिन कोई प्रमाण नहीं दिए गए. पत्र में यह नहीं कहा गया कि पैसा किसके पास गया. वहीं, पत्र पर परमबीर सिंह के दस्तख़त भी नहीं थे. उन्होंने परमबीर सिंह के पत्र लिखने के समय पर भी सवाल उठाया और कहा कि उन्होंने ट्रांसफ़र होने के बाद ही ये आरोप क्यों लगाए. इसके जवाब में परमबीर सिंह ने स्पष्ट किया है कि सीएम को वो पत्र उन्होंने ही भेजा है. उन्होंने न्यूज़ चैनल इंडिया टुडे से बातचीत में कहा, “सीएम उद्धव ठाकरे को मेरी ईमेल आईडी से ही पत्र भेजा गया है.” कांग्रेस की प्रतिक्रिया महाराष्ट्र की महाविकास अघाड़ी सरकार में शिवसेना, एनसीपी और कांग्रेस शामिल हैं. इस मामले पर महाराष्ट्र कांग्रेस प्रभारी और वरिष्ठ नेता एचके पाटिल ने कहा कि उन्होंने कांग्रेस नेता बालासाहेब थोराट,अशोक चह्वाण और प्रदेश कांग्रेस अध्यक्ष नाना पटोले से बातचीत की है. बालासाहेब थोराट और अशोक चह्वाण पत्र में लगे आरोपों के मामले में सीएम उद्धव ठाकरे से मिलेंगे. उन्होंने कहा कि अंतिम फ़ैसला मुख्यमंत्री का होगा. मुकेश अंबानी के घर के पास विस्फोटक: एनआईए को जाँच सौंपने पर शुरू हुई राजनीति महाराष्ट्र: अनिल देशमुख बने उद्धव ठाकरे के लिए मुश्किल वहीं, कांग्रेस के ही नेता संजय निरुपम ने कांग्रेस को कोई स्टैंड लेने की सलाह दे डाली है. उन्होंने ट्वीट किया, “परमबीर सिंह जो भी कह रहे हैं, अगर वो सच है, तो शरद पवार जी से सवाल पूछना चाहिए क्योंकि मौजूदा महाराष्ट्र सरकार के आर्किटेक्ट हैं. कांग्रेस को इस मसले पर कोई स्टैंड लेना चाहिए.” (बीबीसी हिन्दी के एंड्रॉएड ऐप के लिए आप यहां क्लिक कर सकते हैं. आप हमें फ़ेसबुक, ट्विटर, इंस्टाग्राम और यूट्यूब पर फ़ॉलो भी कर सकते हैं.)\n",
            "1995 के चुनाव में नीतीश कुमार ने सीपीआई (एमएल) के साथ चुनाव लड़ा था. सीपीआई (एमएल) के साथ ही नीतीश कुमार ने अपने राजनीतिक जीवन का पहला गठबंधन किया था. उनके नेतृत्व में समता पार्टी ने 310 सीटों पर उम्मीदवार खड़े किए थे और महज़ 7 सीटों पर उन्हें जीत मिली थी. गठबंधन के उनके साथी सीपीआई (एमएल) ने उस वक़्त भी 6 सीटों पर जीत हासिल की थी. ये वो दौर था जब अविभाजित बिहार विधानसभा में कुल 324 सीटें हुआ करती थी. साल 2020 आते-आते समय का चक्र ऐसा बदला कि उसी सीपीआई (एमएल) ने विधानसभा चुनाव में राष्ट्रीय जनता दल के साथ मिल कर चुनाव लड़ा. 19 सीटों पर अपने उम्मीदवार खड़े किए और 12 सीटों पर जीत दर्ज की है. उनसे साथ सीपीआई और सीपीएम ने भी दो दो सीटों पर जीत हासिल की है. बिहार विधानसभा के नतीजों के बारे में एक बात जो सबसे पुख़्ता तरीके से कही जा सकती है वो है सीपीआई (एमएल) का रिवाइवल. लेफ़्ट पार्टियों का भी प्रदर्शन कुल मिला कर अच्छा ही रही है. तीनों पार्टियाँ 29 सीटों पर लड़ी और 16 सीटों पर जीते. बंगाल और केरल के बाद बिहार तीसरा राज्य है जहाँ उनके विधायकों की संख्या ज़्यादा है. समाप्त वर्ग संघर्ष की राजनीति साल 2020 के विधानसभा चुनाव ने सीपीआई (एमएल) के लिए संजीवनी के तौर पर काम किया है. पिछले चुनाव तक ये पार्टी ही बिहार के चुनावी मैदान में अकेले के दम पर उतरती थी. लेकिन इस बार अपनी विचारधारा के साथ समझौता करते हुए उन्होंने राष्ट्रीय जनता दल जैसी क्षेत्रीय पार्टी के साथ गठबंधन किया और बहुत हद तक अपनी खोई हुई ज़मीन पाने में सफल रहे हैं. 2015 के विधानसभा चुनाव में इनको मात्र तीन सीटों पर जीत मिली थी. पिछली बार के नतीजों से सबक लेते हुए भारतीय जनता पार्टी को सत्ता से अलग रखने के इरादे से उन्होंने इस बार महागठबंधन का हाथ थामा. जहाँ एक ओर आरजेडी जातिगत राजनीति में माहिर मानी जाती है, वहीं सीपीआई (एमएल) हमेशा से वर्ग संघर्ष की राजनीति करती आई है. इस बेमेल जोड़ी को उन्होंने क्यों स्वाकार किया? ये सवाल चुनाव में उनसे कई बार पूछा भी गया, लेकिन जवाब बड़े ही नपे तुले अंदाज में ही हमेशा आया. विचारधारा के स्तर पर दोनों पार्टियों में बहुत समानता नहीं है, लेकिन लोकतंत्र की रक्षा के ख़ातिर हमने गठबंधन का हिस्सा बनना स्वीकार किया. लेफ़्ट का बेहतर प्रदर्शन कैसे? लेफ़्ट पार्टियों का ऐसा प्रदर्शन कैसे संभव हुआ? इस सवाल के जवाब में प्रभात खबर के पटना के रेज़िडेंट एडिटर अजय कुमार कहते हैं, \"लेफ़्ट पार्टियों का बिहार में सामाजिक आधार हमेशा से रहा है. 90 के दशक के बाद से लेकर अब तक मध्यमार्गीय पार्टियों जैसे राजद और जदयू ने उन्हें काफ़ी नुक़सान पहुँचाया. एक दौर था जब लेफ़्ट के कई लोग टूट कर लालू यादव के साथ चले गए थे, मंत्री तक बने थे. मंडल पॉलिटिक्स के दौर में उन्हें सबसे ज़्यादा नुक़सान हुआ. उनका जनाधार, उनसे छूटता चला गया. इस वजह से ज़्यादा सीटों पर उम्मीदवार खड़े करने के बावजूद वो जीत कर उसे सीटों में तब्दील नहीं कर पाते थे. भारत में जाति और वर्ग का भेद एक बिंदु पर जा कर मिट जाता है. छोटी जाति वाले ज़्यादातर ग़रीब वर्ग के लोग ही होते हैं. इसी वजह से लेफ़्ट का स्पोर्ट कम होता गया.\" इस चुनाव में सीपीआई (एमएल) या कहें तो लेफ़्ट की बाक़ी दोनों पार्टियों का अच्छा प्रदर्शन रहा है. गठबंधन के साथ चुनाव लड़ने के फैसले से लेफ़्ट को बहुत फ़ायदा मिला है. मध्य बिहार और दक्षिण बिहार के इलाकों में जहाँ लेफ़्ट का जनाधार अब भी बचा था, वहाँ गठबंधन के साथ होने से जनता ने एकजुट होकर वोट किया है. ऐसा अजय कुमार को लगता है. बिहार चुनावः क्या तेजस्वी ने कांग्रेस को 70 सीटें देकर ग़लती की? बिहार चुनाव: उम्मीदों का वो चिराग जो रोशन न हो सका ...जब लेफ़्ट ही बिहार में विपक्ष था बिहार में वामपंथी पार्टियों की 70 के दशक में मज़बूत ज़मीन रही है. बिहार विधानसभा में सीपीआई 1972 से 77 तक मुख्य विपक्षी पार्टी रही. लेकिन 1977 में कर्पूरी ठाकुर ने बिहार में पिछड़ी जातियों को सरकारी नौकरियों में आरक्षण देने का फ़ैसला किया, तब से जातीय पहचान और जाति के आधार पर उत्पीड़न की बहस राजनीति के केंद्र में आई और वामपंथी पार्टियों का जनाधार खिसकता गया. बाद में मंडल कमीशन लागू हुआ और वामपंथी पार्टियों के वर्ग संघर्ष की बहस जातीय पहचान की राजनीति के सामने नहीं टिक पाई. अजय कुमार आगे कहते हैं, \"1990 में सीपीआई (एमएल) भूमिगत थी. ये इंडियन पीपल्स फ़्रंट नाम से ऑपरेट करते थे. 1990 से 1995 के बीच वाम दल के कुछ बड़े नेता जिनमें सूर्य देव सिंह, कृष्ण देव सिंह, श्री भगवान सिंह लालू यादव के साथ जा कर मिल गए थे. यही वो दौर था जब वाम विचारधारा का बिहार में पतन शुरू हुआ था.\" लेकिन ये भी सच है कि लेफ़्ट पार्टियाँ बिहार में एकजुट हो कर नहीं लड़ पा रही थीं. 1995 के बाद ये पहला मौक़ा है जब लेफ़्ट पार्टियाँ गठबंधन में चुनाव लड़ी हों. पिछले बार 2015 में वो महागठबंधन का हिस्सा नहीं थी. हालाँकि चुनाव में भी तीनों पार्टियों के बीच बहुत एक जुटता नहीं दिखी. कन्हैया कुमार जो सीपीआई के नेता हैं, उन्होंने इस बार सीपीआई (एमएल) के नेताओं के लिए प्रचार नहीं किया. बिहार विधानसभा चुनाव में सीपीआई (एमएल) का अब तक का सबसे बेहतरीन प्रदर्शन माना जा रहा है. साल 2000 के बाद से अब तक अकेले सीपीआई(एमएल) दहाई का आँकड़ा पार नहीं कर पाई थी. 2000 में 6 सीटें जीती थी, 2005 के अक्टूबर वाले चुनाव में 5 सीटें जीती थी, 2010 में वो खाता भी नहीं खोल पाई थी और 2015 में 3 सीटें इनके खाते में आई थी. तेजस्वी यादव का नेतृत्व वामपंथियों ने क्यों स्वीकार किया? बिहार चुनाव परिणाम: रुझानों में देखिए कौन आगे कौन पीछे प्रदर्शन पर पार्टी का रुख़ साल 2020 के बिहार चुनाव में पार्टी के प्रदर्शन के बारे में सीपीआई (एमएल) के राज्य महासचिव कुणाल कहते हैं, \"हम हर बार 100 सीटों पर अपने उम्मीदवार उतारते थे. इस बार हमने अपने कई सीटों की एक तरह से बलि दी है. महागठबंधन का हिस्सा बनने के लिए हमने ऐसा किया. और अब इस गठबंधन का परिणाम अच्छा ही दिख रहा है.\" वो आगे कहते हैं, \"जहाँ हमने अपनी सीटें छोड़ी हैं, वहाँ कई जगह पर महागठबंधन के उम्मीदवार अच्छा कर रहे हैं, ये अपने आप में शुभ संकेत हैं. साफ़ दिख रहा है कि हमारा वोट ट्रांसफर भी हुआ है. हमारी पार्टी का जनादेश पूरे बिहार में है. भले ही हम जीतने की स्थिति में हर सीट पर ना हों. लेकिन हम जिधर जाते हैं हमारा वोट बैंक वहीं जाता है.\" कुणाल के मुताबिक़ जगदीशपुर, बड़हरा, संदेस कुछ ऐसी सीटें हैं जहाँ सीपीआई (एमएल) पहले भी अच्छी करती रही हैं. महागठबंधन में शामिल होने के लिए इस बार इन सीटों पर सीपीआई (एमएल) ने अपने उम्मीदवार खड़े नहीं किए और रुझान में ये सीटें महागठबंधन के खाते में जाती दिख रही हैं. बिहार चुनाव: 1951 से लेकर 2015 तक कैसे रहे नतीजे बिहार विधानसभा चुनाव: तेजस्वी, नीतीश, बीजेपी और कांग्रेस के लिए आज फ़ैसले का दिन वोट ट्रांसफर का फ़ायदा किसको तो क्या लेफ़्ट के वोट बैंक से केवल उनको ही नहीं महागठबंधन को भी फायदा पहुँचा है, इस सवाल के जवाब में सीएसडीएस के संजय कुमार कहते हैं, \"इसके लिए महागठबंधन ने जिन सीटों को जीता है उस पर सीट दर सीट विश्लेषण करने की ज़रूरत होगी. पर एक बात साफ़ है कि वो काफ़ी फोकस के साथ लड़े.\" लेकिन वो मानते है कि वाम दलों का वोट बैंक पक्के तौर पर हमेशा उनके साथ खड़ा रहता है. पार्टी जीते या हारे उनके वोट बैंक को इससे मतलब नहीं होता. जब वोट बैंक को लगा कि वो गठबंधन जिनके साथ उनकी पार्टी इस बार खड़ी है, चुनाव में अच्छा प्रदर्शन करने वाली है तो उनमें एकजुटता हुई, और वोट ट्रांसफर का भी फायदा सीपीआई(एमएल) को हुआ होगा. वोट ट्रांसफर केवल वाम दलों का राजद और कांग्रेस को नहीं हुआ है बल्कि राजद और कांग्रेस के वोट ट्रांसफर का लाभ भी वाम दलों को मिला होगा, इस संभावना से इनकार नहीं किया जा सकता है. हालाँकि महागठबंधन की सरकार बनने और उसमें उनकी पार्टी की भूमिका को लेकर सीपीआई (एमएल) ने अपनी स्थिति स्पष्ट नहीं की है. (बीबीसी हिन्दी के एंड्रॉएड ऐप के लिए आप यहां क्लिक कर सकते हैं. आप हमें फ़ेसबुक, ट्विटर, इंस्टाग्राम और यूट्यूबपर फ़ॉलो भी कर सकते हैं.)\n",
            "(सिंधु ताई पिछले 32 सालों से महाराष्ट्र के विभिन्न इलाकों में कई अनाथालय खोल चुकी हैं) सिंधु ताई सिंधु ताई पिछले 32 सालों से महाराष्ट्र के विभिन्न इलाकों में कई अनाथालय चला रही हैं. लेकिन इसके पीछे इन्हें लंबा संघर्ष करना पड़ा. वर्धा ज़िले के नवरगांव की रहने वाली सिंधु ताई ने बीबीसी को बताया, “मेरे ससुराल वालों का बर्ताव मेरे प्रति अच्छा नहीं था. जब मैं सिर्फ़ 20 साल की थी तब मुझे मेरी 10 दिन की बच्ची के साथ घर से निकाल दिया गया.” सिंधु ताई के मुताबिक़ उन्हें अपनी और बेटी का पेट भरने के लिए बहुत संघर्ष करना पड़ा और भीख तक मांगनी पड़ी, लेकिन एक दिन उन्हें लगा कि ये सही तरीक़ा नहीं है ज़िंदगी बिताने का और कुछ ऐसा करना चाहिए कि अपने साथ-साथ दूसरों की ज़िंदगी भी संवारी जा सके. (बाइकरनी के करतब) शुरुआत में वो दूसरों के घर काम करके जो पैसे कमाती थीं उस से उन्होंने एक छोटा सा अनाथालय सड़क के किनारे ही खोला जिसमें 3-4 अनाथ बच्चों को उन्होंने गोद ले लिया. उनकी हिम्मत देखकर लोग उनसे जुड़ते गए. सिंधु ताई के अनाथालयों में दो हज़ार से ज़्यादा बच्चे हैं. उन्हें अपने इस नेक काम के लिए चंदा भी मिलने लगा जिससे धीरे-धीरे करके सिंधु ताई ने और भी अनाथालय खोलने शुरू कर दिए. आज उनके महाराष्ट्र के मुंबई के अलावा, वर्धा, अमरावती और पुणे में भी अनाथालय हैं, जहां दो हज़ार से ज़्यादा बच्चे हैं. सिंधु ताई की बेटी डॉक्टर है जो उनकी इस काम में मदद करती है. (हर दिन हमारा है!) अब पुणे में रह रहीं सिंधु ताई बताती हैं, “आज मेरी टीम में डॉक्टर, शिक्षक और वकील भी हैं जो इन अनाथालयों को संभालने में और बच्चों के लालन-पालन में मेरी मदद करते हैं.” सिंथु ताई को उनकी इस मुहिम के लिए कई सम्मान मिल चुके हैं. वो विदेश जाकर अपने संस्थाओं के लिए चंदा भी इकट्ठा करती रही हैं. सिंधु ताई सभी महिलाओं को संदेश देते हुए कहती हैं, “जीना सीखो और दूसरों के लिए मिसाल बनो. मां कभी थकती नहीं, वो हमेशा आगे बढ़ती रहती है.” चेतना गला सिन्हा मनन सहकारी देसी बैंक की सदस्यों के साथ इसकी संस्थापक चेतना गला सिन्हा. चेतना गला सिन्हा ने देसी महिला बैंक की शुरूआत महाराष्ट्र के अकाल ग्रस्त इलाकों में की. उन्होंने साल 1994 में मनन देसी बैंक खोलने की मुहिम शुरू की. उनके बैंक में ज़्यादातर उन ग्रामीण महिलाओं के अकाउंट्स हैं जो छोटा मोटा काम करके अपनी आजीविका चलाती हैं. देसी बैंक की शुरुआत कैसे हुई ये बताते हुए चेतना ने बीबीसी से कहा, “एक दफ़ा एक गांव की महिला ने मुझसे कहा कि वो तीन रुपए रोज़ाना जमा करना चाहती है. लेकिन इतनी छोटी रकम के लिए कोई बैंक उसका खाता नहीं खोल रहा था. तब मुझे लगा कि क्या ग़रीब महिलाओं को जो मेहनत करके अपनी रोज़ी रोटी चलाती हैं, बैंक में खाता खोलने का अधिकार नहीं है. वो महिला सरकार से कुछ मांग नहीं रही थी, सिर्फ़ अपना खाता खोलना चाहती थी उस पर भला क्या दिक़्क़त हो सकती है.” (मनन सहकारी देसी बैंक में छोटा मोटा व्यवसाय करने वाली क़रीब 18 लाख खातेदार हैं) चेतना ने बताया कि तब उन्होंने रिज़र्व बैंक ऑफ़ इंडिया में पूछताछ की कि आख़िर बैंक खोलने के लिए क्या करना पड़ता है ? तब उन्हें पता चला कि गांव की महिलाएं मिलकर सहकारी बैंक खोल सकती हैं. तब चेतना ने गांव की महिलाओं को इकट्ठा किया. सबने मिलकर बैंक के लिए जमा पूंजी तैयार की और रिज़र्व बैंक में लाइसेंस के लिए अप्लाई कर दिया. 1997 में सतारा ज़िले के एक छोटे से गांव में पहले मनन देसी बैंक की स्थापना हुई. चेतना बताती हैं, “हमने 1,500 महिलाओं के साथ शुरुआत की लेकिन आज हमारे 18 लाख से ज़्यादा खातेदार हैं. ये बैंक सिर्फ़ बचत या कर्ज़ ही नहीं देती बल्कि कोई नया व्यवसाय शुरू करने का प्रशिक्षण भी देती हैं.” इस बैंक से जुड़ी महिलाओं का अपना रेडियो स्टेशन भी है जिसका नाम है तरंगिनी रेडियो जिस पर ये महिलाएं बैंक से जुड़ी स्कीम के अलावा अपने व्यवसाय का प्रचार भी करती हैं और बच्चों के लिए शिक्षाप्रद कार्यक्रमों का भी प्रसारण किया जाता है. शीतल पोल मुंबई पुलिस में कॉन्स्टेबल शीतल पोल ने चलती ट्रेन से कूद कर एक चोर को पकड़ा. मुंबई के मानखोर इलाके में रहने वाली शीतल पोल हिंदी फ़िल्मों की ज़बरदस्त दीवानी हैं. इन्होंने बॉलीवुड की कई हिंदी फ़िल्में देखीं जिनमें हीरो पुलिस अफ़सर बन खलनायकों की चटनी बना देता है. इसी से प्रेरणा लेकर इन्होंने भी पुलिस में भर्ती होने का फ़ैसला कर डाला. शीतल की मेहनत रंग लाई और 2012 में वो पुलिस सेवा में आ गईं. नागपुर में ट्रेनिंग ली और इसी साल इनकी पोस्टिंग कॉन्स्टेबल के तौर पर मुंबई में हो गई. फिर नौ फ़रवरी को इन्होंने एक ऐसा करनामा कर डाला जिसका फ़क्र इन्हें आने वाले समय में होगा. शीतल ने घर जाने के लिए रात तक़रीबन 10 बजे छत्रपति शिवाजी टर्मिनल से ट्रेन पकड़ी. वो महिला कंपार्टमेंट में थी जिसमें उस वक़्त इतनी भीड़ नहीं थी. शीतल के मुताबिक़ अचानक एक चोर डब्बे में घुसा और एक महिला के गले से सोने का हार खींचकर ट्रेन से कूद गया. ये देखकर शीतल भी ट्रेन से कूद गई और उस चोर का पीछा करना शुरू किया. और उसे दबोच लिया. फिर उसे पुलिस स्टेशन ले आईं. शीतल के मुताबिक़, “वो महिला अपना हार वापस लेने आई और फिर वहां मौजूद सारे लोगों ने तालियां बजाकर मेरी हौसला अफ़ज़ाई की. शीतल पोल की मई में शादी होने वाली है, वो कहती हैं, “आगे भी अपने फ़र्ज़ और ड्यूटी को निभाने के लिए जान जोखिम में डालनी पड़े तो पीछे नहीं हटूंगी. हम पुलिस सेवा में भर्ती होते हैं लोगों जान-माल की सुरक्षा करने. फिर हम भला कैसे पीछे हट सकते हैं.” शीतल सलमान ख़ान की ज़बरदस्त प्रशंसक हैं लेकिन कहती हैं, “पर्दे पर सलमान पुलिस की वर्दी पहनकर जो गुंडों का हाल करते हैं वो काम मैं असल ज़िंदगी में करना चाहती हूं.” दहेज़ के खिलाफ लड़ने वाली रानी (दहेज़ प्रथा के ख़िलाफ़ लड़ने वालीं रानी अपने पति पवन त्रिपाठी के साथ आमिर ख़ान के शो 'सत्यमेव जयते' में आईं) मुंबई में रहने वाली रानी तिवारी ने दहेज़ के ख़िलाफ़ जो क़दम उठाया उसने उन्हें लड़कियों की हीरो बना दिया. उन्होंने चार साल पहले अपने ससुराल वालों का स्टिंग ऑपरेशन किया जो कई समाचार चैनलों में प्रसारित हुआ. वो साल 2012 में आमिर ख़ान के बहुचर्चित टीवी शो 'सत्यमेव जयते' में भी आ चुकी हैं. रानी ने बताया कि साल 2009 में जब उनकी शादी तय हुई तो इसके तुरंत बाद लड़के वालों ने उनके पिता से तरह-तरह की मांग करनी शुरू कर दीं जिसे उनके पिता चुपचाप पूरा करते चले गए. फिर शादी से एक सप्ताह पहले उन्होंने अचानक एक महंगी कार की मांग कर दी. उनके परिवार की आर्थिक स्थिति बहुत अच्छी नहीं दी. लड़के वालो ने धमकी दी कि उनकी मांग पूरी नहीं की गई तो शादी तोड़ दी जाएगी. रानी बताती हैं, “एकबारगी तो मुझे ख़्याल आया कि मेरी वजह से मेरे पिता और भाई को इतनी परेशानी झेलनी पड़ रही है तो मैं ख़ुदकुशी क्यों ना कर लूं. फिर मैंने सोचा कि इसमें मेरी क़्या ग़लती है. तब मैंने लड़के वालों को सबक सिखाने की ठानी.” (रानी त्रिपाठी ने अब अपनी मर्ज़ी से शादी की है. उनका दो साल का बेटा भी है) रानी ने एक बार फिर अपने पिता और भाई को लड़के के परिवार वालों के पास बात करने के लिए भेजा और उनकी शर्ट में एक ख़ुफ़िया पेन कैमरा लगा दिया. जो भी बातचीत हुई वो कैमरे में रिकॉर्ड हुई. शीतल बताती हैं, “मैं ने मीडिया का साथ लेकर लड़के के परिवार वालों को बेनक़ाब करने का फ़ैसला किया. मुझे मीडिया का साथ मिला और मैं अपने मक़सद में कामयाब हुई.” उन्होंने बताया कि जब उनकी कहानी का आमिर ख़ान को पता चला तो उन्होंने अपने शो में उन्हें बुलाया. रानी कहती हैं, “आमिर ख़ान ने मेरी बड़ी हौसला अफ़ज़ाई की. वो मुझे रानी लक्ष्मी बाई कहते हैं.” रानी की कहानी टीवी पर देखने के बाद उनके वर्तमान पति पवन त्रिपाठी ने उनका पता खोज निकाला और उनसे शादी की. रानी आज एक ख़ुशहाल पारिवारिक ज़िंदगी बिता रही हैं. उनका एक दो साल का बच्चा भी है. वो दहेज़ प्रथा के ख़िलाफ़ अपनी लड़ाई को आगे भी जारी रखना चाहती हैं. डॉक्टर अरमिडा फर्नांडिंस (अरमिडा फर्नांडिस ने 25 साल पहले मुंबई में ह्यूमन मिल्क बैंक की स्थापना की थी) डॉक्टर अरमिडा फर्नांडिस ने 25 साल पहले मुंबई के सायन इलाके में ह्यूमन मिल्क बैंक शुरू किया. झोपड़ पट्टी में रहने वाली ग़रीब महिलाओं के छोटे-छोटे बच्चों को जिन्हें समुचित मात्रा में मां का दूध नहीं मिल पाता उन्हें इस ह्यूमन मिल्क बैंक से दूध मुहैया कराया जाता है. अरमिडा बताती हैं, “कई बार कुपोषण की वजह से इन ग़रीब महिलाओं का दूध पौष्टिक नहीं होता या समुचित मात्रा में नहीं होता. मैंने ऑक्सफ़ोर्ड और बर्मिंघम में देखा था कि वहां मां के दूध को प्रिज़र्व करके रखा जाता है तब मुझे भी भारत में ऐसा ही मिल्क बैंक शुरू करने का आइडिया आया.” अरमिडा ने दावा किया कि मिल्क बैंक का दूध पीने की वजह से बच्चों के स्वास्थ्य पर काफ़ी सकारात्मक असर पड़ा और कुपोषण की वजह से नवजात बच्चों की मौत की दर में भी ख़ासी कमी आई. अरिमडा ने बताया कि उनके मिल्क बैंक में कई महिलाएं स्वेच्छा से दूध देने आती हैं क्योंकि कई महिलाओं के शरीर में ज़्यादा दूध का उत्पादन होता है और अगर उसका समुचित इस्तेमाल ना हो तो महिलाओं की स्तन संबंधी समस्याएं आ सकती हैं. क्या कभी इस काम में समस्याएं पेश नहीं आती. इसके जवाब में अरमिडा ने कहा, “कई बार महिलाएं अपने बच्चों को किसी और का दूध नहीं पिलाना चाहतीं. तो हम उन्हें यूं समझाते हैं कि जब भगवान कृष्ण मां यशोदा का दूध पी सकते हैं तो उनके बच्चे किसी और का दूध क्यों नहीं पी सकते. ये बात ग्रामीण इलाके की महिलाओं को समझ आ जाती है.” (बीबीसी हिंदी के एंड्रॉएड ऐप के लिए यहां क्लिक करें. आप हमें फ़ेसबुक और ट्विटर पर भी फ़ॉलो कर सकते हैं.)\n",
            "'महाकंपनी' बीएनएल के नियंत्रण में सब कुछ है, सब कुछ. यह कंपनी कई क्षेत्रों में विश्व की अग्रणी कंपनी है, जैसे एयरोस्पेस, कृषि, मीडिया, खाद्य पदार्थ, विज्ञान, आधारभूत ढांचे और ट्रांस्पोर्ट इत्यादि. लेकिन ऐसा हमेशा नहीं था. शुरुआत में बीएनएल, सिर्फ़ दही बेचती थी और गूगल साल 1998 तक केवल 'सर्च' करता था. पढ़ें- गूगल खरीदेगी नेस्ट लैब को आज गूगल इंटरनेट विज्ञापन जगत में सबसे बड़ा नाम है. यह कंपनी नज़दीकी अंतरिक्ष में गुब्बारे भेजती है, और हमारे शहर के नीचे तारों का जाल बिछाती है. यह वह कंपनी है जो दुनिया की ज़्यादातर स्मार्टफ़ोन और टैबलेट्स को चलाती है (ग्राहकों की मौजूदा स्थिति का हिसाब रखती है) और पहने जाने योग्य तकनीक की दुनिया में ताल ठोक रही है अपने स्मार्ट चश्मे, गूगल ग्लास के साथ. \"वेब सर्च कंपनी नहीं\" पिछले सोमवार को गूगल ने स्मार्ट-थर्मोस्टेट-निर्माता नेस्ट को 3.2 अरब डॉलर (करीब 19.68 खरब रुपये) में ख़रीदने की घोषणा की. इसी के साथ ही रोबोटिक्स में कंपनी की ख़रीदारी को लेकर हलचल मच गई है क्योंकि कंपनी ने बॉस्टन डायनेमिक्स का भी अधिग्रहण किया है. इसका मतलब यह है कि गूगल, जिसका मशहूर सूत्रवाक्य है, \"बुरे मत बनो\", अब ऐसी कंपनी पर भरोसा कर रहा है जिसकी स्थापना का एक उद्देश्य सैन्य उपकरण बनाना भी था. अरे हाँ, गूगल एक खुद चलने वाली गाड़ी भी तो बना रहा है. सवाल यह है कि दरअसल अब गूगल है क्या? तकनीक और टेलीकम्युनिकेशन्स विश्लेषक बेनेडिक्ट इवान्स कहते हैं, \"मुझे लगता है कि यह बहुत समय पहले ही साफ़ हो गया था कि गूगल एक वेब सर्च कंपनी नहीं है.\" वे कहते हैं, \"गूगल एक विशाल मशीन-प्रशिक्षण प्रोजेक्ट है जो एक दशक से ज़्यादा वक्त से चल रहा है. गूगल का उद्देश्य इस सिस्टम में ज़्यादा से ज़्यादा आंकड़े एकत्र करना है.\" कैसे? हालांकि भविष्य की कल्पना करना मुश्किल है लेकिन कुछ संकेत हैं जिनके आधार पर कहा जा सकता है कि गूगल अपने व्यापार का भविष्य किस दिशा में जाता देख रहा है. उदाहरण के लिए, नेस्ट, उन कंपनियों में से एक है जिन्हें गूगल ने अपने गूगल वेंचर्स प्रोजेक्ट के माध्यम से सहायता की थी. साल 2009 में गूगल वेंचर्स प्रोजेक्ट \"सबसे अच्छी कंपनियों को शुरुआत, जोखिम उठाने और विकास क्रम में फंडिंग\" करने के लिए शुरू किया गया था. 23एंडमी गूगल वेंचर्स की सहायता से शुरू कुछ और कंपनियों पर एक नज़र डालने से साफ़ हो जाता है कि गूगल को भविष्य किसमें दिखता है. पहली नज़र में यह विशुद्ध निवेश की तरह नज़र आते हैं. जैसे कि \"एक विशुद्ध सोशल गेमिंग\" कबम, या \"नए फ़िटनेस एप्स\" बनाने के लिए काम कर रही कंपनी फ़िटस्टार और एक स्थानीय सोशल नेटवर्किंग प्लेटफ़ॉर्म नेक्स्टडोर हैं. लेकिन गूगल के हितों पर थोड़ी गहरी नज़र डालें तो आपको इनमें पूरी तरह से नई दृष्टि दिखेगी. कैलिफ़ोर्निया की \"ऑर्गेनिक कॉफ़ी रोएस्ट्री\", आभासी मुद्रा बिटकॉयन का एक बाज़ार- बटरकॉयन और बच्चों के कपड़ों का विशेषज्ञ विटेलबी. इवान्स मानते हैं कि गूगल अपने इन दांवों पर ख़ामोश ही रहता है. वह कहते हैं, \"गूगल सोशल नेटवर्किंग मामले में चूक गया और इसलिए यह तय है कि वह ड्रोन के मामले में नहीं चूकेगा और न ही वह घरों के स्वचालन में पिछड़ेगा जो तकनीक के बड़े चलन के रूप में सामने आ रहे हैं.\" पढ़ें- सेल्फ़ ड्राइविंग कार, ग्लास के बाद अब गूगल रोबोट लेकिन स्वास्थ्य के क्षेत्र में वह ज़्यादा कूटनीतिक ढंग से काम कर रहा है. वह कैंसर शोध, ऑटिज़्म की शुरुआत और डीएनए विश्लेषण में काम कर रही कंपनियों को सहायता दे रहा है. इनमें सबसे आश्चर्यजनक हैः 23एंडमी. यह एक बायोटेक्नोलॉजी फ़र्म है जो त्वरित जेनेटिक जांच करती है. यह आनुवांशिक रोगों के लिए ग्राहकों को अपने डीएनए के नमूने लेकर, बेहद तेजी से, उनकी जांच की सुविधा देती है. क्लाउट सूचना सेवा का दूसरा सिरा और अगर आप यह सोच रहे हैं कि यह निवेश- जिनमें से कुछ बहुत बड़े हैं, और कुछ छोटे- इस बात की ओर इशारा करते हैं कि गूगल अपने लक्ष्य को लेकर स्पष्ट नहीं है तो आप ग़लत हैं. इवान्स कहते हैं, \"यह सभी चीज़ें अनिवार्य रूप से अंततः क्लाउड सूचना सेवा का दूसरा सिरा हैं.\" वे कहते हैं, \"नेस्ट के थर्मोस्टेट जैसे उपकरण सिर्फ़ दीवार पर लगे समझदार छोटे डब्बे नहीं है. उनके होने का पूरा अर्थ यह है कि वह सभी सॉफ़्टवेयर बनते हैं और वह सभी इंटरनेट का एक भाग बनते हैं. और गूगल का मतलब ही इंटरनेट को समझना है.\" पढ़ें- अब आंख मारिए और लीजिए गूगल ग्लास से फ़ोटो वॉल-ई की काल्पनिक दुनिया में बाए एन लार्ज का दही बेचने वाले से वैश्विक महाशक्ति बनने के लिए मुख्यतः इंसानों की ज़ाहिर लापरवाही को ज़िम्मेदार बताया जाता है. जिसके चलते यह दही विक्रेता चुपचाप ज़िंदगी के हर पहलू को नियंत्रित करने वाली विशाल-कंपनी बन जाती है. वास्तविक ज़िंदगी में भी लोग बहुत उत्सुक नज़र नहीं आते. गूगल के नेस्ट के अधिग्रहण की ख़बर से सोशल मीडिया पर लोगों ने अल्पज्ञान से भरे कुछ मज़ाक किए और उद्योग के विशेषज्ञों ने भी कुछ त्वरित मज़ाक किए. वॉल स्ट्रीट जर्नल को एक इंटरव्यू में रॉब एंडर्ले ने कहा, \"मुझे ऐसा लगता है कि गूगल ने बिग ब्रदर को पढ़ लिया और उसे अपने करियर का उद्देश्य बना लिया.\" इसी तरह, दुनिया भर में कई प्रशासनिक प्राधिकरणों ने गूगल पर सख़्ती की है, यह दिखाने के लिए कि वह हमारे निजी आंकड़ों के संग्रहण पर बिना समुचित निगरानी के कोई बड़ा विघ्न नहीं आने देंगे. ऐसी ख़बरें थीं कि सप्ताहांत में एक बेहद गुप्त शोध प्रोजेक्ट पर काम कर रही गूगल की \"एक्स\" टीम के सदस्य अमरीका के खाद्य और दवा प्रशासन के अधिकारियों से मिले थे ताकि अपनी योजनाओं पर बात कर सकें. ध्यान रहे कि उनके दूसरे उपक्रमों- जैसे कि 23एंडमी- के असर पर चिंतित नियामकों ने फ़िलहाल रोक लगा दी है. अभिलाषा लोगों की नज़र में कंपनी के उद्देश्यों को लेकर बढ़ता असहजता का भाव गूगल की अत्याधुनिक मानी जाने वाली खोजों की राह की बाधा है. निजता को लेकर बड़ी समस्याएं पैदा हुई हैं- जैसे कि यह पता चलना कि गूगल की स्ट्रीट व्यू कारें सड़कों से गुज़रते हुए गैरकानूनी ढंग से लोगों के निजी वाई-फ़ाई नेटवर्कों से डाटा एकत्र कर रही थीं. गूगल के इस तर्क से कि- सब कुछ सुस्पष्ट है- उसके आलोचकों और उपभोक्ता बहुत ज़्यादा प्रभावित नहीं हुए. इवान्स कहते हैं, \"गूगल की एक समस्या यह है कि वह सोचते हैं 'हम जानते हैं कि हम इससे कुछ भी ग़लत नहीं करेंगे, और आपको भी यह समझना चाहिए'.\" वे बताते हैं, \"दरअसल गूगल खुद को कैसे देखता है और कभी-कभी इसके कामों से कैसा संदेश जाता है उसमें फ़र्क है.\" पढ़ें- गूगल का एशिया में पहला डॉटा सेंटर उनके अनुसार, \"निहायत अच्छे उद्देश्यों- उत्पादों को बेहतर बनाने- से यह लोगों को असहज बनाने की ओर मुड़ गया है.\" ऐसा लगता है गूगल की अभिलाषा खुद को रोज़मर्रा की ज़िंदगी के केंद्र में स्थापित करने की है- हमें जानकारी ढूंढने, गर्म रखने और इधर-उधर जाने में सहायता करने तक. लेकिन इसके सबसे बड़े आलोचक इसके अपने उपभोक्ता ही रहेंगे जो, वॉल-ई की पृथ्वी में रहने वाले इंसानों के विपरीत, किसी 'महाकंपनी' के आगोश में आ जाने के प्रति शायद ज़्यादा उदार न हों. (बीबीसी हिन्दी के एंड्रॉएड ऐप के लिए यहां क्लिक करें. आप हमें फ़ेसबुक और ट्विटर पर भी फ़ॉलो कर सकते हैं.)\n",
            "Summaries:\n",
            "चीन के राष्ट्रपति शी जिनपिंग नेपाल के दौरे पर जा रहे हैं. वो 12 और 13 अक्टूबर को नेपाल में रहेंगे.\n",
            "राजी केवट छत्तीसगढ़ के गनियारी की रहने वाली हैं. नसबंदी को लेकर उनकी राय मिली-जुली है.\n",
            "'ख़ुदा की बंदियों को ख़ुदा की मस्‍ज‍िद में जाने से रोका न करो.' 'तुममें से किसी से उसकी स्‍त्री मस्‍ज‍िद जाने की इजाज़त तलब करे तो वह उसे मना न करे.' 'मस्‍ज‍िदों में स्‍त्रि‍यों का जो हिस्सा है, उससे उन्‍हें मत रोको.' 'अपनी महिलाओं को मस्‍जि‍द में जाने से मना न करो.' 'जब तुम्‍हारी महिलाएँ रात में मस्जिद जाने की इजाज़त माँगे तो उन्‍हें इजाज़त दे दो.'\n",
            "आज की तारीख में ये कह देना कि 2019 के आम चुनाव में कौन जीतेगा या कौन हारेगा, किसी जुए से कम नहीं है.\n",
            "देश की संसद ने तीन तलाक़ ख़त्म करने का क़ानून बनाने के महज़ एक हफ़्ते बाद जम्मू-कश्मीर को विशेष दर्जा देने वाले अनुच्छेद 370 के प्रावधानों को भी ख़त्म कर दिया.\n",
            "इराक़ में अमरीकी सेना ने कहा है कि राजधानी बग़दाद के उत्तरी इलाक़े में एक बम धमाके में तीन अमरीकी सैनिकों की मौत हो गई और आठ अन्य घायल हो गए.\n",
            "महाराष्ट्र की राजनीति में पिछले कुछ दिनों से जमकर सियासी हलचल हो रही. एक तरफ़ महाराष्ट्र सरकार गृहमंत्री अनिल देशमुख के इस्तीफ़े के दबाव में है, तो दूसरी तरफ महाराष्ट्र एटीसी ने मनसुख हीरेन के केस में एक बड़ी सफलता पाने का दावा किया है.\n",
            "1995 के बिहार विधानसभा चुनाव. ये वो चुनाव थे जब ना तो बिहार में आरजेडी थी और ना जेडीयू. 1994 में नीतीश कुमार ज़रूर समता पार्टी बनाकर लालू यादव से अलग हो गए थे.\n",
            "आठ मार्च को अंतरराष्ट्रीय महिला दिवस है और हम आपको मिलवा रहे हैं पांच ऐसी महिलाओं से जिन्होंने अकेले ही अपने सफ़र की शुरुआत की और ना सिर्फ़ अपने लक्ष्य को हासिल किया बल्कि दूसरों की ज़िंदगी में भी सकारात्मक बदलाव लाने में कामयाब हुईं.\n",
            "हॉलीवुड की मशहूर एनिमेशन फ़िल्म वाल-ई (2008) के केंद्र में एक बड़ी कंपनी है, 'बाए एन लार्ज' (बीएनएल).\n"
          ]
        }
      ],
      "source": [
        "!pip install gdown\n",
        "!rm -rf train.*\n",
        "!gdown 19rU7KpBBkzRDOxbYX9rmOcHZxe4GBYDU\n",
        "!unzip train.zip\n",
        "!wc -l train.summary.hi\n",
        "!wc -l train.text.hi\n",
        "!echo \"Documents:\"\n",
        "!head -10 train.text.hi\n",
        "!echo \"Summaries:\"\n",
        "!head -10 train.summary.hi"
      ]
    },
    {
      "cell_type": "markdown",
      "metadata": {
        "id": "awafYLPkV9YK"
      },
      "source": [
        "## Then we reinitialize the model and optimizer.\n",
        "\n"
      ]
    },
    {
      "cell_type": "code",
      "execution_count": null,
      "metadata": {
        "colab": {
          "base_uri": "https://localhost:8080/"
        },
        "id": "SbrZ6GLASqkV",
        "outputId": "a90cb79c-2aed-403a-9221-69e2e4626505"
      },
      "outputs": [
        {
          "output_type": "stream",
          "name": "stdout",
          "text": [
            "Optimizing ['model.shared.weight', 'model.encoder.embed_positions.weight', 'model.encoder.layers.0.self_attn.k_proj.weight', 'model.encoder.layers.0.self_attn.k_proj.bias', 'model.encoder.layers.0.self_attn.v_proj.weight', 'model.encoder.layers.0.self_attn.v_proj.bias', 'model.encoder.layers.0.self_attn.q_proj.weight', 'model.encoder.layers.0.self_attn.q_proj.bias', 'model.encoder.layers.0.self_attn.out_proj.weight', 'model.encoder.layers.0.self_attn.out_proj.bias', 'model.encoder.layers.0.self_attn_layer_norm.weight', 'model.encoder.layers.0.self_attn_layer_norm.bias', 'model.encoder.layers.0.fc1.weight', 'model.encoder.layers.0.fc1.bias', 'model.encoder.layers.0.fc2.weight', 'model.encoder.layers.0.fc2.bias', 'model.encoder.layers.0.final_layer_norm.weight', 'model.encoder.layers.0.final_layer_norm.bias', 'model.encoder.layers.1.self_attn.k_proj.weight', 'model.encoder.layers.1.self_attn.k_proj.bias', 'model.encoder.layers.1.self_attn.v_proj.weight', 'model.encoder.layers.1.self_attn.v_proj.bias', 'model.encoder.layers.1.self_attn.q_proj.weight', 'model.encoder.layers.1.self_attn.q_proj.bias', 'model.encoder.layers.1.self_attn.out_proj.weight', 'model.encoder.layers.1.self_attn.out_proj.bias', 'model.encoder.layers.1.self_attn_layer_norm.weight', 'model.encoder.layers.1.self_attn_layer_norm.bias', 'model.encoder.layers.1.fc1.weight', 'model.encoder.layers.1.fc1.bias', 'model.encoder.layers.1.fc2.weight', 'model.encoder.layers.1.fc2.bias', 'model.encoder.layers.1.final_layer_norm.weight', 'model.encoder.layers.1.final_layer_norm.bias', 'model.encoder.layers.2.self_attn.k_proj.weight', 'model.encoder.layers.2.self_attn.k_proj.bias', 'model.encoder.layers.2.self_attn.v_proj.weight', 'model.encoder.layers.2.self_attn.v_proj.bias', 'model.encoder.layers.2.self_attn.q_proj.weight', 'model.encoder.layers.2.self_attn.q_proj.bias', 'model.encoder.layers.2.self_attn.out_proj.weight', 'model.encoder.layers.2.self_attn.out_proj.bias', 'model.encoder.layers.2.self_attn_layer_norm.weight', 'model.encoder.layers.2.self_attn_layer_norm.bias', 'model.encoder.layers.2.fc1.weight', 'model.encoder.layers.2.fc1.bias', 'model.encoder.layers.2.fc2.weight', 'model.encoder.layers.2.fc2.bias', 'model.encoder.layers.2.final_layer_norm.weight', 'model.encoder.layers.2.final_layer_norm.bias', 'model.encoder.layers.3.self_attn.k_proj.weight', 'model.encoder.layers.3.self_attn.k_proj.bias', 'model.encoder.layers.3.self_attn.v_proj.weight', 'model.encoder.layers.3.self_attn.v_proj.bias', 'model.encoder.layers.3.self_attn.q_proj.weight', 'model.encoder.layers.3.self_attn.q_proj.bias', 'model.encoder.layers.3.self_attn.out_proj.weight', 'model.encoder.layers.3.self_attn.out_proj.bias', 'model.encoder.layers.3.self_attn_layer_norm.weight', 'model.encoder.layers.3.self_attn_layer_norm.bias', 'model.encoder.layers.3.fc1.weight', 'model.encoder.layers.3.fc1.bias', 'model.encoder.layers.3.fc2.weight', 'model.encoder.layers.3.fc2.bias', 'model.encoder.layers.3.final_layer_norm.weight', 'model.encoder.layers.3.final_layer_norm.bias', 'model.encoder.layers.4.self_attn.k_proj.weight', 'model.encoder.layers.4.self_attn.k_proj.bias', 'model.encoder.layers.4.self_attn.v_proj.weight', 'model.encoder.layers.4.self_attn.v_proj.bias', 'model.encoder.layers.4.self_attn.q_proj.weight', 'model.encoder.layers.4.self_attn.q_proj.bias', 'model.encoder.layers.4.self_attn.out_proj.weight', 'model.encoder.layers.4.self_attn.out_proj.bias', 'model.encoder.layers.4.self_attn_layer_norm.weight', 'model.encoder.layers.4.self_attn_layer_norm.bias', 'model.encoder.layers.4.fc1.weight', 'model.encoder.layers.4.fc1.bias', 'model.encoder.layers.4.fc2.weight', 'model.encoder.layers.4.fc2.bias', 'model.encoder.layers.4.final_layer_norm.weight', 'model.encoder.layers.4.final_layer_norm.bias', 'model.encoder.layers.5.self_attn.k_proj.weight', 'model.encoder.layers.5.self_attn.k_proj.bias', 'model.encoder.layers.5.self_attn.v_proj.weight', 'model.encoder.layers.5.self_attn.v_proj.bias', 'model.encoder.layers.5.self_attn.q_proj.weight', 'model.encoder.layers.5.self_attn.q_proj.bias', 'model.encoder.layers.5.self_attn.out_proj.weight', 'model.encoder.layers.5.self_attn.out_proj.bias', 'model.encoder.layers.5.self_attn_layer_norm.weight', 'model.encoder.layers.5.self_attn_layer_norm.bias', 'model.encoder.layers.5.fc1.weight', 'model.encoder.layers.5.fc1.bias', 'model.encoder.layers.5.fc2.weight', 'model.encoder.layers.5.fc2.bias', 'model.encoder.layers.5.final_layer_norm.weight', 'model.encoder.layers.5.final_layer_norm.bias', 'model.encoder.layernorm_embedding.weight', 'model.encoder.layernorm_embedding.bias', 'model.encoder.layer_norm.weight', 'model.encoder.layer_norm.bias', 'model.decoder.embed_positions.weight', 'model.decoder.layers.0.self_attn.k_proj.weight', 'model.decoder.layers.0.self_attn.k_proj.bias', 'model.decoder.layers.0.self_attn.v_proj.weight', 'model.decoder.layers.0.self_attn.v_proj.bias', 'model.decoder.layers.0.self_attn.q_proj.weight', 'model.decoder.layers.0.self_attn.q_proj.bias', 'model.decoder.layers.0.self_attn.out_proj.weight', 'model.decoder.layers.0.self_attn.out_proj.bias', 'model.decoder.layers.0.self_attn_layer_norm.weight', 'model.decoder.layers.0.self_attn_layer_norm.bias', 'model.decoder.layers.0.encoder_attn.k_proj.weight', 'model.decoder.layers.0.encoder_attn.k_proj.bias', 'model.decoder.layers.0.encoder_attn.v_proj.weight', 'model.decoder.layers.0.encoder_attn.v_proj.bias', 'model.decoder.layers.0.encoder_attn.q_proj.weight', 'model.decoder.layers.0.encoder_attn.q_proj.bias', 'model.decoder.layers.0.encoder_attn.out_proj.weight', 'model.decoder.layers.0.encoder_attn.out_proj.bias', 'model.decoder.layers.0.encoder_attn_layer_norm.weight', 'model.decoder.layers.0.encoder_attn_layer_norm.bias', 'model.decoder.layers.0.fc1.weight', 'model.decoder.layers.0.fc1.bias', 'model.decoder.layers.0.fc2.weight', 'model.decoder.layers.0.fc2.bias', 'model.decoder.layers.0.final_layer_norm.weight', 'model.decoder.layers.0.final_layer_norm.bias', 'model.decoder.layers.1.self_attn.k_proj.weight', 'model.decoder.layers.1.self_attn.k_proj.bias', 'model.decoder.layers.1.self_attn.v_proj.weight', 'model.decoder.layers.1.self_attn.v_proj.bias', 'model.decoder.layers.1.self_attn.q_proj.weight', 'model.decoder.layers.1.self_attn.q_proj.bias', 'model.decoder.layers.1.self_attn.out_proj.weight', 'model.decoder.layers.1.self_attn.out_proj.bias', 'model.decoder.layers.1.self_attn_layer_norm.weight', 'model.decoder.layers.1.self_attn_layer_norm.bias', 'model.decoder.layers.1.encoder_attn.k_proj.weight', 'model.decoder.layers.1.encoder_attn.k_proj.bias', 'model.decoder.layers.1.encoder_attn.v_proj.weight', 'model.decoder.layers.1.encoder_attn.v_proj.bias', 'model.decoder.layers.1.encoder_attn.q_proj.weight', 'model.decoder.layers.1.encoder_attn.q_proj.bias', 'model.decoder.layers.1.encoder_attn.out_proj.weight', 'model.decoder.layers.1.encoder_attn.out_proj.bias', 'model.decoder.layers.1.encoder_attn_layer_norm.weight', 'model.decoder.layers.1.encoder_attn_layer_norm.bias', 'model.decoder.layers.1.fc1.weight', 'model.decoder.layers.1.fc1.bias', 'model.decoder.layers.1.fc2.weight', 'model.decoder.layers.1.fc2.bias', 'model.decoder.layers.1.final_layer_norm.weight', 'model.decoder.layers.1.final_layer_norm.bias', 'model.decoder.layers.2.self_attn.k_proj.weight', 'model.decoder.layers.2.self_attn.k_proj.bias', 'model.decoder.layers.2.self_attn.v_proj.weight', 'model.decoder.layers.2.self_attn.v_proj.bias', 'model.decoder.layers.2.self_attn.q_proj.weight', 'model.decoder.layers.2.self_attn.q_proj.bias', 'model.decoder.layers.2.self_attn.out_proj.weight', 'model.decoder.layers.2.self_attn.out_proj.bias', 'model.decoder.layers.2.self_attn_layer_norm.weight', 'model.decoder.layers.2.self_attn_layer_norm.bias', 'model.decoder.layers.2.encoder_attn.k_proj.weight', 'model.decoder.layers.2.encoder_attn.k_proj.bias', 'model.decoder.layers.2.encoder_attn.v_proj.weight', 'model.decoder.layers.2.encoder_attn.v_proj.bias', 'model.decoder.layers.2.encoder_attn.q_proj.weight', 'model.decoder.layers.2.encoder_attn.q_proj.bias', 'model.decoder.layers.2.encoder_attn.out_proj.weight', 'model.decoder.layers.2.encoder_attn.out_proj.bias', 'model.decoder.layers.2.encoder_attn_layer_norm.weight', 'model.decoder.layers.2.encoder_attn_layer_norm.bias', 'model.decoder.layers.2.fc1.weight', 'model.decoder.layers.2.fc1.bias', 'model.decoder.layers.2.fc2.weight', 'model.decoder.layers.2.fc2.bias', 'model.decoder.layers.2.final_layer_norm.weight', 'model.decoder.layers.2.final_layer_norm.bias', 'model.decoder.layers.3.self_attn.k_proj.weight', 'model.decoder.layers.3.self_attn.k_proj.bias', 'model.decoder.layers.3.self_attn.v_proj.weight', 'model.decoder.layers.3.self_attn.v_proj.bias', 'model.decoder.layers.3.self_attn.q_proj.weight', 'model.decoder.layers.3.self_attn.q_proj.bias', 'model.decoder.layers.3.self_attn.out_proj.weight', 'model.decoder.layers.3.self_attn.out_proj.bias', 'model.decoder.layers.3.self_attn_layer_norm.weight', 'model.decoder.layers.3.self_attn_layer_norm.bias', 'model.decoder.layers.3.encoder_attn.k_proj.weight', 'model.decoder.layers.3.encoder_attn.k_proj.bias', 'model.decoder.layers.3.encoder_attn.v_proj.weight', 'model.decoder.layers.3.encoder_attn.v_proj.bias', 'model.decoder.layers.3.encoder_attn.q_proj.weight', 'model.decoder.layers.3.encoder_attn.q_proj.bias', 'model.decoder.layers.3.encoder_attn.out_proj.weight', 'model.decoder.layers.3.encoder_attn.out_proj.bias', 'model.decoder.layers.3.encoder_attn_layer_norm.weight', 'model.decoder.layers.3.encoder_attn_layer_norm.bias', 'model.decoder.layers.3.fc1.weight', 'model.decoder.layers.3.fc1.bias', 'model.decoder.layers.3.fc2.weight', 'model.decoder.layers.3.fc2.bias', 'model.decoder.layers.3.final_layer_norm.weight', 'model.decoder.layers.3.final_layer_norm.bias', 'model.decoder.layers.4.self_attn.k_proj.weight', 'model.decoder.layers.4.self_attn.k_proj.bias', 'model.decoder.layers.4.self_attn.v_proj.weight', 'model.decoder.layers.4.self_attn.v_proj.bias', 'model.decoder.layers.4.self_attn.q_proj.weight', 'model.decoder.layers.4.self_attn.q_proj.bias', 'model.decoder.layers.4.self_attn.out_proj.weight', 'model.decoder.layers.4.self_attn.out_proj.bias', 'model.decoder.layers.4.self_attn_layer_norm.weight', 'model.decoder.layers.4.self_attn_layer_norm.bias', 'model.decoder.layers.4.encoder_attn.k_proj.weight', 'model.decoder.layers.4.encoder_attn.k_proj.bias', 'model.decoder.layers.4.encoder_attn.v_proj.weight', 'model.decoder.layers.4.encoder_attn.v_proj.bias', 'model.decoder.layers.4.encoder_attn.q_proj.weight', 'model.decoder.layers.4.encoder_attn.q_proj.bias', 'model.decoder.layers.4.encoder_attn.out_proj.weight', 'model.decoder.layers.4.encoder_attn.out_proj.bias', 'model.decoder.layers.4.encoder_attn_layer_norm.weight', 'model.decoder.layers.4.encoder_attn_layer_norm.bias', 'model.decoder.layers.4.fc1.weight', 'model.decoder.layers.4.fc1.bias', 'model.decoder.layers.4.fc2.weight', 'model.decoder.layers.4.fc2.bias', 'model.decoder.layers.4.final_layer_norm.weight', 'model.decoder.layers.4.final_layer_norm.bias', 'model.decoder.layers.5.self_attn.k_proj.weight', 'model.decoder.layers.5.self_attn.k_proj.bias', 'model.decoder.layers.5.self_attn.v_proj.weight', 'model.decoder.layers.5.self_attn.v_proj.bias', 'model.decoder.layers.5.self_attn.q_proj.weight', 'model.decoder.layers.5.self_attn.q_proj.bias', 'model.decoder.layers.5.self_attn.out_proj.weight', 'model.decoder.layers.5.self_attn.out_proj.bias', 'model.decoder.layers.5.self_attn_layer_norm.weight', 'model.decoder.layers.5.self_attn_layer_norm.bias', 'model.decoder.layers.5.encoder_attn.k_proj.weight', 'model.decoder.layers.5.encoder_attn.k_proj.bias', 'model.decoder.layers.5.encoder_attn.v_proj.weight', 'model.decoder.layers.5.encoder_attn.v_proj.bias', 'model.decoder.layers.5.encoder_attn.q_proj.weight', 'model.decoder.layers.5.encoder_attn.q_proj.bias', 'model.decoder.layers.5.encoder_attn.out_proj.weight', 'model.decoder.layers.5.encoder_attn.out_proj.bias', 'model.decoder.layers.5.encoder_attn_layer_norm.weight', 'model.decoder.layers.5.encoder_attn_layer_norm.bias', 'model.decoder.layers.5.fc1.weight', 'model.decoder.layers.5.fc1.bias', 'model.decoder.layers.5.fc2.weight', 'model.decoder.layers.5.fc2.bias', 'model.decoder.layers.5.final_layer_norm.weight', 'model.decoder.layers.5.final_layer_norm.bias', 'model.decoder.layernorm_embedding.weight', 'model.decoder.layernorm_embedding.bias', 'model.decoder.layer_norm.weight', 'model.decoder.layer_norm.bias']\n",
            "Number of model parameters: 244017152\n",
            "Total number of params to be optimized are:  244017152\n",
            "Percentage of parameters to be optimized:  100.0\n"
          ]
        },
        {
          "output_type": "stream",
          "name": "stderr",
          "text": [
            "/usr/local/lib/python3.7/dist-packages/transformers/optimization.py:310: FutureWarning: This implementation of AdamW is deprecated and will be removed in a future version. Use the PyTorch implementation torch.optim.AdamW instead, or set `no_deprecation_warning=True` to disable this warning\n",
            "  FutureWarning,\n"
          ]
        }
      ],
      "source": [
        "tokenizer = AlbertTokenizer.from_pretrained(\"ai4bharat/IndicBART\", do_lower_case=False, use_fast=False, keep_accents=True)\n",
        "\n",
        "bos_id = tokenizer._convert_token_to_id_with_added_voc(\"<s>\")\n",
        "eos_id = tokenizer._convert_token_to_id_with_added_voc(\"</s>\")\n",
        "pad_id = tokenizer._convert_token_to_id_with_added_voc(\"<pad>\")\n",
        "\n",
        "model = MBartForConditionalGeneration.from_pretrained(\"ai4bharat/IndicBART\")\n",
        "model.to(0)\n",
        "\n",
        "no_decay = [\"bias\", \"LayerNorm.weight\"]\n",
        "optimizer_grouped_parameters = [\n",
        "        {\n",
        "            \"params\": [p for n, p in model.named_parameters() if not any(nd in n for nd in no_decay) and p.requires_grad],\n",
        "            \"weight_decay\": 0.00001,\n",
        "        },\n",
        "        {\n",
        "            \"params\": [p for n, p in model.named_parameters() if any(nd in n for nd in no_decay) and p.requires_grad],\n",
        "            \"weight_decay\": 0.0,\n",
        "        },\n",
        "    ] ## We suppose that weight decay will be used except for biases and layer norm weights.\n",
        "\n",
        "print(\"Optimizing\", [n for n, p in model.named_parameters() if p.requires_grad])\n",
        "num_params_to_optimize = sum(p.numel() for p in model.parameters() if p.requires_grad)\n",
        "num_model_params = sum(p.numel() for p in model.parameters())\n",
        "print(\"Number of model parameters:\", num_model_params)\n",
        "print(\"Total number of params to be optimized are: \", num_params_to_optimize)\n",
        "\n",
        "print(\"Percentage of parameters to be optimized: \", 100*num_params_to_optimize/num_model_params)\n",
        "    \n",
        "optimizer = AdamW(optimizer_grouped_parameters, lr=0.001, eps=1e-8) ## Our glorious optimizer.\n",
        "\n",
        "scheduler = get_linear_schedule_with_warmup(optimizer, 4000, 200) ## A warmup and decay scheduler. We use the linear scheduler for now. TODO: Enable other schedulers with a flag."
      ]
    },
    {
      "cell_type": "markdown",
      "metadata": {
        "id": "eTsuYt11Wfoz"
      },
      "source": [
        "## Then we train for say 500 iterations!\n",
        "500 iterations means 500*16=8000 document-summary pairs seen.\n",
        "That is 10% of the dataset. Train longer for better results.\n",
        "Note that we only train on the first 256 tokens of the document due to memory issues. During decoding we can do longer tokens but it is recommended that you use the same settings as during training. Notice how after 200 iterations the model starts summarizing. But before that it just copies. Learning takes time!"
      ]
    },
    {
      "cell_type": "code",
      "execution_count": null,
      "metadata": {
        "colab": {
          "base_uri": "https://localhost:8080/",
          "height": 588
        },
        "id": "ql8CCwZzWWG0",
        "outputId": "d9ab48fa-d9cd-4d21-b713-0e20e012de74"
      },
      "outputs": [
        {
          "output_type": "stream",
          "name": "stdout",
          "text": [
            "Training for: ['hi-hi']\n",
            "Shuffling corpus: hi-hi\n",
            "\n",
            "Lets see how well the model is doing after  0 iterations of training\n",
            "Example 1:\n",
            "Original input document: टेसा जॉवल का कहना है कि मृतकों और लापता लोगों के परिजनों की मदद के लिए एक केंद्र स्थापित किया जा रहा है. उन्होंने इस हादसे के तीन के बाद भी मृतकों की सूची जारी करने में हो रही देरी के बारे में स्पष्टीकरण देते हुए कहा है शवों की ठीक पहचान होना ज़रूरी है. पुलिस के अनुसार धमाकों में मारे गए लोगों की संख्या अब 49 हो गई है और अब भी 20 से ज़्यादा लोग लापता हैं. पुलिस के अनुसार लंदन पर हमले योजनाबद्ध तरीके से हुए और भूमिगत रेलगाड़ियों में विस्फोट तो 50 सैकेंड के भीतर हुए. पहचान की प्रक्रिया किंग्स क्रॉस स्टेशन के पास सुरंग में धमाके से क्षतिग्रस्त रेल कोचों में अब भी पड़े शवों के बारे में स्थिति साफ नहीं है और पुलिस ने आगाह किया है कि हताहतों की संख्या बढ़ सकती है. पुलिस, न्यायिक अधिकारियों, चिकित्सकों और अन्य विशेषज्ञों का एक आयोग बनाया गया है जिसकी देख-रेख में शवों की पहचान की प्रक्रिया पूरी होगी. महत्वपूर्ण है कि गुरुवार को लंदन में मृतकों के सम्मान में सार्वजनिक समारोह होगा जिसमें उन्हें श्रद्धाँजलि दी जाएगी और दो मिनट का मौन रखा जाएगा. पुलिस का कहना है कि वह इस्लामी चरमपंथी संगठन अबू हफ़्स अल-मासरी ब्रिगेड्स का इन धमाकों के बारे में किए गए दावे को गंभीरता से ले रही है. 'धमाके पचास सेकेंड में हुए' पुलिस के अनुसार लंदन पर हुए हमले योजनाबद्ध तरीके से किए गए थे. पुलिस के अनुसार भूमिगत रेलों में तीन बम अलग-अलग जगहों लगभग अचानक फटे थे. इसलिए पुलिस को संदेह है कि धमाकों में टाइमिंग उपकरणों का उपयोग किया गया होगा. यह भी तथ्य सामने आया है कि धमाकों में आधुनिक किस्म के विस्फोटकों का उपयोग किया गया था. पहले माना जा रहा था कि हमलों में देसी विस्फोटकों का इस्तेमाल किया गया होगा. पुलिस मुख्यालय स्कॉटलैंड यार्ड में सहायक उपायुक्त ब्रायन पैडिक ने बताया कि भूमिगत रेलों में तीन धमाके 50 सेकेंड के अंतराल के भीतर हुए थे. धमाके गुरुवार सुबह आठ बजकर पचास मिनट पर हुए थे. लंदन अंडरग्राउंड से मिली विस्तृत तकनीकी सूचनाओं से यह तथ्य सामने आया है. इससे पहले बम धमाकों में अच्छे खासे अंतराल की बात की जा रही थी. </s> <2hi>\n",
            "Summary is: टेसा जॉवल का कहना है कि मृतकों और लापता लोगों के परिजनों की मदद के लिए एक केंद्र स्थापित किया जा रहा है. उन्होंने इस हादसे के तीन के बाद भी मृतकों की सूची जारी करने में हो रही देरी के बारे में स्पष्टीकरण देते हुए कहा है शवों की ठीक पहचान\n",
            "\n",
            "Loss for batch  1 is 4.71\n",
            "\n"
          ]
        },
        {
          "output_type": "error",
          "ename": "KeyboardInterrupt",
          "evalue": "ignored",
          "traceback": [
            "\u001b[0;31m---------------------------------------------------------------------------\u001b[0m",
            "\u001b[0;31mKeyboardInterrupt\u001b[0m                         Traceback (most recent call last)",
            "\u001b[0;32m<ipython-input-38-4c4b4575f9d9>\u001b[0m in \u001b[0;36m<module>\u001b[0;34m()\u001b[0m\n\u001b[1;32m     34\u001b[0m   \u001b[0;32mdel\u001b[0m \u001b[0mlabels\u001b[0m \u001b[0;31m## Delete to avoid retention.\u001b[0m\u001b[0;34m\u001b[0m\u001b[0;34m\u001b[0m\u001b[0m\n\u001b[1;32m     35\u001b[0m   \u001b[0mloss\u001b[0m\u001b[0;34m.\u001b[0m\u001b[0mbackward\u001b[0m\u001b[0;34m(\u001b[0m\u001b[0;34m)\u001b[0m\u001b[0;34m\u001b[0m\u001b[0;34m\u001b[0m\u001b[0m\n\u001b[0;32m---> 36\u001b[0;31m   \u001b[0mtorch\u001b[0m\u001b[0;34m.\u001b[0m\u001b[0mnn\u001b[0m\u001b[0;34m.\u001b[0m\u001b[0mutils\u001b[0m\u001b[0;34m.\u001b[0m\u001b[0mclip_grad_norm_\u001b[0m\u001b[0;34m(\u001b[0m\u001b[0mmodel\u001b[0m\u001b[0;34m.\u001b[0m\u001b[0mparameters\u001b[0m\u001b[0;34m(\u001b[0m\u001b[0;34m)\u001b[0m\u001b[0;34m,\u001b[0m \u001b[0;36m1.0\u001b[0m\u001b[0;34m)\u001b[0m\u001b[0;34m\u001b[0m\u001b[0;34m\u001b[0m\u001b[0m\n\u001b[0m\u001b[1;32m     37\u001b[0m   \u001b[0moptimizer\u001b[0m\u001b[0;34m.\u001b[0m\u001b[0mstep\u001b[0m\u001b[0;34m(\u001b[0m\u001b[0;34m)\u001b[0m\u001b[0;34m\u001b[0m\u001b[0;34m\u001b[0m\u001b[0m\n\u001b[1;32m     38\u001b[0m   \u001b[0mscheduler\u001b[0m\u001b[0;34m.\u001b[0m\u001b[0mstep\u001b[0m\u001b[0;34m(\u001b[0m\u001b[0;34m)\u001b[0m\u001b[0;34m\u001b[0m\u001b[0;34m\u001b[0m\u001b[0m\n",
            "\u001b[0;32m/usr/local/lib/python3.7/dist-packages/torch/nn/utils/clip_grad.py\u001b[0m in \u001b[0;36mclip_grad_norm_\u001b[0;34m(parameters, max_norm, norm_type, error_if_nonfinite)\u001b[0m\n\u001b[1;32m     40\u001b[0m         \u001b[0mtotal_norm\u001b[0m \u001b[0;34m=\u001b[0m \u001b[0mnorms\u001b[0m\u001b[0;34m[\u001b[0m\u001b[0;36m0\u001b[0m\u001b[0;34m]\u001b[0m \u001b[0;32mif\u001b[0m \u001b[0mlen\u001b[0m\u001b[0;34m(\u001b[0m\u001b[0mnorms\u001b[0m\u001b[0;34m)\u001b[0m \u001b[0;34m==\u001b[0m \u001b[0;36m1\u001b[0m \u001b[0;32melse\u001b[0m \u001b[0mtorch\u001b[0m\u001b[0;34m.\u001b[0m\u001b[0mmax\u001b[0m\u001b[0;34m(\u001b[0m\u001b[0mtorch\u001b[0m\u001b[0;34m.\u001b[0m\u001b[0mstack\u001b[0m\u001b[0;34m(\u001b[0m\u001b[0mnorms\u001b[0m\u001b[0;34m)\u001b[0m\u001b[0;34m)\u001b[0m\u001b[0;34m\u001b[0m\u001b[0;34m\u001b[0m\u001b[0m\n\u001b[1;32m     41\u001b[0m     \u001b[0;32melse\u001b[0m\u001b[0;34m:\u001b[0m\u001b[0;34m\u001b[0m\u001b[0;34m\u001b[0m\u001b[0m\n\u001b[0;32m---> 42\u001b[0;31m         \u001b[0mtotal_norm\u001b[0m \u001b[0;34m=\u001b[0m \u001b[0mtorch\u001b[0m\u001b[0;34m.\u001b[0m\u001b[0mnorm\u001b[0m\u001b[0;34m(\u001b[0m\u001b[0mtorch\u001b[0m\u001b[0;34m.\u001b[0m\u001b[0mstack\u001b[0m\u001b[0;34m(\u001b[0m\u001b[0;34m[\u001b[0m\u001b[0mtorch\u001b[0m\u001b[0;34m.\u001b[0m\u001b[0mnorm\u001b[0m\u001b[0;34m(\u001b[0m\u001b[0mp\u001b[0m\u001b[0;34m.\u001b[0m\u001b[0mgrad\u001b[0m\u001b[0;34m.\u001b[0m\u001b[0mdetach\u001b[0m\u001b[0;34m(\u001b[0m\u001b[0;34m)\u001b[0m\u001b[0;34m,\u001b[0m \u001b[0mnorm_type\u001b[0m\u001b[0;34m)\u001b[0m\u001b[0;34m.\u001b[0m\u001b[0mto\u001b[0m\u001b[0;34m(\u001b[0m\u001b[0mdevice\u001b[0m\u001b[0;34m)\u001b[0m \u001b[0;32mfor\u001b[0m \u001b[0mp\u001b[0m \u001b[0;32min\u001b[0m \u001b[0mparameters\u001b[0m\u001b[0;34m]\u001b[0m\u001b[0;34m)\u001b[0m\u001b[0;34m,\u001b[0m \u001b[0mnorm_type\u001b[0m\u001b[0;34m)\u001b[0m\u001b[0;34m\u001b[0m\u001b[0;34m\u001b[0m\u001b[0m\n\u001b[0m\u001b[1;32m     43\u001b[0m     \u001b[0;32mif\u001b[0m \u001b[0merror_if_nonfinite\u001b[0m \u001b[0;32mand\u001b[0m \u001b[0mtorch\u001b[0m\u001b[0;34m.\u001b[0m\u001b[0mlogical_or\u001b[0m\u001b[0;34m(\u001b[0m\u001b[0mtotal_norm\u001b[0m\u001b[0;34m.\u001b[0m\u001b[0misnan\u001b[0m\u001b[0;34m(\u001b[0m\u001b[0;34m)\u001b[0m\u001b[0;34m,\u001b[0m \u001b[0mtotal_norm\u001b[0m\u001b[0;34m.\u001b[0m\u001b[0misinf\u001b[0m\u001b[0;34m(\u001b[0m\u001b[0;34m)\u001b[0m\u001b[0;34m)\u001b[0m\u001b[0;34m:\u001b[0m\u001b[0;34m\u001b[0m\u001b[0;34m\u001b[0m\u001b[0m\n\u001b[1;32m     44\u001b[0m         raise RuntimeError(\n",
            "\u001b[0;32m/usr/local/lib/python3.7/dist-packages/torch/nn/utils/clip_grad.py\u001b[0m in \u001b[0;36m<listcomp>\u001b[0;34m(.0)\u001b[0m\n\u001b[1;32m     40\u001b[0m         \u001b[0mtotal_norm\u001b[0m \u001b[0;34m=\u001b[0m \u001b[0mnorms\u001b[0m\u001b[0;34m[\u001b[0m\u001b[0;36m0\u001b[0m\u001b[0;34m]\u001b[0m \u001b[0;32mif\u001b[0m \u001b[0mlen\u001b[0m\u001b[0;34m(\u001b[0m\u001b[0mnorms\u001b[0m\u001b[0;34m)\u001b[0m \u001b[0;34m==\u001b[0m \u001b[0;36m1\u001b[0m \u001b[0;32melse\u001b[0m \u001b[0mtorch\u001b[0m\u001b[0;34m.\u001b[0m\u001b[0mmax\u001b[0m\u001b[0;34m(\u001b[0m\u001b[0mtorch\u001b[0m\u001b[0;34m.\u001b[0m\u001b[0mstack\u001b[0m\u001b[0;34m(\u001b[0m\u001b[0mnorms\u001b[0m\u001b[0;34m)\u001b[0m\u001b[0;34m)\u001b[0m\u001b[0;34m\u001b[0m\u001b[0;34m\u001b[0m\u001b[0m\n\u001b[1;32m     41\u001b[0m     \u001b[0;32melse\u001b[0m\u001b[0;34m:\u001b[0m\u001b[0;34m\u001b[0m\u001b[0;34m\u001b[0m\u001b[0m\n\u001b[0;32m---> 42\u001b[0;31m         \u001b[0mtotal_norm\u001b[0m \u001b[0;34m=\u001b[0m \u001b[0mtorch\u001b[0m\u001b[0;34m.\u001b[0m\u001b[0mnorm\u001b[0m\u001b[0;34m(\u001b[0m\u001b[0mtorch\u001b[0m\u001b[0;34m.\u001b[0m\u001b[0mstack\u001b[0m\u001b[0;34m(\u001b[0m\u001b[0;34m[\u001b[0m\u001b[0mtorch\u001b[0m\u001b[0;34m.\u001b[0m\u001b[0mnorm\u001b[0m\u001b[0;34m(\u001b[0m\u001b[0mp\u001b[0m\u001b[0;34m.\u001b[0m\u001b[0mgrad\u001b[0m\u001b[0;34m.\u001b[0m\u001b[0mdetach\u001b[0m\u001b[0;34m(\u001b[0m\u001b[0;34m)\u001b[0m\u001b[0;34m,\u001b[0m \u001b[0mnorm_type\u001b[0m\u001b[0;34m)\u001b[0m\u001b[0;34m.\u001b[0m\u001b[0mto\u001b[0m\u001b[0;34m(\u001b[0m\u001b[0mdevice\u001b[0m\u001b[0;34m)\u001b[0m \u001b[0;32mfor\u001b[0m \u001b[0mp\u001b[0m \u001b[0;32min\u001b[0m \u001b[0mparameters\u001b[0m\u001b[0;34m]\u001b[0m\u001b[0;34m)\u001b[0m\u001b[0;34m,\u001b[0m \u001b[0mnorm_type\u001b[0m\u001b[0;34m)\u001b[0m\u001b[0;34m\u001b[0m\u001b[0;34m\u001b[0m\u001b[0m\n\u001b[0m\u001b[1;32m     43\u001b[0m     \u001b[0;32mif\u001b[0m \u001b[0merror_if_nonfinite\u001b[0m \u001b[0;32mand\u001b[0m \u001b[0mtorch\u001b[0m\u001b[0;34m.\u001b[0m\u001b[0mlogical_or\u001b[0m\u001b[0;34m(\u001b[0m\u001b[0mtotal_norm\u001b[0m\u001b[0;34m.\u001b[0m\u001b[0misnan\u001b[0m\u001b[0;34m(\u001b[0m\u001b[0;34m)\u001b[0m\u001b[0;34m,\u001b[0m \u001b[0mtotal_norm\u001b[0m\u001b[0;34m.\u001b[0m\u001b[0misinf\u001b[0m\u001b[0;34m(\u001b[0m\u001b[0;34m)\u001b[0m\u001b[0;34m)\u001b[0m\u001b[0;34m:\u001b[0m\u001b[0;34m\u001b[0m\u001b[0;34m\u001b[0m\u001b[0m\n\u001b[1;32m     44\u001b[0m         raise RuntimeError(\n",
            "\u001b[0;32m/usr/local/lib/python3.7/dist-packages/torch/functional.py\u001b[0m in \u001b[0;36mnorm\u001b[0;34m(input, p, dim, keepdim, out, dtype)\u001b[0m\n\u001b[1;32m   1449\u001b[0m         \u001b[0;32mif\u001b[0m \u001b[0;32mnot\u001b[0m \u001b[0misinstance\u001b[0m\u001b[0;34m(\u001b[0m\u001b[0mp\u001b[0m\u001b[0;34m,\u001b[0m \u001b[0mstr\u001b[0m\u001b[0;34m)\u001b[0m\u001b[0;34m:\u001b[0m\u001b[0;34m\u001b[0m\u001b[0;34m\u001b[0m\u001b[0m\n\u001b[1;32m   1450\u001b[0m             \u001b[0m_dim\u001b[0m \u001b[0;34m=\u001b[0m \u001b[0;34m[\u001b[0m\u001b[0mi\u001b[0m \u001b[0;32mfor\u001b[0m \u001b[0mi\u001b[0m \u001b[0;32min\u001b[0m \u001b[0mrange\u001b[0m\u001b[0;34m(\u001b[0m\u001b[0mndim\u001b[0m\u001b[0;34m)\u001b[0m\u001b[0;34m]\u001b[0m  \u001b[0;31m# noqa: C416 TODO: rewrite as list(range(m))\u001b[0m\u001b[0;34m\u001b[0m\u001b[0;34m\u001b[0m\u001b[0m\n\u001b[0;32m-> 1451\u001b[0;31m             \u001b[0;32mreturn\u001b[0m \u001b[0m_VF\u001b[0m\u001b[0;34m.\u001b[0m\u001b[0mnorm\u001b[0m\u001b[0;34m(\u001b[0m\u001b[0minput\u001b[0m\u001b[0;34m,\u001b[0m \u001b[0mp\u001b[0m\u001b[0;34m,\u001b[0m \u001b[0mdim\u001b[0m\u001b[0;34m=\u001b[0m\u001b[0m_dim\u001b[0m\u001b[0;34m,\u001b[0m \u001b[0mkeepdim\u001b[0m\u001b[0;34m=\u001b[0m\u001b[0mkeepdim\u001b[0m\u001b[0;34m)\u001b[0m  \u001b[0;31m# type: ignore[attr-defined]\u001b[0m\u001b[0;34m\u001b[0m\u001b[0;34m\u001b[0m\u001b[0m\n\u001b[0m\u001b[1;32m   1452\u001b[0m \u001b[0;34m\u001b[0m\u001b[0m\n\u001b[1;32m   1453\u001b[0m     \u001b[0;31m# TODO: when https://github.com/pytorch/pytorch/issues/33782 is fixed\u001b[0m\u001b[0;34m\u001b[0m\u001b[0;34m\u001b[0m\u001b[0;34m\u001b[0m\u001b[0m\n",
            "\u001b[0;31mKeyboardInterrupt\u001b[0m: "
          ]
        }
      ],
      "source": [
        "## Lets set the model to training mode\n",
        "model.train()\n",
        "ctr=0\n",
        "for i, (input_ids, input_masks, decoder_input_ids, labels) in enumerate(generate_batches_bilingual(tokenizer, 500, is_summarization=True, batch_size=16, src_lang=\"hi\", tgt_lang=\"hi\", src_file_prefix=\"train.text\", tgt_file_prefix=\"train.summary\")):\n",
        "  ctr=i\n",
        "  if i%100 == 0:\n",
        "    print()\n",
        "    model.eval() # Set dropouts to zero\n",
        "    print(\"Lets see how well the model is doing after \", i, \"iterations of training\")\n",
        "    input_sentence = \"टेसा जॉवल का कहना है कि मृतकों और लापता लोगों के परिजनों की मदद के लिए एक केंद्र स्थापित किया जा रहा है. उन्होंने इस हादसे के तीन के बाद भी मृतकों की सूची जारी करने में हो रही देरी के बारे में स्पष्टीकरण देते हुए कहा है शवों की ठीक पहचान होना ज़रूरी है. पुलिस के अनुसार धमाकों में मारे गए लोगों की संख्या अब 49 हो गई है और अब भी 20 से ज़्यादा लोग लापता हैं. पुलिस के अनुसार लंदन पर हमले योजनाबद्ध तरीके से हुए और भूमिगत रेलगाड़ियों में विस्फोट तो 50 सैकेंड के भीतर हुए. पहचान की प्रक्रिया किंग्स क्रॉस स्टेशन के पास सुरंग में धमाके से क्षतिग्रस्त रेल कोचों में अब भी पड़े शवों के बारे में स्थिति साफ नहीं है और पुलिस ने आगाह किया है कि हताहतों की संख्या बढ़ सकती है. पुलिस, न्यायिक अधिकारियों, चिकित्सकों और अन्य विशेषज्ञों का एक आयोग बनाया गया है जिसकी देख-रेख में शवों की पहचान की प्रक्रिया पूरी होगी. महत्वपूर्ण है कि गुरुवार को लंदन में मृतकों के सम्मान में सार्वजनिक समारोह होगा जिसमें उन्हें श्रद्धाँजलि दी जाएगी और दो मिनट का मौन रखा जाएगा. पुलिस का कहना है कि वह इस्लामी चरमपंथी संगठन अबू हफ़्स अल-मासरी ब्रिगेड्स का इन धमाकों के बारे में किए गए दावे को गंभीरता से ले रही है. 'धमाके पचास सेकेंड में हुए' पुलिस के अनुसार लंदन पर हुए हमले योजनाबद्ध तरीके से किए गए थे. पुलिस के अनुसार भूमिगत रेलों में तीन बम अलग-अलग जगहों लगभग अचानक फटे थे. इसलिए पुलिस को संदेह है कि धमाकों में टाइमिंग उपकरणों का उपयोग किया गया होगा. यह भी तथ्य सामने आया है कि धमाकों में आधुनिक किस्म के विस्फोटकों का उपयोग किया गया था. पहले माना जा रहा था कि हमलों में देसी विस्फोटकों का इस्तेमाल किया गया होगा. पुलिस मुख्यालय स्कॉटलैंड यार्ड में सहायक उपायुक्त ब्रायन पैडिक ने बताया कि भूमिगत रेलों में तीन धमाके 50 सेकेंड के अंतराल के भीतर हुए थे. धमाके गुरुवार सुबह आठ बजकर पचास मिनट पर हुए थे. लंदन अंडरग्राउंड से मिली विस्तृत तकनीकी सूचनाओं से यह तथ्य सामने आया है. इससे पहले बम धमाकों में अच्छे खासे अंतराल की बात की जा रही थी. </s> <2hi>\" ## Ignore the </s> and <2en> for now.\n",
        "    inp = tokenizer(input_sentence, add_special_tokens=False, return_tensors=\"pt\", padding=True).input_ids\n",
        "    inp=inp.to(0)\n",
        "    model_output=model.generate(inp, use_cache=True, num_beams=4, max_length=60, min_length=5, length_penalty=1.0, early_stopping=True, pad_token_id=pad_id, bos_token_id=bos_id, eos_token_id=eos_id, decoder_start_token_id=tokenizer._convert_token_to_id_with_added_voc(\"<2hi>\"))\n",
        "    decoded_output=tokenizer.decode(model_output[0], skip_special_tokens=True, clean_up_tokenization_spaces=False)\n",
        "    print(\"Example 1:\")\n",
        "    print(\"Original input document:\", input_sentence)\n",
        "    print(\"Summary is:\", decoded_output)\n",
        "    print()\n",
        "    model.train() # back to training mode\n",
        "\n",
        "  input_ids = input_ids.to(0)\n",
        "  input_masks = input_masks.to(0)\n",
        "  decoder_input_ids = decoder_input_ids.to(0)\n",
        "  labels = labels.to(0)\n",
        "  mod_compute = model(input_ids=input_ids, attention_mask=input_masks, decoder_input_ids=decoder_input_ids) ## Run the model and get logits.\n",
        "  logits = mod_compute.logits\n",
        "  lprobs = torch.nn.functional.log_softmax(logits, dim=-1) ## Softmax tempering of logits if needed.\n",
        "  loss = label_smoothed_nll_loss(\n",
        "      lprobs, labels, 0.1, ignore_index=0\n",
        "  ) ## Label smoothed cross entropy loss.\n",
        "  del input_ids ## Delete to avoid retention.\n",
        "  del input_masks ## Delete to avoid retention.\n",
        "  del decoder_input_ids ## Delete to avoid retention.\n",
        "  del labels ## Delete to avoid retention.\n",
        "  loss.backward()\n",
        "  torch.nn.utils.clip_grad_norm_(model.parameters(), 1.0)\n",
        "  optimizer.step()\n",
        "  scheduler.step()\n",
        "  if i % 100 == 0:\n",
        "    print(\"Loss for batch \", i+1, \"is\", round(loss.detach().cpu().numpy().item(), 2))\n",
        "    print()"
      ]
    },
    {
      "cell_type": "markdown",
      "metadata": {
        "id": "HjkV-M0zbj52"
      },
      "source": [
        "## And lets see what the model does after these 500 iterations!"
      ]
    },
    {
      "cell_type": "code",
      "execution_count": null,
      "metadata": {
        "colab": {
          "background_save": true
        },
        "id": "pHP3DsGRbjWd"
      },
      "outputs": [],
      "source": [
        "sentence = \"टेसा जॉवल का कहना है कि मृतकों और लापता लोगों के परिजनों की मदद के लिए एक केंद्र स्थापित किया जा रहा है. उन्होंने इस हादसे के तीन के बाद भी मृतकों की सूची जारी करने में हो रही देरी के बारे में स्पष्टीकरण देते हुए कहा है शवों की ठीक पहचान होना ज़रूरी है. पुलिस के अनुसार धमाकों में मारे गए लोगों की संख्या अब 49 हो गई है और अब भी 20 से ज़्यादा लोग लापता हैं. पुलिस के अनुसार लंदन पर हमले योजनाबद्ध तरीके से हुए और भूमिगत रेलगाड़ियों में विस्फोट तो 50 सैकेंड के भीतर हुए. पहचान की प्रक्रिया किंग्स क्रॉस स्टेशन के पास सुरंग में धमाके से क्षतिग्रस्त रेल कोचों में अब भी पड़े शवों के बारे में स्थिति साफ नहीं है और पुलिस ने आगाह किया है कि हताहतों की संख्या बढ़ सकती है. पुलिस, न्यायिक अधिकारियों, चिकित्सकों और अन्य विशेषज्ञों का एक आयोग बनाया गया है जिसकी देख-रेख में शवों की पहचान की प्रक्रिया पूरी होगी. महत्वपूर्ण है कि गुरुवार को लंदन में मृतकों के सम्मान में सार्वजनिक समारोह होगा जिसमें उन्हें श्रद्धाँजलि दी जाएगी और दो मिनट का मौन रखा जाएगा. पुलिस का कहना है कि वह इस्लामी चरमपंथी संगठन अबू हफ़्स अल-मासरी ब्रिगेड्स का इन धमाकों के बारे में किए गए दावे को गंभीरता से ले रही है. 'धमाके पचास सेकेंड में हुए' पुलिस के अनुसार लंदन पर हुए हमले योजनाबद्ध तरीके से किए गए थे. पुलिस के अनुसार भूमिगत रेलों में तीन बम अलग-अलग जगहों लगभग अचानक फटे थे. इसलिए पुलिस को संदेह है कि धमाकों में टाइमिंग उपकरणों का उपयोग किया गया होगा. यह भी तथ्य सामने आया है कि धमाकों में आधुनिक किस्म के विस्फोटकों का उपयोग किया गया था. पहले माना जा रहा था कि हमलों में देसी विस्फोटकों का इस्तेमाल किया गया होगा. पुलिस मुख्यालय स्कॉटलैंड यार्ड में सहायक उपायुक्त ब्रायन पैडिक ने बताया कि भूमिगत रेलों में तीन धमाके 50 सेकेंड के अंतराल के भीतर हुए थे. धमाके गुरुवार सुबह आठ बजकर पचास मिनट पर हुए थे. लंदन अंडरग्राउंड से मिली विस्तृत तकनीकी सूचनाओं से यह तथ्य सामने आया है. इससे पहले बम धमाकों में अच्छे खासे अंतराल की बात की जा रही थी.\"\n",
        "inp = tokenizer(sentence + \" </s> <2hi>\", add_special_tokens=False, return_tensors=\"pt\", padding=True).input_ids\n",
        "\n",
        "# If the sentence is not in Devanagari or Roman script then use: sentence = UnicodeIndicTransliterator.transliterate(sentence, language, \"hi\")\n",
        "\n",
        "model.eval() # Set dropouts to zero\n",
        "\n",
        "inp=inp.to(0)\n",
        "\n",
        "model_output=model.generate(inp, use_cache=True, num_beams=4, max_length=60, min_length=5, length_penalty=1.0, early_stopping=True, pad_token_id=pad_id, bos_token_id=bos_id, eos_token_id=eos_id, decoder_start_token_id=tokenizer._convert_token_to_id_with_added_voc(\"<2hi>\"))\n",
        "\n",
        "\n",
        "# Decode to get output strings\n",
        "\n",
        "decoded_output=tokenizer.decode(model_output[0], skip_special_tokens=True, clean_up_tokenization_spaces=False)\n",
        "\n",
        "# If the original sentence is not in Devanagari or Roman script then use: decoded_output = UnicodeIndicTransliterator.transliterate(decoded_output, \"hi\", language)\n",
        "\n",
        "print(\"Original document:\", sentence)\n",
        "print(\"Summary predicted by model:\", decoded_output)"
      ]
    },
    {
      "cell_type": "markdown",
      "metadata": {
        "id": "OXuT4LMOdbHR"
      },
      "source": [
        "## Summarization is subjective to some degree so the machine's output not be what you would generate!"
      ]
    },
    {
      "cell_type": "markdown",
      "metadata": {
        "id": "JCvbPdJG9MXY"
      },
      "source": [
        "## But how do we do pre-training?\n",
        "\n",
        "Well its ready easy. If you look at the batching code, you can see that I have already included the functionality to do denoising pre-training.\n",
        "\n",
        "What this means is: If your input and output sentences are both \"I am a boy\"\n",
        "\n",
        "Then the input sentence becomes \"I am [MASK]\" and the output sentence is \"I am a boy\".\n",
        "\n",
        "Lets play with some pre-training.\n",
        "\n",
        "First lets use the IndicBART model skeleton but with random initial parameters."
      ]
    },
    {
      "cell_type": "code",
      "execution_count": null,
      "metadata": {
        "colab": {
          "background_save": true
        },
        "id": "ys-auZVM9jLR"
      },
      "outputs": [],
      "source": [
        "tokenizer = AlbertTokenizer.from_pretrained(\"ai4bharat/IndicBART\", do_lower_case=False, use_fast=False, keep_accents=True)\n",
        "\n",
        "bos_id = tokenizer._convert_token_to_id_with_added_voc(\"<s>\")\n",
        "eos_id = tokenizer._convert_token_to_id_with_added_voc(\"</s>\")\n",
        "pad_id = tokenizer._convert_token_to_id_with_added_voc(\"<pad>\")\n",
        "\n",
        "model = MBartForConditionalGeneration.from_pretrained(\"ai4bharat/IndicBART\")\n",
        "\n",
        "model.init_weights() ## This resets weights. Dont believe me? See what happens.\n",
        "\n",
        "model.to(0)\n",
        "\n",
        "input_sentence = \"I am a [MASK] </s> <2en>\"\n",
        "inp = tokenizer(input_sentence, add_special_tokens=False, return_tensors=\"pt\", padding=True).input_ids.to(0)\n",
        "\n",
        "model_output=model.generate(inp, use_cache=True, num_beams=4, max_length=20, min_length=1, early_stopping=True, pad_token_id=pad_id, bos_token_id=bos_id, eos_token_id=eos_id, decoder_start_token_id=tokenizer._convert_token_to_id_with_added_voc(\"<2en>\"))\n",
        "\n",
        "for i, mod_out in enumerate(model_output):\n",
        "  print(\"Output \", i)\n",
        "  print(\"Model output as tensor:\", mod_out)\n",
        "\n",
        "  print(\"Model output as segmented sentence:\", tokenizer.convert_ids_to_tokens(mod_out))\n",
        "\n",
        "  decoded_output=tokenizer.decode(mod_out, skip_special_tokens=True, clean_up_tokenization_spaces=False)\n",
        "\n",
        "  print(\"Models actual output:\", decoded_output) ## Either garbage or nothing.\n",
        "\n"
      ]
    },
    {
      "cell_type": "markdown",
      "metadata": {
        "id": "tI8jfXc499-o"
      },
      "source": [
        "Then we set up the optimizer and scheduler."
      ]
    },
    {
      "cell_type": "code",
      "execution_count": null,
      "metadata": {
        "colab": {
          "background_save": true
        },
        "id": "IqYxCFaq-Cuy"
      },
      "outputs": [],
      "source": [
        "no_decay = [\"bias\", \"LayerNorm.weight\"]\n",
        "optimizer_grouped_parameters = [\n",
        "        {\n",
        "            \"params\": [p for n, p in model.named_parameters() if not any(nd in n for nd in no_decay) and p.requires_grad],\n",
        "            \"weight_decay\": 0.00001,\n",
        "        },\n",
        "        {\n",
        "            \"params\": [p for n, p in model.named_parameters() if any(nd in n for nd in no_decay) and p.requires_grad],\n",
        "            \"weight_decay\": 0.0,\n",
        "        },\n",
        "    ] ## We suppose that weight decay will be used except for biases and layer norm weights.\n",
        "\n",
        "print(\"Optimizing\", [n for n, p in model.named_parameters() if p.requires_grad])\n",
        "num_params_to_optimize = sum(p.numel() for p in model.parameters() if p.requires_grad)\n",
        "num_model_params = sum(p.numel() for p in model.parameters())\n",
        "print(\"Number of model parameters:\", num_model_params)\n",
        "print(\"Total number of params to be optimized are: \", num_params_to_optimize)\n",
        "\n",
        "print(\"Percentage of parameters to be optimized: \", 100*num_params_to_optimize/num_model_params)\n",
        "    \n",
        "optimizer = AdamW(optimizer_grouped_parameters, lr=0.001, eps=1e-8) ## Our glorious optimizer.\n",
        "\n",
        "scheduler = get_linear_schedule_with_warmup(optimizer, 4000, 200) ## A warmup and decay scheduler. We use the linear scheduler for now. TODO: Enable other schedulers with a flag."
      ]
    },
    {
      "cell_type": "markdown",
      "metadata": {
        "id": "mWG8Uo3G_D2Q"
      },
      "source": [
        "## Now lets train.\n",
        "\n",
        "Only difference is that we now use the source sentences as the target ones too.\n",
        "Our data is small but in reality people work with billions of words. You have been warned!"
      ]
    },
    {
      "cell_type": "code",
      "execution_count": null,
      "metadata": {
        "id": "Xc0DkFGQ_NJk"
      },
      "outputs": [],
      "source": [
        "## Lets set the model to training mode\n",
        "model.train()\n",
        "ctr=0\n",
        "for i, (input_ids, input_masks, decoder_input_ids, labels) in enumerate(generate_batches_bilingual(tokenizer, 1000, is_summarization=False, batch_size=16, src_lang=\"en\", tgt_lang=\"en\", src_file_prefix=\"TED2020.en-hi\", tgt_file_prefix=\"TED2020.en-hi\")):\n",
        "  ctr=i\n",
        "  if i%100 == 0:\n",
        "    print()\n",
        "    model.eval() # Set dropouts to zero\n",
        "    print(\"Lets see how well the model is doing after \", i, \"iterations of training\")\n",
        "    input_sentence = \"I am a [MASK] </s> <2en>\" ## Ignore the </s> and <2en> for now.\n",
        "    inp = tokenizer(input_sentence, add_special_tokens=False, return_tensors=\"pt\", padding=True).input_ids\n",
        "    inp=inp.to(0)\n",
        "    model_output=model.generate(inp, use_cache=True, num_beams=4, max_length=40, min_length=1, early_stopping=True, pad_token_id=pad_id, bos_token_id=bos_id, eos_token_id=eos_id, decoder_start_token_id=tokenizer._convert_token_to_id_with_added_voc(\"<2en>\"))\n",
        "    decoded_output=tokenizer.decode(model_output[0], skip_special_tokens=True, clean_up_tokenization_spaces=False)\n",
        "    print(\"Example 1:\")\n",
        "    print(\"Original input sentence\", input_sentence)\n",
        "    print(\"Translation is:\", decoded_output)\n",
        "    print()\n",
        "    input_sentence = \"I [MASK] food </s> <2en>\" ## Ignore the </s> and <2en> for now.\n",
        "    inp = tokenizer(input_sentence, add_special_tokens=False, return_tensors=\"pt\", padding=True).input_ids\n",
        "    inp=inp.to(0)\n",
        "    model_output=model.generate(inp, use_cache=True, num_beams=4, max_length=40, min_length=1, early_stopping=True, pad_token_id=pad_id, bos_token_id=bos_id, eos_token_id=eos_id, decoder_start_token_id=tokenizer._convert_token_to_id_with_added_voc(\"<2en>\"))\n",
        "    decoded_output=tokenizer.decode(model_output[0], skip_special_tokens=True, clean_up_tokenization_spaces=False)\n",
        "    print(\"Example 2:\")\n",
        "    print(\"Original input sentence\", input_sentence)\n",
        "    print(\"Translation is:\", decoded_output)\n",
        "    print()\n",
        "    input_sentence = \"Lets take a [MASK] </s> <2en>\" ## Ignore the </s> and <2en> for now.\n",
        "    inp = tokenizer(input_sentence, add_special_tokens=False, return_tensors=\"pt\", padding=True).input_ids\n",
        "    inp=inp.to(0)\n",
        "    model_output=model.generate(inp, use_cache=True, num_beams=4, max_length=40, min_length=1, early_stopping=True, pad_token_id=pad_id, bos_token_id=bos_id, eos_token_id=eos_id, decoder_start_token_id=tokenizer._convert_token_to_id_with_added_voc(\"<2en>\"))\n",
        "    decoded_output=tokenizer.decode(model_output[0], skip_special_tokens=True, clean_up_tokenization_spaces=False)\n",
        "    print(\"Example 3:\")\n",
        "    print(\"Original input sentence\", input_sentence)\n",
        "    print(\"Translation is:\", decoded_output)\n",
        "    print()\n",
        "    model.train() # back to training mode\n",
        "\n",
        "  input_ids = input_ids.to(0)\n",
        "  input_masks = input_masks.to(0)\n",
        "  decoder_input_ids = decoder_input_ids.to(0)\n",
        "  labels = labels.to(0)\n",
        "  mod_compute = model(input_ids=input_ids, attention_mask=input_masks, decoder_input_ids=decoder_input_ids) ## Run the model and get logits.\n",
        "  logits = mod_compute.logits\n",
        "  lprobs = torch.nn.functional.log_softmax(logits, dim=-1) ## Softmax tempering of logits if needed.\n",
        "  loss = label_smoothed_nll_loss(\n",
        "      lprobs, labels, 0.1, ignore_index=0\n",
        "  ) ## Label smoothed cross entropy loss.\n",
        "  del input_ids ## Delete to avoid retention.\n",
        "  del input_masks ## Delete to avoid retention.\n",
        "  del decoder_input_ids ## Delete to avoid retention.\n",
        "  del labels ## Delete to avoid retention.\n",
        "  loss.backward()\n",
        "  torch.nn.utils.clip_grad_norm_(model.parameters(), 1.0)\n",
        "  optimizer.step()\n",
        "  scheduler.step()\n",
        "  if i % 100 == 0:\n",
        "    print(\"Loss for batch \", i+1, \"is\", round(loss.detach().cpu().numpy().item(), 2))\n",
        "    print()"
      ]
    },
    {
      "cell_type": "markdown",
      "metadata": {
        "id": "OVY353GrEfMw"
      },
      "source": [
        "# Over time you will see the model learning to denoise!\n",
        "\n",
        "And that is pre-training."
      ]
    },
    {
      "cell_type": "markdown",
      "metadata": {
        "id": "jOP976d_jEqd"
      },
      "source": [
        "# Enjoy! The sky is the limit!![senku-funny-face-1.jpeg](data:image/jpeg;base64,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)"
      ]
    }
  ],
  "metadata": {
    "accelerator": "GPU",
    "colab": {
      "collapsed_sections": [],
      "provenance": []
    },
    "gpuClass": "standard",
    "kernelspec": {
      "display_name": "Python 3",
      "name": "python3"
    },
    "language_info": {
      "name": "python"
    },
    "widgets": {
      "application/vnd.jupyter.widget-state+json": {
        "1571d2b66858483b98588c99773bb34f": {
          "model_module": "@jupyter-widgets/controls",
          "model_name": "HBoxModel",
          "model_module_version": "1.5.0",
          "state": {
            "_dom_classes": [],
            "_model_module": "@jupyter-widgets/controls",
            "_model_module_version": "1.5.0",
            "_model_name": "HBoxModel",
            "_view_count": null,
            "_view_module": "@jupyter-widgets/controls",
            "_view_module_version": "1.5.0",
            "_view_name": "HBoxView",
            "box_style": "",
            "children": [
              "IPY_MODEL_ec57d3ffc0a6472ca83407b81f5eded9",
              "IPY_MODEL_92564a79149b4d8fa9a3806f16d38dcb",
              "IPY_MODEL_7a8d35c0056c418a8ab0ec3d30fbf010"
            ],
            "layout": "IPY_MODEL_963d8aabf9f04472be7848326e1891d0"
          }
        },
        "ec57d3ffc0a6472ca83407b81f5eded9": {
          "model_module": "@jupyter-widgets/controls",
          "model_name": "HTMLModel",
          "model_module_version": "1.5.0",
          "state": {
            "_dom_classes": [],
            "_model_module": "@jupyter-widgets/controls",
            "_model_module_version": "1.5.0",
            "_model_name": "HTMLModel",
            "_view_count": null,
            "_view_module": "@jupyter-widgets/controls",
            "_view_module_version": "1.5.0",
            "_view_name": "HTMLView",
            "description": "",
            "description_tooltip": null,
            "layout": "IPY_MODEL_4f9f724d480b412190bfbfff33b2b44d",
            "placeholder": "​",
            "style": "IPY_MODEL_a577fe4c03b5425a94eb88c60b7fcbb9",
            "value": "Downloading: 100%"
          }
        },
        "92564a79149b4d8fa9a3806f16d38dcb": {
          "model_module": "@jupyter-widgets/controls",
          "model_name": "FloatProgressModel",
          "model_module_version": "1.5.0",
          "state": {
            "_dom_classes": [],
            "_model_module": "@jupyter-widgets/controls",
            "_model_module_version": "1.5.0",
            "_model_name": "FloatProgressModel",
            "_view_count": null,
            "_view_module": "@jupyter-widgets/controls",
            "_view_module_version": "1.5.0",
            "_view_name": "ProgressView",
            "bar_style": "success",
            "description": "",
            "description_tooltip": null,
            "layout": "IPY_MODEL_18387a28f6404ee8aab6565719f184d0",
            "max": 1898704,
            "min": 0,
            "orientation": "horizontal",
            "style": "IPY_MODEL_e4cf1d6480754fb7bf068e0fd9e399a6",
            "value": 1898704
          }
        },
        "7a8d35c0056c418a8ab0ec3d30fbf010": {
          "model_module": "@jupyter-widgets/controls",
          "model_name": "HTMLModel",
          "model_module_version": "1.5.0",
          "state": {
            "_dom_classes": [],
            "_model_module": "@jupyter-widgets/controls",
            "_model_module_version": "1.5.0",
            "_model_name": "HTMLModel",
            "_view_count": null,
            "_view_module": "@jupyter-widgets/controls",
            "_view_module_version": "1.5.0",
            "_view_name": "HTMLView",
            "description": "",
            "description_tooltip": null,
            "layout": "IPY_MODEL_7ce722da25184c06acf76d67944e0dce",
            "placeholder": "​",
            "style": "IPY_MODEL_504fd014e0de45299c09acd2431d5c6d",
            "value": " 1.90M/1.90M [00:00&lt;00:00, 2.84MB/s]"
          }
        },
        "963d8aabf9f04472be7848326e1891d0": {
          "model_module": "@jupyter-widgets/base",
          "model_name": "LayoutModel",
          "model_module_version": "1.2.0",
          "state": {
            "_model_module": "@jupyter-widgets/base",
            "_model_module_version": "1.2.0",
            "_model_name": "LayoutModel",
            "_view_count": null,
            "_view_module": "@jupyter-widgets/base",
            "_view_module_version": "1.2.0",
            "_view_name": "LayoutView",
            "align_content": null,
            "align_items": null,
            "align_self": null,
            "border": null,
            "bottom": null,
            "display": null,
            "flex": null,
            "flex_flow": null,
            "grid_area": null,
            "grid_auto_columns": null,
            "grid_auto_flow": null,
            "grid_auto_rows": null,
            "grid_column": null,
            "grid_gap": null,
            "grid_row": null,
            "grid_template_areas": null,
            "grid_template_columns": null,
            "grid_template_rows": null,
            "height": null,
            "justify_content": null,
            "justify_items": null,
            "left": null,
            "margin": null,
            "max_height": null,
            "max_width": null,
            "min_height": null,
            "min_width": null,
            "object_fit": null,
            "object_position": null,
            "order": null,
            "overflow": null,
            "overflow_x": null,
            "overflow_y": null,
            "padding": null,
            "right": null,
            "top": null,
            "visibility": null,
            "width": null
          }
        },
        "4f9f724d480b412190bfbfff33b2b44d": {
          "model_module": "@jupyter-widgets/base",
          "model_name": "LayoutModel",
          "model_module_version": "1.2.0",
          "state": {
            "_model_module": "@jupyter-widgets/base",
            "_model_module_version": "1.2.0",
            "_model_name": "LayoutModel",
            "_view_count": null,
            "_view_module": "@jupyter-widgets/base",
            "_view_module_version": "1.2.0",
            "_view_name": "LayoutView",
            "align_content": null,
            "align_items": null,
            "align_self": null,
            "border": null,
            "bottom": null,
            "display": null,
            "flex": null,
            "flex_flow": null,
            "grid_area": null,
            "grid_auto_columns": null,
            "grid_auto_flow": null,
            "grid_auto_rows": null,
            "grid_column": null,
            "grid_gap": null,
            "grid_row": null,
            "grid_template_areas": null,
            "grid_template_columns": null,
            "grid_template_rows": null,
            "height": null,
            "justify_content": null,
            "justify_items": null,
            "left": null,
            "margin": null,
            "max_height": null,
            "max_width": null,
            "min_height": null,
            "min_width": null,
            "object_fit": null,
            "object_position": null,
            "order": null,
            "overflow": null,
            "overflow_x": null,
            "overflow_y": null,
            "padding": null,
            "right": null,
            "top": null,
            "visibility": null,
            "width": null
          }
        },
        "a577fe4c03b5425a94eb88c60b7fcbb9": {
          "model_module": "@jupyter-widgets/controls",
          "model_name": "DescriptionStyleModel",
          "model_module_version": "1.5.0",
          "state": {
            "_model_module": "@jupyter-widgets/controls",
            "_model_module_version": "1.5.0",
            "_model_name": "DescriptionStyleModel",
            "_view_count": null,
            "_view_module": "@jupyter-widgets/base",
            "_view_module_version": "1.2.0",
            "_view_name": "StyleView",
            "description_width": ""
          }
        },
        "18387a28f6404ee8aab6565719f184d0": {
          "model_module": "@jupyter-widgets/base",
          "model_name": "LayoutModel",
          "model_module_version": "1.2.0",
          "state": {
            "_model_module": "@jupyter-widgets/base",
            "_model_module_version": "1.2.0",
            "_model_name": "LayoutModel",
            "_view_count": null,
            "_view_module": "@jupyter-widgets/base",
            "_view_module_version": "1.2.0",
            "_view_name": "LayoutView",
            "align_content": null,
            "align_items": null,
            "align_self": null,
            "border": null,
            "bottom": null,
            "display": null,
            "flex": null,
            "flex_flow": null,
            "grid_area": null,
            "grid_auto_columns": null,
            "grid_auto_flow": null,
            "grid_auto_rows": null,
            "grid_column": null,
            "grid_gap": null,
            "grid_row": null,
            "grid_template_areas": null,
            "grid_template_columns": null,
            "grid_template_rows": null,
            "height": null,
            "justify_content": null,
            "justify_items": null,
            "left": null,
            "margin": null,
            "max_height": null,
            "max_width": null,
            "min_height": null,
            "min_width": null,
            "object_fit": null,
            "object_position": null,
            "order": null,
            "overflow": null,
            "overflow_x": null,
            "overflow_y": null,
            "padding": null,
            "right": null,
            "top": null,
            "visibility": null,
            "width": null
          }
        },
        "e4cf1d6480754fb7bf068e0fd9e399a6": {
          "model_module": "@jupyter-widgets/controls",
          "model_name": "ProgressStyleModel",
          "model_module_version": "1.5.0",
          "state": {
            "_model_module": "@jupyter-widgets/controls",
            "_model_module_version": "1.5.0",
            "_model_name": "ProgressStyleModel",
            "_view_count": null,
            "_view_module": "@jupyter-widgets/base",
            "_view_module_version": "1.2.0",
            "_view_name": "StyleView",
            "bar_color": null,
            "description_width": ""
          }
        },
        "7ce722da25184c06acf76d67944e0dce": {
          "model_module": "@jupyter-widgets/base",
          "model_name": "LayoutModel",
          "model_module_version": "1.2.0",
          "state": {
            "_model_module": "@jupyter-widgets/base",
            "_model_module_version": "1.2.0",
            "_model_name": "LayoutModel",
            "_view_count": null,
            "_view_module": "@jupyter-widgets/base",
            "_view_module_version": "1.2.0",
            "_view_name": "LayoutView",
            "align_content": null,
            "align_items": null,
            "align_self": null,
            "border": null,
            "bottom": null,
            "display": null,
            "flex": null,
            "flex_flow": null,
            "grid_area": null,
            "grid_auto_columns": null,
            "grid_auto_flow": null,
            "grid_auto_rows": null,
            "grid_column": null,
            "grid_gap": null,
            "grid_row": null,
            "grid_template_areas": null,
            "grid_template_columns": null,
            "grid_template_rows": null,
            "height": null,
            "justify_content": null,
            "justify_items": null,
            "left": null,
            "margin": null,
            "max_height": null,
            "max_width": null,
            "min_height": null,
            "min_width": null,
            "object_fit": null,
            "object_position": null,
            "order": null,
            "overflow": null,
            "overflow_x": null,
            "overflow_y": null,
            "padding": null,
            "right": null,
            "top": null,
            "visibility": null,
            "width": null
          }
        },
        "504fd014e0de45299c09acd2431d5c6d": {
          "model_module": "@jupyter-widgets/controls",
          "model_name": "DescriptionStyleModel",
          "model_module_version": "1.5.0",
          "state": {
            "_model_module": "@jupyter-widgets/controls",
            "_model_module_version": "1.5.0",
            "_model_name": "DescriptionStyleModel",
            "_view_count": null,
            "_view_module": "@jupyter-widgets/base",
            "_view_module_version": "1.2.0",
            "_view_name": "StyleView",
            "description_width": ""
          }
        },
        "e59c63ce78b44dd59cd3bb9a3d96bedf": {
          "model_module": "@jupyter-widgets/controls",
          "model_name": "HBoxModel",
          "model_module_version": "1.5.0",
          "state": {
            "_dom_classes": [],
            "_model_module": "@jupyter-widgets/controls",
            "_model_module_version": "1.5.0",
            "_model_name": "HBoxModel",
            "_view_count": null,
            "_view_module": "@jupyter-widgets/controls",
            "_view_module_version": "1.5.0",
            "_view_name": "HBoxView",
            "box_style": "",
            "children": [
              "IPY_MODEL_d5ebf04bf777479ebd9e60ed8730be29",
              "IPY_MODEL_6ae2f75fa5024ba9982538e2177afe02",
              "IPY_MODEL_724b512f4d364052beaaf124bd40ae0a"
            ],
            "layout": "IPY_MODEL_d27f7fa8d1d047fca8d77ae4f9e58f5e"
          }
        },
        "d5ebf04bf777479ebd9e60ed8730be29": {
          "model_module": "@jupyter-widgets/controls",
          "model_name": "HTMLModel",
          "model_module_version": "1.5.0",
          "state": {
            "_dom_classes": [],
            "_model_module": "@jupyter-widgets/controls",
            "_model_module_version": "1.5.0",
            "_model_name": "HTMLModel",
            "_view_count": null,
            "_view_module": "@jupyter-widgets/controls",
            "_view_module_version": "1.5.0",
            "_view_name": "HTMLView",
            "description": "",
            "description_tooltip": null,
            "layout": "IPY_MODEL_6869a4d6963e40aa8f28511a95e6ece6",
            "placeholder": "​",
            "style": "IPY_MODEL_ba7404fde198455781fc54d79ef0dac5",
            "value": "Downloading: 100%"
          }
        },
        "6ae2f75fa5024ba9982538e2177afe02": {
          "model_module": "@jupyter-widgets/controls",
          "model_name": "FloatProgressModel",
          "model_module_version": "1.5.0",
          "state": {
            "_dom_classes": [],
            "_model_module": "@jupyter-widgets/controls",
            "_model_module_version": "1.5.0",
            "_model_name": "FloatProgressModel",
            "_view_count": null,
            "_view_module": "@jupyter-widgets/controls",
            "_view_module_version": "1.5.0",
            "_view_name": "ProgressView",
            "bar_style": "success",
            "description": "",
            "description_tooltip": null,
            "layout": "IPY_MODEL_5e1a91a8c3a2415eb5d5355a9010b97c",
            "max": 221,
            "min": 0,
            "orientation": "horizontal",
            "style": "IPY_MODEL_fa391f3efd9d462788dbf5f72203e931",
            "value": 221
          }
        },
        "724b512f4d364052beaaf124bd40ae0a": {
          "model_module": "@jupyter-widgets/controls",
          "model_name": "HTMLModel",
          "model_module_version": "1.5.0",
          "state": {
            "_dom_classes": [],
            "_model_module": "@jupyter-widgets/controls",
            "_model_module_version": "1.5.0",
            "_model_name": "HTMLModel",
            "_view_count": null,
            "_view_module": "@jupyter-widgets/controls",
            "_view_module_version": "1.5.0",
            "_view_name": "HTMLView",
            "description": "",
            "description_tooltip": null,
            "layout": "IPY_MODEL_b7cca2c8c69f4f8dbb1a074219738719",
            "placeholder": "​",
            "style": "IPY_MODEL_1004e5a1722b4efda82614c9adea5bc1",
            "value": " 221/221 [00:00&lt;00:00, 1.97kB/s]"
          }
        },
        "d27f7fa8d1d047fca8d77ae4f9e58f5e": {
          "model_module": "@jupyter-widgets/base",
          "model_name": "LayoutModel",
          "model_module_version": "1.2.0",
          "state": {
            "_model_module": "@jupyter-widgets/base",
            "_model_module_version": "1.2.0",
            "_model_name": "LayoutModel",
            "_view_count": null,
            "_view_module": "@jupyter-widgets/base",
            "_view_module_version": "1.2.0",
            "_view_name": "LayoutView",
            "align_content": null,
            "align_items": null,
            "align_self": null,
            "border": null,
            "bottom": null,
            "display": null,
            "flex": null,
            "flex_flow": null,
            "grid_area": null,
            "grid_auto_columns": null,
            "grid_auto_flow": null,
            "grid_auto_rows": null,
            "grid_column": null,
            "grid_gap": null,
            "grid_row": null,
            "grid_template_areas": null,
            "grid_template_columns": null,
            "grid_template_rows": null,
            "height": null,
            "justify_content": null,
            "justify_items": null,
            "left": null,
            "margin": null,
            "max_height": null,
            "max_width": null,
            "min_height": null,
            "min_width": null,
            "object_fit": null,
            "object_position": null,
            "order": null,
            "overflow": null,
            "overflow_x": null,
            "overflow_y": null,
            "padding": null,
            "right": null,
            "top": null,
            "visibility": null,
            "width": null
          }
        },
        "6869a4d6963e40aa8f28511a95e6ece6": {
          "model_module": "@jupyter-widgets/base",
          "model_name": "LayoutModel",
          "model_module_version": "1.2.0",
          "state": {
            "_model_module": "@jupyter-widgets/base",
            "_model_module_version": "1.2.0",
            "_model_name": "LayoutModel",
            "_view_count": null,
            "_view_module": "@jupyter-widgets/base",
            "_view_module_version": "1.2.0",
            "_view_name": "LayoutView",
            "align_content": null,
            "align_items": null,
            "align_self": null,
            "border": null,
            "bottom": null,
            "display": null,
            "flex": null,
            "flex_flow": null,
            "grid_area": null,
            "grid_auto_columns": null,
            "grid_auto_flow": null,
            "grid_auto_rows": null,
            "grid_column": null,
            "grid_gap": null,
            "grid_row": null,
            "grid_template_areas": null,
            "grid_template_columns": null,
            "grid_template_rows": null,
            "height": null,
            "justify_content": null,
            "justify_items": null,
            "left": null,
            "margin": null,
            "max_height": null,
            "max_width": null,
            "min_height": null,
            "min_width": null,
            "object_fit": null,
            "object_position": null,
            "order": null,
            "overflow": null,
            "overflow_x": null,
            "overflow_y": null,
            "padding": null,
            "right": null,
            "top": null,
            "visibility": null,
            "width": null
          }
        },
        "ba7404fde198455781fc54d79ef0dac5": {
          "model_module": "@jupyter-widgets/controls",
          "model_name": "DescriptionStyleModel",
          "model_module_version": "1.5.0",
          "state": {
            "_model_module": "@jupyter-widgets/controls",
            "_model_module_version": "1.5.0",
            "_model_name": "DescriptionStyleModel",
            "_view_count": null,
            "_view_module": "@jupyter-widgets/base",
            "_view_module_version": "1.2.0",
            "_view_name": "StyleView",
            "description_width": ""
          }
        },
        "5e1a91a8c3a2415eb5d5355a9010b97c": {
          "model_module": "@jupyter-widgets/base",
          "model_name": "LayoutModel",
          "model_module_version": "1.2.0",
          "state": {
            "_model_module": "@jupyter-widgets/base",
            "_model_module_version": "1.2.0",
            "_model_name": "LayoutModel",
            "_view_count": null,
            "_view_module": "@jupyter-widgets/base",
            "_view_module_version": "1.2.0",
            "_view_name": "LayoutView",
            "align_content": null,
            "align_items": null,
            "align_self": null,
            "border": null,
            "bottom": null,
            "display": null,
            "flex": null,
            "flex_flow": null,
            "grid_area": null,
            "grid_auto_columns": null,
            "grid_auto_flow": null,
            "grid_auto_rows": null,
            "grid_column": null,
            "grid_gap": null,
            "grid_row": null,
            "grid_template_areas": null,
            "grid_template_columns": null,
            "grid_template_rows": null,
            "height": null,
            "justify_content": null,
            "justify_items": null,
            "left": null,
            "margin": null,
            "max_height": null,
            "max_width": null,
            "min_height": null,
            "min_width": null,
            "object_fit": null,
            "object_position": null,
            "order": null,
            "overflow": null,
            "overflow_x": null,
            "overflow_y": null,
            "padding": null,
            "right": null,
            "top": null,
            "visibility": null,
            "width": null
          }
        },
        "fa391f3efd9d462788dbf5f72203e931": {
          "model_module": "@jupyter-widgets/controls",
          "model_name": "ProgressStyleModel",
          "model_module_version": "1.5.0",
          "state": {
            "_model_module": "@jupyter-widgets/controls",
            "_model_module_version": "1.5.0",
            "_model_name": "ProgressStyleModel",
            "_view_count": null,
            "_view_module": "@jupyter-widgets/base",
            "_view_module_version": "1.2.0",
            "_view_name": "StyleView",
            "bar_color": null,
            "description_width": ""
          }
        },
        "b7cca2c8c69f4f8dbb1a074219738719": {
          "model_module": "@jupyter-widgets/base",
          "model_name": "LayoutModel",
          "model_module_version": "1.2.0",
          "state": {
            "_model_module": "@jupyter-widgets/base",
            "_model_module_version": "1.2.0",
            "_model_name": "LayoutModel",
            "_view_count": null,
            "_view_module": "@jupyter-widgets/base",
            "_view_module_version": "1.2.0",
            "_view_name": "LayoutView",
            "align_content": null,
            "align_items": null,
            "align_self": null,
            "border": null,
            "bottom": null,
            "display": null,
            "flex": null,
            "flex_flow": null,
            "grid_area": null,
            "grid_auto_columns": null,
            "grid_auto_flow": null,
            "grid_auto_rows": null,
            "grid_column": null,
            "grid_gap": null,
            "grid_row": null,
            "grid_template_areas": null,
            "grid_template_columns": null,
            "grid_template_rows": null,
            "height": null,
            "justify_content": null,
            "justify_items": null,
            "left": null,
            "margin": null,
            "max_height": null,
            "max_width": null,
            "min_height": null,
            "min_width": null,
            "object_fit": null,
            "object_position": null,
            "order": null,
            "overflow": null,
            "overflow_x": null,
            "overflow_y": null,
            "padding": null,
            "right": null,
            "top": null,
            "visibility": null,
            "width": null
          }
        },
        "1004e5a1722b4efda82614c9adea5bc1": {
          "model_module": "@jupyter-widgets/controls",
          "model_name": "DescriptionStyleModel",
          "model_module_version": "1.5.0",
          "state": {
            "_model_module": "@jupyter-widgets/controls",
            "_model_module_version": "1.5.0",
            "_model_name": "DescriptionStyleModel",
            "_view_count": null,
            "_view_module": "@jupyter-widgets/base",
            "_view_module_version": "1.2.0",
            "_view_name": "StyleView",
            "description_width": ""
          }
        },
        "1eb1edc0e08c4d7e9c72b138f22f5b4d": {
          "model_module": "@jupyter-widgets/controls",
          "model_name": "HBoxModel",
          "model_module_version": "1.5.0",
          "state": {
            "_dom_classes": [],
            "_model_module": "@jupyter-widgets/controls",
            "_model_module_version": "1.5.0",
            "_model_name": "HBoxModel",
            "_view_count": null,
            "_view_module": "@jupyter-widgets/controls",
            "_view_module_version": "1.5.0",
            "_view_name": "HBoxView",
            "box_style": "",
            "children": [
              "IPY_MODEL_23d50b8c43f14f08b83f9340c221630e",
              "IPY_MODEL_12736b66c6eb41b9b0dc52c507778232",
              "IPY_MODEL_cafb38ebf0ee48b7bac78c66de8cd729"
            ],
            "layout": "IPY_MODEL_c9b894f4d08e473a8209fcfa794fde3b"
          }
        },
        "23d50b8c43f14f08b83f9340c221630e": {
          "model_module": "@jupyter-widgets/controls",
          "model_name": "HTMLModel",
          "model_module_version": "1.5.0",
          "state": {
            "_dom_classes": [],
            "_model_module": "@jupyter-widgets/controls",
            "_model_module_version": "1.5.0",
            "_model_name": "HTMLModel",
            "_view_count": null,
            "_view_module": "@jupyter-widgets/controls",
            "_view_module_version": "1.5.0",
            "_view_name": "HTMLView",
            "description": "",
            "description_tooltip": null,
            "layout": "IPY_MODEL_747de349c6514a1885a75dffdf0ce3fc",
            "placeholder": "​",
            "style": "IPY_MODEL_4f45625ee0ad4ebbb5cf46a833a5406e",
            "value": "Downloading: 100%"
          }
        },
        "12736b66c6eb41b9b0dc52c507778232": {
          "model_module": "@jupyter-widgets/controls",
          "model_name": "FloatProgressModel",
          "model_module_version": "1.5.0",
          "state": {
            "_dom_classes": [],
            "_model_module": "@jupyter-widgets/controls",
            "_model_module_version": "1.5.0",
            "_model_name": "FloatProgressModel",
            "_view_count": null,
            "_view_module": "@jupyter-widgets/controls",
            "_view_module_version": "1.5.0",
            "_view_name": "ProgressView",
            "bar_style": "success",
            "description": "",
            "description_tooltip": null,
            "layout": "IPY_MODEL_5a1c8f4a985243788c8ea9d9bbae6b28",
            "max": 398,
            "min": 0,
            "orientation": "horizontal",
            "style": "IPY_MODEL_8b35da3b9248469eae8d75d2f4df0680",
            "value": 398
          }
        },
        "cafb38ebf0ee48b7bac78c66de8cd729": {
          "model_module": "@jupyter-widgets/controls",
          "model_name": "HTMLModel",
          "model_module_version": "1.5.0",
          "state": {
            "_dom_classes": [],
            "_model_module": "@jupyter-widgets/controls",
            "_model_module_version": "1.5.0",
            "_model_name": "HTMLModel",
            "_view_count": null,
            "_view_module": "@jupyter-widgets/controls",
            "_view_module_version": "1.5.0",
            "_view_name": "HTMLView",
            "description": "",
            "description_tooltip": null,
            "layout": "IPY_MODEL_8f188b92d3e9423db46109930e5efde1",
            "placeholder": "​",
            "style": "IPY_MODEL_17f1085c03424f6b915d82bde449829f",
            "value": " 398/398 [00:00&lt;00:00, 4.14kB/s]"
          }
        },
        "c9b894f4d08e473a8209fcfa794fde3b": {
          "model_module": "@jupyter-widgets/base",
          "model_name": "LayoutModel",
          "model_module_version": "1.2.0",
          "state": {
            "_model_module": "@jupyter-widgets/base",
            "_model_module_version": "1.2.0",
            "_model_name": "LayoutModel",
            "_view_count": null,
            "_view_module": "@jupyter-widgets/base",
            "_view_module_version": "1.2.0",
            "_view_name": "LayoutView",
            "align_content": null,
            "align_items": null,
            "align_self": null,
            "border": null,
            "bottom": null,
            "display": null,
            "flex": null,
            "flex_flow": null,
            "grid_area": null,
            "grid_auto_columns": null,
            "grid_auto_flow": null,
            "grid_auto_rows": null,
            "grid_column": null,
            "grid_gap": null,
            "grid_row": null,
            "grid_template_areas": null,
            "grid_template_columns": null,
            "grid_template_rows": null,
            "height": null,
            "justify_content": null,
            "justify_items": null,
            "left": null,
            "margin": null,
            "max_height": null,
            "max_width": null,
            "min_height": null,
            "min_width": null,
            "object_fit": null,
            "object_position": null,
            "order": null,
            "overflow": null,
            "overflow_x": null,
            "overflow_y": null,
            "padding": null,
            "right": null,
            "top": null,
            "visibility": null,
            "width": null
          }
        },
        "747de349c6514a1885a75dffdf0ce3fc": {
          "model_module": "@jupyter-widgets/base",
          "model_name": "LayoutModel",
          "model_module_version": "1.2.0",
          "state": {
            "_model_module": "@jupyter-widgets/base",
            "_model_module_version": "1.2.0",
            "_model_name": "LayoutModel",
            "_view_count": null,
            "_view_module": "@jupyter-widgets/base",
            "_view_module_version": "1.2.0",
            "_view_name": "LayoutView",
            "align_content": null,
            "align_items": null,
            "align_self": null,
            "border": null,
            "bottom": null,
            "display": null,
            "flex": null,
            "flex_flow": null,
            "grid_area": null,
            "grid_auto_columns": null,
            "grid_auto_flow": null,
            "grid_auto_rows": null,
            "grid_column": null,
            "grid_gap": null,
            "grid_row": null,
            "grid_template_areas": null,
            "grid_template_columns": null,
            "grid_template_rows": null,
            "height": null,
            "justify_content": null,
            "justify_items": null,
            "left": null,
            "margin": null,
            "max_height": null,
            "max_width": null,
            "min_height": null,
            "min_width": null,
            "object_fit": null,
            "object_position": null,
            "order": null,
            "overflow": null,
            "overflow_x": null,
            "overflow_y": null,
            "padding": null,
            "right": null,
            "top": null,
            "visibility": null,
            "width": null
          }
        },
        "4f45625ee0ad4ebbb5cf46a833a5406e": {
          "model_module": "@jupyter-widgets/controls",
          "model_name": "DescriptionStyleModel",
          "model_module_version": "1.5.0",
          "state": {
            "_model_module": "@jupyter-widgets/controls",
            "_model_module_version": "1.5.0",
            "_model_name": "DescriptionStyleModel",
            "_view_count": null,
            "_view_module": "@jupyter-widgets/base",
            "_view_module_version": "1.2.0",
            "_view_name": "StyleView",
            "description_width": ""
          }
        },
        "5a1c8f4a985243788c8ea9d9bbae6b28": {
          "model_module": "@jupyter-widgets/base",
          "model_name": "LayoutModel",
          "model_module_version": "1.2.0",
          "state": {
            "_model_module": "@jupyter-widgets/base",
            "_model_module_version": "1.2.0",
            "_model_name": "LayoutModel",
            "_view_count": null,
            "_view_module": "@jupyter-widgets/base",
            "_view_module_version": "1.2.0",
            "_view_name": "LayoutView",
            "align_content": null,
            "align_items": null,
            "align_self": null,
            "border": null,
            "bottom": null,
            "display": null,
            "flex": null,
            "flex_flow": null,
            "grid_area": null,
            "grid_auto_columns": null,
            "grid_auto_flow": null,
            "grid_auto_rows": null,
            "grid_column": null,
            "grid_gap": null,
            "grid_row": null,
            "grid_template_areas": null,
            "grid_template_columns": null,
            "grid_template_rows": null,
            "height": null,
            "justify_content": null,
            "justify_items": null,
            "left": null,
            "margin": null,
            "max_height": null,
            "max_width": null,
            "min_height": null,
            "min_width": null,
            "object_fit": null,
            "object_position": null,
            "order": null,
            "overflow": null,
            "overflow_x": null,
            "overflow_y": null,
            "padding": null,
            "right": null,
            "top": null,
            "visibility": null,
            "width": null
          }
        },
        "8b35da3b9248469eae8d75d2f4df0680": {
          "model_module": "@jupyter-widgets/controls",
          "model_name": "ProgressStyleModel",
          "model_module_version": "1.5.0",
          "state": {
            "_model_module": "@jupyter-widgets/controls",
            "_model_module_version": "1.5.0",
            "_model_name": "ProgressStyleModel",
            "_view_count": null,
            "_view_module": "@jupyter-widgets/base",
            "_view_module_version": "1.2.0",
            "_view_name": "StyleView",
            "bar_color": null,
            "description_width": ""
          }
        },
        "8f188b92d3e9423db46109930e5efde1": {
          "model_module": "@jupyter-widgets/base",
          "model_name": "LayoutModel",
          "model_module_version": "1.2.0",
          "state": {
            "_model_module": "@jupyter-widgets/base",
            "_model_module_version": "1.2.0",
            "_model_name": "LayoutModel",
            "_view_count": null,
            "_view_module": "@jupyter-widgets/base",
            "_view_module_version": "1.2.0",
            "_view_name": "LayoutView",
            "align_content": null,
            "align_items": null,
            "align_self": null,
            "border": null,
            "bottom": null,
            "display": null,
            "flex": null,
            "flex_flow": null,
            "grid_area": null,
            "grid_auto_columns": null,
            "grid_auto_flow": null,
            "grid_auto_rows": null,
            "grid_column": null,
            "grid_gap": null,
            "grid_row": null,
            "grid_template_areas": null,
            "grid_template_columns": null,
            "grid_template_rows": null,
            "height": null,
            "justify_content": null,
            "justify_items": null,
            "left": null,
            "margin": null,
            "max_height": null,
            "max_width": null,
            "min_height": null,
            "min_width": null,
            "object_fit": null,
            "object_position": null,
            "order": null,
            "overflow": null,
            "overflow_x": null,
            "overflow_y": null,
            "padding": null,
            "right": null,
            "top": null,
            "visibility": null,
            "width": null
          }
        },
        "17f1085c03424f6b915d82bde449829f": {
          "model_module": "@jupyter-widgets/controls",
          "model_name": "DescriptionStyleModel",
          "model_module_version": "1.5.0",
          "state": {
            "_model_module": "@jupyter-widgets/controls",
            "_model_module_version": "1.5.0",
            "_model_name": "DescriptionStyleModel",
            "_view_count": null,
            "_view_module": "@jupyter-widgets/base",
            "_view_module_version": "1.2.0",
            "_view_name": "StyleView",
            "description_width": ""
          }
        },
        "bb1f7a77b6a74dd0a99e8a3936ef5418": {
          "model_module": "@jupyter-widgets/controls",
          "model_name": "HBoxModel",
          "model_module_version": "1.5.0",
          "state": {
            "_dom_classes": [],
            "_model_module": "@jupyter-widgets/controls",
            "_model_module_version": "1.5.0",
            "_model_name": "HBoxModel",
            "_view_count": null,
            "_view_module": "@jupyter-widgets/controls",
            "_view_module_version": "1.5.0",
            "_view_name": "HBoxView",
            "box_style": "",
            "children": [
              "IPY_MODEL_6a7cf029ae0f4e87b4cf114fea491882",
              "IPY_MODEL_0891ae3c5e374a08a713f5b865c43837",
              "IPY_MODEL_df6f429c8f0f494f8c792419d0948857"
            ],
            "layout": "IPY_MODEL_e20f7455c7c74bdfa71d1be49116c05f"
          }
        },
        "6a7cf029ae0f4e87b4cf114fea491882": {
          "model_module": "@jupyter-widgets/controls",
          "model_name": "HTMLModel",
          "model_module_version": "1.5.0",
          "state": {
            "_dom_classes": [],
            "_model_module": "@jupyter-widgets/controls",
            "_model_module_version": "1.5.0",
            "_model_name": "HTMLModel",
            "_view_count": null,
            "_view_module": "@jupyter-widgets/controls",
            "_view_module_version": "1.5.0",
            "_view_name": "HTMLView",
            "description": "",
            "description_tooltip": null,
            "layout": "IPY_MODEL_1b43c417137542a9918158639513b649",
            "placeholder": "​",
            "style": "IPY_MODEL_f9e3bd530ff34413b4b5441882ff6e7d",
            "value": "Downloading: 100%"
          }
        },
        "0891ae3c5e374a08a713f5b865c43837": {
          "model_module": "@jupyter-widgets/controls",
          "model_name": "FloatProgressModel",
          "model_module_version": "1.5.0",
          "state": {
            "_dom_classes": [],
            "_model_module": "@jupyter-widgets/controls",
            "_model_module_version": "1.5.0",
            "_model_name": "FloatProgressModel",
            "_view_count": null,
            "_view_module": "@jupyter-widgets/controls",
            "_view_module_version": "1.5.0",
            "_view_name": "ProgressView",
            "bar_style": "success",
            "description": "",
            "description_tooltip": null,
            "layout": "IPY_MODEL_5b2ceaced74f4a5285cd5e0d8bfbdc2a",
            "max": 498,
            "min": 0,
            "orientation": "horizontal",
            "style": "IPY_MODEL_5246c737d9574b9b8cb68180a469cb82",
            "value": 498
          }
        },
        "df6f429c8f0f494f8c792419d0948857": {
          "model_module": "@jupyter-widgets/controls",
          "model_name": "HTMLModel",
          "model_module_version": "1.5.0",
          "state": {
            "_dom_classes": [],
            "_model_module": "@jupyter-widgets/controls",
            "_model_module_version": "1.5.0",
            "_model_name": "HTMLModel",
            "_view_count": null,
            "_view_module": "@jupyter-widgets/controls",
            "_view_module_version": "1.5.0",
            "_view_name": "HTMLView",
            "description": "",
            "description_tooltip": null,
            "layout": "IPY_MODEL_113fb4ad35404657bb7d6285514d9486",
            "placeholder": "​",
            "style": "IPY_MODEL_501edbeca0e044b79847160c58a92cd8",
            "value": " 498/498 [00:00&lt;00:00, 4.75kB/s]"
          }
        },
        "e20f7455c7c74bdfa71d1be49116c05f": {
          "model_module": "@jupyter-widgets/base",
          "model_name": "LayoutModel",
          "model_module_version": "1.2.0",
          "state": {
            "_model_module": "@jupyter-widgets/base",
            "_model_module_version": "1.2.0",
            "_model_name": "LayoutModel",
            "_view_count": null,
            "_view_module": "@jupyter-widgets/base",
            "_view_module_version": "1.2.0",
            "_view_name": "LayoutView",
            "align_content": null,
            "align_items": null,
            "align_self": null,
            "border": null,
            "bottom": null,
            "display": null,
            "flex": null,
            "flex_flow": null,
            "grid_area": null,
            "grid_auto_columns": null,
            "grid_auto_flow": null,
            "grid_auto_rows": null,
            "grid_column": null,
            "grid_gap": null,
            "grid_row": null,
            "grid_template_areas": null,
            "grid_template_columns": null,
            "grid_template_rows": null,
            "height": null,
            "justify_content": null,
            "justify_items": null,
            "left": null,
            "margin": null,
            "max_height": null,
            "max_width": null,
            "min_height": null,
            "min_width": null,
            "object_fit": null,
            "object_position": null,
            "order": null,
            "overflow": null,
            "overflow_x": null,
            "overflow_y": null,
            "padding": null,
            "right": null,
            "top": null,
            "visibility": null,
            "width": null
          }
        },
        "1b43c417137542a9918158639513b649": {
          "model_module": "@jupyter-widgets/base",
          "model_name": "LayoutModel",
          "model_module_version": "1.2.0",
          "state": {
            "_model_module": "@jupyter-widgets/base",
            "_model_module_version": "1.2.0",
            "_model_name": "LayoutModel",
            "_view_count": null,
            "_view_module": "@jupyter-widgets/base",
            "_view_module_version": "1.2.0",
            "_view_name": "LayoutView",
            "align_content": null,
            "align_items": null,
            "align_self": null,
            "border": null,
            "bottom": null,
            "display": null,
            "flex": null,
            "flex_flow": null,
            "grid_area": null,
            "grid_auto_columns": null,
            "grid_auto_flow": null,
            "grid_auto_rows": null,
            "grid_column": null,
            "grid_gap": null,
            "grid_row": null,
            "grid_template_areas": null,
            "grid_template_columns": null,
            "grid_template_rows": null,
            "height": null,
            "justify_content": null,
            "justify_items": null,
            "left": null,
            "margin": null,
            "max_height": null,
            "max_width": null,
            "min_height": null,
            "min_width": null,
            "object_fit": null,
            "object_position": null,
            "order": null,
            "overflow": null,
            "overflow_x": null,
            "overflow_y": null,
            "padding": null,
            "right": null,
            "top": null,
            "visibility": null,
            "width": null
          }
        },
        "f9e3bd530ff34413b4b5441882ff6e7d": {
          "model_module": "@jupyter-widgets/controls",
          "model_name": "DescriptionStyleModel",
          "model_module_version": "1.5.0",
          "state": {
            "_model_module": "@jupyter-widgets/controls",
            "_model_module_version": "1.5.0",
            "_model_name": "DescriptionStyleModel",
            "_view_count": null,
            "_view_module": "@jupyter-widgets/base",
            "_view_module_version": "1.2.0",
            "_view_name": "StyleView",
            "description_width": ""
          }
        },
        "5b2ceaced74f4a5285cd5e0d8bfbdc2a": {
          "model_module": "@jupyter-widgets/base",
          "model_name": "LayoutModel",
          "model_module_version": "1.2.0",
          "state": {
            "_model_module": "@jupyter-widgets/base",
            "_model_module_version": "1.2.0",
            "_model_name": "LayoutModel",
            "_view_count": null,
            "_view_module": "@jupyter-widgets/base",
            "_view_module_version": "1.2.0",
            "_view_name": "LayoutView",
            "align_content": null,
            "align_items": null,
            "align_self": null,
            "border": null,
            "bottom": null,
            "display": null,
            "flex": null,
            "flex_flow": null,
            "grid_area": null,
            "grid_auto_columns": null,
            "grid_auto_flow": null,
            "grid_auto_rows": null,
            "grid_column": null,
            "grid_gap": null,
            "grid_row": null,
            "grid_template_areas": null,
            "grid_template_columns": null,
            "grid_template_rows": null,
            "height": null,
            "justify_content": null,
            "justify_items": null,
            "left": null,
            "margin": null,
            "max_height": null,
            "max_width": null,
            "min_height": null,
            "min_width": null,
            "object_fit": null,
            "object_position": null,
            "order": null,
            "overflow": null,
            "overflow_x": null,
            "overflow_y": null,
            "padding": null,
            "right": null,
            "top": null,
            "visibility": null,
            "width": null
          }
        },
        "5246c737d9574b9b8cb68180a469cb82": {
          "model_module": "@jupyter-widgets/controls",
          "model_name": "ProgressStyleModel",
          "model_module_version": "1.5.0",
          "state": {
            "_model_module": "@jupyter-widgets/controls",
            "_model_module_version": "1.5.0",
            "_model_name": "ProgressStyleModel",
            "_view_count": null,
            "_view_module": "@jupyter-widgets/base",
            "_view_module_version": "1.2.0",
            "_view_name": "StyleView",
            "bar_color": null,
            "description_width": ""
          }
        },
        "113fb4ad35404657bb7d6285514d9486": {
          "model_module": "@jupyter-widgets/base",
          "model_name": "LayoutModel",
          "model_module_version": "1.2.0",
          "state": {
            "_model_module": "@jupyter-widgets/base",
            "_model_module_version": "1.2.0",
            "_model_name": "LayoutModel",
            "_view_count": null,
            "_view_module": "@jupyter-widgets/base",
            "_view_module_version": "1.2.0",
            "_view_name": "LayoutView",
            "align_content": null,
            "align_items": null,
            "align_self": null,
            "border": null,
            "bottom": null,
            "display": null,
            "flex": null,
            "flex_flow": null,
            "grid_area": null,
            "grid_auto_columns": null,
            "grid_auto_flow": null,
            "grid_auto_rows": null,
            "grid_column": null,
            "grid_gap": null,
            "grid_row": null,
            "grid_template_areas": null,
            "grid_template_columns": null,
            "grid_template_rows": null,
            "height": null,
            "justify_content": null,
            "justify_items": null,
            "left": null,
            "margin": null,
            "max_height": null,
            "max_width": null,
            "min_height": null,
            "min_width": null,
            "object_fit": null,
            "object_position": null,
            "order": null,
            "overflow": null,
            "overflow_x": null,
            "overflow_y": null,
            "padding": null,
            "right": null,
            "top": null,
            "visibility": null,
            "width": null
          }
        },
        "501edbeca0e044b79847160c58a92cd8": {
          "model_module": "@jupyter-widgets/controls",
          "model_name": "DescriptionStyleModel",
          "model_module_version": "1.5.0",
          "state": {
            "_model_module": "@jupyter-widgets/controls",
            "_model_module_version": "1.5.0",
            "_model_name": "DescriptionStyleModel",
            "_view_count": null,
            "_view_module": "@jupyter-widgets/base",
            "_view_module_version": "1.2.0",
            "_view_name": "StyleView",
            "description_width": ""
          }
        },
        "be9e62011fcc4c978f181478f367b912": {
          "model_module": "@jupyter-widgets/controls",
          "model_name": "HBoxModel",
          "model_module_version": "1.5.0",
          "state": {
            "_dom_classes": [],
            "_model_module": "@jupyter-widgets/controls",
            "_model_module_version": "1.5.0",
            "_model_name": "HBoxModel",
            "_view_count": null,
            "_view_module": "@jupyter-widgets/controls",
            "_view_module_version": "1.5.0",
            "_view_name": "HBoxView",
            "box_style": "",
            "children": [
              "IPY_MODEL_2befa485f37d4202a1687836d91b252c",
              "IPY_MODEL_69832d3c67cd4fd3ba5c760e0f17569b",
              "IPY_MODEL_f59193d826f14cceb55061e4470a0a93"
            ],
            "layout": "IPY_MODEL_fdb739b3f4f841cd8c11912cb28e89e1"
          }
        },
        "2befa485f37d4202a1687836d91b252c": {
          "model_module": "@jupyter-widgets/controls",
          "model_name": "HTMLModel",
          "model_module_version": "1.5.0",
          "state": {
            "_dom_classes": [],
            "_model_module": "@jupyter-widgets/controls",
            "_model_module_version": "1.5.0",
            "_model_name": "HTMLModel",
            "_view_count": null,
            "_view_module": "@jupyter-widgets/controls",
            "_view_module_version": "1.5.0",
            "_view_name": "HTMLView",
            "description": "",
            "description_tooltip": null,
            "layout": "IPY_MODEL_ffc50d9f9810404496988bfe360eb336",
            "placeholder": "​",
            "style": "IPY_MODEL_71415c27b341461ba243bcaffd3e6689",
            "value": "Downloading: 100%"
          }
        },
        "69832d3c67cd4fd3ba5c760e0f17569b": {
          "model_module": "@jupyter-widgets/controls",
          "model_name": "FloatProgressModel",
          "model_module_version": "1.5.0",
          "state": {
            "_dom_classes": [],
            "_model_module": "@jupyter-widgets/controls",
            "_model_module_version": "1.5.0",
            "_model_name": "FloatProgressModel",
            "_view_count": null,
            "_view_module": "@jupyter-widgets/controls",
            "_view_module_version": "1.5.0",
            "_view_name": "ProgressView",
            "bar_style": "success",
            "description": "",
            "description_tooltip": null,
            "layout": "IPY_MODEL_7d72fec1fc13442eb79ba827745b4272",
            "max": 832,
            "min": 0,
            "orientation": "horizontal",
            "style": "IPY_MODEL_b62da65c554f4c75b9c0b71639cf22be",
            "value": 832
          }
        },
        "f59193d826f14cceb55061e4470a0a93": {
          "model_module": "@jupyter-widgets/controls",
          "model_name": "HTMLModel",
          "model_module_version": "1.5.0",
          "state": {
            "_dom_classes": [],
            "_model_module": "@jupyter-widgets/controls",
            "_model_module_version": "1.5.0",
            "_model_name": "HTMLModel",
            "_view_count": null,
            "_view_module": "@jupyter-widgets/controls",
            "_view_module_version": "1.5.0",
            "_view_name": "HTMLView",
            "description": "",
            "description_tooltip": null,
            "layout": "IPY_MODEL_4e9a8e58c66c44ee9827c72d98101f2e",
            "placeholder": "​",
            "style": "IPY_MODEL_406b985783124b0b8abd2bb15d25a482",
            "value": " 832/832 [00:00&lt;00:00, 9.03kB/s]"
          }
        },
        "fdb739b3f4f841cd8c11912cb28e89e1": {
          "model_module": "@jupyter-widgets/base",
          "model_name": "LayoutModel",
          "model_module_version": "1.2.0",
          "state": {
            "_model_module": "@jupyter-widgets/base",
            "_model_module_version": "1.2.0",
            "_model_name": "LayoutModel",
            "_view_count": null,
            "_view_module": "@jupyter-widgets/base",
            "_view_module_version": "1.2.0",
            "_view_name": "LayoutView",
            "align_content": null,
            "align_items": null,
            "align_self": null,
            "border": null,
            "bottom": null,
            "display": null,
            "flex": null,
            "flex_flow": null,
            "grid_area": null,
            "grid_auto_columns": null,
            "grid_auto_flow": null,
            "grid_auto_rows": null,
            "grid_column": null,
            "grid_gap": null,
            "grid_row": null,
            "grid_template_areas": null,
            "grid_template_columns": null,
            "grid_template_rows": null,
            "height": null,
            "justify_content": null,
            "justify_items": null,
            "left": null,
            "margin": null,
            "max_height": null,
            "max_width": null,
            "min_height": null,
            "min_width": null,
            "object_fit": null,
            "object_position": null,
            "order": null,
            "overflow": null,
            "overflow_x": null,
            "overflow_y": null,
            "padding": null,
            "right": null,
            "top": null,
            "visibility": null,
            "width": null
          }
        },
        "ffc50d9f9810404496988bfe360eb336": {
          "model_module": "@jupyter-widgets/base",
          "model_name": "LayoutModel",
          "model_module_version": "1.2.0",
          "state": {
            "_model_module": "@jupyter-widgets/base",
            "_model_module_version": "1.2.0",
            "_model_name": "LayoutModel",
            "_view_count": null,
            "_view_module": "@jupyter-widgets/base",
            "_view_module_version": "1.2.0",
            "_view_name": "LayoutView",
            "align_content": null,
            "align_items": null,
            "align_self": null,
            "border": null,
            "bottom": null,
            "display": null,
            "flex": null,
            "flex_flow": null,
            "grid_area": null,
            "grid_auto_columns": null,
            "grid_auto_flow": null,
            "grid_auto_rows": null,
            "grid_column": null,
            "grid_gap": null,
            "grid_row": null,
            "grid_template_areas": null,
            "grid_template_columns": null,
            "grid_template_rows": null,
            "height": null,
            "justify_content": null,
            "justify_items": null,
            "left": null,
            "margin": null,
            "max_height": null,
            "max_width": null,
            "min_height": null,
            "min_width": null,
            "object_fit": null,
            "object_position": null,
            "order": null,
            "overflow": null,
            "overflow_x": null,
            "overflow_y": null,
            "padding": null,
            "right": null,
            "top": null,
            "visibility": null,
            "width": null
          }
        },
        "71415c27b341461ba243bcaffd3e6689": {
          "model_module": "@jupyter-widgets/controls",
          "model_name": "DescriptionStyleModel",
          "model_module_version": "1.5.0",
          "state": {
            "_model_module": "@jupyter-widgets/controls",
            "_model_module_version": "1.5.0",
            "_model_name": "DescriptionStyleModel",
            "_view_count": null,
            "_view_module": "@jupyter-widgets/base",
            "_view_module_version": "1.2.0",
            "_view_name": "StyleView",
            "description_width": ""
          }
        },
        "7d72fec1fc13442eb79ba827745b4272": {
          "model_module": "@jupyter-widgets/base",
          "model_name": "LayoutModel",
          "model_module_version": "1.2.0",
          "state": {
            "_model_module": "@jupyter-widgets/base",
            "_model_module_version": "1.2.0",
            "_model_name": "LayoutModel",
            "_view_count": null,
            "_view_module": "@jupyter-widgets/base",
            "_view_module_version": "1.2.0",
            "_view_name": "LayoutView",
            "align_content": null,
            "align_items": null,
            "align_self": null,
            "border": null,
            "bottom": null,
            "display": null,
            "flex": null,
            "flex_flow": null,
            "grid_area": null,
            "grid_auto_columns": null,
            "grid_auto_flow": null,
            "grid_auto_rows": null,
            "grid_column": null,
            "grid_gap": null,
            "grid_row": null,
            "grid_template_areas": null,
            "grid_template_columns": null,
            "grid_template_rows": null,
            "height": null,
            "justify_content": null,
            "justify_items": null,
            "left": null,
            "margin": null,
            "max_height": null,
            "max_width": null,
            "min_height": null,
            "min_width": null,
            "object_fit": null,
            "object_position": null,
            "order": null,
            "overflow": null,
            "overflow_x": null,
            "overflow_y": null,
            "padding": null,
            "right": null,
            "top": null,
            "visibility": null,
            "width": null
          }
        },
        "b62da65c554f4c75b9c0b71639cf22be": {
          "model_module": "@jupyter-widgets/controls",
          "model_name": "ProgressStyleModel",
          "model_module_version": "1.5.0",
          "state": {
            "_model_module": "@jupyter-widgets/controls",
            "_model_module_version": "1.5.0",
            "_model_name": "ProgressStyleModel",
            "_view_count": null,
            "_view_module": "@jupyter-widgets/base",
            "_view_module_version": "1.2.0",
            "_view_name": "StyleView",
            "bar_color": null,
            "description_width": ""
          }
        },
        "4e9a8e58c66c44ee9827c72d98101f2e": {
          "model_module": "@jupyter-widgets/base",
          "model_name": "LayoutModel",
          "model_module_version": "1.2.0",
          "state": {
            "_model_module": "@jupyter-widgets/base",
            "_model_module_version": "1.2.0",
            "_model_name": "LayoutModel",
            "_view_count": null,
            "_view_module": "@jupyter-widgets/base",
            "_view_module_version": "1.2.0",
            "_view_name": "LayoutView",
            "align_content": null,
            "align_items": null,
            "align_self": null,
            "border": null,
            "bottom": null,
            "display": null,
            "flex": null,
            "flex_flow": null,
            "grid_area": null,
            "grid_auto_columns": null,
            "grid_auto_flow": null,
            "grid_auto_rows": null,
            "grid_column": null,
            "grid_gap": null,
            "grid_row": null,
            "grid_template_areas": null,
            "grid_template_columns": null,
            "grid_template_rows": null,
            "height": null,
            "justify_content": null,
            "justify_items": null,
            "left": null,
            "margin": null,
            "max_height": null,
            "max_width": null,
            "min_height": null,
            "min_width": null,
            "object_fit": null,
            "object_position": null,
            "order": null,
            "overflow": null,
            "overflow_x": null,
            "overflow_y": null,
            "padding": null,
            "right": null,
            "top": null,
            "visibility": null,
            "width": null
          }
        },
        "406b985783124b0b8abd2bb15d25a482": {
          "model_module": "@jupyter-widgets/controls",
          "model_name": "DescriptionStyleModel",
          "model_module_version": "1.5.0",
          "state": {
            "_model_module": "@jupyter-widgets/controls",
            "_model_module_version": "1.5.0",
            "_model_name": "DescriptionStyleModel",
            "_view_count": null,
            "_view_module": "@jupyter-widgets/base",
            "_view_module_version": "1.2.0",
            "_view_name": "StyleView",
            "description_width": ""
          }
        },
        "3f91482e334f481bb2b8b5bb42a74aa6": {
          "model_module": "@jupyter-widgets/controls",
          "model_name": "HBoxModel",
          "model_module_version": "1.5.0",
          "state": {
            "_dom_classes": [],
            "_model_module": "@jupyter-widgets/controls",
            "_model_module_version": "1.5.0",
            "_model_name": "HBoxModel",
            "_view_count": null,
            "_view_module": "@jupyter-widgets/controls",
            "_view_module_version": "1.5.0",
            "_view_name": "HBoxView",
            "box_style": "",
            "children": [
              "IPY_MODEL_93334291cd084a6bbd8379dcb5638a39",
              "IPY_MODEL_a401eff00ff54afeb85b26a2fb897e37",
              "IPY_MODEL_b712d2385044490687dc4e6fdb6adff1"
            ],
            "layout": "IPY_MODEL_2036f5b94b204a08ac6a08bd864cff65"
          }
        },
        "93334291cd084a6bbd8379dcb5638a39": {
          "model_module": "@jupyter-widgets/controls",
          "model_name": "HTMLModel",
          "model_module_version": "1.5.0",
          "state": {
            "_dom_classes": [],
            "_model_module": "@jupyter-widgets/controls",
            "_model_module_version": "1.5.0",
            "_model_name": "HTMLModel",
            "_view_count": null,
            "_view_module": "@jupyter-widgets/controls",
            "_view_module_version": "1.5.0",
            "_view_name": "HTMLView",
            "description": "",
            "description_tooltip": null,
            "layout": "IPY_MODEL_b1308d8949d540f99daee543e9a18afb",
            "placeholder": "​",
            "style": "IPY_MODEL_70cef8a0508340ddab5795b9e7961d6a",
            "value": "Downloading: 100%"
          }
        },
        "a401eff00ff54afeb85b26a2fb897e37": {
          "model_module": "@jupyter-widgets/controls",
          "model_name": "FloatProgressModel",
          "model_module_version": "1.5.0",
          "state": {
            "_dom_classes": [],
            "_model_module": "@jupyter-widgets/controls",
            "_model_module_version": "1.5.0",
            "_model_name": "FloatProgressModel",
            "_view_count": null,
            "_view_module": "@jupyter-widgets/controls",
            "_view_module_version": "1.5.0",
            "_view_name": "ProgressView",
            "bar_style": "success",
            "description": "",
            "description_tooltip": null,
            "layout": "IPY_MODEL_1c4db3accd9b41f9a6de33b8a264afbe",
            "max": 976429105,
            "min": 0,
            "orientation": "horizontal",
            "style": "IPY_MODEL_f20755f5a0d14997b877599b9888b73a",
            "value": 976429105
          }
        },
        "b712d2385044490687dc4e6fdb6adff1": {
          "model_module": "@jupyter-widgets/controls",
          "model_name": "HTMLModel",
          "model_module_version": "1.5.0",
          "state": {
            "_dom_classes": [],
            "_model_module": "@jupyter-widgets/controls",
            "_model_module_version": "1.5.0",
            "_model_name": "HTMLModel",
            "_view_count": null,
            "_view_module": "@jupyter-widgets/controls",
            "_view_module_version": "1.5.0",
            "_view_name": "HTMLView",
            "description": "",
            "description_tooltip": null,
            "layout": "IPY_MODEL_ea27109a0f2049f39a661126943d0bac",
            "placeholder": "​",
            "style": "IPY_MODEL_bb491e5e83aa46ecbac50d5d220c7887",
            "value": " 976M/976M [00:25&lt;00:00, 31.9MB/s]"
          }
        },
        "2036f5b94b204a08ac6a08bd864cff65": {
          "model_module": "@jupyter-widgets/base",
          "model_name": "LayoutModel",
          "model_module_version": "1.2.0",
          "state": {
            "_model_module": "@jupyter-widgets/base",
            "_model_module_version": "1.2.0",
            "_model_name": "LayoutModel",
            "_view_count": null,
            "_view_module": "@jupyter-widgets/base",
            "_view_module_version": "1.2.0",
            "_view_name": "LayoutView",
            "align_content": null,
            "align_items": null,
            "align_self": null,
            "border": null,
            "bottom": null,
            "display": null,
            "flex": null,
            "flex_flow": null,
            "grid_area": null,
            "grid_auto_columns": null,
            "grid_auto_flow": null,
            "grid_auto_rows": null,
            "grid_column": null,
            "grid_gap": null,
            "grid_row": null,
            "grid_template_areas": null,
            "grid_template_columns": null,
            "grid_template_rows": null,
            "height": null,
            "justify_content": null,
            "justify_items": null,
            "left": null,
            "margin": null,
            "max_height": null,
            "max_width": null,
            "min_height": null,
            "min_width": null,
            "object_fit": null,
            "object_position": null,
            "order": null,
            "overflow": null,
            "overflow_x": null,
            "overflow_y": null,
            "padding": null,
            "right": null,
            "top": null,
            "visibility": null,
            "width": null
          }
        },
        "b1308d8949d540f99daee543e9a18afb": {
          "model_module": "@jupyter-widgets/base",
          "model_name": "LayoutModel",
          "model_module_version": "1.2.0",
          "state": {
            "_model_module": "@jupyter-widgets/base",
            "_model_module_version": "1.2.0",
            "_model_name": "LayoutModel",
            "_view_count": null,
            "_view_module": "@jupyter-widgets/base",
            "_view_module_version": "1.2.0",
            "_view_name": "LayoutView",
            "align_content": null,
            "align_items": null,
            "align_self": null,
            "border": null,
            "bottom": null,
            "display": null,
            "flex": null,
            "flex_flow": null,
            "grid_area": null,
            "grid_auto_columns": null,
            "grid_auto_flow": null,
            "grid_auto_rows": null,
            "grid_column": null,
            "grid_gap": null,
            "grid_row": null,
            "grid_template_areas": null,
            "grid_template_columns": null,
            "grid_template_rows": null,
            "height": null,
            "justify_content": null,
            "justify_items": null,
            "left": null,
            "margin": null,
            "max_height": null,
            "max_width": null,
            "min_height": null,
            "min_width": null,
            "object_fit": null,
            "object_position": null,
            "order": null,
            "overflow": null,
            "overflow_x": null,
            "overflow_y": null,
            "padding": null,
            "right": null,
            "top": null,
            "visibility": null,
            "width": null
          }
        },
        "70cef8a0508340ddab5795b9e7961d6a": {
          "model_module": "@jupyter-widgets/controls",
          "model_name": "DescriptionStyleModel",
          "model_module_version": "1.5.0",
          "state": {
            "_model_module": "@jupyter-widgets/controls",
            "_model_module_version": "1.5.0",
            "_model_name": "DescriptionStyleModel",
            "_view_count": null,
            "_view_module": "@jupyter-widgets/base",
            "_view_module_version": "1.2.0",
            "_view_name": "StyleView",
            "description_width": ""
          }
        },
        "1c4db3accd9b41f9a6de33b8a264afbe": {
          "model_module": "@jupyter-widgets/base",
          "model_name": "LayoutModel",
          "model_module_version": "1.2.0",
          "state": {
            "_model_module": "@jupyter-widgets/base",
            "_model_module_version": "1.2.0",
            "_model_name": "LayoutModel",
            "_view_count": null,
            "_view_module": "@jupyter-widgets/base",
            "_view_module_version": "1.2.0",
            "_view_name": "LayoutView",
            "align_content": null,
            "align_items": null,
            "align_self": null,
            "border": null,
            "bottom": null,
            "display": null,
            "flex": null,
            "flex_flow": null,
            "grid_area": null,
            "grid_auto_columns": null,
            "grid_auto_flow": null,
            "grid_auto_rows": null,
            "grid_column": null,
            "grid_gap": null,
            "grid_row": null,
            "grid_template_areas": null,
            "grid_template_columns": null,
            "grid_template_rows": null,
            "height": null,
            "justify_content": null,
            "justify_items": null,
            "left": null,
            "margin": null,
            "max_height": null,
            "max_width": null,
            "min_height": null,
            "min_width": null,
            "object_fit": null,
            "object_position": null,
            "order": null,
            "overflow": null,
            "overflow_x": null,
            "overflow_y": null,
            "padding": null,
            "right": null,
            "top": null,
            "visibility": null,
            "width": null
          }
        },
        "f20755f5a0d14997b877599b9888b73a": {
          "model_module": "@jupyter-widgets/controls",
          "model_name": "ProgressStyleModel",
          "model_module_version": "1.5.0",
          "state": {
            "_model_module": "@jupyter-widgets/controls",
            "_model_module_version": "1.5.0",
            "_model_name": "ProgressStyleModel",
            "_view_count": null,
            "_view_module": "@jupyter-widgets/base",
            "_view_module_version": "1.2.0",
            "_view_name": "StyleView",
            "bar_color": null,
            "description_width": ""
          }
        },
        "ea27109a0f2049f39a661126943d0bac": {
          "model_module": "@jupyter-widgets/base",
          "model_name": "LayoutModel",
          "model_module_version": "1.2.0",
          "state": {
            "_model_module": "@jupyter-widgets/base",
            "_model_module_version": "1.2.0",
            "_model_name": "LayoutModel",
            "_view_count": null,
            "_view_module": "@jupyter-widgets/base",
            "_view_module_version": "1.2.0",
            "_view_name": "LayoutView",
            "align_content": null,
            "align_items": null,
            "align_self": null,
            "border": null,
            "bottom": null,
            "display": null,
            "flex": null,
            "flex_flow": null,
            "grid_area": null,
            "grid_auto_columns": null,
            "grid_auto_flow": null,
            "grid_auto_rows": null,
            "grid_column": null,
            "grid_gap": null,
            "grid_row": null,
            "grid_template_areas": null,
            "grid_template_columns": null,
            "grid_template_rows": null,
            "height": null,
            "justify_content": null,
            "justify_items": null,
            "left": null,
            "margin": null,
            "max_height": null,
            "max_width": null,
            "min_height": null,
            "min_width": null,
            "object_fit": null,
            "object_position": null,
            "order": null,
            "overflow": null,
            "overflow_x": null,
            "overflow_y": null,
            "padding": null,
            "right": null,
            "top": null,
            "visibility": null,
            "width": null
          }
        },
        "bb491e5e83aa46ecbac50d5d220c7887": {
          "model_module": "@jupyter-widgets/controls",
          "model_name": "DescriptionStyleModel",
          "model_module_version": "1.5.0",
          "state": {
            "_model_module": "@jupyter-widgets/controls",
            "_model_module_version": "1.5.0",
            "_model_name": "DescriptionStyleModel",
            "_view_count": null,
            "_view_module": "@jupyter-widgets/base",
            "_view_module_version": "1.2.0",
            "_view_name": "StyleView",
            "description_width": ""
          }
        }
      }
    }
  },
  "nbformat": 4,
  "nbformat_minor": 0
}